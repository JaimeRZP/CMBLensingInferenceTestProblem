{
 "cells": [
  {
   "cell_type": "markdown",
   "id": "91129cb1",
   "metadata": {},
   "source": [
    "# Lab CMBLenses"
   ]
  },
  {
   "cell_type": "code",
   "execution_count": 1,
   "id": "d3285d75",
   "metadata": {},
   "outputs": [
    {
     "name": "stderr",
     "output_type": "stream",
     "text": [
      "\u001b[32m\u001b[1m  Activating\u001b[22m\u001b[39m project at `~/PhD/CMBLensingInferenceTestProblem/examples`\n",
      "\u001b[33m\u001b[1m┌ \u001b[22m\u001b[39m\u001b[33m\u001b[1mWarning: \u001b[22m\u001b[39mCircular dependency detected. Precompilation will be skipped for:\n",
      "\u001b[33m\u001b[1m│ \u001b[22m\u001b[39m  MicroCanonicalHMC [234d2aa0-2291-45f7-9047-6fa6f316b0a8]\n",
      "\u001b[33m\u001b[1m│ \u001b[22m\u001b[39m  CMBLensingInferenceTestProblem [77eb751d-b138-43db-8fbb-26307a053bc2]\n",
      "\u001b[33m\u001b[1m└ \u001b[22m\u001b[39m\u001b[90m@ Pkg.API ~/.julia/juliaup/julia-1.9.4+0.x64.linux.gnu/share/julia/stdlib/v1.9/Pkg/src/API.jl:1264\u001b[39m\n"
     ]
    }
   ],
   "source": [
    "using Pkg\n",
    "Pkg.activate(\".\")\n",
    "Pkg.precompile()"
   ]
  },
  {
   "cell_type": "code",
   "execution_count": 2,
   "id": "87802120-5beb-4414-95ca-c140a3cd2209",
   "metadata": {
    "tags": []
   },
   "outputs": [
    {
     "name": "stderr",
     "output_type": "stream",
     "text": [
      "\u001b[36m\u001b[1m[ \u001b[22m\u001b[39m\u001b[36m\u001b[1mInfo: \u001b[22m\u001b[39mPrecompiling CMBLensingInferenceTestProblem [77eb751d-b138-43db-8fbb-26307a053bc2]\n"
     ]
    }
   ],
   "source": [
    "using Revise, Adapt, CMBLensing, CMBLensingInferenceTestProblem, CUDA, JLD2, LaTeXStrings, NPZ, \n",
    "    LinearAlgebra, MCMCChains, MCMCDiagnosticTools, MuseInference, MicroCanonicalHMC,\n",
    "    Plots, ProgressMeter, Random, Statistics, Zygote "
   ]
  },
  {
   "cell_type": "code",
   "execution_count": 3,
   "id": "6efc8272",
   "metadata": {
    "tags": []
   },
   "outputs": [],
   "source": [
    "Plots.default(fmt=:png, dpi=120, size=(500,300), legendfontsize=10)"
   ]
  },
  {
   "cell_type": "code",
   "execution_count": 4,
   "id": "f7a92ecf-4dae-4553-a001-f5376ca7c35a",
   "metadata": {
    "tags": []
   },
   "outputs": [
    {
     "name": "stdout",
     "output_type": "stream",
     "text": [
      "Nside: 64\n",
      "Use Map: true\n",
      "Masking: false\n"
     ]
    }
   ],
   "source": [
    "Nside = 64\n",
    "T = Float32;\n",
    "use_map = true\n",
    "masking = false\n",
    "t = nothing\n",
    "precond_path = string(\"../pixel_preconditioners/pp_nside_\", Nside, \"_t_\", t)\n",
    "println(\"Nside: \", Nside)\n",
    "println(\"Use Map: \", use_map)\n",
    "println(\"Masking: \", masking)\n"
   ]
  },
  {
   "cell_type": "code",
   "execution_count": 5,
   "id": "a7d6f81c",
   "metadata": {
    "tags": []
   },
   "outputs": [
    {
     "name": "stdout",
     "output_type": "stream",
     "text": [
      "Built problem\n"
     ]
    }
   ],
   "source": [
    "prob = load_cmb_lensing_problem(;storage=CuArray, T, Nside,\n",
    "    masking=masking, global_parameters=true);\n",
    "d = length(prob.Ωstart)\n",
    "to_vec, from_vec = CMBLensingInferenceTestProblem.to_from_vec(prob.Ωstart);\n",
    "cl = get_Cℓ(prob.Ωstart[:ϕ°][:I]);\n",
    "println(\"Built problem\")"
   ]
  },
  {
   "cell_type": "code",
   "execution_count": 6,
   "id": "561335a1",
   "metadata": {
    "tags": []
   },
   "outputs": [
    {
     "data": {
      "text/plain": [
       "12290-element Field-(f°,ϕ°,θ)-Tuple{BaseField{QUMap, ProjLambert{Float32, CuArray{Float32, 1, CUDA.Mem.DeviceBuffer}, CuArray{Float32, 2, CUDA.Mem.DeviceBuffer}}, Float32, CuArray{Float32, 3, CUDA.Mem.DeviceBuffer}}, BaseField{Map, ProjLambert{Float32, CuArray{Float32, 1, CUDA.Mem.DeviceBuffer}, CuArray{Float32, 2, CUDA.Mem.DeviceBuffer}}, Float32, CuArray{Float32, 2, CUDA.Mem.DeviceBuffer}}, ComponentArrays.ComponentVector{Float32, Vector{Float32}, Tuple{ComponentArrays.Axis{(r = 1, Aϕ = 2)}}}}:\n",
       " 1.0\n",
       " 1.0\n",
       " 1.0\n",
       " 1.0\n",
       " 1.0\n",
       " 1.0\n",
       " 1.0\n",
       " 1.0\n",
       " 1.0\n",
       " 1.0\n",
       " 1.0\n",
       " 1.0\n",
       " 1.0\n",
       " ⋮\n",
       " 1.0\n",
       " 1.0\n",
       " 1.0\n",
       " 1.0\n",
       " 1.0\n",
       " 1.0\n",
       " 1.0\n",
       " 1.0\n",
       " 1.0\n",
       " 1.0\n",
       " 1.0\n",
       " 1.0"
      ]
     },
     "execution_count": 6,
     "metadata": {},
     "output_type": "execute_result"
    }
   ],
   "source": [
    "if t == nothing\n",
    "    precond = one(simulate(Diagonal(one(LenseBasis(diag(prob.Λmass))))));\n",
    "else\n",
    "    precond = load(precond_path, \"dist_mat_precond\")\n",
    "    precond = adapt(CuArray, precond)\n",
    "    precond = from_vec(precond);\n",
    "end"
   ]
  },
  {
   "cell_type": "code",
   "execution_count": 7,
   "id": "9a21bb26-7590-4da4-bae0-122e0aa70ef2",
   "metadata": {},
   "outputs": [
    {
     "data": {
      "text/plain": [
       "12290-element Field-(f°,ϕ°,θ)-Tuple{BaseField{QUMap, ProjLambert{Float32, CuArray{Float32, 1, CUDA.Mem.DeviceBuffer}, CuArray{Float32, 2, CUDA.Mem.DeviceBuffer}}, Float32, CuArray{Float32, 3, CUDA.Mem.DeviceBuffer}}, BaseField{Map, ProjLambert{Float32, CuArray{Float32, 1, CUDA.Mem.DeviceBuffer}, CuArray{Float32, 2, CUDA.Mem.DeviceBuffer}}, Float32, CuArray{Float32, 2, CUDA.Mem.DeviceBuffer}}, ComponentArrays.ComponentVector{Float32, Vector{Float32}, Tuple{ComponentArrays.Axis{(r = 1, Aϕ = 2)}}}}:\n",
       "  -5.122687\n",
       " -10.334673\n",
       " -13.453192\n",
       " -10.689558\n",
       "  -3.9587185\n",
       "  -2.8690765\n",
       "  -3.5624626\n",
       "  -2.086143\n",
       "  -3.3567762\n",
       "  -5.9784436\n",
       "  -7.0040135\n",
       "  -1.675749\n",
       "   6.656862\n",
       "   ⋮\n",
       "  -1.7388295f-6\n",
       "  -1.805553f-6\n",
       "  -1.8917549f-6\n",
       "  -1.942371f-6\n",
       "  -1.9764163f-6\n",
       "  -2.0095679f-6\n",
       "  -2.029871f-6\n",
       "  -2.0264652f-6\n",
       "  -2.035943f-6\n",
       "  -1.9910278f-6\n",
       "  -1.609438\n",
       "   0.0"
      ]
     },
     "execution_count": 7,
     "metadata": {},
     "output_type": "execute_result"
    }
   ],
   "source": [
    "#init_params\n",
    "if use_map\n",
    "    init_params = prob.Ωtrue\n",
    "else\n",
    "    init_params = prob.Ωstart\n",
    "end"
   ]
  },
  {
   "cell_type": "markdown",
   "id": "7ff4eb5a-a361-45d7-b344-300e7c3bc6fb",
   "metadata": {
    "tags": []
   },
   "source": [
    "# MCHMC"
   ]
  },
  {
   "cell_type": "code",
   "execution_count": 10,
   "id": "cf9d88ae",
   "metadata": {
    "tags": []
   },
   "outputs": [
    {
     "ename": "LoadError",
     "evalue": "UndefVarError: `d` not defined",
     "output_type": "error",
     "traceback": [
      "UndefVarError: `d` not defined",
      "",
      "Stacktrace:",
      " [1] CMBLensingTarget(prob::CMBLensingInferenceTestProblem.CMBLensingLogDensityProblem)",
      "   @ CMBLensingInferenceTestProblem ~/.julia/packages/CMBLensingInferenceTestProblem/8d1i3/src/mchmc.jl:3",
      " [2] top-level scope",
      "   @ In[10]:2"
     ]
    }
   ],
   "source": [
    "#Target\n",
    "target = CMBLensingInferenceTestProblem.CMBLensingTarget(prob);"
   ]
  },
  {
   "cell_type": "code",
   "execution_count": null,
   "id": "37018a1b-bc19-4174-b317-1846d0a0c900",
   "metadata": {
    "tags": []
   },
   "outputs": [],
   "source": [
    "#Sampler\n",
    "TEV = 0.001\n",
    "nadapts = 0\n",
    "samples = 1_000\n",
    "L=100\n",
    "spl = MCHMC(nadapts, TEV; adaptive=true, eps=10, L=L, sigma=precond);"
   ]
  },
  {
   "cell_type": "code",
   "execution_count": null,
   "id": "2f1c6305-cdb7-49e4-9d15-1f74650ced3e",
   "metadata": {
    "tags": []
   },
   "outputs": [],
   "source": [
    "fol_name=string(\"/pscratch/sd/j/jaimerz/chains/\", Nside,\"/MCHMC/MCHMC\",\n",
    "    \"_Nside_\", Nside,\n",
    "    \"_use_map_\", use_map,\n",
    "    \"_masking_\", masking,\n",
    "    \"_precond_\", t,\n",
    "    \"_L_\", L,\n",
    "    \"_TEV_\", TEV)\n",
    "\n",
    "last_n = 0 \n",
    "if isdir(fol_name)\n",
    "    fol_files = readdir(fol_name)\n",
    "    println(\"Found existing file \", fol_name)\n",
    "    if length(fol_files) != 0\n",
    "        last_chain = last([file for file in fol_files if occursin(\"chain\", file)])\n",
    "        last_n = parse(Int, last_chain[end])\n",
    "    end\n",
    "else\n",
    "    mkdir(fol_name)\n",
    "    println(string(\"Created new folder \", fol_name))\n",
    "end\n",
    "\n",
    "file_name = string(fol_name, \"/chain_\", last_n+1, \"_\", samples)"
   ]
  },
  {
   "cell_type": "code",
   "execution_count": null,
   "id": "4b950c0d-c34c-4468-b452-7fd8a20aa4c6",
   "metadata": {
    "tags": []
   },
   "outputs": [],
   "source": [
    "prob.ncalls[] = 0\n",
    "samples_mchmc = MicroCanonicalHMC.Sample(spl, target, samples, dialog=false, progress=true,\n",
    "                       initial_x=init_params, thinning=20, file_name=file_name);\n",
    "ncalls_mchmc = prob.ncalls[]"
   ]
  },
  {
   "cell_type": "code",
   "execution_count": null,
   "id": "b3fbef67-b374-4c36-ab9a-74d3eef3f667",
   "metadata": {
    "tags": []
   },
   "outputs": [],
   "source": [
    "chain_mchmc = Chains(permutedims(reduce(hcat, [[exp.(sample[end÷2-2:end÷2-1]);] for sample in eachcol(samples_mchmc) if all(isfinite.(sample))])),  [:r, :Aϕ]);"
   ]
  },
  {
   "cell_type": "code",
   "execution_count": null,
   "id": "fffe9ff6-558c-434b-bf19-64eeefb30e16",
   "metadata": {},
   "outputs": [],
   "source": [
    "fol_name=string(\"/pscratch/sd/j/jaimerz/summaries/\", Nside,\"/MCHMC/MCHMC_summary\",\n",
    "    \"_Nside_\", Nside,\n",
    "    \"_use_map_\", use_map,\n",
    "    \"_masking_\", masking,\n",
    "    \"_precond_\", t,\n",
    "    \"_L_\", L,\n",
    "    \"_TEV_\", TEV)\n",
    "\n",
    "if isdir(fol_name)\n",
    "    fol_files = readdir(fol_name)\n",
    "    println(\"Found existing file \", fol_name)\n",
    "    if length(fol_files) != 0\n",
    "        last_chain = last([file for file in fol_files if occursin(\"hyperparams\", file)])\n",
    "        last_n = parse(Int, last_chain[end])\n",
    "    end\n",
    "else\n",
    "    mkdir(fol_name)\n",
    "    println(string(\"Created new folder \", fol_name))\n",
    "end\n",
    "\n",
    "file_name = string(fol_name, \"/hyperparams_\", last_n+1, \"_\", samples)\n",
    "npzwrite(file_name,\n",
    "    Dict(\"r\"=> vec(chain_mchmc[:r])[:],\n",
    "    \"Aphi\"=> vec(chain_mchmc[:Aϕ])[:])\n",
    "    "
   ]
  },
  {
   "cell_type": "code",
   "execution_count": null,
   "id": "ce31c592-d53b-4948-a8c1-c02e9c3c323b",
   "metadata": {
    "tags": []
   },
   "outputs": [],
   "source": [
    "ess_mchmc = MCMCDiagnosticTools.ess(chain_mchmc)[[:r,:Aϕ],:ess]"
   ]
  },
  {
   "cell_type": "code",
   "execution_count": null,
   "id": "234e5da4",
   "metadata": {
    "tags": []
   },
   "outputs": [],
   "source": [
    "ess_per_call_mchmc = minimum(ess_mchmc ./ samples) #ncalls_mchmc"
   ]
  },
  {
   "cell_type": "code",
   "execution_count": null,
   "id": "c3967517",
   "metadata": {
    "tags": []
   },
   "outputs": [],
   "source": [
    "plot(chain_mchmc[:r], label=L\"r\", xlabel=\"step\")\n",
    "plot!(chain_mchmc[:Aϕ], label=L\"A_\\phi\")"
   ]
  },
  {
   "cell_type": "code",
   "execution_count": null,
   "id": "b94d66c5",
   "metadata": {
    "tags": []
   },
   "outputs": [],
   "source": [
    "histogram2d(chain_mchmc[:r], chain_mchmc[:Aϕ], bins=(40, 20), show_empty_bins=true,\n",
    "    normalize=:pdf, color=:plasma)\n",
    "title!(\"Masked - NSIDE=64\")\n",
    "ylabel!(\"Aϕ\")\n",
    "xlabel!(\"r\")"
   ]
  },
  {
   "cell_type": "code",
   "execution_count": null,
   "id": "f48c433c",
   "metadata": {
    "tags": []
   },
   "outputs": [],
   "source": [
    "plot(chain_mchmc[:dE]/d, label=L\"\\mathrm{Energy}/d\", xlabel=\"step\")"
   ]
  },
  {
   "cell_type": "code",
   "execution_count": null,
   "id": "acc2fe43",
   "metadata": {
    "tags": []
   },
   "outputs": [],
   "source": [
    "vars = var(samples_mchmc, dims=2)[1:d]\n",
    "_vars = var(samples_mchmc, dims=2)[d+1:2*d];"
   ]
  },
  {
   "cell_type": "code",
   "execution_count": null,
   "id": "118b8c8d",
   "metadata": {
    "tags": []
   },
   "outputs": [],
   "source": [
    "k = round(maximum(vars)/minimum(vars), digits=2)\n",
    "_k = round(maximum(_vars)/minimum(_vars), digits=2);"
   ]
  },
  {
   "cell_type": "code",
   "execution_count": null,
   "id": "772e4ba2",
   "metadata": {
    "tags": []
   },
   "outputs": [],
   "source": [
    "plot(_vars, title=\"Diag(cov) - Masked\", label=string(\"Latent space --> K = \", _k))\n",
    "plot!(vars, label=string(\"Parameter space --> K = \", k))"
   ]
  },
  {
   "cell_type": "markdown",
   "id": "47bf987c-cf7a-45c4-af34-128247e75fe8",
   "metadata": {
    "tags": []
   },
   "source": [
    "# HMC"
   ]
  },
  {
   "cell_type": "code",
   "execution_count": null,
   "id": "9bc3972a-cbef-4aed-be62-0d8f1bc7dede",
   "metadata": {
    "tags": []
   },
   "outputs": [],
   "source": [
    "samples_hmc = []\n",
    "rng = Xoshiro(1)\n",
    "prob.ncalls[] = 0\n",
    "ϵ=0.05\n",
    "samples = 10\n",
    "@showprogress for i=1:samples\n",
    "    Ω, = state = hmc_step(rng, prob, init_params, prob.Λmass; symp_kwargs=[(N=25, ϵ=ϵ)], progress=false, always_accept=(i<10))\n",
    "    push!(samples_hmc, adapt(Array, state))\n",
    "end\n",
    "ncalls_hmc = prob.ncalls[]"
   ]
  },
  {
   "cell_type": "code",
   "execution_count": null,
   "id": "3c3b6b15-c9f0-4e2e-a38a-e05c570815f8",
   "metadata": {
    "tags": []
   },
   "outputs": [],
   "source": [
    "chain_hmc = Chains(\n",
    "    permutedims(reduce(hcat, [exp.(sample[1].θ) for sample in samples_hmc])),\n",
    "    [:r, :Aϕ],\n",
    ");"
   ]
  },
  {
   "cell_type": "code",
   "execution_count": null,
   "id": "11ae9425-a275-467b-980c-9461ef43a51d",
   "metadata": {
    "tags": []
   },
   "outputs": [],
   "source": [
    "_samples_hmc = zeros(samples, 3*Nside^2+2)\n",
    "for i in 1:samples\n",
    "    _samples_hmc[i, :]  = samples_hmc[i][1][:]\n",
    "end\n",
    "_samples_hmc"
   ]
  },
  {
   "cell_type": "code",
   "execution_count": null,
   "id": "84483f33",
   "metadata": {
    "tags": []
   },
   "outputs": [],
   "source": [
    "fol_name=string(\"/pscratch/sd/j/jaimerz/chains/\", Nside, \"/HMC/CMBLensing\",\n",
    "    \"_use_map_\", use_map,\n",
    "    \"_masking_\", masking,\n",
    "    \"_Nside_\", Nside,\n",
    "    \"_ϵ_\", ϵ)\n",
    "\n",
    "if isdir(fol_name)\n",
    "    fol_files = readdir(fol_name)\n",
    "    println(\"Found existing file \", fol_name)\n",
    "    if length(fol_files) != 0\n",
    "        last_chain = last([file for file in fol_files if occursin(\"chain\", file)])\n",
    "        last_n = parse(Int, last_chain[end])\n",
    "        last_chain = load(string(fol_name, \"/\", last_chain), \"samples\")\n",
    "        init_params = last_chain[:, end]\n",
    "        println(\"Restarting chain\")\n",
    "    else\n",
    "        println(\"Starting new chain\")\n",
    "        last_n = 0\n",
    "        init_params = prob.Ωstart\n",
    "    end\n",
    "else\n",
    "    mkdir(fol_name)\n",
    "    println(string(\"Created new folder \", fol_name))\n",
    "    last_n = 0\n",
    "end\n",
    "\n",
    "file_name = string(fol_name, \"/chain_\", last_n+1, \"_\", samples)\n",
    "\n",
    "@save file_name _samples_hmc"
   ]
  },
  {
   "cell_type": "code",
   "execution_count": null,
   "id": "7fa49497-ecff-4d9b-ad1b-35890c98a539",
   "metadata": {
    "tags": []
   },
   "outputs": [],
   "source": [
    "fol_name=string(\"/pscratch/sd/j/jaimerz/summaries/\", Nside,\"/HMC/HMC_summary\",\n",
    "    \"_use_map_\", use_map,\n",
    "    \"_masking_\", masking,\n",
    "    \"_Nside_\", Nside,\n",
    "    \"_ϵ_\", ϵ)\n",
    "\n",
    "if isdir(fol_name)\n",
    "    fol_files = readdir(fol_name)\n",
    "    println(\"Found existing file \", fol_name)\n",
    "    if length(fol_files) != 0\n",
    "        last_chain = last([file for file in fol_files if occursin(\"hyperparams\", file)])\n",
    "        last_n = parse(Int, last_chain[end])\n",
    "    end\n",
    "else\n",
    "    mkdir(fol_name)\n",
    "    println(string(\"Created new folder \", fol_name))\n",
    "end\n",
    "\n",
    "file_name = string(fol_name, \"/hyperparams_\", last_n+1, \"_\", samples)\n",
    "npzwrite(file_name,\n",
    "    Dict(\"r\"=> vec(chain_hmc[:r])[:],\n",
    "    \"Aphi\"=> vec(chain_hmc[:Aϕ])[:])"
   ]
  },
  {
   "cell_type": "code",
   "execution_count": null,
   "id": "482c3532-2b22-4c9b-a483-f90319a6ccee",
   "metadata": {
    "tags": []
   },
   "outputs": [],
   "source": [
    "#samples_hmc = load(\"../chains/HMC/CMBLensing_masked_Nnside_64_ϵ_0.25\", \"_samples_hmc\")"
   ]
  },
  {
   "cell_type": "code",
   "execution_count": null,
   "id": "ca8d1356-2707-4cbc-87c5-51dc2c1960bb",
   "metadata": {
    "tags": []
   },
   "outputs": [],
   "source": [
    "chain_hmc = Chains(\n",
    "    permutedims(reduce(hcat, [exp.(sample[1].θ) for sample in samples_hmc])),\n",
    "    [:r, :Aϕ],\n",
    ");"
   ]
  },
  {
   "cell_type": "markdown",
   "id": "547a93f5-b27f-4f69-a70d-203d6d1cb3ad",
   "metadata": {},
   "source": [
    "## Plot"
   ]
  },
  {
   "cell_type": "code",
   "execution_count": null,
   "id": "9b249925-7905-4f02-87dd-ab97a3b5194f",
   "metadata": {
    "tags": []
   },
   "outputs": [],
   "source": [
    "plot(getindex.(samples_hmc, 2), label=nothing, xlabel=\"step\", ylabel=L\"\\Delta H\")     "
   ]
  },
  {
   "cell_type": "code",
   "execution_count": null,
   "id": "4a353113-7133-46f6-8bfc-6341e3a631e2",
   "metadata": {
    "tags": []
   },
   "outputs": [],
   "source": [
    "samples_hmc[end][1][:ϕ°][:]"
   ]
  },
  {
   "cell_type": "code",
   "execution_count": null,
   "id": "764b2120-5ce1-442e-94aa-b8f096861fd2",
   "metadata": {
    "tags": []
   },
   "outputs": [],
   "source": [
    "ps = map([(:ϕ°,:I,L\"L\",L\"\\phi^\\circ\"), (:f°,:E,\"L\\ell\",L\"E^\\circ\"), (:f°,:B,L\"\\ell\",L\"B^\\circ\")]) do (k1, k2, xlabel, title)\n",
    "    plot(get_Cℓ(prob.Ωtrue[k1][k2]); label=\"true\", xlabel, title)\n",
    "    plot!(get_Cℓ(prob.Ωstart[k1][k2]); label=\"start\", xlabel, title)\n",
    "    plot!(get_Cℓ(samples_hmc[end][1][k1][k2]); label=\"last sample\", xlabel, title)\n",
    "end\n",
    "plot(ps..., layout=(1,3), xscale=:log10, yscale=:log10, size=(1000,300), legend=:bottomleft)\n",
    "     \n"
   ]
  },
  {
   "cell_type": "code",
   "execution_count": null,
   "id": "72d2f50a-e563-45ce-850a-825e055409ac",
   "metadata": {
    "tags": []
   },
   "outputs": [],
   "source": [
    "plot([exp(Ω.θ.r) for (Ω,) in samples_hmc], label=L\"r\", xlabel=\"step\")\n",
    "plot!([exp(Ω.θ.Aϕ) for (Ω,) in samples_hmc], label=L\"A_\\phi\")     \n"
   ]
  },
  {
   "cell_type": "code",
   "execution_count": null,
   "id": "124fd2aa-79ad-47d4-affc-328ffb13758d",
   "metadata": {
    "tags": []
   },
   "outputs": [],
   "source": [
    "ess_hmc = MCMCDiagnosticTools.ess(chain_hmc)[[:r,:Aϕ],:ess]"
   ]
  },
  {
   "cell_type": "code",
   "execution_count": null,
   "id": "2e42557d-3523-4643-b1e1-a56252f3ae95",
   "metadata": {
    "tags": []
   },
   "outputs": [],
   "source": [
    "ess_per_call_hmc = ess_hmc ./ (ncalls_hmc/2)"
   ]
  },
  {
   "cell_type": "code",
   "execution_count": null,
   "id": "0a8924e6-e5be-4bb8-8a48-e59262770a9a",
   "metadata": {
    "tags": []
   },
   "outputs": [],
   "source": [
    "ess_per_call_hmc = minimum(ess_hmc ./ (ncalls_hmc/2))"
   ]
  },
  {
   "cell_type": "code",
   "execution_count": null,
   "id": "42234e99-3aba-4701-8cb4-e161089a8b7d",
   "metadata": {
    "tags": []
   },
   "outputs": [],
   "source": [
    "histogram2d(chain_hmc[:r], chain_hmc[:Aϕ], bins=(40, 20), show_empty_bins=true,\n",
    "    normalize=:pdf, color=:plasma)\n",
    "title!(string(\"Masked: \", masking, \"- NSIDE=\", Nside))\n",
    "ylabel!(\"Aϕ\")\n",
    "xlabel!(\"r\")"
   ]
  },
  {
   "cell_type": "markdown",
   "id": "6e23fba8-6f15-433e-a13e-38ef4599bb54",
   "metadata": {
    "tags": []
   },
   "source": [
    "# MUSE"
   ]
  },
  {
   "cell_type": "code",
   "execution_count": null,
   "id": "c45bcb53-4095-4c8e-a272-2ae4c184d1e0",
   "metadata": {},
   "outputs": [],
   "source": [
    "using CMBLensing.ComponentArrays, MuseInference.FiniteDifferences"
   ]
  },
  {
   "cell_type": "code",
   "execution_count": null,
   "id": "9533da2a-058e-4e3e-a692-cc8b86651680",
   "metadata": {},
   "outputs": [],
   "source": [
    "muse_prob = CMBLensingMuseProblem(\n",
    "    prob.ds, \n",
    "    MAP_joint_kwargs = (minsteps=3, nsteps=15, αtol=1e-2, gradtol=3e-5, progress=false, history_keys=(:logpdf, :ΔΩ°_norm)),\n",
    ");"
   ]
  },
  {
   "cell_type": "code",
   "execution_count": null,
   "id": "72a84875-7cf8-4840-8ee6-ec8e99113e5f",
   "metadata": {},
   "outputs": [],
   "source": [
    "# small hack to allow getting MUSE covariance in terms of transformed θ\n",
    "CMBLensingMuseInferenceExt = Base.get_extension(CMBLensing,:CMBLensingMuseInferenceExt)\n",
    "CMBLensingMuseInferenceExt.mergeθ(prob::CMBLensingMuseInferenceExt.CMBLensingMuseProblem, θ) = exp.(θ)"
   ]
  },
  {
   "cell_type": "code",
   "execution_count": null,
   "id": "a6742160-dbb8-43db-8da4-f61b0dc3f89f",
   "metadata": {
    "tags": []
   },
   "outputs": [],
   "source": [
    "# z₀ = zero(FieldTuple(MuseInference.select(NamedTuple(prob.Ωstart), (:f°, :ϕ°))))\n",
    "# H_pre = Diagonal(FieldTuple(MuseInference.select(NamedTuple(prob.Λmass.diag), (:f°, :ϕ°))))\n",
    "# H_pre_map = let H_pre=H_pre, z₀=z₀\n",
    "#     MuseInference.LinearMap{eltype(z₀)}(length(z₀), issymmetric=true) do z\n",
    "#         f, = promote(z, z₀)\n",
    "#         LenseBasis(H_pre \\ f)[:]\n",
    "#     end\n",
    "# end\n",
    "# implicit_diff_cg_kwargs = (maxiter=1500,Pl=MuseInference.InverseMap(H_pre_map));"
   ]
  },
  {
   "cell_type": "code",
   "execution_count": null,
   "id": "52c93e18-4d3c-41d9-bc73-95772851c28e",
   "metadata": {},
   "outputs": [],
   "source": [
    "z₀ = zero(MuseInference.sample_x_z(muse_prob, Xoshiro(0), prob.Ωstart.θ).z);\n",
    "result = MuseResult()\n",
    "nsims = 200\n",
    "rng = Xoshiro(0)\n",
    "\n",
    "prob.ncalls[] = 0\n",
    "MuseInference.muse!(result,  muse_prob, prob.Ωstart.θ; nsims, rng, z₀, maxsteps=2, θ_rtol=0, progress=true, save_MAPs=false)\n",
    "MuseInference.get_J!(result, muse_prob; nsims,   rng, z₀, progress=true)\n",
    "MuseInference.get_H!(result, muse_prob; nsims=4, rng, z₀, progress=true, step=std(result.gs)/100, fdm=central_fdm(2,1,adapt=0))\n",
    "ncalls_muse = prob.ncalls[];"
   ]
  },
  {
   "cell_type": "code",
   "execution_count": null,
   "id": "9de40462-fdd7-4b48-b038-d2083a2d3349",
   "metadata": {},
   "outputs": [],
   "source": [
    "chain_muse = Chains(permutedims(rand(result.dist,5_000)), [:logr, :logAϕ]);"
   ]
  },
  {
   "cell_type": "code",
   "execution_count": null,
   "id": "95fc34d5",
   "metadata": {},
   "outputs": [],
   "source": [
    "fol_name=string(\"/pscratch/sd/j/jaimerz/chains/\", Nside, \"/MUSE/CMBLensing\",\n",
    "    \"_cosmo_\", global_parameters,\n",
    "    \"_masking_\", masking,\n",
    "    \"_Nside_\", Nside)\n",
    "@save fol_name chain_muse"
   ]
  },
  {
   "cell_type": "code",
   "execution_count": null,
   "id": "8b16983f",
   "metadata": {},
   "outputs": [],
   "source": [
    "#chain_muse = load(\"../chains/MUSE/CMBLensing_masked_Nnside_64\", \"chain_muse\")"
   ]
  },
  {
   "cell_type": "code",
   "execution_count": null,
   "id": "da7745d5-19ec-4668-90cc-8991f21c62ad",
   "metadata": {},
   "outputs": [],
   "source": [
    "ess_per_call_muse = nsims / ncalls_muse"
   ]
  },
  {
   "cell_type": "markdown",
   "id": "01254a7b-ce65-4af3-8d57-cc785f946cd1",
   "metadata": {
    "tags": []
   },
   "source": [
    "## Plot"
   ]
  },
  {
   "cell_type": "markdown",
   "id": "a50354a8-6824-4449-a6aa-690dc5abdd94",
   "metadata": {
    "jp-MarkdownHeadingCollapsed": true,
    "tags": []
   },
   "source": [
    "# Compare"
   ]
  },
  {
   "cell_type": "code",
   "execution_count": null,
   "id": "bbb3104b-3c78-459a-af40-ea35cb7fa0da",
   "metadata": {},
   "outputs": [],
   "source": [
    "ess_per_call_muse ./ minimum(ess_per_call_hmc)"
   ]
  },
  {
   "cell_type": "code",
   "execution_count": null,
   "id": "02e30126-0721-4617-8aae-c6aaf8f939bd",
   "metadata": {},
   "outputs": [],
   "source": [
    "ess_per_call_muse ./ minimum(ess_per_call_mchmc)"
   ]
  },
  {
   "cell_type": "code",
   "execution_count": null,
   "id": "9763093f",
   "metadata": {},
   "outputs": [],
   "source": [
    "ess_per_call_mchmc"
   ]
  },
  {
   "cell_type": "code",
   "execution_count": null,
   "id": "26444fcc",
   "metadata": {},
   "outputs": [],
   "source": [
    "ess_per_call_hmc"
   ]
  },
  {
   "cell_type": "code",
   "execution_count": null,
   "id": "b2836a7b",
   "metadata": {},
   "outputs": [],
   "source": [
    "ess_per_call_muse"
   ]
  },
  {
   "cell_type": "code",
   "execution_count": null,
   "id": "1ef21a76-4714-4418-9bb4-7a9d2847c5bd",
   "metadata": {},
   "outputs": [],
   "source": [
    "which_ess = minimum # can be: first (r), last (Aphi), or minimum\n",
    "bar(\n",
    "    [\"HMC\" \"MCHMC\" \"MUSE\"],\n",
    "    which_ess.([[ess_per_call_hmc] [ess_per_call_mchmc] [ess_per_call_muse]]),\n",
    "    ylabel = \"eff. samples / ∇logP eval\", legend=false)"
   ]
  },
  {
   "cell_type": "code",
   "execution_count": null,
   "id": "dbb7d62a-87d2-4393-bc43-a5addc698207",
   "metadata": {},
   "outputs": [],
   "source": [
    "plot(\n",
    "    begin\n",
    "        histogram(log.(chain_hmc[:r]), normalize=:pdf, alpha=0.5, bins=range(-4,0,length=40), label=\"HMC\")\n",
    "        histogram!(log.(chain_mchmc[:r]), normalize=:pdf, alpha=0.5, bins=range(-4,0,length=40), label=\"MCHMC\")\n",
    "        histogram!(chain_muse[:logr], normalize=:pdf, alpha=0.5, bins=range(-4,0,length=40), label=\"MUSE\")\n",
    "        vline!([prob.Ωtrue.θ.r], c=4, lw=3, label=\"Truth\")\n",
    "    end, \n",
    "    begin\n",
    "        histogram(log.(chain_hmc[:Aϕ]), normalize=:pdf, alpha=0.5, bins=range(-0.6,0.6,length=40), label=\"HMC\")\n",
    "        histogram!(log.(chain_mchmc[:Aϕ]), normalize=:pdf, alpha=0.5, bins=range(-0.6,0.6,length=40), label=\"MCHMC\")\n",
    "        histogram!(chain_muse[:logAϕ], normalize=:pdf, alpha=0.5, bins=range(-0.6,0.6,length=40), label=\"MUSE\")\n",
    "        vline!([prob.Ωtrue.θ.Aϕ], c=4, lw=3, label=\"Truth\")\n",
    "    end, \n",
    "    size = (700, 300)\n",
    ")"
   ]
  },
  {
   "cell_type": "code",
   "execution_count": null,
   "id": "41290466-e88b-436e-8bc1-2ea5297ccfdc",
   "metadata": {},
   "outputs": [],
   "source": []
  },
  {
   "cell_type": "code",
   "execution_count": null,
   "id": "7dadf389-dd36-44a7-aef3-d2f53a317912",
   "metadata": {},
   "outputs": [],
   "source": []
  }
 ],
 "metadata": {
  "kernelspec": {
   "display_name": "Julia 1.9.4",
   "language": "julia",
   "name": "julia-1.9"
  },
  "language_info": {
   "file_extension": ".jl",
   "mimetype": "application/julia",
   "name": "julia",
   "version": "1.9.4"
  },
  "widgets": {
   "application/vnd.jupyter.widget-state+json": {
    "state": {},
    "version_major": 2,
    "version_minor": 0
   }
  }
 },
 "nbformat": 4,
 "nbformat_minor": 5
}
