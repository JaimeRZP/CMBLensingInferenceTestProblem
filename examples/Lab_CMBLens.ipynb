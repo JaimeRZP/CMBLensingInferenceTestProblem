{
 "cells": [
  {
   "cell_type": "markdown",
   "id": "91129cb1",
   "metadata": {},
   "source": [
    "# Lab CMBLenses"
   ]
  },
  {
   "cell_type": "code",
   "execution_count": 1,
   "id": "d3285d75",
   "metadata": {},
   "outputs": [
    {
     "name": "stderr",
     "output_type": "stream",
     "text": [
      "\u001b[32m\u001b[1m  Activating\u001b[22m\u001b[39m project at `~/PhD/CMBLensingInferenceTestProblem/examples`\n"
     ]
    }
   ],
   "source": [
    "using Pkg\n",
    "Pkg.activate(\".\")\n",
    "Pkg.precompile()"
   ]
  },
  {
   "cell_type": "code",
   "execution_count": 2,
   "id": "87802120-5beb-4414-95ca-c140a3cd2209",
   "metadata": {
    "tags": []
   },
   "outputs": [],
   "source": [
    "using Revise, Adapt, CMBLensing, CMBLensingInferenceTestProblem, CUDA, JLD2, LaTeXStrings, NPZ, \n",
    "    LinearAlgebra, MCMCChains, MCMCDiagnosticTools, MuseInference, MicroCanonicalHMC,\n",
    "    Plots, ProgressMeter, Random, Statistics, Zygote "
   ]
  },
  {
   "cell_type": "code",
   "execution_count": 3,
   "id": "6efc8272",
   "metadata": {
    "tags": []
   },
   "outputs": [],
   "source": [
    "Plots.default(fmt=:png, dpi=120, size=(500,300), legendfontsize=10)"
   ]
  },
  {
   "cell_type": "code",
   "execution_count": 4,
   "id": "f7a92ecf-4dae-4553-a001-f5376ca7c35a",
   "metadata": {
    "tags": []
   },
   "outputs": [
    {
     "name": "stdout",
     "output_type": "stream",
     "text": [
      "Nside: 64\n",
      "Use Map: true\n",
      "Masking: false\n"
     ]
    }
   ],
   "source": [
    "Nside = 64\n",
    "T = Float64;\n",
    "use_map = true\n",
    "masking = false\n",
    "t = nothing\n",
    "precond_path = string(\"../pixel_preconditioners/pp_nside_\", Nside, \"_t_\", t)\n",
    "println(\"Nside: \", Nside)\n",
    "println(\"Use Map: \", use_map)\n",
    "println(\"Masking: \", masking)\n"
   ]
  },
  {
   "cell_type": "code",
   "execution_count": 5,
   "id": "a7d6f81c",
   "metadata": {
    "tags": []
   },
   "outputs": [
    {
     "name": "stdout",
     "output_type": "stream",
     "text": [
      "Built problem\n"
     ]
    }
   ],
   "source": [
    "prob = load_cmb_lensing_problem(;storage=CuArray, T, Nside,\n",
    "    masking=masking, global_parameters=true);\n",
    "d = length(prob.Ωstart)\n",
    "to_vec, from_vec = CMBLensingInferenceTestProblem.to_from_vec(prob.Ωstart);\n",
    "cl = get_Cℓ(prob.Ωstart[:ϕ°][:I]);\n",
    "println(\"Built problem\")"
   ]
  },
  {
   "cell_type": "code",
   "execution_count": 6,
   "id": "561335a1",
   "metadata": {
    "tags": []
   },
   "outputs": [
    {
     "data": {
      "text/plain": [
       "12290-element Field-(f°,ϕ°,θ)-Tuple{BaseField{QUMap, ProjLambert{Float64, CuArray{Float64, 1, CUDA.Mem.DeviceBuffer}, CuArray{Float64, 2, CUDA.Mem.DeviceBuffer}}, Float64, CuArray{Float64, 3, CUDA.Mem.DeviceBuffer}}, BaseField{Map, ProjLambert{Float64, CuArray{Float64, 1, CUDA.Mem.DeviceBuffer}, CuArray{Float64, 2, CUDA.Mem.DeviceBuffer}}, Float64, CuArray{Float64, 2, CUDA.Mem.DeviceBuffer}}, ComponentArrays.ComponentVector{Float64, Vector{Float64}, Tuple{ComponentArrays.Axis{(r = 1, Aϕ = 2)}}}}:\n",
       " 1.0\n",
       " 1.0\n",
       " 1.0\n",
       " 1.0\n",
       " 1.0\n",
       " 1.0\n",
       " 1.0\n",
       " 1.0\n",
       " 1.0\n",
       " 1.0\n",
       " 1.0\n",
       " 1.0\n",
       " 1.0\n",
       " ⋮\n",
       " 1.0\n",
       " 1.0\n",
       " 1.0\n",
       " 1.0\n",
       " 1.0\n",
       " 1.0\n",
       " 1.0\n",
       " 1.0\n",
       " 1.0\n",
       " 1.0\n",
       " 1.0\n",
       " 1.0"
      ]
     },
     "execution_count": 6,
     "metadata": {},
     "output_type": "execute_result"
    }
   ],
   "source": [
    "# Precond\n",
    "prob.Λmass.diag.θ.r *= 5.85\n",
    "prob.Λmass.diag.θ.Aϕ *= 112.09\n",
    "\n",
    "if t == nothing\n",
    "    precond = one(simulate(Diagonal(one(LenseBasis(diag(prob.Λmass))))));\n",
    "else\n",
    "    precond = load(precond_path, \"dist_mat_precond\")\n",
    "    precond = adapt(CuArray, precond)\n",
    "    precond = from_vec(precond);\n",
    "end"
   ]
  },
  {
   "cell_type": "code",
   "execution_count": 7,
   "id": "9a21bb26-7590-4da4-bae0-122e0aa70ef2",
   "metadata": {},
   "outputs": [
    {
     "data": {
      "text/plain": [
       "12290-element Field-(f°,ϕ°,θ)-Tuple{BaseField{QUMap, ProjLambert{Float64, CuArray{Float64, 1, CUDA.Mem.DeviceBuffer}, CuArray{Float64, 2, CUDA.Mem.DeviceBuffer}}, Float64, CuArray{Float64, 3, CUDA.Mem.DeviceBuffer}}, BaseField{Map, ProjLambert{Float64, CuArray{Float64, 1, CUDA.Mem.DeviceBuffer}, CuArray{Float64, 2, CUDA.Mem.DeviceBuffer}}, Float64, CuArray{Float64, 2, CUDA.Mem.DeviceBuffer}}, ComponentArrays.ComponentVector{Float64, Vector{Float64}, Tuple{ComponentArrays.Axis{(r = 1, Aϕ = 2)}}}}:\n",
       "  2.7246182441442746\n",
       "  5.701545602758312\n",
       "  6.232791145397454\n",
       "  4.176224556536159\n",
       "  2.4523960863101597\n",
       "  1.2832203758355496\n",
       "  4.55256343295778\n",
       "  5.6307520506020605\n",
       "  1.8081102056935976\n",
       "  1.0915031170074734\n",
       " -4.039709914222541\n",
       " -6.161190225532817\n",
       "  0.4749277486589627\n",
       "  ⋮\n",
       "  2.958904547124972e-6\n",
       "  2.974441321102344e-6\n",
       "  3.0366415140559316e-6\n",
       "  3.041742105491268e-6\n",
       "  2.9464643630224668e-6\n",
       "  2.7552673308057668e-6\n",
       "  2.4566811428970974e-6\n",
       "  2.041191215874267e-6\n",
       "  1.5252173910335992e-6\n",
       "  9.955063149225848e-7\n",
       " -1.6094379124341003\n",
       "  0.0"
      ]
     },
     "execution_count": 7,
     "metadata": {},
     "output_type": "execute_result"
    }
   ],
   "source": [
    "#init_params\n",
    "if use_map\n",
    "    init_params = prob.Ωtrue\n",
    "else\n",
    "    init_params = prob.Ωstart\n",
    "end"
   ]
  },
  {
   "cell_type": "markdown",
   "id": "7ff4eb5a-a361-45d7-b344-300e7c3bc6fb",
   "metadata": {
    "tags": []
   },
   "source": [
    "# MCHMC"
   ]
  },
  {
   "cell_type": "code",
   "execution_count": 8,
   "id": "cf9d88ae",
   "metadata": {
    "tags": []
   },
   "outputs": [],
   "source": [
    "function CMBLensingTarget2(prob)\n",
    "    θ_start = prob.Ωstart\n",
    "    d = length(θ_start)\n",
    "    θ_names = [string(\"θ_\", i) for i=1:d]\n",
    "    Λmass = prob.Λmass\n",
    "    sqrtΛmass = sqrt(Λmass)\n",
    "    inv_sqrtΛmass = pinv(sqrtΛmass)\n",
    "\n",
    "    function transform(x)\n",
    "        xt = CMBLensing.LenseBasis(sqrtΛmass * x)\n",
    "        return xt\n",
    "    end\n",
    "\n",
    "    function inv_transform(xt)\n",
    "        x = CMBLensing.LenseBasis(inv_sqrtΛmass * xt)\n",
    "        return x\n",
    "    end\n",
    "\n",
    "    function ℓπ(xt)\n",
    "        x = inv_transform(xt)\n",
    "        return prob(x)\n",
    "    end\n",
    "\n",
    "    function ∂lπ∂θ(xt)\n",
    "        return (ℓπ(xt), CMBLensing.LenseBasis(Zygote.gradient(ℓπ, xt)[1]))\n",
    "    end\n",
    "\n",
    "    return MicroCanonicalHMC.Target(\n",
    "        d,\n",
    "        MicroCanonicalHMC.Hamiltonian(ℓπ, ∂lπ∂θ),\n",
    "        transform,\n",
    "        inv_transform,\n",
    "        θ_start,\n",
    "        θ_names)\n",
    "end\n",
    "target2 = CMBLensingTarget2(prob);\n",
    "target = CMBLensingInferenceTestProblem.CMBLensingTarget(prob);"
   ]
  },
  {
   "cell_type": "code",
   "execution_count": 9,
   "id": "37018a1b-bc19-4174-b317-1846d0a0c900",
   "metadata": {
    "tags": []
   },
   "outputs": [],
   "source": [
    "#Sampler\n",
    "TEV = 0.001\n",
    "nadapts = 0\n",
    "samples = 1_000\n",
    "L=100.0\n",
    "spl = MCHMC(nadapts, TEV;\n",
    "    adaptive=true, eps=10.0, L=L, sigma=precond,\n",
    "    tune_L=false, tune_sigma=false);"
   ]
  },
  {
   "cell_type": "code",
   "execution_count": 10,
   "id": "2f1c6305-cdb7-49e4-9d15-1f74650ced3e",
   "metadata": {
    "tags": []
   },
   "outputs": [
    {
     "name": "stdout",
     "output_type": "stream",
     "text": [
      "Found existing file ../chains/64/MCHMC/MCHMC_Nside_64_use_map_true_masking_false_precond_nothing_L_100.0_TEV_0.001\n"
     ]
    },
    {
     "data": {
      "text/plain": [
       "\"../chains/64/MCHMC/MCHMC_Nside_64_use_map_true_masking_false_precond_nothing_L_100.0_TEV_0.001/chain_1_1000\""
      ]
     },
     "execution_count": 10,
     "metadata": {},
     "output_type": "execute_result"
    }
   ],
   "source": [
    "fol_name=string(\"../chains/\", Nside,\"/MCHMC/MCHMC\",\n",
    "    \"_Nside_\", Nside,\n",
    "    \"_use_map_\", use_map,\n",
    "    \"_masking_\", masking,\n",
    "    \"_precond_\", t,\n",
    "    \"_L_\", L,\n",
    "    \"_TEV_\", TEV)\n",
    "\n",
    "last_n = 0 \n",
    "if isdir(fol_name)\n",
    "    fol_files = readdir(fol_name)\n",
    "    println(\"Found existing file \", fol_name)\n",
    "    if length(fol_files) != 0\n",
    "        last_chain = last([file for file in fol_files if occursin(\"chain\", file)])\n",
    "        last_n = parse(Int, last_chain[end])\n",
    "    end\n",
    "else\n",
    "    mkdir(fol_name)\n",
    "    println(string(\"Created new folder \", fol_name))\n",
    "end\n",
    "\n",
    "file_name = string(fol_name, \"/chain_\", last_n+1, \"_\", samples)"
   ]
  },
  {
   "cell_type": "code",
   "execution_count": 11,
   "id": "4b950c0d-c34c-4468-b452-7fd8a20aa4c6",
   "metadata": {
    "tags": []
   },
   "outputs": [
    {
     "name": "stderr",
     "output_type": "stream",
     "text": [
      "\r\u001b[32mSampling: 100%|█████████████████████████████████████████| Time: 0:01:21\u001b[39m\r\n",
      "\u001b[34m  ϵ:     48.57161999181487\u001b[39m\r\n",
      "\u001b[34m  dE/d:  0.000681652778346509\u001b[39m\n"
     ]
    },
    {
     "data": {
      "text/plain": [
       "2002"
      ]
     },
     "execution_count": 11,
     "metadata": {},
     "output_type": "execute_result"
    }
   ],
   "source": [
    "prob.ncalls[] = 0\n",
    "samples_mchmc = MicroCanonicalHMC.Sample(spl, target, samples; thinning=20, file_name=file_name)\n",
    "ncalls_mchmc = prob.ncalls[]"
   ]
  },
  {
   "cell_type": "code",
   "execution_count": 21,
   "id": "f91fc402",
   "metadata": {},
   "outputs": [
    {
     "data": {
      "text/plain": [
       "50-element CuArray{Float64, 1, CUDA.Mem.DeviceBuffer}:\n",
       " 10.774288903039166\n",
       " 13.188093338190175\n",
       " 15.167908792001018\n",
       " 17.459852134830115\n",
       " 20.09921545396971\n",
       " 22.995460574544687\n",
       " 26.567146735626586\n",
       " 30.517891148395243\n",
       " 34.57498141191431\n",
       " 38.9469813116021\n",
       " 42.84972094230632\n",
       " 44.128682893049024\n",
       " 47.62136960540963\n",
       "  ⋮\n",
       " 46.19024177018172\n",
       " 46.12930172848023\n",
       " 45.84303410662964\n",
       " 48.977489088284706\n",
       " 52.38313916248534\n",
       " 52.57608848362991\n",
       " 50.4742048468728\n",
       " 51.53750685271068\n",
       " 47.08678900385712\n",
       " 48.63276139659305\n",
       " 50.01302773717303\n",
       " 48.57161999181487"
      ]
     },
     "execution_count": 21,
     "metadata": {},
     "output_type": "execute_result"
    }
   ],
   "source": [
    "samples_mchmc[end-2, :]"
   ]
  },
  {
   "cell_type": "code",
   "execution_count": 22,
   "id": "72faf144",
   "metadata": {},
   "outputs": [
    {
     "data": {
      "text/plain": [
       "50-element CuArray{Float64, 1, CUDA.Mem.DeviceBuffer}:\n",
       "  0.2688194934162311\n",
       " -0.1470391532056965\n",
       "  0.0506668614980299\n",
       " -0.17676092498004436\n",
       " -0.06544247950660065\n",
       " -0.22369955768226646\n",
       " -0.30534417465969454\n",
       "  1.8022883746161824\n",
       "  1.9815071617485955\n",
       " -1.405322843027534\n",
       "  1.5321419897227315\n",
       " -6.392459940019762\n",
       "  4.5532174582913285\n",
       "  ⋮\n",
       " -4.514806119448622\n",
       "  4.695901012193644\n",
       "  1.2969627273123479\n",
       " -1.0379965066240402\n",
       " -2.751951751866727\n",
       "  0.9410758740559686\n",
       "  3.286336591729196\n",
       "  1.324545209601638\n",
       " -1.411096681113122\n",
       " -0.7440191721107112\n",
       "  4.790201531694038\n",
       "  8.377512645878596"
      ]
     },
     "execution_count": 22,
     "metadata": {},
     "output_type": "execute_result"
    }
   ],
   "source": [
    "samples_mchmc[end-1, :]"
   ]
  },
  {
   "cell_type": "code",
   "execution_count": 13,
   "id": "b3fbef67-b374-4c36-ab9a-74d3eef3f667",
   "metadata": {
    "tags": []
   },
   "outputs": [],
   "source": [
    "chain_mchmc = Chains(permutedims(reduce(hcat, [[exp.(sample[end÷2-2:end÷2-1]);] for sample in eachcol(samples_mchmc) if all(isfinite.(sample))])),  [:r, :Aϕ]);"
   ]
  },
  {
   "cell_type": "code",
   "execution_count": null,
   "id": "fffe9ff6-558c-434b-bf19-64eeefb30e16",
   "metadata": {},
   "outputs": [],
   "source": [
    "fol_name=string(\"/pscratch/sd/j/jaimerz/summaries/\", Nside,\"/MCHMC/MCHMC_summary\",\n",
    "    \"_Nside_\", Nside,\n",
    "    \"_use_map_\", use_map,\n",
    "    \"_masking_\", masking,\n",
    "    \"_precond_\", t,\n",
    "    \"_L_\", L,\n",
    "    \"_TEV_\", TEV)\n",
    "\n",
    "if isdir(fol_name)\n",
    "    fol_files = readdir(fol_name)\n",
    "    println(\"Found existing file \", fol_name)\n",
    "    if length(fol_files) != 0\n",
    "        last_chain = last([file for file in fol_files if occursin(\"hyperparams\", file)])\n",
    "        last_n = parse(Int, last_chain[end])\n",
    "    end\n",
    "else\n",
    "    mkdir(fol_name)\n",
    "    println(string(\"Created new folder \", fol_name))\n",
    "end\n",
    "\n",
    "file_name = string(fol_name, \"/hyperparams_\", last_n+1, \"_\", samples)\n",
    "npzwrite(file_name,\n",
    "    Dict(\"r\"=> vec(chain_mchmc[:r])[:],\n",
    "    \"Aphi\"=> vec(chain_mchmc[:Aϕ])[:])\n",
    "    "
   ]
  },
  {
   "cell_type": "code",
   "execution_count": null,
   "id": "ce31c592-d53b-4948-a8c1-c02e9c3c323b",
   "metadata": {
    "tags": []
   },
   "outputs": [],
   "source": [
    "ess_mchmc = MCMCDiagnosticTools.ess(chain_mchmc)[[:r,:Aϕ],:ess]"
   ]
  },
  {
   "cell_type": "code",
   "execution_count": null,
   "id": "234e5da4",
   "metadata": {
    "tags": []
   },
   "outputs": [],
   "source": [
    "ess_per_call_mchmc = minimum(ess_mchmc ./ samples) #ncalls_mchmc"
   ]
  },
  {
   "cell_type": "code",
   "execution_count": 16,
   "id": "f999164c",
   "metadata": {},
   "outputs": [
    {
     "data": {
      "text/plain": [
       "2-dimensional AxisArray{Float64,2,...} with axes:\n",
       "    :iter, 1:1:50\n",
       "    :chain, 1:1\n",
       "And data, a 50×1 CuArray{Float64, 2, CUDA.Mem.DeviceBuffer}:\n",
       "  47776.48744669371\n",
       " 533969.1465037104\n",
       "      3.8666876418146924e6\n",
       "      3.825757488464524e7\n",
       "      5.357699633018547e8\n",
       "      9.700667888255192e9\n",
       "      3.4511610570146484e11\n",
       "      1.7937079172295766e13\n",
       "      1.036868400354193e15\n",
       "      8.212191543361914e16\n",
       "      4.068153733548978e18\n",
       "      1.4616502800224674e19\n",
       "      4.805051428701781e20\n",
       "      ⋮\n",
       "      1.1485955214481983e20\n",
       "      1.0806901540814614e20\n",
       "      8.116648638614533e19\n",
       "      1.8648901217524677e21\n",
       "      5.619637255941545e22\n",
       "      6.81561591718417e22\n",
       "      8.330453479376128e21\n",
       "      2.4124306479200885e22\n",
       "      2.8153515658642516e20\n",
       "      1.321112842232325e21\n",
       "      5.252692405545882e21\n",
       "      1.2427579200054517e21"
      ]
     },
     "execution_count": 16,
     "metadata": {},
     "output_type": "execute_result"
    }
   ],
   "source": [
    "chain_mchmc[:r]"
   ]
  },
  {
   "cell_type": "code",
   "execution_count": 17,
   "id": "7592cf3a",
   "metadata": {},
   "outputs": [
    {
     "data": {
      "text/plain": [
       "2-dimensional AxisArray{Float64,2,...} with axes:\n",
       "    :iter, 1:1:50\n",
       "    :chain, 1:1\n",
       "And data, a 50×1 CuArray{Float64, 2, CUDA.Mem.DeviceBuffer}:\n",
       "    1.308418941496053\n",
       "    0.8632601773513399\n",
       "    1.0519723823985239\n",
       "    0.8379801006860383\n",
       "    0.9366529219483637\n",
       "    0.7995553185398723\n",
       "    0.7368697188585009\n",
       "    6.063507176165428\n",
       "    7.253667200555047\n",
       "    0.24528785419520024\n",
       "    4.628079511533961\n",
       "    0.0016741328654548725\n",
       "   94.93737448656901\n",
       "    ⋮\n",
       "    0.01094572708472418\n",
       "  109.49742272194213\n",
       "    3.658168920623282\n",
       "    0.35416353592779143\n",
       "    0.06380321156641493\n",
       "    2.562737118048119\n",
       "   26.744707190549178\n",
       "    3.7604747382391217\n",
       "    0.24387568258897005\n",
       "    0.47520016100871243\n",
       "  120.32561564502282\n",
       " 4348.180000653609"
      ]
     },
     "execution_count": 17,
     "metadata": {},
     "output_type": "execute_result"
    }
   ],
   "source": [
    "chain_mchmc[:Aϕ]"
   ]
  },
  {
   "cell_type": "code",
   "execution_count": 14,
   "id": "c3967517",
   "metadata": {
    "tags": []
   },
   "outputs": [
    {
     "name": "stderr",
     "output_type": "stream",
     "text": [
      "\u001b[33m\u001b[1m┌ \u001b[22m\u001b[39m\u001b[33m\u001b[1mWarning: \u001b[22m\u001b[39mPerforming scalar indexing on task Task (runnable) @0x00007fa6f29c7210.\n",
      "\u001b[33m\u001b[1m│ \u001b[22m\u001b[39mInvocation of getindex resulted in scalar indexing of a GPU array.\n",
      "\u001b[33m\u001b[1m│ \u001b[22m\u001b[39mThis is typically caused by calling an iterating implementation of a method.\n",
      "\u001b[33m\u001b[1m│ \u001b[22m\u001b[39mSuch implementations *do not* execute on the GPU, but very slowly on the CPU,\n",
      "\u001b[33m\u001b[1m│ \u001b[22m\u001b[39mand therefore are only permitted from the REPL for prototyping purposes.\n",
      "\u001b[33m\u001b[1m│ \u001b[22m\u001b[39mIf you did intend to index this array, annotate the caller with @allowscalar.\n",
      "\u001b[33m\u001b[1m└ \u001b[22m\u001b[39m\u001b[90m@ GPUArraysCore ~/.julia/packages/GPUArraysCore/uOYfN/src/GPUArraysCore.jl:106\u001b[39m\n"
     ]
    },
    {
     "data": {
      "image/png": "[encoded data removed]",
      "image/svg+xml": [
       "<?xml version=\"1.0\" encoding=\"utf-8\"?>\n",
       "<svg xmlns=\"http://www.w3.org/2000/svg\" xmlns:xlink=\"http://www.w3.org/1999/xlink\" width=\"500\" height=\"300\" viewBox=\"0 0 2000 1200\">\n",
       "<defs>\n",
       "  <clipPath id=\"clip830\">\n",
       "    <rect x=\"0\" y=\"0\" width=\"2000\" height=\"1200\"/>\n",
       "  </clipPath>\n",
       "</defs>\n",
       "<path clip-path=\"url(#clip830)\" d=\"M0 1200 L2000 1200 L2000 0 L0 0  Z\" fill=\"#ffffff\" fill-rule=\"evenodd\" fill-opacity=\"1\"/>\n",
       "<defs>\n",
       "  <clipPath id=\"clip831\">\n",
       "    <rect x=\"400\" y=\"0\" width=\"1401\" height=\"1200\"/>\n",
       "  </clipPath>\n",
       "</defs>\n",
       "<path clip-path=\"url(#clip830)\" d=\"M326.002 1035.39 L1952.76 1035.39 L1952.76 47.2441 L326.002 47.2441  Z\" fill=\"#ffffff\" fill-rule=\"evenodd\" fill-opacity=\"1\"/>\n",
       "<defs>\n",
       "  <clipPath id=\"clip832\">\n",
       "    <rect x=\"326\" y=\"47\" width=\"1628\" height=\"989\"/>\n",
       "  </clipPath>\n",
       "</defs>\n",
       "<polyline clip-path=\"url(#clip832)\" style=\"stroke:#000000; stroke-linecap:round; stroke-linejoin:round; stroke-width:2; stroke-opacity:0.1; fill:none\" points=\"340.722,1035.39 340.722,47.2441 \"/>\n",
       "<polyline clip-path=\"url(#clip832)\" style=\"stroke:#000000; stroke-linecap:round; stroke-linejoin:round; stroke-width:2; stroke-opacity:0.1; fill:none\" points=\"653.921,1035.39 653.921,47.2441 \"/>\n",
       "<polyline clip-path=\"url(#clip832)\" style=\"stroke:#000000; stroke-linecap:round; stroke-linejoin:round; stroke-width:2; stroke-opacity:0.1; fill:none\" points=\"967.119,1035.39 967.119,47.2441 \"/>\n",
       "<polyline clip-path=\"url(#clip832)\" style=\"stroke:#000000; stroke-linecap:round; stroke-linejoin:round; stroke-width:2; stroke-opacity:0.1; fill:none\" points=\"1280.32,1035.39 1280.32,47.2441 \"/>\n",
       "<polyline clip-path=\"url(#clip832)\" style=\"stroke:#000000; stroke-linecap:round; stroke-linejoin:round; stroke-width:2; stroke-opacity:0.1; fill:none\" points=\"1593.52,1035.39 1593.52,47.2441 \"/>\n",
       "<polyline clip-path=\"url(#clip832)\" style=\"stroke:#000000; stroke-linecap:round; stroke-linejoin:round; stroke-width:2; stroke-opacity:0.1; fill:none\" points=\"1906.72,1035.39 1906.72,47.2441 \"/>\n",
       "<polyline clip-path=\"url(#clip830)\" style=\"stroke:#000000; stroke-linecap:round; stroke-linejoin:round; stroke-width:4; stroke-opacity:1; fill:none\" points=\"326.002,1035.39 1952.76,1035.39 \"/>\n",
       "<polyline clip-path=\"url(#clip830)\" style=\"stroke:#000000; stroke-linecap:round; stroke-linejoin:round; stroke-width:4; stroke-opacity:1; fill:none\" points=\"340.722,1035.39 340.722,1016.49 \"/>\n",
       "<polyline clip-path=\"url(#clip830)\" style=\"stroke:#000000; stroke-linecap:round; stroke-linejoin:round; stroke-width:4; stroke-opacity:1; fill:none\" points=\"653.921,1035.39 653.921,1016.49 \"/>\n",
       "<polyline clip-path=\"url(#clip830)\" style=\"stroke:#000000; stroke-linecap:round; stroke-linejoin:round; stroke-width:4; stroke-opacity:1; fill:none\" points=\"967.119,1035.39 967.119,1016.49 \"/>\n",
       "<polyline clip-path=\"url(#clip830)\" style=\"stroke:#000000; stroke-linecap:round; stroke-linejoin:round; stroke-width:4; stroke-opacity:1; fill:none\" points=\"1280.32,1035.39 1280.32,1016.49 \"/>\n",
       "<polyline clip-path=\"url(#clip830)\" style=\"stroke:#000000; stroke-linecap:round; stroke-linejoin:round; stroke-width:4; stroke-opacity:1; fill:none\" points=\"1593.52,1035.39 1593.52,1016.49 \"/>\n",
       "<polyline clip-path=\"url(#clip830)\" style=\"stroke:#000000; stroke-linecap:round; stroke-linejoin:round; stroke-width:4; stroke-opacity:1; fill:none\" points=\"1906.72,1035.39 1906.72,1016.49 \"/>\n",
       "<path clip-path=\"url(#clip830)\" d=\"M340.722 1063.11 Q337.111 1063.11 335.282 1066.67 Q333.477 1070.21 333.477 1077.34 Q333.477 1084.45 335.282 1088.01 Q337.111 1091.56 340.722 1091.56 Q344.356 1091.56 346.162 1088.01 Q347.99 1084.45 347.99 1077.34 Q347.99 1070.21 346.162 1066.67 Q344.356 1063.11 340.722 1063.11 M340.722 1059.4 Q346.532 1059.4 349.588 1064.01 Q352.666 1068.59 352.666 1077.34 Q352.666 1086.07 349.588 1090.68 Q346.532 1095.26 340.722 1095.26 Q334.912 1095.26 331.833 1090.68 Q328.777 1086.07 328.777 1077.34 Q328.777 1068.59 331.833 1064.01 Q334.912 1059.4 340.722 1059.4 Z\" fill=\"#000000\" fill-rule=\"nonzero\" fill-opacity=\"1\" /><path clip-path=\"url(#clip830)\" d=\"M628.608 1090.65 L636.247 1090.65 L636.247 1064.29 L627.937 1065.95 L627.937 1061.69 L636.201 1060.03 L640.877 1060.03 L640.877 1090.65 L648.516 1090.65 L648.516 1094.59 L628.608 1094.59 L628.608 1090.65 Z\" fill=\"#000000\" fill-rule=\"nonzero\" fill-opacity=\"1\" /><path clip-path=\"url(#clip830)\" d=\"M667.96 1063.11 Q664.349 1063.11 662.52 1066.67 Q660.715 1070.21 660.715 1077.34 Q660.715 1084.45 662.52 1088.01 Q664.349 1091.56 667.96 1091.56 Q671.594 1091.56 673.4 1088.01 Q675.228 1084.45 675.228 1077.34 Q675.228 1070.21 673.4 1066.67 Q671.594 1063.11 667.96 1063.11 M667.96 1059.4 Q673.77 1059.4 676.826 1064.01 Q679.904 1068.59 679.904 1077.34 Q679.904 1086.07 676.826 1090.68 Q673.77 1095.26 667.96 1095.26 Q662.15 1095.26 659.071 1090.68 Q656.016 1086.07 656.016 1077.34 Q656.016 1068.59 659.071 1064.01 Q662.15 1059.4 667.96 1059.4 Z\" fill=\"#000000\" fill-rule=\"nonzero\" fill-opacity=\"1\" /><path clip-path=\"url(#clip830)\" d=\"M945.893 1090.65 L962.212 1090.65 L962.212 1094.59 L940.268 1094.59 L940.268 1090.65 Q942.93 1087.9 947.513 1083.27 Q952.119 1078.62 953.3 1077.27 Q955.545 1074.75 956.425 1073.01 Q957.328 1071.25 957.328 1069.56 Q957.328 1066.81 955.383 1065.07 Q953.462 1063.34 950.36 1063.34 Q948.161 1063.34 945.707 1064.1 Q943.277 1064.87 940.499 1066.42 L940.499 1061.69 Q943.323 1060.56 945.777 1059.98 Q948.231 1059.4 950.268 1059.4 Q955.638 1059.4 958.832 1062.09 Q962.027 1064.77 962.027 1069.26 Q962.027 1071.39 961.217 1073.31 Q960.43 1075.21 958.323 1077.81 Q957.744 1078.48 954.643 1081.69 Q951.541 1084.89 945.893 1090.65 Z\" fill=\"#000000\" fill-rule=\"nonzero\" fill-opacity=\"1\" /><path clip-path=\"url(#clip830)\" d=\"M982.027 1063.11 Q978.416 1063.11 976.587 1066.67 Q974.781 1070.21 974.781 1077.34 Q974.781 1084.45 976.587 1088.01 Q978.416 1091.56 982.027 1091.56 Q985.661 1091.56 987.467 1088.01 Q989.295 1084.45 989.295 1077.34 Q989.295 1070.21 987.467 1066.67 Q985.661 1063.11 982.027 1063.11 M982.027 1059.4 Q987.837 1059.4 990.892 1064.01 Q993.971 1068.59 993.971 1077.34 Q993.971 1086.07 990.892 1090.68 Q987.837 1095.26 982.027 1095.26 Q976.217 1095.26 973.138 1090.68 Q970.082 1086.07 970.082 1077.34 Q970.082 1068.59 973.138 1064.01 Q976.217 1059.4 982.027 1059.4 Z\" fill=\"#000000\" fill-rule=\"nonzero\" fill-opacity=\"1\" /><path clip-path=\"url(#clip830)\" d=\"M1269.16 1075.95 Q1272.52 1076.67 1274.39 1078.94 Q1276.29 1081.21 1276.29 1084.54 Q1276.29 1089.66 1272.77 1092.46 Q1269.25 1095.26 1262.77 1095.26 Q1260.6 1095.26 1258.28 1094.82 Q1255.99 1094.4 1253.54 1093.55 L1253.54 1089.03 Q1255.48 1090.17 1257.8 1090.75 Q1260.11 1091.32 1262.63 1091.32 Q1267.03 1091.32 1269.32 1089.59 Q1271.64 1087.85 1271.64 1084.54 Q1271.64 1081.49 1269.48 1079.77 Q1267.36 1078.04 1263.54 1078.04 L1259.51 1078.04 L1259.51 1074.19 L1263.72 1074.19 Q1267.17 1074.19 1269 1072.83 Q1270.83 1071.44 1270.83 1068.85 Q1270.83 1066.19 1268.93 1064.77 Q1267.05 1063.34 1263.54 1063.34 Q1261.61 1063.34 1259.42 1063.75 Q1257.22 1064.17 1254.58 1065.05 L1254.58 1060.88 Q1257.24 1060.14 1259.55 1059.77 Q1261.89 1059.4 1263.95 1059.4 Q1269.28 1059.4 1272.38 1061.83 Q1275.48 1064.24 1275.48 1068.36 Q1275.48 1071.23 1273.84 1073.22 Q1272.19 1075.19 1269.16 1075.95 Z\" fill=\"#000000\" fill-rule=\"nonzero\" fill-opacity=\"1\" /><path clip-path=\"url(#clip830)\" d=\"M1295.16 1063.11 Q1291.54 1063.11 1289.72 1066.67 Q1287.91 1070.21 1287.91 1077.34 Q1287.91 1084.45 1289.72 1088.01 Q1291.54 1091.56 1295.16 1091.56 Q1298.79 1091.56 1300.6 1088.01 Q1302.42 1084.45 1302.42 1077.34 Q1302.42 1070.21 1300.6 1066.67 Q1298.79 1063.11 1295.16 1063.11 M1295.16 1059.4 Q1300.97 1059.4 1304.02 1064.01 Q1307.1 1068.59 1307.1 1077.34 Q1307.1 1086.07 1304.02 1090.68 Q1300.97 1095.26 1295.16 1095.26 Q1289.35 1095.26 1286.27 1090.68 Q1283.21 1086.07 1283.21 1077.34 Q1283.21 1068.59 1286.27 1064.01 Q1289.35 1059.4 1295.16 1059.4 Z\" fill=\"#000000\" fill-rule=\"nonzero\" fill-opacity=\"1\" /><path clip-path=\"url(#clip830)\" d=\"M1581.69 1064.1 L1569.88 1082.55 L1581.69 1082.55 L1581.69 1064.1 M1580.46 1060.03 L1586.34 1060.03 L1586.34 1082.55 L1591.27 1082.55 L1591.27 1086.44 L1586.34 1086.44 L1586.34 1094.59 L1581.69 1094.59 L1581.69 1086.44 L1566.09 1086.44 L1566.09 1081.93 L1580.46 1060.03 Z\" fill=\"#000000\" fill-rule=\"nonzero\" fill-opacity=\"1\" /><path clip-path=\"url(#clip830)\" d=\"M1609 1063.11 Q1605.39 1063.11 1603.56 1066.67 Q1601.76 1070.21 1601.76 1077.34 Q1601.76 1084.45 1603.56 1088.01 Q1605.39 1091.56 1609 1091.56 Q1612.64 1091.56 1614.44 1088.01 Q1616.27 1084.45 1616.27 1077.34 Q1616.27 1070.21 1614.44 1066.67 Q1612.64 1063.11 1609 1063.11 M1609 1059.4 Q1614.81 1059.4 1617.87 1064.01 Q1620.95 1068.59 1620.95 1077.34 Q1620.95 1086.07 1617.87 1090.68 Q1614.81 1095.26 1609 1095.26 Q1603.19 1095.26 1600.11 1090.68 Q1597.06 1086.07 1597.06 1077.34 Q1597.06 1068.59 1600.11 1064.01 Q1603.19 1059.4 1609 1059.4 Z\" fill=\"#000000\" fill-rule=\"nonzero\" fill-opacity=\"1\" /><path clip-path=\"url(#clip830)\" d=\"M1881.41 1060.03 L1899.77 1060.03 L1899.77 1063.96 L1885.7 1063.96 L1885.7 1072.44 Q1886.72 1072.09 1887.73 1071.93 Q1888.75 1071.74 1889.77 1071.74 Q1895.56 1071.74 1898.94 1074.91 Q1902.32 1078.08 1902.32 1083.5 Q1902.32 1089.08 1898.85 1092.18 Q1895.37 1095.26 1889.05 1095.26 Q1886.88 1095.26 1884.61 1094.89 Q1882.36 1094.52 1879.96 1093.78 L1879.96 1089.08 Q1882.04 1090.21 1884.26 1090.77 Q1886.48 1091.32 1888.96 1091.32 Q1892.97 1091.32 1895.3 1089.22 Q1897.64 1087.11 1897.64 1083.5 Q1897.64 1079.89 1895.3 1077.78 Q1892.97 1075.68 1888.96 1075.68 Q1887.09 1075.68 1885.21 1076.09 Q1883.36 1076.51 1881.41 1077.39 L1881.41 1060.03 Z\" fill=\"#000000\" fill-rule=\"nonzero\" fill-opacity=\"1\" /><path clip-path=\"url(#clip830)\" d=\"M1921.53 1063.11 Q1917.92 1063.11 1916.09 1066.67 Q1914.29 1070.21 1914.29 1077.34 Q1914.29 1084.45 1916.09 1088.01 Q1917.92 1091.56 1921.53 1091.56 Q1925.16 1091.56 1926.97 1088.01 Q1928.8 1084.45 1928.8 1077.34 Q1928.8 1070.21 1926.97 1066.67 Q1925.16 1063.11 1921.53 1063.11 M1921.53 1059.4 Q1927.34 1059.4 1930.4 1064.01 Q1933.47 1068.59 1933.47 1077.34 Q1933.47 1086.07 1930.4 1090.68 Q1927.34 1095.26 1921.53 1095.26 Q1915.72 1095.26 1912.64 1090.68 Q1909.59 1086.07 1909.59 1077.34 Q1909.59 1068.59 1912.64 1064.01 Q1915.72 1059.4 1921.53 1059.4 Z\" fill=\"#000000\" fill-rule=\"nonzero\" fill-opacity=\"1\" /><path clip-path=\"url(#clip830)\" d=\"M1097.76 1139.65 L1097.76 1145.19 Q1095.28 1143.92 1092.61 1143.28 Q1089.93 1142.65 1087.07 1142.65 Q1082.71 1142.65 1080.51 1143.98 Q1078.35 1145.32 1078.35 1147.99 Q1078.35 1150.03 1079.91 1151.21 Q1081.47 1152.35 1086.18 1153.4 L1088.18 1153.85 Q1094.42 1155.19 1097.03 1157.64 Q1099.67 1160.06 1099.67 1164.42 Q1099.67 1169.38 1095.73 1172.28 Q1091.81 1175.17 1084.94 1175.17 Q1082.07 1175.17 1078.95 1174.6 Q1075.86 1174.06 1072.43 1172.95 L1072.43 1166.9 Q1075.67 1168.59 1078.82 1169.45 Q1081.98 1170.27 1085.06 1170.27 Q1089.2 1170.27 1091.43 1168.87 Q1093.66 1167.44 1093.66 1164.86 Q1093.66 1162.48 1092.03 1161.2 Q1090.44 1159.93 1085 1158.75 L1082.96 1158.27 Q1077.52 1157.13 1075.1 1154.77 Q1072.68 1152.39 1072.68 1148.25 Q1072.68 1143.22 1076.25 1140.48 Q1079.81 1137.74 1086.37 1137.74 Q1089.61 1137.74 1092.48 1138.22 Q1095.34 1138.7 1097.76 1139.65 Z\" fill=\"#000000\" fill-rule=\"nonzero\" fill-opacity=\"1\" /><path clip-path=\"url(#clip830)\" d=\"M1114.79 1128.48 L1114.79 1138.6 L1126.85 1138.6 L1126.85 1143.16 L1114.79 1143.16 L1114.79 1162.51 Q1114.79 1166.87 1115.97 1168.11 Q1117.18 1169.35 1120.84 1169.35 L1126.85 1169.35 L1126.85 1174.25 L1120.84 1174.25 Q1114.06 1174.25 1111.48 1171.74 Q1108.9 1169.19 1108.9 1162.51 L1108.9 1143.16 L1104.61 1143.16 L1104.61 1138.6 L1108.9 1138.6 L1108.9 1128.48 L1114.79 1128.48 Z\" fill=\"#000000\" fill-rule=\"nonzero\" fill-opacity=\"1\" /><path clip-path=\"url(#clip830)\" d=\"M1165.05 1154.96 L1165.05 1157.83 L1138.12 1157.83 Q1138.5 1163.88 1141.75 1167.06 Q1145.03 1170.21 1150.85 1170.21 Q1154.23 1170.21 1157.38 1169.38 Q1160.56 1168.55 1163.68 1166.9 L1163.68 1172.44 Q1160.53 1173.77 1157.22 1174.47 Q1153.91 1175.17 1150.5 1175.17 Q1141.97 1175.17 1136.98 1170.21 Q1132.01 1165.24 1132.01 1156.78 Q1132.01 1148.03 1136.72 1142.9 Q1141.46 1137.74 1149.48 1137.74 Q1156.68 1137.74 1160.85 1142.39 Q1165.05 1147.01 1165.05 1154.96 M1159.19 1153.25 Q1159.13 1148.44 1156.49 1145.57 Q1153.88 1142.71 1149.55 1142.71 Q1144.65 1142.71 1141.69 1145.48 Q1138.76 1148.25 1138.31 1153.28 L1159.19 1153.25 Z\" fill=\"#000000\" fill-rule=\"nonzero\" fill-opacity=\"1\" /><path clip-path=\"url(#clip830)\" d=\"M1180.33 1168.9 L1180.33 1187.81 L1174.44 1187.81 L1174.44 1138.6 L1180.33 1138.6 L1180.33 1144.01 Q1182.17 1140.83 1184.97 1139.3 Q1187.81 1137.74 1191.72 1137.74 Q1198.21 1137.74 1202.26 1142.9 Q1206.33 1148.06 1206.33 1156.46 Q1206.33 1164.86 1202.26 1170.02 Q1198.21 1175.17 1191.72 1175.17 Q1187.81 1175.17 1184.97 1173.65 Q1182.17 1172.09 1180.33 1168.9 M1200.25 1156.46 Q1200.25 1150 1197.58 1146.34 Q1194.94 1142.65 1190.29 1142.65 Q1185.64 1142.65 1182.97 1146.34 Q1180.33 1150 1180.33 1156.46 Q1180.33 1162.92 1182.97 1166.61 Q1185.64 1170.27 1190.29 1170.27 Q1194.94 1170.27 1197.58 1166.61 Q1200.25 1162.92 1200.25 1156.46 Z\" fill=\"#000000\" fill-rule=\"nonzero\" fill-opacity=\"1\" /><polyline clip-path=\"url(#clip832)\" style=\"stroke:#000000; stroke-linecap:round; stroke-linejoin:round; stroke-width:2; stroke-opacity:0.1; fill:none\" points=\"326.002,1007.42 1952.76,1007.42 \"/>\n",
       "<polyline clip-path=\"url(#clip832)\" style=\"stroke:#000000; stroke-linecap:round; stroke-linejoin:round; stroke-width:2; stroke-opacity:0.1; fill:none\" points=\"326.002,802.682 1952.76,802.682 \"/>\n",
       "<polyline clip-path=\"url(#clip832)\" style=\"stroke:#000000; stroke-linecap:round; stroke-linejoin:round; stroke-width:2; stroke-opacity:0.1; fill:none\" points=\"326.002,597.942 1952.76,597.942 \"/>\n",
       "<polyline clip-path=\"url(#clip832)\" style=\"stroke:#000000; stroke-linecap:round; stroke-linejoin:round; stroke-width:2; stroke-opacity:0.1; fill:none\" points=\"326.002,393.202 1952.76,393.202 \"/>\n",
       "<polyline clip-path=\"url(#clip832)\" style=\"stroke:#000000; stroke-linecap:round; stroke-linejoin:round; stroke-width:2; stroke-opacity:0.1; fill:none\" points=\"326.002,188.462 1952.76,188.462 \"/>\n",
       "<polyline clip-path=\"url(#clip830)\" style=\"stroke:#000000; stroke-linecap:round; stroke-linejoin:round; stroke-width:4; stroke-opacity:1; fill:none\" points=\"326.002,1035.39 326.002,47.2441 \"/>\n",
       "<polyline clip-path=\"url(#clip830)\" style=\"stroke:#000000; stroke-linecap:round; stroke-linejoin:round; stroke-width:4; stroke-opacity:1; fill:none\" points=\"326.002,1007.42 344.899,1007.42 \"/>\n",
       "<polyline clip-path=\"url(#clip830)\" style=\"stroke:#000000; stroke-linecap:round; stroke-linejoin:round; stroke-width:4; stroke-opacity:1; fill:none\" points=\"326.002,802.682 344.899,802.682 \"/>\n",
       "<polyline clip-path=\"url(#clip830)\" style=\"stroke:#000000; stroke-linecap:round; stroke-linejoin:round; stroke-width:4; stroke-opacity:1; fill:none\" points=\"326.002,597.942 344.899,597.942 \"/>\n",
       "<polyline clip-path=\"url(#clip830)\" style=\"stroke:#000000; stroke-linecap:round; stroke-linejoin:round; stroke-width:4; stroke-opacity:1; fill:none\" points=\"326.002,393.202 344.899,393.202 \"/>\n",
       "<polyline clip-path=\"url(#clip830)\" style=\"stroke:#000000; stroke-linecap:round; stroke-linejoin:round; stroke-width:4; stroke-opacity:1; fill:none\" points=\"326.002,188.462 344.899,188.462 \"/>\n",
       "<path clip-path=\"url(#clip830)\" d=\"M284.057 993.22 Q280.446 993.22 278.617 996.785 Q276.812 1000.33 276.812 1007.46 Q276.812 1014.56 278.617 1018.13 Q280.446 1021.67 284.057 1021.67 Q287.691 1021.67 289.497 1018.13 Q291.326 1014.56 291.326 1007.46 Q291.326 1000.33 289.497 996.785 Q287.691 993.22 284.057 993.22 M284.057 989.517 Q289.867 989.517 292.923 994.123 Q296.002 998.706 296.002 1007.46 Q296.002 1016.18 292.923 1020.79 Q289.867 1025.37 284.057 1025.37 Q278.247 1025.37 275.168 1020.79 Q272.113 1016.18 272.113 1007.46 Q272.113 998.706 275.168 994.123 Q278.247 989.517 284.057 989.517 Z\" fill=\"#000000\" fill-rule=\"nonzero\" fill-opacity=\"1\" /><path clip-path=\"url(#clip830)\" d=\"M55.5572 791.849 L73.9136 791.849 L73.9136 795.784 L59.8396 795.784 L59.8396 804.257 Q60.8581 803.909 61.8766 803.747 Q62.8951 803.562 63.9137 803.562 Q69.7007 803.562 73.0803 806.733 Q76.4599 809.905 76.4599 815.321 Q76.4599 820.9 72.9877 824.002 Q69.5155 827.08 63.1961 827.08 Q61.0202 827.08 58.7516 826.71 Q56.5063 826.34 54.0989 825.599 L54.0989 820.9 Q56.1822 822.034 58.4044 822.59 Q60.6266 823.145 63.1035 823.145 Q67.1081 823.145 69.446 821.039 Q71.784 818.932 71.784 815.321 Q71.784 811.71 69.446 809.604 Q67.1081 807.497 63.1035 807.497 Q61.2285 807.497 59.3535 807.914 Q57.5017 808.331 55.5572 809.21 L55.5572 791.849 Z\" fill=\"#000000\" fill-rule=\"nonzero\" fill-opacity=\"1\" /><path clip-path=\"url(#clip830)\" d=\"M85.6728 820.53 L90.557 820.53 L90.557 826.409 L85.6728 826.409 L85.6728 820.53 Z\" fill=\"#000000\" fill-rule=\"nonzero\" fill-opacity=\"1\" /><path clip-path=\"url(#clip830)\" d=\"M110.742 794.928 Q107.131 794.928 105.302 798.493 Q103.497 802.034 103.497 809.164 Q103.497 816.27 105.302 819.835 Q107.131 823.377 110.742 823.377 Q114.376 823.377 116.182 819.835 Q118.011 816.27 118.011 809.164 Q118.011 802.034 116.182 798.493 Q114.376 794.928 110.742 794.928 M110.742 791.224 Q116.552 791.224 119.608 795.831 Q122.686 800.414 122.686 809.164 Q122.686 817.891 119.608 822.497 Q116.552 827.08 110.742 827.08 Q104.932 827.08 101.853 822.497 Q98.7977 817.891 98.7977 809.164 Q98.7977 800.414 101.853 795.831 Q104.932 791.224 110.742 791.224 Z\" fill=\"#000000\" fill-rule=\"nonzero\" fill-opacity=\"1\" /><path clip-path=\"url(#clip830)\" d=\"M140.904 794.928 Q137.293 794.928 135.464 798.493 Q133.659 802.034 133.659 809.164 Q133.659 816.27 135.464 819.835 Q137.293 823.377 140.904 823.377 Q144.538 823.377 146.344 819.835 Q148.172 816.27 148.172 809.164 Q148.172 802.034 146.344 798.493 Q144.538 794.928 140.904 794.928 M140.904 791.224 Q146.714 791.224 149.77 795.831 Q152.848 800.414 152.848 809.164 Q152.848 817.891 149.77 822.497 Q146.714 827.08 140.904 827.08 Q135.094 827.08 132.015 822.497 Q128.96 817.891 128.96 809.164 Q128.96 800.414 132.015 795.831 Q135.094 791.224 140.904 791.224 Z\" fill=\"#000000\" fill-rule=\"nonzero\" fill-opacity=\"1\" /><path clip-path=\"url(#clip830)\" d=\"M189.237 800.946 L178.658 811.571 L189.237 822.15 L186.482 824.951 L175.857 814.326 L165.233 824.951 L162.501 822.15 L173.057 811.571 L162.501 800.946 L165.233 798.145 L175.857 808.77 L186.482 798.145 L189.237 800.946 Z\" fill=\"#000000\" fill-rule=\"nonzero\" fill-opacity=\"1\" /><path clip-path=\"url(#clip830)\" d=\"M201.598 822.474 L209.237 822.474 L209.237 796.108 L200.927 797.775 L200.927 793.516 L209.191 791.849 L213.867 791.849 L213.867 822.474 L221.505 822.474 L221.505 826.409 L201.598 826.409 L201.598 822.474 Z\" fill=\"#000000\" fill-rule=\"nonzero\" fill-opacity=\"1\" /><path clip-path=\"url(#clip830)\" d=\"M240.95 794.928 Q237.339 794.928 235.51 798.493 Q233.704 802.034 233.704 809.164 Q233.704 816.27 235.51 819.835 Q237.339 823.377 240.95 823.377 Q244.584 823.377 246.39 819.835 Q248.218 816.27 248.218 809.164 Q248.218 802.034 246.39 798.493 Q244.584 794.928 240.95 794.928 M240.95 791.224 Q246.76 791.224 249.815 795.831 Q252.894 800.414 252.894 809.164 Q252.894 817.891 249.815 822.497 Q246.76 827.08 240.95 827.08 Q235.14 827.08 232.061 822.497 Q229.005 817.891 229.005 809.164 Q229.005 800.414 232.061 795.831 Q235.14 791.224 240.95 791.224 Z\" fill=\"#000000\" fill-rule=\"nonzero\" fill-opacity=\"1\" /><path clip-path=\"url(#clip830)\" d=\"M257.464 795.801 L270.724 795.801 L270.724 798.999 L252.894 798.999 L252.894 795.801 Q255.057 793.563 258.781 789.802 Q262.524 786.021 263.483 784.931 Q265.307 782.881 266.022 781.47 Q266.755 780.041 266.755 778.668 Q266.755 776.429 265.176 775.019 Q263.615 773.608 261.094 773.608 Q259.308 773.608 257.314 774.229 Q255.339 774.85 253.082 776.11 L253.082 772.273 Q255.377 771.351 257.37 770.881 Q259.364 770.411 261.019 770.411 Q265.382 770.411 267.978 772.593 Q270.573 774.774 270.573 778.423 Q270.573 780.153 269.915 781.714 Q269.276 783.257 267.564 785.363 Q267.094 785.909 264.574 788.523 Q262.054 791.118 257.464 795.801 Z\" fill=\"#000000\" fill-rule=\"nonzero\" fill-opacity=\"1\" /><path clip-path=\"url(#clip830)\" d=\"M290.209 783.859 Q292.936 784.442 294.459 786.285 Q296.002 788.128 296.002 790.836 Q296.002 794.993 293.143 797.268 Q290.284 799.544 285.018 799.544 Q283.25 799.544 281.369 799.187 Q279.507 798.848 277.513 798.152 L277.513 794.485 Q279.093 795.407 280.974 795.877 Q282.855 796.347 284.905 796.347 Q288.478 796.347 290.34 794.936 Q292.221 793.526 292.221 790.836 Q292.221 788.354 290.472 786.962 Q288.742 785.551 285.638 785.551 L282.366 785.551 L282.366 782.429 L285.789 782.429 Q288.591 782.429 290.077 781.319 Q291.563 780.191 291.563 778.085 Q291.563 775.922 290.021 774.774 Q288.497 773.608 285.638 773.608 Q284.077 773.608 282.291 773.947 Q280.504 774.285 278.36 775 L278.36 771.615 Q280.523 771.013 282.404 770.712 Q284.303 770.411 285.977 770.411 Q290.303 770.411 292.823 772.386 Q295.343 774.342 295.343 777.69 Q295.343 780.022 294.008 781.639 Q292.673 783.238 290.209 783.859 Z\" fill=\"#000000\" fill-rule=\"nonzero\" fill-opacity=\"1\" /><path clip-path=\"url(#clip830)\" d=\"M55.3995 617.734 L63.0384 617.734 L63.0384 591.369 L54.7282 593.035 L54.7282 588.776 L62.9921 587.109 L67.668 587.109 L67.668 617.734 L75.3068 617.734 L75.3068 621.669 L55.3995 621.669 L55.3995 617.734 Z\" fill=\"#000000\" fill-rule=\"nonzero\" fill-opacity=\"1\" /><path clip-path=\"url(#clip830)\" d=\"M84.7512 615.79 L89.6354 615.79 L89.6354 621.669 L84.7512 621.669 L84.7512 615.79 Z\" fill=\"#000000\" fill-rule=\"nonzero\" fill-opacity=\"1\" /><path clip-path=\"url(#clip830)\" d=\"M109.821 590.188 Q106.209 590.188 104.381 593.753 Q102.575 597.294 102.575 604.424 Q102.575 611.53 104.381 615.095 Q106.209 618.637 109.821 618.637 Q113.455 618.637 115.26 615.095 Q117.089 611.53 117.089 604.424 Q117.089 597.294 115.26 593.753 Q113.455 590.188 109.821 590.188 M109.821 586.484 Q115.631 586.484 118.686 591.091 Q121.765 595.674 121.765 604.424 Q121.765 613.151 118.686 617.757 Q115.631 622.341 109.821 622.341 Q104.01 622.341 100.932 617.757 Q97.8761 613.151 97.8761 604.424 Q97.8761 595.674 100.932 591.091 Q104.01 586.484 109.821 586.484 Z\" fill=\"#000000\" fill-rule=\"nonzero\" fill-opacity=\"1\" /><path clip-path=\"url(#clip830)\" d=\"M139.982 590.188 Q136.371 590.188 134.543 593.753 Q132.737 597.294 132.737 604.424 Q132.737 611.53 134.543 615.095 Q136.371 618.637 139.982 618.637 Q143.617 618.637 145.422 615.095 Q147.251 611.53 147.251 604.424 Q147.251 597.294 145.422 593.753 Q143.617 590.188 139.982 590.188 M139.982 586.484 Q145.793 586.484 148.848 591.091 Q151.927 595.674 151.927 604.424 Q151.927 613.151 148.848 617.757 Q145.793 622.341 139.982 622.341 Q134.172 622.341 131.094 617.757 Q128.038 613.151 128.038 604.424 Q128.038 595.674 131.094 591.091 Q134.172 586.484 139.982 586.484 Z\" fill=\"#000000\" fill-rule=\"nonzero\" fill-opacity=\"1\" /><path clip-path=\"url(#clip830)\" d=\"M188.315 596.206 L177.737 606.831 L188.315 617.41 L185.561 620.211 L174.936 609.586 L164.311 620.211 L161.58 617.41 L172.135 606.831 L161.58 596.206 L164.311 593.406 L174.936 604.03 L185.561 593.406 L188.315 596.206 Z\" fill=\"#000000\" fill-rule=\"nonzero\" fill-opacity=\"1\" /><path clip-path=\"url(#clip830)\" d=\"M200.677 617.734 L208.315 617.734 L208.315 591.369 L200.005 593.035 L200.005 588.776 L208.269 587.109 L212.945 587.109 L212.945 617.734 L220.584 617.734 L220.584 621.669 L200.677 621.669 L200.677 617.734 Z\" fill=\"#000000\" fill-rule=\"nonzero\" fill-opacity=\"1\" /><path clip-path=\"url(#clip830)\" d=\"M240.028 590.188 Q236.417 590.188 234.588 593.753 Q232.783 597.294 232.783 604.424 Q232.783 611.53 234.588 615.095 Q236.417 618.637 240.028 618.637 Q243.662 618.637 245.468 615.095 Q247.297 611.53 247.297 604.424 Q247.297 597.294 245.468 593.753 Q243.662 590.188 240.028 590.188 M240.028 586.484 Q245.838 586.484 248.894 591.091 Q251.973 595.674 251.973 604.424 Q251.973 613.151 248.894 617.757 Q245.838 622.341 240.028 622.341 Q234.218 622.341 231.139 617.757 Q228.084 613.151 228.084 604.424 Q228.084 595.674 231.139 591.091 Q234.218 586.484 240.028 586.484 Z\" fill=\"#000000\" fill-rule=\"nonzero\" fill-opacity=\"1\" /><path clip-path=\"url(#clip830)\" d=\"M256.543 591.062 L269.802 591.062 L269.802 594.259 L251.973 594.259 L251.973 591.062 Q254.135 588.823 257.859 585.062 Q261.602 581.282 262.561 580.191 Q264.386 578.141 265.1 576.73 Q265.834 575.301 265.834 573.928 Q265.834 571.69 264.254 570.279 Q262.693 568.868 260.173 568.868 Q258.386 568.868 256.392 569.489 Q254.418 570.11 252.161 571.37 L252.161 567.533 Q254.455 566.611 256.449 566.141 Q258.442 565.671 260.097 565.671 Q264.461 565.671 267.056 567.853 Q269.652 570.034 269.652 573.683 Q269.652 575.413 268.994 576.975 Q268.354 578.517 266.643 580.623 Q266.172 581.169 263.652 583.783 Q261.132 586.378 256.543 591.062 Z\" fill=\"#000000\" fill-rule=\"nonzero\" fill-opacity=\"1\" /><path clip-path=\"url(#clip830)\" d=\"M288.215 569.489 L278.623 584.479 L288.215 584.479 L288.215 569.489 M287.218 566.179 L291.995 566.179 L291.995 584.479 L296.002 584.479 L296.002 587.639 L291.995 587.639 L291.995 594.259 L288.215 594.259 L288.215 587.639 L275.539 587.639 L275.539 583.971 L287.218 566.179 Z\" fill=\"#000000\" fill-rule=\"nonzero\" fill-opacity=\"1\" /><path clip-path=\"url(#clip830)\" d=\"M55.3995 412.994 L63.0384 412.994 L63.0384 386.629 L54.7282 388.295 L54.7282 384.036 L62.9921 382.369 L67.668 382.369 L67.668 412.994 L75.3068 412.994 L75.3068 416.929 L55.3995 416.929 L55.3995 412.994 Z\" fill=\"#000000\" fill-rule=\"nonzero\" fill-opacity=\"1\" /><path clip-path=\"url(#clip830)\" d=\"M84.7512 411.05 L89.6354 411.05 L89.6354 416.929 L84.7512 416.929 L84.7512 411.05 Z\" fill=\"#000000\" fill-rule=\"nonzero\" fill-opacity=\"1\" /><path clip-path=\"url(#clip830)\" d=\"M99.8669 382.369 L118.223 382.369 L118.223 386.305 L104.149 386.305 L104.149 394.777 Q105.168 394.429 106.186 394.267 Q107.205 394.082 108.223 394.082 Q114.01 394.082 117.39 397.254 Q120.77 400.425 120.77 405.841 Q120.77 411.42 117.297 414.522 Q113.825 417.601 107.506 417.601 Q105.33 417.601 103.061 417.23 Q100.816 416.86 98.4085 416.119 L98.4085 411.42 Q100.492 412.554 102.714 413.11 Q104.936 413.665 107.413 413.665 Q111.418 413.665 113.756 411.559 Q116.094 409.453 116.094 405.841 Q116.094 402.23 113.756 400.124 Q111.418 398.017 107.413 398.017 Q105.538 398.017 103.663 398.434 Q101.811 398.851 99.8669 399.73 L99.8669 382.369 Z\" fill=\"#000000\" fill-rule=\"nonzero\" fill-opacity=\"1\" /><path clip-path=\"url(#clip830)\" d=\"M139.982 385.448 Q136.371 385.448 134.543 389.013 Q132.737 392.554 132.737 399.684 Q132.737 406.791 134.543 410.355 Q136.371 413.897 139.982 413.897 Q143.617 413.897 145.422 410.355 Q147.251 406.791 147.251 399.684 Q147.251 392.554 145.422 389.013 Q143.617 385.448 139.982 385.448 M139.982 381.744 Q145.793 381.744 148.848 386.351 Q151.927 390.934 151.927 399.684 Q151.927 408.411 148.848 413.017 Q145.793 417.601 139.982 417.601 Q134.172 417.601 131.094 413.017 Q128.038 408.411 128.038 399.684 Q128.038 390.934 131.094 386.351 Q134.172 381.744 139.982 381.744 Z\" fill=\"#000000\" fill-rule=\"nonzero\" fill-opacity=\"1\" /><path clip-path=\"url(#clip830)\" d=\"M188.315 391.467 L177.737 402.091 L188.315 412.67 L185.561 415.471 L174.936 404.846 L164.311 415.471 L161.58 412.67 L172.135 402.091 L161.58 391.467 L164.311 388.666 L174.936 399.291 L185.561 388.666 L188.315 391.467 Z\" fill=\"#000000\" fill-rule=\"nonzero\" fill-opacity=\"1\" /><path clip-path=\"url(#clip830)\" d=\"M200.677 412.994 L208.315 412.994 L208.315 386.629 L200.005 388.295 L200.005 384.036 L208.269 382.369 L212.945 382.369 L212.945 412.994 L220.584 412.994 L220.584 416.929 L200.677 416.929 L200.677 412.994 Z\" fill=\"#000000\" fill-rule=\"nonzero\" fill-opacity=\"1\" /><path clip-path=\"url(#clip830)\" d=\"M240.028 385.448 Q236.417 385.448 234.588 389.013 Q232.783 392.554 232.783 399.684 Q232.783 406.791 234.588 410.355 Q236.417 413.897 240.028 413.897 Q243.662 413.897 245.468 410.355 Q247.297 406.791 247.297 399.684 Q247.297 392.554 245.468 389.013 Q243.662 385.448 240.028 385.448 M240.028 381.744 Q245.838 381.744 248.894 386.351 Q251.973 390.934 251.973 399.684 Q251.973 408.411 248.894 413.017 Q245.838 417.601 240.028 417.601 Q234.218 417.601 231.139 413.017 Q228.084 408.411 228.084 399.684 Q228.084 390.934 231.139 386.351 Q234.218 381.744 240.028 381.744 Z\" fill=\"#000000\" fill-rule=\"nonzero\" fill-opacity=\"1\" /><path clip-path=\"url(#clip830)\" d=\"M256.543 386.322 L269.802 386.322 L269.802 389.519 L251.973 389.519 L251.973 386.322 Q254.135 384.084 257.859 380.322 Q261.602 376.542 262.561 375.451 Q264.386 373.401 265.1 371.99 Q265.834 370.561 265.834 369.188 Q265.834 366.95 264.254 365.539 Q262.693 364.128 260.173 364.128 Q258.386 364.128 256.392 364.749 Q254.418 365.37 252.161 366.63 L252.161 362.793 Q254.455 361.872 256.449 361.401 Q258.442 360.931 260.097 360.931 Q264.461 360.931 267.056 363.113 Q269.652 365.295 269.652 368.943 Q269.652 370.674 268.994 372.235 Q268.354 373.777 266.643 375.883 Q266.172 376.429 263.652 379.043 Q261.132 381.639 256.543 386.322 Z\" fill=\"#000000\" fill-rule=\"nonzero\" fill-opacity=\"1\" /><path clip-path=\"url(#clip830)\" d=\"M288.215 364.749 L278.623 379.739 L288.215 379.739 L288.215 364.749 M287.218 361.439 L291.995 361.439 L291.995 379.739 L296.002 379.739 L296.002 382.899 L291.995 382.899 L291.995 389.519 L288.215 389.519 L288.215 382.899 L275.539 382.899 L275.539 379.231 L287.218 361.439 Z\" fill=\"#000000\" fill-rule=\"nonzero\" fill-opacity=\"1\" /><path clip-path=\"url(#clip830)\" d=\"M58.6171 208.254 L74.9365 208.254 L74.9365 212.189 L52.9921 212.189 L52.9921 208.254 Q55.6541 205.5 60.2375 200.87 Q64.8439 196.217 66.0245 194.875 Q68.2698 192.352 69.1494 190.615 Q70.0522 188.856 70.0522 187.166 Q70.0522 184.412 68.1078 182.676 Q66.1865 180.94 63.0847 180.94 Q60.8856 180.94 58.4319 181.704 Q56.0014 182.467 53.2236 184.018 L53.2236 179.296 Q56.0477 178.162 58.5014 177.583 Q60.955 177.004 62.9921 177.004 Q68.3624 177.004 71.5568 179.69 Q74.7513 182.375 74.7513 186.866 Q74.7513 188.995 73.9411 190.916 Q73.1541 192.815 71.0476 195.407 Q70.4689 196.078 67.367 199.296 Q64.2652 202.49 58.6171 208.254 Z\" fill=\"#000000\" fill-rule=\"nonzero\" fill-opacity=\"1\" /><path clip-path=\"url(#clip830)\" d=\"M84.7512 206.31 L89.6354 206.31 L89.6354 212.189 L84.7512 212.189 L84.7512 206.31 Z\" fill=\"#000000\" fill-rule=\"nonzero\" fill-opacity=\"1\" /><path clip-path=\"url(#clip830)\" d=\"M109.821 180.708 Q106.209 180.708 104.381 184.273 Q102.575 187.815 102.575 194.944 Q102.575 202.051 104.381 205.615 Q106.209 209.157 109.821 209.157 Q113.455 209.157 115.26 205.615 Q117.089 202.051 117.089 194.944 Q117.089 187.815 115.26 184.273 Q113.455 180.708 109.821 180.708 M109.821 177.004 Q115.631 177.004 118.686 181.611 Q121.765 186.194 121.765 194.944 Q121.765 203.671 118.686 208.277 Q115.631 212.861 109.821 212.861 Q104.01 212.861 100.932 208.277 Q97.8761 203.671 97.8761 194.944 Q97.8761 186.194 100.932 181.611 Q104.01 177.004 109.821 177.004 Z\" fill=\"#000000\" fill-rule=\"nonzero\" fill-opacity=\"1\" /><path clip-path=\"url(#clip830)\" d=\"M139.982 180.708 Q136.371 180.708 134.543 184.273 Q132.737 187.815 132.737 194.944 Q132.737 202.051 134.543 205.615 Q136.371 209.157 139.982 209.157 Q143.617 209.157 145.422 205.615 Q147.251 202.051 147.251 194.944 Q147.251 187.815 145.422 184.273 Q143.617 180.708 139.982 180.708 M139.982 177.004 Q145.793 177.004 148.848 181.611 Q151.927 186.194 151.927 194.944 Q151.927 203.671 148.848 208.277 Q145.793 212.861 139.982 212.861 Q134.172 212.861 131.094 208.277 Q128.038 203.671 128.038 194.944 Q128.038 186.194 131.094 181.611 Q134.172 177.004 139.982 177.004 Z\" fill=\"#000000\" fill-rule=\"nonzero\" fill-opacity=\"1\" /><path clip-path=\"url(#clip830)\" d=\"M188.315 186.727 L177.737 197.352 L188.315 207.93 L185.561 210.731 L174.936 200.106 L164.311 210.731 L161.58 207.93 L172.135 197.352 L161.58 186.727 L164.311 183.926 L174.936 194.551 L185.561 183.926 L188.315 186.727 Z\" fill=\"#000000\" fill-rule=\"nonzero\" fill-opacity=\"1\" /><path clip-path=\"url(#clip830)\" d=\"M200.677 208.254 L208.315 208.254 L208.315 181.889 L200.005 183.555 L200.005 179.296 L208.269 177.629 L212.945 177.629 L212.945 208.254 L220.584 208.254 L220.584 212.189 L200.677 212.189 L200.677 208.254 Z\" fill=\"#000000\" fill-rule=\"nonzero\" fill-opacity=\"1\" /><path clip-path=\"url(#clip830)\" d=\"M240.028 180.708 Q236.417 180.708 234.588 184.273 Q232.783 187.815 232.783 194.944 Q232.783 202.051 234.588 205.615 Q236.417 209.157 240.028 209.157 Q243.662 209.157 245.468 205.615 Q247.297 202.051 247.297 194.944 Q247.297 187.815 245.468 184.273 Q243.662 180.708 240.028 180.708 M240.028 177.004 Q245.838 177.004 248.894 181.611 Q251.973 186.194 251.973 194.944 Q251.973 203.671 248.894 208.277 Q245.838 212.861 240.028 212.861 Q234.218 212.861 231.139 208.277 Q228.084 203.671 228.084 194.944 Q228.084 186.194 231.139 181.611 Q234.218 177.004 240.028 177.004 Z\" fill=\"#000000\" fill-rule=\"nonzero\" fill-opacity=\"1\" /><path clip-path=\"url(#clip830)\" d=\"M256.543 181.582 L269.802 181.582 L269.802 184.779 L251.973 184.779 L251.973 181.582 Q254.135 179.344 257.859 175.582 Q261.602 171.802 262.561 170.711 Q264.386 168.661 265.1 167.25 Q265.834 165.821 265.834 164.448 Q265.834 162.21 264.254 160.799 Q262.693 159.389 260.173 159.389 Q258.386 159.389 256.392 160.009 Q254.418 160.63 252.161 161.89 L252.161 158.053 Q254.455 157.132 256.449 156.661 Q258.442 156.191 260.097 156.191 Q264.461 156.191 267.056 158.373 Q269.652 160.555 269.652 164.203 Q269.652 165.934 268.994 167.495 Q268.354 169.037 266.643 171.143 Q266.172 171.689 263.652 174.303 Q261.132 176.899 256.543 181.582 Z\" fill=\"#000000\" fill-rule=\"nonzero\" fill-opacity=\"1\" /><path clip-path=\"url(#clip830)\" d=\"M288.215 160.009 L278.623 174.999 L288.215 174.999 L288.215 160.009 M287.218 156.699 L291.995 156.699 L291.995 174.999 L296.002 174.999 L296.002 178.159 L291.995 178.159 L291.995 184.779 L288.215 184.779 L288.215 178.159 L275.539 178.159 L275.539 174.491 L287.218 156.699 Z\" fill=\"#000000\" fill-rule=\"nonzero\" fill-opacity=\"1\" /><polyline clip-path=\"url(#clip832)\" style=\"stroke:#009af9; stroke-linecap:round; stroke-linejoin:round; stroke-width:4; stroke-opacity:1; fill:none\" points=\"372.042,1007.42 403.362,1007.42 434.682,1007.42 466.001,1007.42 497.321,1007.42 528.641,1007.42 559.961,1007.42 591.281,1007.42 622.601,1007.42 653.921,1007.42 685.241,1007.42 716.56,1007.42 747.88,1007.22 779.2,1006.53 810.52,1006.08 841.84,1006.61 873.16,994.348 904.48,1007.41 935.8,1007.25 967.119,1007.41 998.439,1007.38 1029.76,1007.29 1061.08,1001.18 1092.4,699.449 1123.72,990.719 1155.04,998.666 1186.36,996.697 1217.68,1006.84 1249,996.652 1280.32,1004.13 1311.64,998.44 1342.96,1005.92 1374.28,998.156 1405.6,1007.2 1436.92,1000.28 1468.24,996.151 1499.56,846.528 1530.88,75.2104 1562.2,1007.37 1593.52,1007.38 1624.84,1007.39 1656.16,1006.66 1687.48,984.41 1718.8,979.513 1750.12,1004.01 1781.44,997.543 1812.76,1007.31 1844.08,1006.88 1875.4,1005.27 1906.72,1006.91 \"/>\n",
       "<polyline clip-path=\"url(#clip832)\" style=\"stroke:#e26f46; stroke-linecap:round; stroke-linejoin:round; stroke-width:4; stroke-opacity:1; fill:none\" points=\"372.042,1007.42 403.362,1007.42 434.682,1007.42 466.001,1007.42 497.321,1007.42 528.641,1007.42 559.961,1007.42 591.281,1007.42 622.601,1007.42 653.921,1007.42 685.241,1007.42 716.56,1007.42 747.88,1007.42 779.2,1007.42 810.52,1007.42 841.84,1007.42 873.16,1007.42 904.48,1007.42 935.8,1007.42 967.119,1007.42 998.439,1007.42 1029.76,1007.42 1061.08,1007.42 1092.4,1007.42 1123.72,1007.42 1155.04,1007.42 1186.36,1007.42 1217.68,1007.42 1249,1007.42 1280.32,1007.42 1311.64,1007.42 1342.96,1007.42 1374.28,1007.42 1405.6,1007.42 1436.92,1007.42 1468.24,1007.42 1499.56,1007.42 1530.88,1007.42 1562.2,1007.42 1593.52,1007.42 1624.84,1007.42 1656.16,1007.42 1687.48,1007.42 1718.8,1007.42 1750.12,1007.42 1781.44,1007.42 1812.76,1007.42 1844.08,1007.42 1875.4,1007.42 1906.72,1007.42 \"/>\n",
       "<path clip-path=\"url(#clip830)\" d=\"M1660.52 285.213 L1898.53 285.213 L1898.53 80.1822 L1660.52 80.1822  Z\" fill=\"#ffffff\" fill-rule=\"evenodd\" fill-opacity=\"1\"/>\n",
       "<polyline clip-path=\"url(#clip830)\" style=\"stroke:#000000; stroke-linecap:round; stroke-linejoin:round; stroke-width:4; stroke-opacity:1; fill:none\" points=\"1660.52,285.213 1898.53,285.213 1898.53,80.1822 1660.52,80.1822 1660.52,285.213 \"/>\n",
       "<polyline clip-path=\"url(#clip830)\" style=\"stroke:#009af9; stroke-linecap:round; stroke-linejoin:round; stroke-width:5; stroke-opacity:1; fill:none\" points=\"1678.6,148.526 1787.05,148.526 \"/>\n",
       "<path clip-path=\"url(#clip830)\" d=\"M1829.54 138.71 Q1829.54 140.262 1828.51 141.257 Q1827.52 142.252 1826.23 142.252 Q1825.12 142.252 1824.53 141.608 Q1823.95 140.964 1823.95 140.144 Q1823.95 138.973 1824.85 138.007 Q1825.76 137.041 1827.08 136.836 Q1826.11 136.133 1824.56 136.133 Q1822.01 136.133 1819.76 138.095 Q1818.76 139.003 1817.68 140.671 Q1816.6 142.311 1816.39 143.014 L1814.49 150.831 Q1814.31 151.709 1813.23 155.925 Q1812.18 160.112 1812.09 160.288 Q1811.8 161.107 1811.15 161.547 Q1810.51 161.986 1809.86 161.986 Q1809.13 161.986 1808.63 161.547 Q1808.14 161.107 1808.14 160.346 Q1808.14 160.229 1808.22 159.79 Q1808.31 159.351 1808.46 158.736 Q1808.6 158.121 1808.66 157.77 L1812.15 143.921 Q1812.79 141.403 1812.94 140.613 Q1813.11 139.793 1813.11 138.885 Q1813.11 137.304 1812.62 136.719 Q1812.12 136.133 1811.24 136.133 Q1809.72 136.133 1808.72 137.949 Q1807.73 139.764 1806.88 143.277 Q1806.61 144.243 1806.44 144.448 Q1806.29 144.653 1805.85 144.653 Q1805.12 144.624 1805.12 144.038 Q1805.12 143.892 1805.35 142.955 Q1805.59 141.989 1806.03 140.584 Q1806.5 139.149 1806.99 138.241 Q1807.29 137.626 1807.55 137.217 Q1807.81 136.807 1808.34 136.163 Q1808.87 135.518 1809.66 135.167 Q1810.45 134.816 1811.42 134.816 Q1813.52 134.816 1815.02 136.104 Q1816.54 137.392 1816.89 139.412 Q1817.62 138.358 1818.53 137.451 Q1819.44 136.514 1821.11 135.665 Q1822.78 134.816 1824.56 134.816 Q1826.79 134.816 1828.16 135.958 Q1829.54 137.07 1829.54 138.71 Z\" fill=\"#000000\" fill-rule=\"nonzero\" fill-opacity=\"1\" /><polyline clip-path=\"url(#clip830)\" style=\"stroke:#e26f46; stroke-linecap:round; stroke-linejoin:round; stroke-width:5; stroke-opacity:1; fill:none\" points=\"1678.6,216.87 1787.05,216.87 \"/>\n",
       "<path clip-path=\"url(#clip830)\" d=\"M1846.26 224.01 Q1846.26 224.567 1846.02 224.86 Q1845.82 225.123 1845.61 225.182 Q1845.44 225.211 1845.17 225.211 Q1844.41 225.211 1841.78 225.123 Q1839.14 225.035 1838.38 225.035 Q1837.15 225.035 1834.63 225.123 Q1832.11 225.211 1830.89 225.211 Q1830.07 225.211 1830.07 224.537 Q1830.07 224.098 1830.15 223.864 Q1830.24 223.601 1830.48 223.513 Q1830.74 223.396 1830.89 223.396 Q1831.06 223.366 1831.5 223.366 Q1832.09 223.366 1832.7 223.308 Q1833.32 223.22 1834.08 223.044 Q1834.84 222.869 1835.31 222.429 Q1835.8 221.99 1835.8 221.375 Q1835.8 221.112 1835.6 218.945 Q1835.39 216.779 1835.13 214.261 Q1834.87 211.714 1834.84 211.362 L1819.79 211.362 Q1818.41 213.734 1817.45 215.373 Q1816.48 217.013 1816.13 217.569 Q1815.78 218.126 1815.57 218.477 Q1815.37 218.828 1815.25 219.033 Q1814.4 220.585 1814.4 221.258 Q1814.4 223.132 1817.21 223.366 Q1818.18 223.366 1818.18 224.069 Q1818.18 224.596 1817.94 224.889 Q1817.71 225.152 1817.51 225.182 Q1817.33 225.211 1817.04 225.211 Q1816.07 225.211 1814.05 225.123 Q1812.03 225.035 1811.03 225.035 Q1810.19 225.035 1808.43 225.123 Q1806.67 225.211 1805.88 225.211 Q1805.53 225.211 1805.33 225.006 Q1805.12 224.801 1805.12 224.537 Q1805.12 224.128 1805.18 223.893 Q1805.27 223.659 1805.5 223.542 Q1805.74 223.425 1805.85 223.425 Q1805.97 223.396 1806.38 223.366 Q1808.6 223.22 1810.33 222.166 Q1812.09 221.083 1813.76 218.301 L1834.6 183.285 Q1834.81 182.933 1834.95 182.758 Q1835.1 182.582 1835.39 182.436 Q1835.72 182.289 1836.18 182.289 Q1836.92 182.289 1837.06 182.523 Q1837.21 182.728 1837.3 183.724 L1840.96 221.2 Q1841.04 221.99 1841.1 222.312 Q1841.19 222.605 1841.57 222.927 Q1841.98 223.22 1842.71 223.308 Q1843.47 223.366 1844.88 223.366 Q1845.41 223.366 1845.61 223.396 Q1845.82 223.396 1846.02 223.542 Q1846.26 223.688 1846.26 224.01 M1834.66 209.489 L1832.76 189.726 L1820.93 209.489 L1834.66 209.489 Z\" fill=\"#000000\" fill-rule=\"nonzero\" fill-opacity=\"1\" /><path clip-path=\"url(#clip830)\" d=\"M1874.27 231.514 Q1874.27 233.584 1873.21 235.654 Q1872.14 237.724 1870.4 239.322 Q1868.66 240.9 1866.28 241.925 Q1863.9 242.95 1861.42 243.032 L1859.83 249.283 Q1859.52 250.799 1859.35 250.963 Q1859.19 251.127 1858.94 251.127 Q1858.43 251.127 1858.43 250.656 Q1858.43 250.512 1859.35 246.967 L1860.34 243.032 Q1856.61 242.827 1854.44 240.675 Q1852.26 238.523 1852.26 235.428 Q1852.26 233.338 1853.33 231.268 Q1854.41 229.177 1856.16 227.599 Q1857.92 226.021 1860.3 225.017 Q1862.67 224.013 1865.11 223.931 L1867.55 214.237 Q1867.67 213.684 1867.78 213.54 Q1867.88 213.397 1868.19 213.397 Q1868.41 213.397 1868.54 213.499 Q1868.66 213.602 1868.66 213.704 L1868.68 213.806 L1868.56 214.401 L1866.2 223.931 Q1868.29 224.074 1869.91 224.812 Q1871.53 225.55 1872.45 226.657 Q1873.37 227.743 1873.82 228.973 Q1874.27 230.202 1874.27 231.514 M1864.87 224.853 Q1862.61 225.058 1860.71 226.165 Q1858.8 227.271 1857.57 228.911 Q1856.34 230.53 1855.66 232.477 Q1854.99 234.404 1854.99 236.31 Q1854.99 237.806 1855.48 238.953 Q1855.99 240.101 1856.83 240.757 Q1857.67 241.392 1858.6 241.741 Q1859.54 242.069 1860.54 242.11 L1864.87 224.853 M1871.53 230.633 Q1871.53 227.968 1869.99 226.472 Q1868.45 224.976 1865.95 224.853 L1861.63 242.11 Q1863.45 241.966 1865.05 241.208 Q1866.67 240.429 1867.84 239.281 Q1869.01 238.113 1869.85 236.678 Q1870.69 235.223 1871.1 233.686 Q1871.53 232.129 1871.53 230.633 Z\" fill=\"#000000\" fill-rule=\"nonzero\" fill-opacity=\"1\" /></svg>\n"
      ],
      "text/html": [
       "<img src=\"data:image/png;base64,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\" />"
      ]
     },
     "execution_count": 14,
     "metadata": {},
     "output_type": "execute_result"
    }
   ],
   "source": [
    "plot(chain_mchmc[:r], label=L\"r\", xlabel=\"step\")\n",
    "plot!(chain_mchmc[:Aϕ], label=L\"A_\\phi\")"
   ]
  },
  {
   "cell_type": "code",
   "execution_count": 15,
   "id": "b94d66c5",
   "metadata": {
    "tags": []
   },
   "outputs": [
    {
     "name": "stderr",
     "output_type": "stream",
     "text": [
      "\u001b[33m\u001b[1m┌ \u001b[22m\u001b[39m\u001b[33m\u001b[1mWarning: \u001b[22m\u001b[39mNo strict ticks found\n",
      "\u001b[33m\u001b[1m└ \u001b[22m\u001b[39m\u001b[90m@ PlotUtils ~/.julia/packages/PlotUtils/jEGKP/src/ticks.jl:191\u001b[39m\n",
      "\u001b[33m\u001b[1m┌ \u001b[22m\u001b[39m\u001b[33m\u001b[1mWarning: \u001b[22m\u001b[39mNo strict ticks found\n",
      "\u001b[33m\u001b[1m└ \u001b[22m\u001b[39m\u001b[90m@ PlotUtils ~/.julia/packages/PlotUtils/jEGKP/src/ticks.jl:191\u001b[39m\n"
     ]
    },
    {
     "data": {
      "image/png": "[encoded data removed]",
      "image/svg+xml": [
       "<?xml version=\"1.0\" encoding=\"utf-8\"?>\n",
       "<svg xmlns=\"http://www.w3.org/2000/svg\" xmlns:xlink=\"http://www.w3.org/1999/xlink\" width=\"500\" height=\"300\" viewBox=\"0 0 2000 1200\">\n",
       "<defs>\n",
       "  <clipPath id=\"clip890\">\n",
       "    <rect x=\"0\" y=\"0\" width=\"2000\" height=\"1200\"/>\n",
       "  </clipPath>\n",
       "</defs>\n",
       "<path clip-path=\"url(#clip890)\" d=\"M0 1200 L2000 1200 L2000 0 L0 0  Z\" fill=\"#ffffff\" fill-rule=\"evenodd\" fill-opacity=\"1\"/>\n",
       "<defs>\n",
       "  <clipPath id=\"clip891\">\n",
       "    <rect x=\"400\" y=\"0\" width=\"1401\" height=\"1200\"/>\n",
       "  </clipPath>\n",
       "</defs>\n",
       "<path clip-path=\"url(#clip890)\" d=\"M283.961 1024.33 L1752.76 1024.33 L1752.76 117.424 L283.961 117.424  Z\" fill=\"#ffffff\" fill-rule=\"evenodd\" fill-opacity=\"1\"/>\n",
       "<defs>\n",
       "  <clipPath id=\"clip892\">\n",
       "    <rect x=\"283\" y=\"117\" width=\"1470\" height=\"908\"/>\n",
       "  </clipPath>\n",
       "</defs>\n",
       "<polyline clip-path=\"url(#clip892)\" style=\"stroke:#000000; stroke-linecap:round; stroke-linejoin:round; stroke-width:2; stroke-opacity:0.1; fill:none\" points=\"283.961,1024.33 283.961,117.424 \"/>\n",
       "<polyline clip-path=\"url(#clip892)\" style=\"stroke:#000000; stroke-linecap:round; stroke-linejoin:round; stroke-width:2; stroke-opacity:0.1; fill:none\" points=\"603.264,1024.33 603.264,117.424 \"/>\n",
       "<polyline clip-path=\"url(#clip892)\" style=\"stroke:#000000; stroke-linecap:round; stroke-linejoin:round; stroke-width:2; stroke-opacity:0.1; fill:none\" points=\"922.568,1024.33 922.568,117.424 \"/>\n",
       "<polyline clip-path=\"url(#clip892)\" style=\"stroke:#000000; stroke-linecap:round; stroke-linejoin:round; stroke-width:2; stroke-opacity:0.1; fill:none\" points=\"1241.87,1024.33 1241.87,117.424 \"/>\n",
       "<polyline clip-path=\"url(#clip892)\" style=\"stroke:#000000; stroke-linecap:round; stroke-linejoin:round; stroke-width:2; stroke-opacity:0.1; fill:none\" points=\"1561.17,1024.33 1561.17,117.424 \"/>\n",
       "<polyline clip-path=\"url(#clip890)\" style=\"stroke:#000000; stroke-linecap:round; stroke-linejoin:round; stroke-width:4; stroke-opacity:1; fill:none\" points=\"283.961,1024.33 1752.76,1024.33 \"/>\n",
       "<polyline clip-path=\"url(#clip890)\" style=\"stroke:#000000; stroke-linecap:round; stroke-linejoin:round; stroke-width:4; stroke-opacity:1; fill:none\" points=\"283.961,1024.33 283.961,1005.44 \"/>\n",
       "<polyline clip-path=\"url(#clip890)\" style=\"stroke:#000000; stroke-linecap:round; stroke-linejoin:round; stroke-width:4; stroke-opacity:1; fill:none\" points=\"603.264,1024.33 603.264,1005.44 \"/>\n",
       "<polyline clip-path=\"url(#clip890)\" style=\"stroke:#000000; stroke-linecap:round; stroke-linejoin:round; stroke-width:4; stroke-opacity:1; fill:none\" points=\"922.568,1024.33 922.568,1005.44 \"/>\n",
       "<polyline clip-path=\"url(#clip890)\" style=\"stroke:#000000; stroke-linecap:round; stroke-linejoin:round; stroke-width:4; stroke-opacity:1; fill:none\" points=\"1241.87,1024.33 1241.87,1005.44 \"/>\n",
       "<polyline clip-path=\"url(#clip890)\" style=\"stroke:#000000; stroke-linecap:round; stroke-linejoin:round; stroke-width:4; stroke-opacity:1; fill:none\" points=\"1561.17,1024.33 1561.17,1005.44 \"/>\n",
       "<path clip-path=\"url(#clip890)\" d=\"M283.961 1052.05 Q280.35 1052.05 278.521 1055.62 Q276.716 1059.16 276.716 1066.29 Q276.716 1073.39 278.521 1076.96 Q280.35 1080.5 283.961 1080.5 Q287.595 1080.5 289.401 1076.96 Q291.23 1073.39 291.23 1066.29 Q291.23 1059.16 289.401 1055.62 Q287.595 1052.05 283.961 1052.05 M283.961 1048.35 Q289.771 1048.35 292.827 1052.95 Q295.905 1057.54 295.905 1066.29 Q295.905 1075.01 292.827 1079.62 Q289.771 1084.2 283.961 1084.2 Q278.151 1084.2 275.072 1079.62 Q272.017 1075.01 272.017 1066.29 Q272.017 1057.54 275.072 1052.95 Q278.151 1048.35 283.961 1048.35 Z\" fill=\"#000000\" fill-rule=\"nonzero\" fill-opacity=\"1\" /><path clip-path=\"url(#clip890)\" d=\"M483.771 1064.63 L502.128 1064.63 L502.128 1068.57 L488.054 1068.57 L488.054 1077.04 Q489.072 1076.69 490.091 1076.53 Q491.109 1076.35 492.128 1076.35 Q497.915 1076.35 501.294 1079.52 Q504.674 1082.69 504.674 1088.11 Q504.674 1093.68 501.202 1096.79 Q497.73 1099.86 491.41 1099.86 Q489.234 1099.86 486.966 1099.49 Q484.72 1099.12 482.313 1098.38 L482.313 1093.68 Q484.396 1094.82 486.619 1095.37 Q488.841 1095.93 491.318 1095.93 Q495.322 1095.93 497.66 1093.82 Q499.998 1091.72 499.998 1088.11 Q499.998 1084.49 497.66 1082.39 Q495.322 1080.28 491.318 1080.28 Q489.443 1080.28 487.568 1080.7 Q485.716 1081.11 483.771 1081.99 L483.771 1064.63 Z\" fill=\"#000000\" fill-rule=\"nonzero\" fill-opacity=\"1\" /><path clip-path=\"url(#clip890)\" d=\"M513.887 1093.31 L518.771 1093.31 L518.771 1099.19 L513.887 1099.19 L513.887 1093.31 Z\" fill=\"#000000\" fill-rule=\"nonzero\" fill-opacity=\"1\" /><path clip-path=\"url(#clip890)\" d=\"M538.956 1067.71 Q535.345 1067.71 533.516 1071.28 Q531.711 1074.82 531.711 1081.95 Q531.711 1089.05 533.516 1092.62 Q535.345 1096.16 538.956 1096.16 Q542.59 1096.16 544.396 1092.62 Q546.225 1089.05 546.225 1081.95 Q546.225 1074.82 544.396 1071.28 Q542.59 1067.71 538.956 1067.71 M538.956 1064.01 Q544.766 1064.01 547.822 1068.61 Q550.901 1073.2 550.901 1081.95 Q550.901 1090.67 547.822 1095.28 Q544.766 1099.86 538.956 1099.86 Q533.146 1099.86 530.067 1095.28 Q527.012 1090.67 527.012 1081.95 Q527.012 1073.2 530.067 1068.61 Q533.146 1064.01 538.956 1064.01 Z\" fill=\"#000000\" fill-rule=\"nonzero\" fill-opacity=\"1\" /><path clip-path=\"url(#clip890)\" d=\"M569.118 1067.71 Q565.507 1067.71 563.678 1071.28 Q561.873 1074.82 561.873 1081.95 Q561.873 1089.05 563.678 1092.62 Q565.507 1096.16 569.118 1096.16 Q572.752 1096.16 574.558 1092.62 Q576.387 1089.05 576.387 1081.95 Q576.387 1074.82 574.558 1071.28 Q572.752 1067.71 569.118 1067.71 M569.118 1064.01 Q574.928 1064.01 577.984 1068.61 Q581.062 1073.2 581.062 1081.95 Q581.062 1090.67 577.984 1095.28 Q574.928 1099.86 569.118 1099.86 Q563.308 1099.86 560.229 1095.28 Q557.174 1090.67 557.174 1081.95 Q557.174 1073.2 560.229 1068.61 Q563.308 1064.01 569.118 1064.01 Z\" fill=\"#000000\" fill-rule=\"nonzero\" fill-opacity=\"1\" /><path clip-path=\"url(#clip890)\" d=\"M617.451 1073.73 L606.873 1084.36 L617.451 1094.93 L614.697 1097.73 L604.072 1087.11 L593.447 1097.73 L590.715 1094.93 L601.271 1084.36 L590.715 1073.73 L593.447 1070.93 L604.072 1081.55 L614.697 1070.93 L617.451 1073.73 Z\" fill=\"#000000\" fill-rule=\"nonzero\" fill-opacity=\"1\" /><path clip-path=\"url(#clip890)\" d=\"M629.812 1095.26 L637.451 1095.26 L637.451 1068.89 L629.141 1070.56 L629.141 1066.3 L637.405 1064.63 L642.081 1064.63 L642.081 1095.26 L649.72 1095.26 L649.72 1099.19 L629.812 1099.19 L629.812 1095.26 Z\" fill=\"#000000\" fill-rule=\"nonzero\" fill-opacity=\"1\" /><path clip-path=\"url(#clip890)\" d=\"M669.164 1067.71 Q665.553 1067.71 663.724 1071.28 Q661.919 1074.82 661.919 1081.95 Q661.919 1089.05 663.724 1092.62 Q665.553 1096.16 669.164 1096.16 Q672.798 1096.16 674.604 1092.62 Q676.432 1089.05 676.432 1081.95 Q676.432 1074.82 674.604 1071.28 Q672.798 1067.71 669.164 1067.71 M669.164 1064.01 Q674.974 1064.01 678.03 1068.61 Q681.108 1073.2 681.108 1081.95 Q681.108 1090.67 678.03 1095.28 Q674.974 1099.86 669.164 1099.86 Q663.354 1099.86 660.275 1095.28 Q657.219 1090.67 657.219 1081.95 Q657.219 1073.2 660.275 1068.61 Q663.354 1064.01 669.164 1064.01 Z\" fill=\"#000000\" fill-rule=\"nonzero\" fill-opacity=\"1\" /><path clip-path=\"url(#clip890)\" d=\"M685.679 1068.59 L698.938 1068.59 L698.938 1071.78 L681.108 1071.78 L681.108 1068.59 Q683.271 1066.35 686.995 1062.59 Q690.738 1058.81 691.697 1057.71 Q693.521 1055.66 694.236 1054.25 Q694.97 1052.82 694.97 1051.45 Q694.97 1049.21 693.39 1047.8 Q691.829 1046.39 689.308 1046.39 Q687.522 1046.39 685.528 1047.01 Q683.553 1047.63 681.296 1048.89 L681.296 1045.06 Q683.591 1044.14 685.584 1043.66 Q687.578 1043.19 689.233 1043.19 Q693.597 1043.19 696.192 1045.38 Q698.788 1047.56 698.788 1051.21 Q698.788 1052.94 698.129 1054.5 Q697.49 1056.04 695.778 1058.15 Q695.308 1058.69 692.788 1061.31 Q690.268 1063.9 685.679 1068.59 Z\" fill=\"#000000\" fill-rule=\"nonzero\" fill-opacity=\"1\" /><path clip-path=\"url(#clip890)\" d=\"M718.423 1056.64 Q721.15 1057.23 722.673 1059.07 Q724.216 1060.91 724.216 1063.62 Q724.216 1067.78 721.357 1070.05 Q718.498 1072.33 713.232 1072.33 Q711.464 1072.33 709.583 1071.97 Q707.721 1071.63 705.728 1070.94 L705.728 1067.27 Q707.307 1068.19 709.188 1068.66 Q711.069 1069.13 713.119 1069.13 Q716.693 1069.13 718.554 1067.72 Q720.435 1066.31 720.435 1063.62 Q720.435 1061.14 718.686 1059.75 Q716.956 1058.34 713.853 1058.34 L710.58 1058.34 L710.58 1055.21 L714.003 1055.21 Q716.805 1055.21 718.291 1054.1 Q719.777 1052.97 719.777 1050.87 Q719.777 1048.71 718.235 1047.56 Q716.711 1046.39 713.853 1046.39 Q712.292 1046.39 710.505 1046.73 Q708.718 1047.07 706.574 1047.78 L706.574 1044.4 Q708.737 1043.8 710.618 1043.5 Q712.517 1043.19 714.191 1043.19 Q718.517 1043.19 721.037 1045.17 Q723.557 1047.13 723.557 1050.47 Q723.557 1052.81 722.222 1054.42 Q720.887 1056.02 718.423 1056.64 Z\" fill=\"#000000\" fill-rule=\"nonzero\" fill-opacity=\"1\" /><path clip-path=\"url(#clip890)\" d=\"M802.602 1095.26 L810.241 1095.26 L810.241 1068.89 L801.931 1070.56 L801.931 1066.3 L810.195 1064.63 L814.871 1064.63 L814.871 1095.26 L822.509 1095.26 L822.509 1099.19 L802.602 1099.19 L802.602 1095.26 Z\" fill=\"#000000\" fill-rule=\"nonzero\" fill-opacity=\"1\" /><path clip-path=\"url(#clip890)\" d=\"M831.954 1093.31 L836.838 1093.31 L836.838 1099.19 L831.954 1099.19 L831.954 1093.31 Z\" fill=\"#000000\" fill-rule=\"nonzero\" fill-opacity=\"1\" /><path clip-path=\"url(#clip890)\" d=\"M857.023 1067.71 Q853.412 1067.71 851.583 1071.28 Q849.778 1074.82 849.778 1081.95 Q849.778 1089.05 851.583 1092.62 Q853.412 1096.16 857.023 1096.16 Q860.657 1096.16 862.463 1092.62 Q864.292 1089.05 864.292 1081.95 Q864.292 1074.82 862.463 1071.28 Q860.657 1067.71 857.023 1067.71 M857.023 1064.01 Q862.833 1064.01 865.889 1068.61 Q868.968 1073.2 868.968 1081.95 Q868.968 1090.67 865.889 1095.28 Q862.833 1099.86 857.023 1099.86 Q851.213 1099.86 848.134 1095.28 Q845.079 1090.67 845.079 1081.95 Q845.079 1073.2 848.134 1068.61 Q851.213 1064.01 857.023 1064.01 Z\" fill=\"#000000\" fill-rule=\"nonzero\" fill-opacity=\"1\" /><path clip-path=\"url(#clip890)\" d=\"M887.185 1067.71 Q883.574 1067.71 881.745 1071.28 Q879.94 1074.82 879.94 1081.95 Q879.94 1089.05 881.745 1092.62 Q883.574 1096.16 887.185 1096.16 Q890.819 1096.16 892.625 1092.62 Q894.454 1089.05 894.454 1081.95 Q894.454 1074.82 892.625 1071.28 Q890.819 1067.71 887.185 1067.71 M887.185 1064.01 Q892.995 1064.01 896.051 1068.61 Q899.129 1073.2 899.129 1081.95 Q899.129 1090.67 896.051 1095.28 Q892.995 1099.86 887.185 1099.86 Q881.375 1099.86 878.296 1095.28 Q875.241 1090.67 875.241 1081.95 Q875.241 1073.2 878.296 1068.61 Q881.375 1064.01 887.185 1064.01 Z\" fill=\"#000000\" fill-rule=\"nonzero\" fill-opacity=\"1\" /><path clip-path=\"url(#clip890)\" d=\"M935.518 1073.73 L924.939 1084.36 L935.518 1094.93 L932.764 1097.73 L922.139 1087.11 L911.514 1097.73 L908.782 1094.93 L919.338 1084.36 L908.782 1073.73 L911.514 1070.93 L922.139 1081.55 L932.764 1070.93 L935.518 1073.73 Z\" fill=\"#000000\" fill-rule=\"nonzero\" fill-opacity=\"1\" /><path clip-path=\"url(#clip890)\" d=\"M947.879 1095.26 L955.518 1095.26 L955.518 1068.89 L947.208 1070.56 L947.208 1066.3 L955.472 1064.63 L960.148 1064.63 L960.148 1095.26 L967.786 1095.26 L967.786 1099.19 L947.879 1099.19 L947.879 1095.26 Z\" fill=\"#000000\" fill-rule=\"nonzero\" fill-opacity=\"1\" /><path clip-path=\"url(#clip890)\" d=\"M987.231 1067.71 Q983.62 1067.71 981.791 1071.28 Q979.985 1074.82 979.985 1081.95 Q979.985 1089.05 981.791 1092.62 Q983.62 1096.16 987.231 1096.16 Q990.865 1096.16 992.671 1092.62 Q994.499 1089.05 994.499 1081.95 Q994.499 1074.82 992.671 1071.28 Q990.865 1067.71 987.231 1067.71 M987.231 1064.01 Q993.041 1064.01 996.097 1068.61 Q999.175 1073.2 999.175 1081.95 Q999.175 1090.67 996.097 1095.28 Q993.041 1099.86 987.231 1099.86 Q981.421 1099.86 978.342 1095.28 Q975.286 1090.67 975.286 1081.95 Q975.286 1073.2 978.342 1068.61 Q981.421 1064.01 987.231 1064.01 Z\" fill=\"#000000\" fill-rule=\"nonzero\" fill-opacity=\"1\" /><path clip-path=\"url(#clip890)\" d=\"M1003.75 1068.59 L1017 1068.59 L1017 1071.78 L999.175 1071.78 L999.175 1068.59 Q1001.34 1066.35 1005.06 1062.59 Q1008.8 1058.81 1009.76 1057.71 Q1011.59 1055.66 1012.3 1054.25 Q1013.04 1052.82 1013.04 1051.45 Q1013.04 1049.21 1011.46 1047.8 Q1009.9 1046.39 1007.38 1046.39 Q1005.59 1046.39 1003.6 1047.01 Q1001.62 1047.63 999.363 1048.89 L999.363 1045.06 Q1001.66 1044.14 1003.65 1043.66 Q1005.65 1043.19 1007.3 1043.19 Q1011.66 1043.19 1014.26 1045.38 Q1016.85 1047.56 1016.85 1051.21 Q1016.85 1052.94 1016.2 1054.5 Q1015.56 1056.04 1013.85 1058.15 Q1013.38 1058.69 1010.85 1061.31 Q1008.33 1063.9 1003.75 1068.59 Z\" fill=\"#000000\" fill-rule=\"nonzero\" fill-opacity=\"1\" /><path clip-path=\"url(#clip890)\" d=\"M1035.42 1047.01 L1025.83 1062 L1035.42 1062 L1035.42 1047.01 M1034.42 1043.7 L1039.2 1043.7 L1039.2 1062 L1043.2 1062 L1043.2 1065.16 L1039.2 1065.16 L1039.2 1071.78 L1035.42 1071.78 L1035.42 1065.16 L1022.74 1065.16 L1022.74 1061.49 L1034.42 1043.7 Z\" fill=\"#000000\" fill-rule=\"nonzero\" fill-opacity=\"1\" /><path clip-path=\"url(#clip890)\" d=\"M1121.91 1095.26 L1129.54 1095.26 L1129.54 1068.89 L1121.23 1070.56 L1121.23 1066.3 L1129.5 1064.63 L1134.17 1064.63 L1134.17 1095.26 L1141.81 1095.26 L1141.81 1099.19 L1121.91 1099.19 L1121.91 1095.26 Z\" fill=\"#000000\" fill-rule=\"nonzero\" fill-opacity=\"1\" /><path clip-path=\"url(#clip890)\" d=\"M1151.26 1093.31 L1156.14 1093.31 L1156.14 1099.19 L1151.26 1099.19 L1151.26 1093.31 Z\" fill=\"#000000\" fill-rule=\"nonzero\" fill-opacity=\"1\" /><path clip-path=\"url(#clip890)\" d=\"M1166.37 1064.63 L1184.73 1064.63 L1184.73 1068.57 L1170.66 1068.57 L1170.66 1077.04 Q1171.67 1076.69 1172.69 1076.53 Q1173.71 1076.35 1174.73 1076.35 Q1180.52 1076.35 1183.9 1079.52 Q1187.28 1082.69 1187.28 1088.11 Q1187.28 1093.68 1183.8 1096.79 Q1180.33 1099.86 1174.01 1099.86 Q1171.84 1099.86 1169.57 1099.49 Q1167.32 1099.12 1164.91 1098.38 L1164.91 1093.68 Q1167 1094.82 1169.22 1095.37 Q1171.44 1095.93 1173.92 1095.93 Q1177.92 1095.93 1180.26 1093.82 Q1182.6 1091.72 1182.6 1088.11 Q1182.6 1084.49 1180.26 1082.39 Q1177.92 1080.28 1173.92 1080.28 Q1172.04 1080.28 1170.17 1080.7 Q1168.32 1081.11 1166.37 1081.99 L1166.37 1064.63 Z\" fill=\"#000000\" fill-rule=\"nonzero\" fill-opacity=\"1\" /><path clip-path=\"url(#clip890)\" d=\"M1206.49 1067.71 Q1202.88 1067.71 1201.05 1071.28 Q1199.24 1074.82 1199.24 1081.95 Q1199.24 1089.05 1201.05 1092.62 Q1202.88 1096.16 1206.49 1096.16 Q1210.12 1096.16 1211.93 1092.62 Q1213.76 1089.05 1213.76 1081.95 Q1213.76 1074.82 1211.93 1071.28 Q1210.12 1067.71 1206.49 1067.71 M1206.49 1064.01 Q1212.3 1064.01 1215.35 1068.61 Q1218.43 1073.2 1218.43 1081.95 Q1218.43 1090.67 1215.35 1095.28 Q1212.3 1099.86 1206.49 1099.86 Q1200.68 1099.86 1197.6 1095.28 Q1194.54 1090.67 1194.54 1081.95 Q1194.54 1073.2 1197.6 1068.61 Q1200.68 1064.01 1206.49 1064.01 Z\" fill=\"#000000\" fill-rule=\"nonzero\" fill-opacity=\"1\" /><path clip-path=\"url(#clip890)\" d=\"M1254.82 1073.73 L1244.24 1084.36 L1254.82 1094.93 L1252.07 1097.73 L1241.44 1087.11 L1230.82 1097.73 L1228.09 1094.93 L1238.64 1084.36 L1228.09 1073.73 L1230.82 1070.93 L1241.44 1081.55 L1252.07 1070.93 L1254.82 1073.73 Z\" fill=\"#000000\" fill-rule=\"nonzero\" fill-opacity=\"1\" /><path clip-path=\"url(#clip890)\" d=\"M1267.18 1095.26 L1274.82 1095.26 L1274.82 1068.89 L1266.51 1070.56 L1266.51 1066.3 L1274.77 1064.63 L1279.45 1064.63 L1279.45 1095.26 L1287.09 1095.26 L1287.09 1099.19 L1267.18 1099.19 L1267.18 1095.26 Z\" fill=\"#000000\" fill-rule=\"nonzero\" fill-opacity=\"1\" /><path clip-path=\"url(#clip890)\" d=\"M1306.53 1067.71 Q1302.92 1067.71 1301.09 1071.28 Q1299.29 1074.82 1299.29 1081.95 Q1299.29 1089.05 1301.09 1092.62 Q1302.92 1096.16 1306.53 1096.16 Q1310.17 1096.16 1311.97 1092.62 Q1313.8 1089.05 1313.8 1081.95 Q1313.8 1074.82 1311.97 1071.28 Q1310.17 1067.71 1306.53 1067.71 M1306.53 1064.01 Q1312.34 1064.01 1315.4 1068.61 Q1318.48 1073.2 1318.48 1081.95 Q1318.48 1090.67 1315.4 1095.28 Q1312.34 1099.86 1306.53 1099.86 Q1300.72 1099.86 1297.65 1095.28 Q1294.59 1090.67 1294.59 1081.95 Q1294.59 1073.2 1297.65 1068.61 Q1300.72 1064.01 1306.53 1064.01 Z\" fill=\"#000000\" fill-rule=\"nonzero\" fill-opacity=\"1\" /><path clip-path=\"url(#clip890)\" d=\"M1323.05 1068.59 L1336.31 1068.59 L1336.31 1071.78 L1318.48 1071.78 L1318.48 1068.59 Q1320.64 1066.35 1324.37 1062.59 Q1328.11 1058.81 1329.07 1057.71 Q1330.89 1055.66 1331.61 1054.25 Q1332.34 1052.82 1332.34 1051.45 Q1332.34 1049.21 1330.76 1047.8 Q1329.2 1046.39 1326.68 1046.39 Q1324.89 1046.39 1322.9 1047.01 Q1320.92 1047.63 1318.67 1048.89 L1318.67 1045.06 Q1320.96 1044.14 1322.95 1043.66 Q1324.95 1043.19 1326.6 1043.19 Q1330.97 1043.19 1333.56 1045.38 Q1336.16 1047.56 1336.16 1051.21 Q1336.16 1052.94 1335.5 1054.5 Q1334.86 1056.04 1333.15 1058.15 Q1332.68 1058.69 1330.16 1061.31 Q1327.64 1063.9 1323.05 1068.59 Z\" fill=\"#000000\" fill-rule=\"nonzero\" fill-opacity=\"1\" /><path clip-path=\"url(#clip890)\" d=\"M1354.72 1047.01 L1345.13 1062 L1354.72 1062 L1354.72 1047.01 M1353.72 1043.7 L1358.5 1043.7 L1358.5 1062 L1362.51 1062 L1362.51 1065.16 L1358.5 1065.16 L1358.5 1071.78 L1354.72 1071.78 L1354.72 1065.16 L1342.04 1065.16 L1342.04 1061.49 L1353.72 1043.7 Z\" fill=\"#000000\" fill-rule=\"nonzero\" fill-opacity=\"1\" /><path clip-path=\"url(#clip890)\" d=\"M1445.29 1095.26 L1461.61 1095.26 L1461.61 1099.19 L1439.67 1099.19 L1439.67 1095.26 Q1442.33 1092.5 1446.91 1087.87 Q1451.52 1083.22 1452.7 1081.88 Q1454.95 1079.36 1455.83 1077.62 Q1456.73 1075.86 1456.73 1074.17 Q1456.73 1071.42 1454.78 1069.68 Q1452.86 1067.94 1449.76 1067.94 Q1447.56 1067.94 1445.11 1068.71 Q1442.68 1069.47 1439.9 1071.02 L1439.9 1066.3 Q1442.72 1065.17 1445.18 1064.59 Q1447.63 1064.01 1449.67 1064.01 Q1455.04 1064.01 1458.23 1066.69 Q1461.43 1069.38 1461.43 1073.87 Q1461.43 1076 1460.62 1077.92 Q1459.83 1079.82 1457.72 1082.41 Q1457.15 1083.08 1454.04 1086.3 Q1450.94 1089.49 1445.29 1095.26 Z\" fill=\"#000000\" fill-rule=\"nonzero\" fill-opacity=\"1\" /><path clip-path=\"url(#clip890)\" d=\"M1471.43 1093.31 L1476.31 1093.31 L1476.31 1099.19 L1471.43 1099.19 L1471.43 1093.31 Z\" fill=\"#000000\" fill-rule=\"nonzero\" fill-opacity=\"1\" /><path clip-path=\"url(#clip890)\" d=\"M1496.5 1067.71 Q1492.89 1067.71 1491.06 1071.28 Q1489.25 1074.82 1489.25 1081.95 Q1489.25 1089.05 1491.06 1092.62 Q1492.89 1096.16 1496.5 1096.16 Q1500.13 1096.16 1501.94 1092.62 Q1503.77 1089.05 1503.77 1081.95 Q1503.77 1074.82 1501.94 1071.28 Q1500.13 1067.71 1496.5 1067.71 M1496.5 1064.01 Q1502.31 1064.01 1505.36 1068.61 Q1508.44 1073.2 1508.44 1081.95 Q1508.44 1090.67 1505.36 1095.28 Q1502.31 1099.86 1496.5 1099.86 Q1490.69 1099.86 1487.61 1095.28 Q1484.55 1090.67 1484.55 1081.95 Q1484.55 1073.2 1487.61 1068.61 Q1490.69 1064.01 1496.5 1064.01 Z\" fill=\"#000000\" fill-rule=\"nonzero\" fill-opacity=\"1\" /><path clip-path=\"url(#clip890)\" d=\"M1526.66 1067.71 Q1523.05 1067.71 1521.22 1071.28 Q1519.41 1074.82 1519.41 1081.95 Q1519.41 1089.05 1521.22 1092.62 Q1523.05 1096.16 1526.66 1096.16 Q1530.29 1096.16 1532.1 1092.62 Q1533.93 1089.05 1533.93 1081.95 Q1533.93 1074.82 1532.1 1071.28 Q1530.29 1067.71 1526.66 1067.71 M1526.66 1064.01 Q1532.47 1064.01 1535.53 1068.61 Q1538.6 1073.2 1538.6 1081.95 Q1538.6 1090.67 1535.53 1095.28 Q1532.47 1099.86 1526.66 1099.86 Q1520.85 1099.86 1517.77 1095.28 Q1514.72 1090.67 1514.72 1081.95 Q1514.72 1073.2 1517.77 1068.61 Q1520.85 1064.01 1526.66 1064.01 Z\" fill=\"#000000\" fill-rule=\"nonzero\" fill-opacity=\"1\" /><path clip-path=\"url(#clip890)\" d=\"M1574.99 1073.73 L1564.41 1084.36 L1574.99 1094.93 L1572.24 1097.73 L1561.61 1087.11 L1550.99 1097.73 L1548.26 1094.93 L1558.81 1084.36 L1548.26 1073.73 L1550.99 1070.93 L1561.61 1081.55 L1572.24 1070.93 L1574.99 1073.73 Z\" fill=\"#000000\" fill-rule=\"nonzero\" fill-opacity=\"1\" /><path clip-path=\"url(#clip890)\" d=\"M1587.35 1095.26 L1594.99 1095.26 L1594.99 1068.89 L1586.68 1070.56 L1586.68 1066.3 L1594.95 1064.63 L1599.62 1064.63 L1599.62 1095.26 L1607.26 1095.26 L1607.26 1099.19 L1587.35 1099.19 L1587.35 1095.26 Z\" fill=\"#000000\" fill-rule=\"nonzero\" fill-opacity=\"1\" /><path clip-path=\"url(#clip890)\" d=\"M1626.71 1067.71 Q1623.09 1067.71 1621.27 1071.28 Q1619.46 1074.82 1619.46 1081.95 Q1619.46 1089.05 1621.27 1092.62 Q1623.09 1096.16 1626.71 1096.16 Q1630.34 1096.16 1632.15 1092.62 Q1633.97 1089.05 1633.97 1081.95 Q1633.97 1074.82 1632.15 1071.28 Q1630.34 1067.71 1626.71 1067.71 M1626.71 1064.01 Q1632.52 1064.01 1635.57 1068.61 Q1638.65 1073.2 1638.65 1081.95 Q1638.65 1090.67 1635.57 1095.28 Q1632.52 1099.86 1626.71 1099.86 Q1620.9 1099.86 1617.82 1095.28 Q1614.76 1090.67 1614.76 1081.95 Q1614.76 1073.2 1617.82 1068.61 Q1620.9 1064.01 1626.71 1064.01 Z\" fill=\"#000000\" fill-rule=\"nonzero\" fill-opacity=\"1\" /><path clip-path=\"url(#clip890)\" d=\"M1643.22 1068.59 L1656.48 1068.59 L1656.48 1071.78 L1638.65 1071.78 L1638.65 1068.59 Q1640.81 1066.35 1644.54 1062.59 Q1648.28 1058.81 1649.24 1057.71 Q1651.06 1055.66 1651.78 1054.25 Q1652.51 1052.82 1652.51 1051.45 Q1652.51 1049.21 1650.93 1047.8 Q1649.37 1046.39 1646.85 1046.39 Q1645.06 1046.39 1643.07 1047.01 Q1641.09 1047.63 1638.84 1048.89 L1638.84 1045.06 Q1641.13 1044.14 1643.13 1043.66 Q1645.12 1043.19 1646.77 1043.19 Q1651.14 1043.19 1653.73 1045.38 Q1656.33 1047.56 1656.33 1051.21 Q1656.33 1052.94 1655.67 1054.5 Q1655.03 1056.04 1653.32 1058.15 Q1652.85 1058.69 1650.33 1061.31 Q1647.81 1063.9 1643.22 1068.59 Z\" fill=\"#000000\" fill-rule=\"nonzero\" fill-opacity=\"1\" /><path clip-path=\"url(#clip890)\" d=\"M1674.89 1047.01 L1665.3 1062 L1674.89 1062 L1674.89 1047.01 M1673.9 1043.7 L1678.67 1043.7 L1678.67 1062 L1682.68 1062 L1682.68 1065.16 L1678.67 1065.16 L1678.67 1071.78 L1674.89 1071.78 L1674.89 1065.16 L1662.22 1065.16 L1662.22 1061.49 L1673.9 1043.7 Z\" fill=\"#000000\" fill-rule=\"nonzero\" fill-opacity=\"1\" /><path clip-path=\"url(#clip890)\" d=\"M1028.8 1151.45 Q1027.81 1150.88 1026.63 1150.62 Q1025.49 1150.33 1024.09 1150.33 Q1019.12 1150.33 1016.45 1153.58 Q1013.81 1156.8 1013.81 1162.84 L1013.81 1181.62 L1007.92 1181.62 L1007.92 1145.97 L1013.81 1145.97 L1013.81 1151.51 Q1015.65 1148.27 1018.61 1146.71 Q1021.57 1145.11 1025.81 1145.11 Q1026.41 1145.11 1027.14 1145.21 Q1027.88 1145.27 1028.77 1145.43 L1028.8 1151.45 Z\" fill=\"#000000\" fill-rule=\"nonzero\" fill-opacity=\"1\" /><polyline clip-path=\"url(#clip892)\" style=\"stroke:#000000; stroke-linecap:round; stroke-linejoin:round; stroke-width:2; stroke-opacity:0.1; fill:none\" points=\"283.961,1024.33 1752.76,1024.33 \"/>\n",
       "<polyline clip-path=\"url(#clip892)\" style=\"stroke:#000000; stroke-linecap:round; stroke-linejoin:round; stroke-width:2; stroke-opacity:0.1; fill:none\" points=\"283.961,842.951 1752.76,842.951 \"/>\n",
       "<polyline clip-path=\"url(#clip892)\" style=\"stroke:#000000; stroke-linecap:round; stroke-linejoin:round; stroke-width:2; stroke-opacity:0.1; fill:none\" points=\"283.961,661.569 1752.76,661.569 \"/>\n",
       "<polyline clip-path=\"url(#clip892)\" style=\"stroke:#000000; stroke-linecap:round; stroke-linejoin:round; stroke-width:2; stroke-opacity:0.1; fill:none\" points=\"283.961,480.188 1752.76,480.188 \"/>\n",
       "<polyline clip-path=\"url(#clip892)\" style=\"stroke:#000000; stroke-linecap:round; stroke-linejoin:round; stroke-width:2; stroke-opacity:0.1; fill:none\" points=\"283.961,298.806 1752.76,298.806 \"/>\n",
       "<polyline clip-path=\"url(#clip892)\" style=\"stroke:#000000; stroke-linecap:round; stroke-linejoin:round; stroke-width:2; stroke-opacity:0.1; fill:none\" points=\"283.961,117.424 1752.76,117.424 \"/>\n",
       "<polyline clip-path=\"url(#clip890)\" style=\"stroke:#000000; stroke-linecap:round; stroke-linejoin:round; stroke-width:4; stroke-opacity:1; fill:none\" points=\"283.961,1024.33 283.961,117.424 \"/>\n",
       "<polyline clip-path=\"url(#clip890)\" style=\"stroke:#000000; stroke-linecap:round; stroke-linejoin:round; stroke-width:4; stroke-opacity:1; fill:none\" points=\"283.961,1024.33 300.594,1024.33 \"/>\n",
       "<polyline clip-path=\"url(#clip890)\" style=\"stroke:#000000; stroke-linecap:round; stroke-linejoin:round; stroke-width:4; stroke-opacity:1; fill:none\" points=\"283.961,842.951 300.594,842.951 \"/>\n",
       "<polyline clip-path=\"url(#clip890)\" style=\"stroke:#000000; stroke-linecap:round; stroke-linejoin:round; stroke-width:4; stroke-opacity:1; fill:none\" points=\"283.961,661.569 300.594,661.569 \"/>\n",
       "<polyline clip-path=\"url(#clip890)\" style=\"stroke:#000000; stroke-linecap:round; stroke-linejoin:round; stroke-width:4; stroke-opacity:1; fill:none\" points=\"283.961,480.188 300.594,480.188 \"/>\n",
       "<polyline clip-path=\"url(#clip890)\" style=\"stroke:#000000; stroke-linecap:round; stroke-linejoin:round; stroke-width:4; stroke-opacity:1; fill:none\" points=\"283.961,298.806 300.594,298.806 \"/>\n",
       "<polyline clip-path=\"url(#clip890)\" style=\"stroke:#000000; stroke-linecap:round; stroke-linejoin:round; stroke-width:4; stroke-opacity:1; fill:none\" points=\"283.961,117.424 300.594,117.424 \"/>\n",
       "<path clip-path=\"url(#clip890)\" d=\"M242.017 1010.13 Q238.406 1010.13 236.577 1013.7 Q234.771 1017.24 234.771 1024.37 Q234.771 1031.47 236.577 1035.04 Q238.406 1038.58 242.017 1038.58 Q245.651 1038.58 247.457 1035.04 Q249.285 1031.47 249.285 1024.37 Q249.285 1017.24 247.457 1013.7 Q245.651 1010.13 242.017 1010.13 M242.017 1006.43 Q247.827 1006.43 250.882 1011.03 Q253.961 1015.62 253.961 1024.37 Q253.961 1033.09 250.882 1037.7 Q247.827 1042.28 242.017 1042.28 Q236.207 1042.28 233.128 1037.7 Q230.072 1033.09 230.072 1024.37 Q230.072 1015.62 233.128 1011.03 Q236.207 1006.43 242.017 1006.43 Z\" fill=\"#000000\" fill-rule=\"nonzero\" fill-opacity=\"1\" /><path clip-path=\"url(#clip890)\" d=\"M145.559 856.296 L161.878 856.296 L161.878 860.231 L139.934 860.231 L139.934 856.296 Q142.596 853.541 147.179 848.912 Q151.786 844.259 152.966 842.916 Q155.212 840.393 156.091 838.657 Q156.994 836.898 156.994 835.208 Q156.994 832.454 155.05 830.717 Q153.128 828.981 150.026 828.981 Q147.827 828.981 145.374 829.745 Q142.943 830.509 140.165 832.06 L140.165 827.338 Q142.989 826.204 145.443 825.625 Q147.897 825.046 149.934 825.046 Q155.304 825.046 158.499 827.731 Q161.693 830.417 161.693 834.907 Q161.693 837.037 160.883 838.958 Q160.096 840.856 157.989 843.449 Q157.411 844.12 154.309 847.338 Q151.207 850.532 145.559 856.296 Z\" fill=\"#000000\" fill-rule=\"nonzero\" fill-opacity=\"1\" /><path clip-path=\"url(#clip890)\" d=\"M181.693 828.75 Q178.082 828.75 176.253 832.315 Q174.448 835.856 174.448 842.986 Q174.448 850.092 176.253 853.657 Q178.082 857.199 181.693 857.199 Q185.327 857.199 187.133 853.657 Q188.961 850.092 188.961 842.986 Q188.961 835.856 187.133 832.315 Q185.327 828.75 181.693 828.75 M181.693 825.046 Q187.503 825.046 190.559 829.653 Q193.637 834.236 193.637 842.986 Q193.637 851.713 190.559 856.319 Q187.503 860.902 181.693 860.902 Q175.883 860.902 172.804 856.319 Q169.749 851.713 169.749 842.986 Q169.749 834.236 172.804 829.653 Q175.883 825.046 181.693 825.046 Z\" fill=\"#000000\" fill-rule=\"nonzero\" fill-opacity=\"1\" /><path clip-path=\"url(#clip890)\" d=\"M211.855 828.75 Q208.244 828.75 206.415 832.315 Q204.61 835.856 204.61 842.986 Q204.61 850.092 206.415 853.657 Q208.244 857.199 211.855 857.199 Q215.489 857.199 217.295 853.657 Q219.123 850.092 219.123 842.986 Q219.123 835.856 217.295 832.315 Q215.489 828.75 211.855 828.75 M211.855 825.046 Q217.665 825.046 220.721 829.653 Q223.799 834.236 223.799 842.986 Q223.799 851.713 220.721 856.319 Q217.665 860.902 211.855 860.902 Q206.045 860.902 202.966 856.319 Q199.91 851.713 199.91 842.986 Q199.91 834.236 202.966 829.653 Q206.045 825.046 211.855 825.046 Z\" fill=\"#000000\" fill-rule=\"nonzero\" fill-opacity=\"1\" /><path clip-path=\"url(#clip890)\" d=\"M242.017 828.75 Q238.406 828.75 236.577 832.315 Q234.771 835.856 234.771 842.986 Q234.771 850.092 236.577 853.657 Q238.406 857.199 242.017 857.199 Q245.651 857.199 247.457 853.657 Q249.285 850.092 249.285 842.986 Q249.285 835.856 247.457 832.315 Q245.651 828.75 242.017 828.75 M242.017 825.046 Q247.827 825.046 250.882 829.653 Q253.961 834.236 253.961 842.986 Q253.961 851.713 250.882 856.319 Q247.827 860.902 242.017 860.902 Q236.207 860.902 233.128 856.319 Q230.072 851.713 230.072 842.986 Q230.072 834.236 233.128 829.653 Q236.207 825.046 242.017 825.046 Z\" fill=\"#000000\" fill-rule=\"nonzero\" fill-opacity=\"1\" /><path clip-path=\"url(#clip890)\" d=\"M154.378 648.363 L142.573 666.812 L154.378 666.812 L154.378 648.363 M153.151 644.289 L159.031 644.289 L159.031 666.812 L163.962 666.812 L163.962 670.701 L159.031 670.701 L159.031 678.849 L154.378 678.849 L154.378 670.701 L138.777 670.701 L138.777 666.187 L153.151 644.289 Z\" fill=\"#000000\" fill-rule=\"nonzero\" fill-opacity=\"1\" /><path clip-path=\"url(#clip890)\" d=\"M181.693 647.368 Q178.082 647.368 176.253 650.933 Q174.448 654.475 174.448 661.604 Q174.448 668.711 176.253 672.275 Q178.082 675.817 181.693 675.817 Q185.327 675.817 187.133 672.275 Q188.961 668.711 188.961 661.604 Q188.961 654.475 187.133 650.933 Q185.327 647.368 181.693 647.368 M181.693 643.664 Q187.503 643.664 190.559 648.271 Q193.637 652.854 193.637 661.604 Q193.637 670.331 190.559 674.937 Q187.503 679.521 181.693 679.521 Q175.883 679.521 172.804 674.937 Q169.749 670.331 169.749 661.604 Q169.749 652.854 172.804 648.271 Q175.883 643.664 181.693 643.664 Z\" fill=\"#000000\" fill-rule=\"nonzero\" fill-opacity=\"1\" /><path clip-path=\"url(#clip890)\" d=\"M211.855 647.368 Q208.244 647.368 206.415 650.933 Q204.61 654.475 204.61 661.604 Q204.61 668.711 206.415 672.275 Q208.244 675.817 211.855 675.817 Q215.489 675.817 217.295 672.275 Q219.123 668.711 219.123 661.604 Q219.123 654.475 217.295 650.933 Q215.489 647.368 211.855 647.368 M211.855 643.664 Q217.665 643.664 220.721 648.271 Q223.799 652.854 223.799 661.604 Q223.799 670.331 220.721 674.937 Q217.665 679.521 211.855 679.521 Q206.045 679.521 202.966 674.937 Q199.91 670.331 199.91 661.604 Q199.91 652.854 202.966 648.271 Q206.045 643.664 211.855 643.664 Z\" fill=\"#000000\" fill-rule=\"nonzero\" fill-opacity=\"1\" /><path clip-path=\"url(#clip890)\" d=\"M242.017 647.368 Q238.406 647.368 236.577 650.933 Q234.771 654.475 234.771 661.604 Q234.771 668.711 236.577 672.275 Q238.406 675.817 242.017 675.817 Q245.651 675.817 247.457 672.275 Q249.285 668.711 249.285 661.604 Q249.285 654.475 247.457 650.933 Q245.651 647.368 242.017 647.368 M242.017 643.664 Q247.827 643.664 250.882 648.271 Q253.961 652.854 253.961 661.604 Q253.961 670.331 250.882 674.937 Q247.827 679.521 242.017 679.521 Q236.207 679.521 233.128 674.937 Q230.072 670.331 230.072 661.604 Q230.072 652.854 233.128 648.271 Q236.207 643.664 242.017 643.664 Z\" fill=\"#000000\" fill-rule=\"nonzero\" fill-opacity=\"1\" /><path clip-path=\"url(#clip890)\" d=\"M152.11 478.324 Q148.962 478.324 147.11 480.477 Q145.281 482.63 145.281 486.38 Q145.281 490.107 147.11 492.283 Q148.962 494.435 152.11 494.435 Q155.258 494.435 157.087 492.283 Q158.938 490.107 158.938 486.38 Q158.938 482.63 157.087 480.477 Q155.258 478.324 152.11 478.324 M161.392 463.672 L161.392 467.931 Q159.633 467.097 157.827 466.658 Q156.045 466.218 154.286 466.218 Q149.656 466.218 147.202 469.343 Q144.772 472.468 144.425 478.787 Q145.79 476.773 147.851 475.709 Q149.911 474.621 152.388 474.621 Q157.596 474.621 160.605 477.792 Q163.638 480.94 163.638 486.38 Q163.638 491.704 160.489 494.921 Q157.341 498.139 152.11 498.139 Q146.114 498.139 142.943 493.556 Q139.772 488.949 139.772 480.222 Q139.772 472.028 143.661 467.167 Q147.55 462.283 154.101 462.283 Q155.86 462.283 157.642 462.63 Q159.448 462.977 161.392 463.672 Z\" fill=\"#000000\" fill-rule=\"nonzero\" fill-opacity=\"1\" /><path clip-path=\"url(#clip890)\" d=\"M181.693 465.986 Q178.082 465.986 176.253 469.551 Q174.448 473.093 174.448 480.222 Q174.448 487.329 176.253 490.894 Q178.082 494.435 181.693 494.435 Q185.327 494.435 187.133 490.894 Q188.961 487.329 188.961 480.222 Q188.961 473.093 187.133 469.551 Q185.327 465.986 181.693 465.986 M181.693 462.283 Q187.503 462.283 190.559 466.889 Q193.637 471.472 193.637 480.222 Q193.637 488.949 190.559 493.556 Q187.503 498.139 181.693 498.139 Q175.883 498.139 172.804 493.556 Q169.749 488.949 169.749 480.222 Q169.749 471.472 172.804 466.889 Q175.883 462.283 181.693 462.283 Z\" fill=\"#000000\" fill-rule=\"nonzero\" fill-opacity=\"1\" /><path clip-path=\"url(#clip890)\" d=\"M211.855 465.986 Q208.244 465.986 206.415 469.551 Q204.61 473.093 204.61 480.222 Q204.61 487.329 206.415 490.894 Q208.244 494.435 211.855 494.435 Q215.489 494.435 217.295 490.894 Q219.123 487.329 219.123 480.222 Q219.123 473.093 217.295 469.551 Q215.489 465.986 211.855 465.986 M211.855 462.283 Q217.665 462.283 220.721 466.889 Q223.799 471.472 223.799 480.222 Q223.799 488.949 220.721 493.556 Q217.665 498.139 211.855 498.139 Q206.045 498.139 202.966 493.556 Q199.91 488.949 199.91 480.222 Q199.91 471.472 202.966 466.889 Q206.045 462.283 211.855 462.283 Z\" fill=\"#000000\" fill-rule=\"nonzero\" fill-opacity=\"1\" /><path clip-path=\"url(#clip890)\" d=\"M242.017 465.986 Q238.406 465.986 236.577 469.551 Q234.771 473.093 234.771 480.222 Q234.771 487.329 236.577 490.894 Q238.406 494.435 242.017 494.435 Q245.651 494.435 247.457 490.894 Q249.285 487.329 249.285 480.222 Q249.285 473.093 247.457 469.551 Q245.651 465.986 242.017 465.986 M242.017 462.283 Q247.827 462.283 250.882 466.889 Q253.961 471.472 253.961 480.222 Q253.961 488.949 250.882 493.556 Q247.827 498.139 242.017 498.139 Q236.207 498.139 233.128 493.556 Q230.072 488.949 230.072 480.222 Q230.072 471.472 233.128 466.889 Q236.207 462.283 242.017 462.283 Z\" fill=\"#000000\" fill-rule=\"nonzero\" fill-opacity=\"1\" /><path clip-path=\"url(#clip890)\" d=\"M151.531 299.674 Q148.198 299.674 146.276 301.456 Q144.378 303.239 144.378 306.364 Q144.378 309.489 146.276 311.271 Q148.198 313.054 151.531 313.054 Q154.864 313.054 156.786 311.271 Q158.707 309.466 158.707 306.364 Q158.707 303.239 156.786 301.456 Q154.888 299.674 151.531 299.674 M146.855 297.683 Q143.846 296.942 142.156 294.882 Q140.489 292.822 140.489 289.859 Q140.489 285.716 143.429 283.308 Q146.392 280.901 151.531 280.901 Q156.693 280.901 159.633 283.308 Q162.573 285.716 162.573 289.859 Q162.573 292.822 160.883 294.882 Q159.216 296.942 156.23 297.683 Q159.61 298.47 161.485 300.762 Q163.383 303.054 163.383 306.364 Q163.383 311.387 160.304 314.072 Q157.249 316.757 151.531 316.757 Q145.814 316.757 142.735 314.072 Q139.679 311.387 139.679 306.364 Q139.679 303.054 141.577 300.762 Q143.476 298.47 146.855 297.683 M145.142 290.299 Q145.142 292.984 146.809 294.489 Q148.499 295.993 151.531 295.993 Q154.54 295.993 156.23 294.489 Q157.943 292.984 157.943 290.299 Q157.943 287.614 156.23 286.109 Q154.54 284.605 151.531 284.605 Q148.499 284.605 146.809 286.109 Q145.142 287.614 145.142 290.299 Z\" fill=\"#000000\" fill-rule=\"nonzero\" fill-opacity=\"1\" /><path clip-path=\"url(#clip890)\" d=\"M181.693 284.605 Q178.082 284.605 176.253 288.169 Q174.448 291.711 174.448 298.841 Q174.448 305.947 176.253 309.512 Q178.082 313.054 181.693 313.054 Q185.327 313.054 187.133 309.512 Q188.961 305.947 188.961 298.841 Q188.961 291.711 187.133 288.169 Q185.327 284.605 181.693 284.605 M181.693 280.901 Q187.503 280.901 190.559 285.507 Q193.637 290.091 193.637 298.841 Q193.637 307.567 190.559 312.174 Q187.503 316.757 181.693 316.757 Q175.883 316.757 172.804 312.174 Q169.749 307.567 169.749 298.841 Q169.749 290.091 172.804 285.507 Q175.883 280.901 181.693 280.901 Z\" fill=\"#000000\" fill-rule=\"nonzero\" fill-opacity=\"1\" /><path clip-path=\"url(#clip890)\" d=\"M211.855 284.605 Q208.244 284.605 206.415 288.169 Q204.61 291.711 204.61 298.841 Q204.61 305.947 206.415 309.512 Q208.244 313.054 211.855 313.054 Q215.489 313.054 217.295 309.512 Q219.123 305.947 219.123 298.841 Q219.123 291.711 217.295 288.169 Q215.489 284.605 211.855 284.605 M211.855 280.901 Q217.665 280.901 220.721 285.507 Q223.799 290.091 223.799 298.841 Q223.799 307.567 220.721 312.174 Q217.665 316.757 211.855 316.757 Q206.045 316.757 202.966 312.174 Q199.91 307.567 199.91 298.841 Q199.91 290.091 202.966 285.507 Q206.045 280.901 211.855 280.901 Z\" fill=\"#000000\" fill-rule=\"nonzero\" fill-opacity=\"1\" /><path clip-path=\"url(#clip890)\" d=\"M242.017 284.605 Q238.406 284.605 236.577 288.169 Q234.771 291.711 234.771 298.841 Q234.771 305.947 236.577 309.512 Q238.406 313.054 242.017 313.054 Q245.651 313.054 247.457 309.512 Q249.285 305.947 249.285 298.841 Q249.285 291.711 247.457 288.169 Q245.651 284.605 242.017 284.605 M242.017 280.901 Q247.827 280.901 250.882 285.507 Q253.961 290.091 253.961 298.841 Q253.961 307.567 250.882 312.174 Q247.827 316.757 242.017 316.757 Q236.207 316.757 233.128 312.174 Q230.072 307.567 230.072 298.841 Q230.072 290.091 233.128 285.507 Q236.207 280.901 242.017 280.901 Z\" fill=\"#000000\" fill-rule=\"nonzero\" fill-opacity=\"1\" /><path clip-path=\"url(#clip890)\" d=\"M112.179 130.769 L119.818 130.769 L119.818 104.403 L111.508 106.07 L111.508 101.811 L119.772 100.144 L124.448 100.144 L124.448 130.769 L132.087 130.769 L132.087 134.704 L112.179 134.704 L112.179 130.769 Z\" fill=\"#000000\" fill-rule=\"nonzero\" fill-opacity=\"1\" /><path clip-path=\"url(#clip890)\" d=\"M151.531 103.223 Q147.92 103.223 146.091 106.788 Q144.286 110.329 144.286 117.459 Q144.286 124.565 146.091 128.13 Q147.92 131.672 151.531 131.672 Q155.165 131.672 156.971 128.13 Q158.8 124.565 158.8 117.459 Q158.8 110.329 156.971 106.788 Q155.165 103.223 151.531 103.223 M151.531 99.5191 Q157.341 99.5191 160.397 104.126 Q163.475 108.709 163.475 117.459 Q163.475 126.186 160.397 130.792 Q157.341 135.375 151.531 135.375 Q145.721 135.375 142.642 130.792 Q139.587 126.186 139.587 117.459 Q139.587 108.709 142.642 104.126 Q145.721 99.5191 151.531 99.5191 Z\" fill=\"#000000\" fill-rule=\"nonzero\" fill-opacity=\"1\" /><path clip-path=\"url(#clip890)\" d=\"M181.693 103.223 Q178.082 103.223 176.253 106.788 Q174.448 110.329 174.448 117.459 Q174.448 124.565 176.253 128.13 Q178.082 131.672 181.693 131.672 Q185.327 131.672 187.133 128.13 Q188.961 124.565 188.961 117.459 Q188.961 110.329 187.133 106.788 Q185.327 103.223 181.693 103.223 M181.693 99.5191 Q187.503 99.5191 190.559 104.126 Q193.637 108.709 193.637 117.459 Q193.637 126.186 190.559 130.792 Q187.503 135.375 181.693 135.375 Q175.883 135.375 172.804 130.792 Q169.749 126.186 169.749 117.459 Q169.749 108.709 172.804 104.126 Q175.883 99.5191 181.693 99.5191 Z\" fill=\"#000000\" fill-rule=\"nonzero\" fill-opacity=\"1\" /><path clip-path=\"url(#clip890)\" d=\"M211.855 103.223 Q208.244 103.223 206.415 106.788 Q204.61 110.329 204.61 117.459 Q204.61 124.565 206.415 128.13 Q208.244 131.672 211.855 131.672 Q215.489 131.672 217.295 128.13 Q219.123 124.565 219.123 117.459 Q219.123 110.329 217.295 106.788 Q215.489 103.223 211.855 103.223 M211.855 99.5191 Q217.665 99.5191 220.721 104.126 Q223.799 108.709 223.799 117.459 Q223.799 126.186 220.721 130.792 Q217.665 135.375 211.855 135.375 Q206.045 135.375 202.966 130.792 Q199.91 126.186 199.91 117.459 Q199.91 108.709 202.966 104.126 Q206.045 99.5191 211.855 99.5191 Z\" fill=\"#000000\" fill-rule=\"nonzero\" fill-opacity=\"1\" /><path clip-path=\"url(#clip890)\" d=\"M242.017 103.223 Q238.406 103.223 236.577 106.788 Q234.771 110.329 234.771 117.459 Q234.771 124.565 236.577 128.13 Q238.406 131.672 242.017 131.672 Q245.651 131.672 247.457 128.13 Q249.285 124.565 249.285 117.459 Q249.285 110.329 247.457 106.788 Q245.651 103.223 242.017 103.223 M242.017 99.5191 Q247.827 99.5191 250.882 104.126 Q253.961 108.709 253.961 117.459 Q253.961 126.186 250.882 130.792 Q247.827 135.375 242.017 135.375 Q236.207 135.375 233.128 130.792 Q230.072 126.186 230.072 117.459 Q230.072 108.709 233.128 104.126 Q236.207 99.5191 242.017 99.5191 Z\" fill=\"#000000\" fill-rule=\"nonzero\" fill-opacity=\"1\" /><path clip-path=\"url(#clip890)\" d=\"M26.066 590.771 L49.7146 599.492 L49.7146 582.019 L26.066 590.771 M19.7322 594.4 L19.7322 587.111 L67.2522 569.001 L67.2522 575.685 L55.0618 580.013 L55.0618 601.434 L67.2522 605.763 L67.2522 612.542 L19.7322 594.4 Z\" fill=\"#000000\" fill-rule=\"nonzero\" fill-opacity=\"1\" /><path clip-path=\"url(#clip890)\" d=\"M17.727 544.143 L30.8721 544.143 Q30.8721 537.809 35.7419 533.576 Q40.7072 529.215 49.46 529.215 Q58.2129 529.215 63.1781 533.576 Q68.0479 537.809 68.0479 544.143 L80.8111 544.143 L80.8111 549.967 L68.0479 549.967 Q68.0479 556.301 63.1781 560.566 Q58.2129 564.895 49.46 564.895 Q40.7072 564.895 35.7419 560.566 Q30.8721 556.301 30.8721 549.967 L17.727 549.967 L17.727 544.143 M62.828 544.143 Q62.828 540.546 59.5497 538.095 Q55.8894 535.422 49.46 535.39 Q43.0943 535.358 39.3704 538.095 Q36.092 540.546 36.092 544.143 L62.828 544.143 M62.828 549.967 L36.092 549.967 Q36.092 553.564 39.3704 555.983 Q43.0943 558.752 49.46 558.72 Q55.8894 558.688 59.5497 555.983 Q62.828 553.564 62.828 549.967 Z\" fill=\"#000000\" fill-rule=\"nonzero\" fill-opacity=\"1\" /><path clip-path=\"url(#clip890)\" d=\"M610.919 12.096 L623.112 12.096 L638.546 53.2532 L654.061 12.096 L666.254 12.096 L666.254 72.576 L658.274 72.576 L658.274 19.4686 L642.678 60.9499 L634.454 60.9499 L618.858 19.4686 L618.858 72.576 L610.919 72.576 L610.919 12.096 Z\" fill=\"#000000\" fill-rule=\"nonzero\" fill-opacity=\"1\" /><path clip-path=\"url(#clip890)\" d=\"M702.793 49.7694 Q693.76 49.7694 690.276 51.8354 Q686.792 53.9013 686.792 58.8839 Q686.792 62.8538 689.385 65.2034 Q692.018 67.5124 696.514 67.5124 Q702.712 67.5124 706.439 63.1374 Q710.206 58.7219 710.206 51.4303 L710.206 49.7694 L702.793 49.7694 M717.66 46.6907 L717.66 72.576 L710.206 72.576 L710.206 65.6895 Q707.654 69.8214 703.846 71.8063 Q700.038 73.7508 694.529 73.7508 Q687.562 73.7508 683.43 69.8619 Q679.338 65.9325 679.338 59.3701 Q679.338 51.7138 684.442 47.825 Q689.587 43.9361 699.755 43.9361 L710.206 43.9361 L710.206 43.2069 Q710.206 38.0623 706.803 35.2672 Q703.441 32.4315 697.324 32.4315 Q693.435 32.4315 689.749 33.3632 Q686.063 34.295 682.66 36.1584 L682.66 29.2718 Q686.751 27.692 690.6 26.9223 Q694.448 26.1121 698.094 26.1121 Q707.938 26.1121 712.799 31.2163 Q717.66 36.3204 717.66 46.6907 Z\" fill=\"#000000\" fill-rule=\"nonzero\" fill-opacity=\"1\" /><path clip-path=\"url(#clip890)\" d=\"M761.936 28.5427 L761.936 35.5912 Q758.777 33.9709 755.374 33.1607 Q751.971 32.3505 748.325 32.3505 Q742.775 32.3505 739.98 34.0519 Q737.226 35.7533 737.226 39.156 Q737.226 41.7486 739.211 43.2475 Q741.196 44.7058 747.191 46.0426 L749.743 46.6097 Q757.683 48.3111 761.005 51.4303 Q764.367 54.509 764.367 60.0587 Q764.367 66.3781 759.344 70.0644 Q754.361 73.7508 745.611 73.7508 Q741.965 73.7508 737.995 73.0216 Q734.066 72.3329 729.691 70.9151 L729.691 63.2184 Q733.823 65.3654 737.833 66.4591 Q741.844 67.5124 745.773 67.5124 Q751.039 67.5124 753.875 65.73 Q756.711 63.9071 756.711 60.6258 Q756.711 57.5877 754.645 55.9673 Q752.619 54.3469 745.692 52.8481 L743.1 52.2405 Q736.173 50.7821 733.094 47.7845 Q730.015 44.7463 730.015 39.4801 Q730.015 33.0797 734.552 29.5959 Q739.089 26.1121 747.434 26.1121 Q751.566 26.1121 755.212 26.7198 Q758.858 27.3274 761.936 28.5427 Z\" fill=\"#000000\" fill-rule=\"nonzero\" fill-opacity=\"1\" /><path clip-path=\"url(#clip890)\" d=\"M775.952 9.54393 L783.447 9.54393 L783.447 46.7717 L805.686 27.2059 L815.206 27.2059 L791.143 48.4326 L816.218 72.576 L806.496 72.576 L783.447 50.4176 L783.447 72.576 L775.952 72.576 L775.952 9.54393 Z\" fill=\"#000000\" fill-rule=\"nonzero\" fill-opacity=\"1\" /><path clip-path=\"url(#clip890)\" d=\"M860.13 48.0275 L860.13 51.6733 L825.86 51.6733 Q826.346 59.3701 830.478 63.421 Q834.65 67.4314 842.063 67.4314 Q846.357 67.4314 850.368 66.3781 Q854.418 65.3249 858.388 63.2184 L858.388 70.267 Q854.378 71.9684 850.165 72.8596 Q845.952 73.7508 841.618 73.7508 Q830.761 73.7508 824.401 67.4314 Q818.082 61.1119 818.082 50.3365 Q818.082 39.1965 824.077 32.6746 Q830.113 26.1121 840.321 26.1121 Q849.476 26.1121 854.783 32.0264 Q860.13 37.9003 860.13 48.0275 M852.677 45.84 Q852.596 39.7232 849.233 36.0774 Q845.912 32.4315 840.402 32.4315 Q834.164 32.4315 830.397 35.9558 Q826.67 39.4801 826.103 45.8805 L852.677 45.84 Z\" fill=\"#000000\" fill-rule=\"nonzero\" fill-opacity=\"1\" /><path clip-path=\"url(#clip890)\" d=\"M902.219 34.0924 L902.219 9.54393 L909.673 9.54393 L909.673 72.576 L902.219 72.576 L902.219 65.7705 Q899.87 69.8214 896.264 71.8063 Q892.699 73.7508 887.676 73.7508 Q879.453 73.7508 874.268 67.1883 Q869.123 60.6258 869.123 49.9314 Q869.123 39.2371 874.268 32.6746 Q879.453 26.1121 887.676 26.1121 Q892.699 26.1121 896.264 28.0971 Q899.87 30.0415 902.219 34.0924 M876.82 49.9314 Q876.82 58.1548 880.182 62.8538 Q883.585 67.5124 889.499 67.5124 Q895.414 67.5124 898.816 62.8538 Q902.219 58.1548 902.219 49.9314 Q902.219 41.7081 898.816 37.0496 Q895.414 32.3505 889.499 32.3505 Q883.585 32.3505 880.182 37.0496 Q876.82 41.7081 876.82 49.9314 Z\" fill=\"#000000\" fill-rule=\"nonzero\" fill-opacity=\"1\" /><path clip-path=\"url(#clip890)\" d=\"M947.63 46.5287 L969.464 46.5287 L969.464 53.1722 L947.63 53.1722 L947.63 46.5287 Z\" fill=\"#000000\" fill-rule=\"nonzero\" fill-opacity=\"1\" /><path clip-path=\"url(#clip890)\" d=\"M1008.03 12.096 L1019.05 12.096 L1045.86 62.6918 L1045.86 12.096 L1053.8 12.096 L1053.8 72.576 L1042.79 72.576 L1015.97 21.9802 L1015.97 72.576 L1008.03 72.576 L1008.03 12.096 Z\" fill=\"#000000\" fill-rule=\"nonzero\" fill-opacity=\"1\" /><path clip-path=\"url(#clip890)\" d=\"M1106.34 14.0809 L1106.34 22.0612 Q1101.69 19.8332 1097.55 18.7395 Q1093.42 17.6457 1089.57 17.6457 Q1082.89 17.6457 1079.24 20.2383 Q1075.64 22.8309 1075.64 27.611 Q1075.64 31.6214 1078.03 33.6873 Q1080.46 35.7128 1087.18 36.9686 L1092.13 37.9813 Q1101.28 39.7232 1105.61 44.1387 Q1109.99 48.5136 1109.99 55.8863 Q1109.99 64.6767 1104.08 69.2137 Q1098.2 73.7508 1086.82 73.7508 Q1082.52 73.7508 1077.66 72.7785 Q1072.84 71.8063 1067.66 69.9024 L1067.66 61.4765 Q1072.64 64.2716 1077.42 65.6895 Q1082.2 67.1073 1086.82 67.1073 Q1093.83 67.1073 1097.63 64.3527 Q1101.44 61.598 1101.44 56.4939 Q1101.44 52.0379 1098.69 49.5264 Q1095.97 47.0148 1089.74 45.759 L1084.75 44.7868 Q1075.6 42.9639 1071.51 39.075 Q1067.41 35.1862 1067.41 28.2591 Q1067.41 20.2383 1073.05 15.6203 Q1078.72 11.0023 1088.64 11.0023 Q1092.9 11.0023 1097.31 11.7719 Q1101.73 12.5416 1106.34 14.0809 Z\" fill=\"#000000\" fill-rule=\"nonzero\" fill-opacity=\"1\" /><path clip-path=\"url(#clip890)\" d=\"M1122.75 12.096 L1130.93 12.096 L1130.93 72.576 L1122.75 72.576 L1122.75 12.096 Z\" fill=\"#000000\" fill-rule=\"nonzero\" fill-opacity=\"1\" /><path clip-path=\"url(#clip890)\" d=\"M1155.4 18.8205 L1155.4 65.8515 L1165.28 65.8515 Q1177.8 65.8515 1183.59 60.1802 Q1189.43 54.509 1189.43 42.2752 Q1189.43 30.1225 1183.59 24.4918 Q1177.8 18.8205 1165.28 18.8205 L1155.4 18.8205 M1147.22 12.096 L1164.03 12.096 Q1181.61 12.096 1189.83 19.4281 Q1198.06 26.7198 1198.06 42.2752 Q1198.06 57.9117 1189.79 65.2439 Q1181.53 72.576 1164.03 72.576 L1147.22 72.576 L1147.22 12.096 Z\" fill=\"#000000\" fill-rule=\"nonzero\" fill-opacity=\"1\" /><path clip-path=\"url(#clip890)\" d=\"M1211.1 12.096 L1249.34 12.096 L1249.34 18.9825 L1219.28 18.9825 L1219.28 36.8875 L1248.09 36.8875 L1248.09 43.7741 L1219.28 43.7741 L1219.28 65.6895 L1250.07 65.6895 L1250.07 72.576 L1211.1 72.576 L1211.1 12.096 Z\" fill=\"#000000\" fill-rule=\"nonzero\" fill-opacity=\"1\" /><path clip-path=\"url(#clip890)\" d=\"M1264.17 34.9026 L1316.1 34.9026 L1316.1 41.7081 L1264.17 41.7081 L1264.17 34.9026 M1264.17 51.4303 L1316.1 51.4303 L1316.1 58.3168 L1264.17 58.3168 L1264.17 51.4303 Z\" fill=\"#000000\" fill-rule=\"nonzero\" fill-opacity=\"1\" /><path clip-path=\"url(#clip890)\" d=\"M1352.27 39.075 Q1346.77 39.075 1343.52 42.8424 Q1340.32 46.6097 1340.32 53.1722 Q1340.32 59.6941 1343.52 63.502 Q1346.77 67.2693 1352.27 67.2693 Q1357.78 67.2693 1360.98 63.502 Q1364.22 59.6941 1364.22 53.1722 Q1364.22 46.6097 1360.98 42.8424 Q1357.78 39.075 1352.27 39.075 M1368.52 13.4328 L1368.52 20.8865 Q1365.44 19.4281 1362.28 18.6585 Q1359.16 17.8888 1356.08 17.8888 Q1347.98 17.8888 1343.69 23.3575 Q1339.43 28.8262 1338.83 39.8852 Q1341.22 36.3609 1344.82 34.4975 Q1348.43 32.5936 1352.76 32.5936 Q1361.88 32.5936 1367.14 38.1433 Q1372.45 43.6525 1372.45 53.1722 Q1372.45 62.4892 1366.94 68.12 Q1361.43 73.7508 1352.27 73.7508 Q1341.78 73.7508 1336.23 65.73 Q1330.68 57.6687 1330.68 42.3968 Q1330.68 28.0566 1337.49 19.5497 Q1344.29 11.0023 1355.76 11.0023 Q1358.84 11.0023 1361.96 11.6099 Q1365.12 12.2175 1368.52 13.4328 Z\" fill=\"#000000\" fill-rule=\"nonzero\" fill-opacity=\"1\" /><path clip-path=\"url(#clip890)\" d=\"M1409.03 19.2256 L1388.37 51.5113 L1409.03 51.5113 L1409.03 19.2256 M1406.88 12.096 L1417.17 12.096 L1417.17 51.5113 L1425.8 51.5113 L1425.8 58.3168 L1417.17 58.3168 L1417.17 72.576 L1409.03 72.576 L1409.03 58.3168 L1381.72 58.3168 L1381.72 50.4176 L1406.88 12.096 Z\" fill=\"#000000\" fill-rule=\"nonzero\" fill-opacity=\"1\" /><g clip-path=\"url(#clip892)\">\n",
       "<image width=\"1469\" height=\"907\" xlink:href=\"data:image/png;base64,\n",
       "iVBORw0KGgoAAAANSUhEUgAABb0AAAOLCAYAAAB0Sy5fAAAc4UlEQVR4nOzasQ0CMQAEQbBexDRA\n",
       "yfTq2AHQhCVLy0wFF6/u/nq8v7c/Nsc6PQEAAAAAgE3G6QEAAAAAALCL6A0AAAAAQIboDQAAAABA\n",
       "hugNAAAAAECG6A0AAAAAQIboDQAAAABAhugNAAAAAECG6A0AAAAAQIboDQAAAABAhugNAAAAAECG\n",
       "6A0AAAAAQIboDQAAAABAhugNAAAAAECG6A0AAAAAQIboDQAAAABAhugNAAAAAECG6A0AAAAAQIbo\n",
       "DQAAAABAhugNAAAAAECG6A0AAAAAQIboDQAAAABAhugNAAAAAECG6A0AAAAAQIboDQAAAABAhugN\n",
       "AAAAAECG6A0AAAAAQIboDQAAAABAhugNAAAAAECG6A0AAAAAQIboDQAAAABAhugNAAAAAECG6A0A\n",
       "AAAAQIboDQAAAABAhugNAAAAAECG6A0AAAAAQIboDQAAAABAhugNAAAAAECG6A0AAAAAQIboDQAA\n",
       "AABAhugNAAAAAECG6A0AAAAAQIboDQAAAABAhugNAAAAAECG6A0AAAAAQIboDQAAAABAxjXHOr0B\n",
       "AAAAAAC28PQGAAAAACBD9AYAAAAAIEP0BgAAAAAgQ/QGAAAAACBD9AYAAAAAIEP0BgAAAAAgQ/QG\n",
       "AAAAACBD9AYAAAAAIEP0BgAAAAAgQ/QGAAAAACBD9AYAAAAAIEP0BgAAAAAgQ/QGAAAAACBD9AYA\n",
       "AAAAIEP0BgAAAAAgQ/QGAAAAACBD9AYAAAAAIEP0BgAAAAAgQ/QGAAAAACBD9AYAAAAAIEP0BgAA\n",
       "AAAgQ/QGAAAAACBD9AYAAAAAIEP0BgAAAAAgQ/QGAAAAACBD9AYAAAAAIEP0BgAAAAAgQ/QGAAAA\n",
       "ACBD9AYAAAAAIEP0BgAAAAAgQ/QGAAAAACBD9AYAAAAAIEP0BgAAAAAgQ/QGAAAAACBD9AYAAAAA\n",
       "IEP0BgAAAAAgQ/QGAAAAACBD9AYAAAAAIEP0BgAAAAAgQ/QGAAAAACBD9AYAAAAAIEP0BgAAAAAg\n",
       "Q/QGAAAAACBD9AYAAAAAIEP0BgAAAAAgQ/QGAAAAACBD9AYAAAAAIEP0BgAAAAAgQ/QGAAAAACBD\n",
       "9AYAAAAAIEP0BgAAAAAgQ/QGAAAAACBD9AYAAAAAIEP0BgAAAAAgQ/QGAAAAACBD9AYAAAAAIEP0\n",
       "BgAAAAAgQ/QGAAAAACBD9AYAAAAAIEP0BgAAAAAgQ/QGAAAAACBD9AYAAAAAIEP0BgAAAAAgQ/QG\n",
       "AAAAACBD9AYAAAAAIEP0BgAAAAAgQ/QGAAAAACBD9AYAAAAAIEP0BgAAAAAgQ/QGAAAAACBD9AYA\n",
       "AAAAIEP0BgAAAAAgQ/QGAAAAACBD9AYAAAAAIEP0BgAAAAAgQ/QGAAAAACBD9AYAAAAAIEP0BgAA\n",
       "AAAgQ/QGAAAAACBD9AYAAAAAIEP0BgAAAAAgQ/QGAAAAACBD9AYAAAAAIEP0BgAAAAAgQ/QGAAAA\n",
       "ACBD9AYAAAAAIEP0BgAAAAAgQ/QGAAAAACBD9AYAAAAAIEP0BgAAAAAgQ/QGAAAAACBD9AYAAAAA\n",
       "IEP0BgAAAAAgQ/QGAAAAACBD9AYAAAAAIEP0BgAAAAAgQ/QGAAAAACBD9AYAAAAAIEP0BgAAAAAg\n",
       "Q/QGAAAAACBD9AYAAAAAIEP0BgAAAAAgQ/QGAAAAACBD9AYAAAAAIEP0BgAAAAAgQ/QGAAAAACBD\n",
       "9AYAAAAAIEP0BgAAAAAgQ/QGAAAAACBD9AYAAAAAIEP0BgAAAAAgQ/QGAAAAACBD9AYAAAAAIEP0\n",
       "BgAAAAAgQ/QGAAAAACBD9AYAAAAAIEP0BgAAAAAgQ/QGAAAAACBD9AYAAAAAIEP0BgAAAAAgQ/QG\n",
       "AAAAACBD9AYAAAAAIEP0BgAAAAAgQ/QGAAAAACBD9AYAAAAAIEP0BgAAAAAgQ/QGAAAAACBD9AYA\n",
       "AAAAIEP0BgAAAAAgQ/QGAAAAACBD9AYAAAAAIEP0BgAAAAAgQ/QGAAAAACBD9AYAAAAAIEP0BgAA\n",
       "AAAgQ/QGAAAAACBD9AYAAAAAIEP0BgAAAAAgQ/QGAAAAACBD9AYAAAAAIEP0BgAAAAAgQ/QGAAAA\n",
       "ACBD9AYAAAAAIEP0BgAAAAAgQ/QGAAAAACBD9AYAAAAAIEP0BgAAAAAgQ/QGAAAAACBD9AYAAAAA\n",
       "IEP0BgAAAAAgQ/QGAAAAACBD9AYAAAAAIEP0BgAAAAAgQ/QGAAAAACBD9AYAAAAAIEP0BgAAAAAg\n",
       "Q/QGAAAAACBD9AYAAAAAIEP0BgAAAAAgQ/QGAAAAACBD9AYAAAAAIEP0BgAAAAAgQ/QGAAAAACBD\n",
       "9AYAAAAAIEP0BgAAAAAgQ/QGAAAAACBD9AYAAAAAIEP0BgAAAAAgQ/QGAAAAACBD9AYAAAAAIEP0\n",
       "BgAAAAAgQ/QGAAAAACBD9AYAAAAAIEP0BgAAAAAgQ/QGAAAAACBD9AYAAAAAIEP0BgAAAAAgQ/QG\n",
       "AAAAACBD9AYAAAAAIEP0BgAAAAAgQ/QGAAAAACBD9AYAAAAAIEP0BgAAAAAgQ/QGAAAAACBD9AYA\n",
       "AAAAIEP0BgAAAAAgQ/QGAAAAACBD9AYAAAAAIEP0BgAAAAAgQ/QGAAAAACBD9AYAAAAAIEP0BgAA\n",
       "AAAgQ/QGAAAAACBD9AYAAAAAIEP0BgAAAAAgQ/QGAAAAACBD9AYAAAAAIEP0BgAAAAAgQ/QGAAAA\n",
       "ACBD9AYAAAAAIEP0BgAAAAAgQ/QGAAAAACBD9AYAAAAAIEP0BgAAAAAgQ/QGAAAAACBD9AYAAAAA\n",
       "IEP0BgAAAAAgQ/QGAAAAACBD9AYAAAAAIEP0BgAAAAAgQ/QGAAAAACBD9AYAAAAAIEP0BgAAAAAg\n",
       "Q/QGAAAAACBD9AYAAAAAIEP0BgAAAAAgQ/QGAAAAACBD9AYAAAAAIEP0BgAAAAAgQ/QGAAAAACBD\n",
       "9AYAAAAAIEP0BgAAAAAgQ/QGAAAAACBD9AYAAAAAIEP0BgAAAAAgQ/QGAAAAACBD9AYAAAAAIEP0\n",
       "BgAAAAAgQ/QGAAAAACBD9AYAAAAAIEP0BgAAAAAgQ/QGAAAAACBD9AYAAAAAIEP0BgAAAAAgQ/QG\n",
       "AAAAACBD9AYAAAAAIEP0BgAAAAAgQ/QGAAAAACBD9AYAAAAAIEP0BgAAAAAgQ/QGAAAAACBD9AYA\n",
       "AAAAIEP0BgAAAAAgQ/QGAAAAACBD9AYAAAAAIEP0BgAAAAAgQ/QGAAAAACBD9AYAAAAAIEP0BgAA\n",
       "AAAgQ/QGAAAAACBD9AYAAAAAIEP0BgAAAAAgQ/QGAAAAACBD9AYAAAAAIEP0BgAAAAAgQ/QGAAAA\n",
       "ACBD9AYAAAAAIEP0BgAAAAAgQ/QGAAAAACBD9AYAAAAAIEP0BgAAAAAgQ/QGAAAAACBD9AYAAAAA\n",
       "IEP0BgAAAAAgQ/QGAAAAACBD9AYAAAAAIEP0BgAAAAAgQ/QGAAAAACBD9AYAAAAAIEP0BgAAAAAg\n",
       "Q/QGAAAAACBD9AYAAAAAIEP0BgAAAAAgQ/QGAAAAACBD9AYAAAAAIEP0BgAAAAAgQ/QGAAAAACBD\n",
       "9AYAAAAAIEP0BgAAAAAgQ/QGAAAAACBD9AYAAAAAIEP0BgAAAAAgQ/QGAAAAACBD9AYAAAAAIEP0\n",
       "BgAAAAAgQ/QGAAAAACBD9AYAAAAAIEP0BgAAAAAgQ/QGAAAAACBD9AYAAAAAIEP0BgAAAAAgQ/QG\n",
       "AAAAACBD9AYAAAAAIEP0BgAAAAAgQ/QGAAAAACBD9AYAAAAAIEP0BgAAAAAgQ/QGAAAAACBD9AYA\n",
       "AAAAIEP0BgAAAAAgQ/QGAAAAACBD9AYAAAAAIEP0BgAAAAAgQ/QGAAAAACBD9AYAAAAAIEP0BgAA\n",
       "AAAgQ/QGAAAAACBD9AYAAAAAIEP0BgAAAAAgQ/QGAAAAACBD9AYAAAAAIEP0BgAAAAAgQ/QGAAAA\n",
       "ACBD9AYAAAAAIEP0BgAAAAAgQ/QGAAAAACBD9AYAAAAAIEP0BgAAAAAgQ/QGAAAAACBD9AYAAAAA\n",
       "IEP0BgAAAAAgQ/QGAAAAACBD9AYAAAAAIEP0BgAAAAAgQ/QGAAAAACBD9AYAAAAAIEP0BgAAAAAg\n",
       "Q/QGAAAAACBD9AYAAAAAIEP0BgAAAAAgQ/QGAAAAACBD9AYAAAAAIEP0BgAAAAAgQ/QGAAAAACBD\n",
       "9AYAAAAAIEP0BgAAAAAgQ/QGAAAAACBD9AYAAAAAIEP0BgAAAAAgQ/QGAAAAACBD9AYAAAAAIEP0\n",
       "BgAAAAAgQ/QGAAAAACBD9AYAAAAAIEP0BgAAAAAgQ/QGAAAAACBD9AYAAAAAIEP0BgAAAAAgQ/QG\n",
       "AAAAACBD9AYAAAAAIEP0BgAAAAAgQ/QGAAAAACBD9AYAAAAAIEP0BgAAAAAgQ/QGAAAAACBD9AYA\n",
       "AAAAIEP0BgAAAAAgQ/QGAAAAACBD9AYAAAAAIEP0BgAAAAAgQ/QGAAAAACBD9AYAAAAAIEP0BgAA\n",
       "AAAgQ/QGAAAAACBD9AYAAAAAIEP0BgAAAAAgQ/QGAAAAACBD9AYAAAAAIEP0BgAAAAAgQ/QGAAAA\n",
       "ACBD9AYAAAAAIEP0BgAAAAAgQ/QGAAAAACBD9AYAAAAAIEP0BgAAAAAgQ/QGAAAAACBD9AYAAAAA\n",
       "IEP0BgAAAAAgQ/QGAAAAACBD9AYAAAAAIEP0BgAAAAAgQ/QGAAAAACBD9AYAAAAAIEP0BgAAAAAg\n",
       "Q/QGAAAAACBD9AYAAAAAIEP0BgAAAAAgQ/QGAAAAACBD9AYAAAAAIEP0BgAAAAAgQ/QGAAAAACBD\n",
       "9AYAAAAAIEP0BgAAAAAgQ/QGAAAAACBD9AYAAAAAIEP0BgAAAAAgQ/QGAAAAACBD9AYAAAAAIEP0\n",
       "BgAAAAAgQ/QGAAAAACBD9AYAAAAAIEP0BgAAAAAgQ/QGAAAAACBD9AYAAAAAIEP0BgAAAAAgQ/QG\n",
       "AAAAACBD9AYAAAAAIEP0BgAAAAAgQ/QGAAAAACBD9AYAAAAAIEP0BgAAAAAgQ/QGAAAAACBD9AYA\n",
       "AAAAIEP0BgAAAAAgQ/QGAAAAACBD9AYAAAAAIEP0BgAAAAAgQ/QGAAAAACBD9AYAAAAAIEP0BgAA\n",
       "AAAgQ/QGAAAAACBD9AYAAAAAIEP0BgAAAAAgQ/QGAAAAACBD9AYAAAAAIEP0BgAAAAAgQ/QGAAAA\n",
       "ACBD9AYAAAAAIEP0BgAAAAAgQ/QGAAAAACBD9AYAAAAAIEP0BgAAAAAgQ/QGAAAAACBD9AYAAAAA\n",
       "IEP0BgAAAAAgQ/QGAAAAACBD9AYAAAAAIEP0BgAAAAAgQ/QGAAAAACBD9AYAAAAAIEP0BgAAAAAg\n",
       "Q/QGAAAAACBD9AYAAAAAIEP0BgAAAAAgQ/QGAAAAACBD9AYAAAAAIEP0BgAAAAAgQ/QGAAAAACBD\n",
       "9AYAAAAAIEP0BgAAAAAgQ/QGAAAAACBD9AYAAAAAION6fh6nNxw1xzo9AQAAAACATTy9AQAAAADI\n",
       "EL0BAAAAAMgQvQEAAAAAyBC9AQAAAADIEL0BAAAAAMgQvQEAAAAAyBC9AQAAAADIEL0BAAAAAMgQ\n",
       "vQEAAAAAyBC9AQAAAADIEL0BAAAAAMgQvQEAAAAAyBC9AQAAAADIEL0BAAAAAMgQvQEAAAAAyBC9\n",
       "AQAAAADIEL0BAAAAAMgQvQEAAAAAyBC9AQAAAADIEL0BAAAAAMgQvQEAAAAAyBC9AQAAAADIEL0B\n",
       "AAAAAMgQvQEAAAAAyBC9AQAAAADIEL0BAAAAAMgQvQEAAAAAyBC9AQAAAADIEL0BAAAAAMgQvQEA\n",
       "AAAAyBC9AQAAAADIEL0BAAAAAMgQvQEAAAAAyBC9AQAAAADIEL0BAAAAAMgQvQEAAAAAyBC9AQAA\n",
       "AADIEL0BAAAAAMgQvQEAAAAAyBC9AQAAAADIEL0BAAAAAMgQvQEAAAAAyBC9AQAAAADIEL0BAAAA\n",
       "AMgQvQEAAAAAyLjmWKc3AAAAAADAFp7eAAAAAABkiN4AAAAAAGSI3gAAAAAAZIjeAAAAAABkiN4A\n",
       "AAAAAGSI3gAAAAAAZIjeAAAAAABkiN4AAAAAAGSI3gAAAAAAZIjeAAAAAABkiN4AAAAAAGSI3gAA\n",
       "AAAAZIjeAAAAAABkiN4AAAAAAGSI3gAAAAAAZIjeAAAAAABkiN4AAAAAAGSI3gAAAAAAZIjeAAAA\n",
       "AABkiN4AAAAAAGSI3gAAAAAAZIjeAAAAAABkiN4AAAAAAGSI3gAAAAAAZIjeAAAAAABkiN4AAAAA\n",
       "AGSI3gAAAAAAZIjeAAAAAABkiN4AAAAAAGSI3gAAAAAAZIjeAAAAAABkiN4AAAAAAGSI3gAAAAAA\n",
       "ZIjeAAAAAABkiN4AAAAAAGSI3gAAAAAAZIjeAAAAAABkiN4AAAAAAGSI3gAAAAAAZIjeAAAAAABk\n",
       "iN4AAAAAAGSI3gAAAAAAZIjeAAAAAABkiN4AAAAAAGSI3gAAAAAAZIjeAAAAAABkiN4AAAAAAGSI\n",
       "3gAAAAAAZIjeAAAAAABkiN4AAAAAAGSI3gAAAAAAZIjeAAAAAABkiN4AAAAAAGSI3gAAAAAAZIje\n",
       "AAAAAABkiN4AAAAAAGSI3gAAAAAAZIjeAAAAAABkiN4AAAAAAGSI3gAAAAAAZIjeAAAAAABkiN4A\n",
       "AAAAAGSI3gAAAAAAZIjeAAAAAABkiN4AAAAAAGSI3gAAAAAAZIjeAAAAAABkiN4AAAAAAGSI3gAA\n",
       "AAAAZIjeAAAAAABkiN4AAAAAAGSI3gAAAAAAZIjeAAAAAABkiN4AAAAAAGSI3gAAAAAAZIjeAAAA\n",
       "AABkiN4AAAAAAGSI3gAAAAAAZIjeAAAAAABkiN4AAAAAAGSI3gAAAAAAZIjeAAAAAABkiN4AAAAA\n",
       "AGSI3gAAAAAAZIjeAAAAAABkiN4AAAAAAGSI3gAAAAAAZIjeAAAAAABkiN4AAAAAAGSI3gAAAAAA\n",
       "ZIjeAAAAAABkiN4AAAAAAGSI3gAAAAAAZIjeAAAAAABkiN4AAAAAAGSI3gAAAAAAZIjeAAAAAABk\n",
       "iN4AAAAAAGSI3gAAAAAAZIjeAAAAAABkiN4AAAAAAGSI3gAAAAAAZIjeAAAAAABkiN4AAAAAAGSI\n",
       "3gAAAAAAZIjeAAAAAABkiN4AAAAAAGSI3gAAAAAAZIjeAAAAAABkiN4AAAAAAGSI3gAAAAAAZIje\n",
       "AAAAAABkiN4AAAAAAGSI3gAAAAAAZIjeAAAAAABkiN4AAAAAAGSI3gAAAAAAZIjeAAAAAABkiN4A\n",
       "AAAAAGSI3gAAAAAAZIjeAAAAAABkiN4AAAAAAGSI3gAAAAAAZIjeAAAAAABkiN4AAAAAAGSI3gAA\n",
       "AAAAZIjeAAAAAABkiN4AAAAAAGSI3gAAAAAAZIjeAAAAAABkiN4AAAAAAGSI3gAAAAAAZIjeAAAA\n",
       "AABkiN4AAAAAAGSI3gAAAAAAZIjeAAAAAABkiN4AAAAAAGSI3gAAAAAAZIjeAAAAAABkiN4AAAAA\n",
       "AGSI3gAAAAAAZIjeAAAAAABkiN4AAAAAAGSI3gAAAAAAZIjeAAAAAABkiN4AAAAAAGSI3gAAAAAA\n",
       "ZIjeAAAAAABkiN4AAAAAAGSI3gAAAAAAZIjeAAAAAABkiN4AAAAAAGSI3gAAAAAAZIjeAAAAAABk\n",
       "iN4AAAAAAGSI3gAAAAAAZIjeAAAAAABkiN4AAAAAAGSI3gAAAAAAZIjeAAAAAABkiN4AAAAAAGSI\n",
       "3gAAAAAAZIjeAAAAAABkiN4AAAAAAGSI3gAAAAAA/Nq1YxuEgSCKgsJCTnEDBDRH/U5xYGgCaaXn\n",
       "mQp+ssE9XYboDQAAAABAhugNAAAAAECG6A0AAAAAQIboDQAAAABAhugNAAAAAECG6A0AAAAAQIbo\n",
       "DQAAAABAhugNAAAAAECG6A0AAAAAQIboDQAAAABAhugNAAAAAECG6A0AAAAAQIboDQAAAABAhugN\n",
       "AAAAAECG6A0AAAAAQIboDQAAAABAhugNAAAAAECG6A0AAAAAQIboDQAAAABAhugNAAAAAECG6A0A\n",
       "AAAAQIboDQAAAABAhugNAAAAAECG6A0AAAAAQIboDQAAAABAhugNAAAAAECG6A0AAAAAQIboDQAA\n",
       "AABAhugNAAAAAECG6A0AAAAAQIboDQAAAABAhugNAAAAAECG6A0AAAAAQIboDQAAAABAhugNAAAA\n",
       "AECG6A0AAAAAQIboDQAAAABAhugNAAAAAECG6A0AAAAAQIboDQAAAABAhugNAAAAAECG6A0AAAAA\n",
       "QIboDQAAAABAhugNAAAAAECG6A0AAAAAQIboDQAAAABAhugNAAAAAECG6A0AAAAAQIboDQAAAABA\n",
       "hugNAAAAAECG6A0AAAAAQIboDQAAAABAhugNAAAAAECG6A0AAAAAQIboDQAAAABAhugNAAAAAECG\n",
       "6A0AAAAAQIboDQAAAABAhugNAAAAAECG6A0AAAAAQIboDQAAAABAhugNAAAAAECG6A0AAAAAQIbo\n",
       "DQAAAABAhugNAAAAAECG6A0AAAAAQIboDQAAAABAhugNAAAAAECG6A0AAAAAQIboDQAAAABAhugN\n",
       "AAAAAECG6A0AAAAAQIboDQAAAABAhugNAAAAAECG6A0AAAAAQIboDQAAAABAhugNAAAAAECG6A0A\n",
       "AAAAQIboDQAAAABAhugNAAAAAECG6A0AAAAAQIboDQAAAABAhugNAAAAAECG6A0AAAAAQIboDQAA\n",
       "AABAhugNAAAAAECG6A0AAAAAQIboDQAAAABAhugNAAAAAECG6A0AAAAAQIboDQAAAABAhugNAAAA\n",
       "AECG6A0AAAAAQIboDQAAAABAhugNAAAAAECG6A0AAAAAQIboDQAAAABAhugNAAAAAECG6A0AAAAA\n",
       "QIboDQAAAABAhugNAAAAAECG6A0AAAAAQIboDQAAAABAhugNAAAAAECG6A0AAAAAQIboDQAAAABA\n",
       "xn071+kNo/blmJ4AAAAAAMCf+OkNAAAAAECG6A0AAAAAQIboDQAAAABAhugNAAAAAECG6A0AAAAA\n",
       "QIboDQAAAABAhugNAAAAAECG6A0AAAAAQIboDQAAAABAhugNAAAAAECG6A0AAAAAQIboDQAAAABA\n",
       "hugNAAAAAECG6A0AAAAAQIboDQAAAABAhugNAAAAAECG6A0AAAAAQIboDQAAAABAhugNAAAAAECG\n",
       "6A0AAAAAQIboDQAAAABAhugNAAAAAECG6A0AAAAAQIboDQAAAABAhugNAAAAAECG6A0AAAAAQIbo\n",
       "DQAAAABAhugNAAAAAECG6A0AAAAAQIboDQAAAABAhugNAAAAAECG6A0AAAAAQIboDQAAAABAhugN\n",
       "AAAAAECG6A0AAAAAQIboDQAAAABAhugNAAAAAECG6A0AAAAAQIboDQAAAABAhugNAAAAAECG6A0A\n",
       "AAAAQIboDQAAAABAhugNAAAAAECG6A0AAAAAQMZt/7y+0yMmPR/v6QkM2s51esKofTmmJ8CYK9+/\n",
       "2wcAAOi78rvXT28AAAAAADJEbwAAAAAAMkRvAAAAAAAyRG8AAAAAADJEbwAAAAAAMkRvAAAAAAAy\n",
       "RG8AAAAAADJEbwAAAAAAMkRvAAAAAAAyRG8AAAAAADJEbwAAAAAAMkRvAAAAAAAyRG8AAAAAADJE\n",
       "bwAAAAAAMkRvAAAAAAAyRG8AAAAAADJEbwAAAAAAMkRvAAAAAAAyRG8AAAAAADJEbwAAAAAAMkRv\n",
       "AAAAAAAyRG8AAAAAADJEbwAAAAAAMkRvAAAAAAAyRG8AAAAAADJEbwAAAAAAMkRvAAAAAAAyRG8A\n",
       "AAAAADJEbwAAAAAAMkRvAAAAAAAyRG8AAAAAADJEbwAAAAAAMkRvAAAAAAAyRG8AAAAAADJEbwAA\n",
       "AAAAMkRvAAAAAAAyRG8AAAAAADJEbwAAAAAAMkRvAAAAAAAyRG8AAAAAADJEbwAAAAAAMkRvAAAA\n",
       "AAAyRG8AAAAAADJEbwAAAAAAMn7cWh8/MwNJ6gAAAABJRU5ErkJggg==\n",
       "\" transform=\"translate(284, 117)\"/>\n",
       "</g>\n",
       "<defs>\n",
       "  <clipPath id=\"clip893\">\n",
       "    <rect x=\"1792\" y=\"117\" width=\"61\" height=\"908\"/>\n",
       "  </clipPath>\n",
       "</defs>\n",
       "<g clip-path=\"url(#clip893)\">\n",
       "<image width=\"60\" height=\"907\" xlink:href=\"data:image/png;base64,\n",
       "iVBORw0KGgoAAAANSUhEUgAAADwAAAOLCAYAAAAM2+AiAAAFnklEQVR4nO3dwW3cMBRFUSlgI+m/\n",
       "uGyziKV0MQOcd08FvhgSn+LI9v3n7+/3GvLr2z/ApxWsO/ez1bxVexXsO9e71bxVew0Gn/u5v/0z\n",
       "fNTcJ1yw7tzPt3+Ez5r7hOeCzzV13zH4CResayzp5oLP1ZK2FaxrLOnmgs/d05KtYF1HS91c8Lmf\n",
       "rbk09wkXrOsiXlewrhsP3VzwuTpa2grWdWupmwvuEk9XsK6nJd1ccGNJV7CupyXdXHBjSVewru+H\n",
       "dXPBXQDoCtZ1tNQVrOtoqZsL7q8t6QrWdbTUzQV30tIVrDtXR0vbXHAnLV3Bul5b0s0Fd9LSFaw7\n",
       "19seps0F97SkK1jXWNIVrGsO6+aCu/HQFazraKmbC+6kpStY11jSzQX3tKQrWNcb8bq54MaSrmBd\n",
       "T0u6ueDGkq5gXWNJNxd83r5bshWsayzpCtb1eKibC24s6QrWNZZ0c8G98qArWHfexpJtLrinJV3B\n",
       "uvawbi64k5auYF1jSTcX3K/E6wrWNZZ0Bet6PNTNBTeWdAXrztsets0F9yaermBdR0vdXHAXALqC\n",
       "db0Rr5sL7gJAV7CuGw/dXHAXALqCdR0tdQXrOlrq5oIbS7qCdV3E6+aC+35YV7CuW0vdXHBPS7qC\n",
       "dY0l3VxwT0u6gnUdLXVzwd1L6wrWdbTUzQV3AaArWNfTkq5gXXtYNxfcC+K6gnWNJd1ccDceuoJ1\n",
       "5+3LNNtccN8t6QrWdbTUzQV3AaArWNce1s0Fd9LSFazrxkNXsK6LeN1ccE9LuoJ1PR7q5oIbS7qC\n",
       "dd146OaCO2npCtZ1tNTNBXcvrStY11jSzQV3AaArWNeNh65gXUdL3VxwS1pXsK49rJsL7t8e6ArW\n",
       "dWupmwvupKUrWNce1s0Ft6R1Bevaw7q54F550BWsayzp5oLP+3z7R/isuU+4YF1jSVewrj2smwtu\n",
       "SesK1rWHdXPBXcTrCtY1lnRzwb0gritY11jSzQX3RwB1BesaS7q54Ja0rmBde1hXsK49rJsLbknr\n",
       "Ctb1ZZpuLrixpCtY1x7WzQW3pHUF69rDurnglrSuYF2vHurmghtLuoJ1fbekK1jXHNbNBbekdQXr\n",
       "2sO6ueCWtK5gXXtYNxfcktYVrGsP6+aC+25JV7CusaSbC25J6wrWtYd1c8HnaUnbCtY1lnQF6/pF\n",
       "Ld1ccBfxuoJ1HS11c8EtaV3Buvawbi64i3hdwbrGkm4uuCWtK1jXHtbNBZ/n+faP8Flzn3DBusaS\n",
       "rmBde1g3F9yS1hWs68s03VxwL4jrCtZ1tNTNBbekdQXrelrSzQWft++HbQXrOlrq5oI7aekK1nUR\n",
       "rytY19FSNxd8nsaSrWBdY0k3F9yNh65gXTceurngTlq6gnX9DQDdXHAnLV3Bum48dHPBjSVdwbrz\n",
       "XI0l2lxwY0lXsK49rCtY142Hbi74jE2lvU+4YF1vxOvmghtLuoJ1jSXdXPB5+27JVrCusaSbC+5p\n",
       "SVew7oz9jsfeJzwX3CsPuoJ1jSVdwboeD3VzwY0lXcG6xpJuLrixpCtY11jSzQWf59pa1HOfcMG6\n",
       "jpa6ueBOWrqCdY0l3VxwY0lXsK4bD13Buuawbi64pyVdwbrzdrS0zQU3lnQF69rDurng896dtGgF\n",
       "6xpLurngLgB0BesaS7q54Ja0rmBdR0vdXPB5tv5i+t4nXLCusaQrWNfjoW4uuF/y0BWs62ipmwvu\n",
       "pKUrWHeeXj20zQX367S6gnXdeOjmglvSuoJ1HS11c8GNJV3BuvawrmDdeXt92DYX3FjSFaxrD+vm\n",
       "gnttSVewrrdpdXPBnbR0Bevaw7q54Ja0rmBdf5pGNxfcWNIVrGsP6wrWtYd1c8EtaV3Buvawbi64\n",
       "Ja0rWNdfW9LNBTeWdAXrzk972DYX3JLWFazraKmbCz4/99ZvH859wgXrzr/Gkm0u+D9NiJ67ggoh\n",
       "PAAAAABJRU5ErkJggg==\n",
       "\" transform=\"translate(1793, 117)\"/>\n",
       "</g>\n",
       "<path clip-path=\"url(#clip890)\" d=\"M1894.7 1006.5 Q1891.09 1006.5 1889.26 1010.07 Q1887.45 1013.61 1887.45 1020.74 Q1887.45 1027.85 1889.26 1031.41 Q1891.09 1034.95 1894.7 1034.95 Q1898.33 1034.95 1900.14 1031.41 Q1901.97 1027.85 1901.97 1020.74 Q1901.97 1013.61 1900.14 1010.07 Q1898.33 1006.5 1894.7 1006.5 M1894.7 1002.8 Q1900.51 1002.8 1903.57 1007.41 Q1906.64 1011.99 1906.64 1020.74 Q1906.64 1029.47 1903.57 1034.07 Q1900.51 1038.66 1894.7 1038.66 Q1888.89 1038.66 1885.81 1034.07 Q1882.76 1029.47 1882.76 1020.74 Q1882.76 1011.99 1885.81 1007.41 Q1888.89 1002.8 1894.7 1002.8 Z\" fill=\"#000000\" fill-rule=\"nonzero\" fill-opacity=\"1\" /><path clip-path=\"url(#clip890)\" d=\"M1888.38 905.227 L1904.7 905.227 L1904.7 909.162 L1882.76 909.162 L1882.76 905.227 Q1885.42 902.472 1890 897.843 Q1894.61 893.19 1895.79 891.847 Q1898.03 889.324 1898.91 887.588 Q1899.82 885.829 1899.82 884.139 Q1899.82 881.384 1897.87 879.648 Q1895.95 877.912 1892.85 877.912 Q1890.65 877.912 1888.2 878.676 Q1885.77 879.44 1882.99 880.991 L1882.99 876.269 Q1885.81 875.134 1888.27 874.556 Q1890.72 873.977 1892.76 873.977 Q1898.13 873.977 1901.32 876.662 Q1904.52 879.347 1904.52 883.838 Q1904.52 885.968 1903.7 887.889 Q1902.92 889.787 1900.81 892.38 Q1900.23 893.051 1897.13 896.268 Q1894.03 899.463 1888.38 905.227 Z\" fill=\"#000000\" fill-rule=\"nonzero\" fill-opacity=\"1\" /><path clip-path=\"url(#clip890)\" d=\"M1914.51 903.282 L1919.4 903.282 L1919.4 909.162 L1914.51 909.162 L1914.51 903.282 Z\" fill=\"#000000\" fill-rule=\"nonzero\" fill-opacity=\"1\" /><path clip-path=\"url(#clip890)\" d=\"M1929.63 874.602 L1947.99 874.602 L1947.99 878.537 L1933.91 878.537 L1933.91 887.009 Q1934.93 886.662 1935.95 886.5 Q1936.97 886.315 1937.99 886.315 Q1943.77 886.315 1947.15 889.486 Q1950.53 892.657 1950.53 898.074 Q1950.53 903.653 1947.06 906.754 Q1943.59 909.833 1937.27 909.833 Q1935.09 909.833 1932.83 909.463 Q1930.58 909.092 1928.17 908.352 L1928.17 903.653 Q1930.26 904.787 1932.48 905.342 Q1934.7 905.898 1937.18 905.898 Q1941.18 905.898 1943.52 903.792 Q1945.86 901.685 1945.86 898.074 Q1945.86 894.463 1943.52 892.356 Q1941.18 890.25 1937.18 890.25 Q1935.3 890.25 1933.43 890.667 Q1931.58 891.083 1929.63 891.963 L1929.63 874.602 Z\" fill=\"#000000\" fill-rule=\"nonzero\" fill-opacity=\"1\" /><path clip-path=\"url(#clip890)\" d=\"M1959.33 874.602 L1981.18 874.602 L1981.18 878.537 L1964.01 878.537 L1964.01 888.768 L1980.46 888.768 L1980.46 892.704 L1964.01 892.704 L1964.01 905.227 L1981.6 905.227 L1981.6 909.162 L1959.33 909.162 L1959.33 874.602 Z\" fill=\"#000000\" fill-rule=\"nonzero\" fill-opacity=\"1\" /><path clip-path=\"url(#clip890)\" d=\"M1989.65 892.333 L2019.33 892.333 L2019.33 896.268 L1989.65 896.268 L1989.65 892.333 Z\" fill=\"#000000\" fill-rule=\"nonzero\" fill-opacity=\"1\" /><path clip-path=\"url(#clip890)\" d=\"M2033.45 905.227 L2049.77 905.227 L2049.77 909.162 L2027.82 909.162 L2027.82 905.227 Q2030.49 902.472 2035.07 897.843 Q2039.68 893.19 2040.86 891.847 Q2043.1 889.324 2043.98 887.588 Q2044.88 885.829 2044.88 884.139 Q2044.88 881.384 2042.94 879.648 Q2041.02 877.912 2037.92 877.912 Q2035.72 877.912 2033.26 878.676 Q2030.83 879.44 2028.06 880.991 L2028.06 876.269 Q2030.88 875.134 2033.33 874.556 Q2035.79 873.977 2037.82 873.977 Q2043.19 873.977 2046.39 876.662 Q2049.58 879.347 2049.58 883.838 Q2049.58 885.968 2048.77 887.889 Q2047.99 889.787 2045.88 892.38 Q2045.3 893.051 2042.2 896.268 Q2039.1 899.463 2033.45 905.227 Z\" fill=\"#000000\" fill-rule=\"nonzero\" fill-opacity=\"1\" /><path clip-path=\"url(#clip890)\" d=\"M2058.4 874.602 L2080.63 874.602 L2080.63 876.593 L2068.08 909.162 L2063.19 909.162 L2075 878.537 L2058.4 878.537 L2058.4 874.602 Z\" fill=\"#000000\" fill-rule=\"nonzero\" fill-opacity=\"1\" /><path clip-path=\"url(#clip890)\" d=\"M1884.21 745.78 L1902.57 745.78 L1902.57 749.715 L1888.5 749.715 L1888.5 758.187 Q1889.52 757.84 1890.53 757.678 Q1891.55 757.493 1892.57 757.493 Q1898.36 757.493 1901.74 760.664 Q1905.12 763.835 1905.12 769.252 Q1905.12 774.83 1901.64 777.932 Q1898.17 781.011 1891.85 781.011 Q1889.68 781.011 1887.41 780.641 Q1885.16 780.27 1882.76 779.529 L1882.76 774.83 Q1884.84 775.965 1887.06 776.52 Q1889.28 777.076 1891.76 777.076 Q1895.77 777.076 1898.1 774.969 Q1900.44 772.863 1900.44 769.252 Q1900.44 765.641 1898.1 763.534 Q1895.77 761.428 1891.76 761.428 Q1889.89 761.428 1888.01 761.844 Q1886.16 762.261 1884.21 763.141 L1884.21 745.78 Z\" fill=\"#000000\" fill-rule=\"nonzero\" fill-opacity=\"1\" /><path clip-path=\"url(#clip890)\" d=\"M1913.91 745.78 L1935.76 745.78 L1935.76 749.715 L1918.59 749.715 L1918.59 759.946 L1935.05 759.946 L1935.05 763.881 L1918.59 763.881 L1918.59 776.404 L1936.18 776.404 L1936.18 780.34 L1913.91 780.34 L1913.91 745.78 Z\" fill=\"#000000\" fill-rule=\"nonzero\" fill-opacity=\"1\" /><path clip-path=\"url(#clip890)\" d=\"M1944.24 763.511 L1973.91 763.511 L1973.91 767.446 L1944.24 767.446 L1944.24 763.511 Z\" fill=\"#000000\" fill-rule=\"nonzero\" fill-opacity=\"1\" /><path clip-path=\"url(#clip890)\" d=\"M1988.03 776.404 L2004.35 776.404 L2004.35 780.34 L1982.41 780.34 L1982.41 776.404 Q1985.07 773.65 1989.65 769.02 Q1994.26 764.367 1995.44 763.025 Q1997.69 760.502 1998.57 758.766 Q1999.47 757.006 1999.47 755.317 Q1999.47 752.562 1997.52 750.826 Q1995.6 749.09 1992.5 749.09 Q1990.3 749.09 1987.85 749.854 Q1985.42 750.618 1982.64 752.168 L1982.64 747.446 Q1985.46 746.312 1987.92 745.733 Q1990.37 745.155 1992.41 745.155 Q1997.78 745.155 2000.97 747.84 Q2004.17 750.525 2004.17 755.016 Q2004.17 757.145 2003.36 759.067 Q2002.57 760.965 2000.46 763.557 Q1999.88 764.229 1996.78 767.446 Q1993.68 770.641 1988.03 776.404 Z\" fill=\"#000000\" fill-rule=\"nonzero\" fill-opacity=\"1\" /><path clip-path=\"url(#clip890)\" d=\"M2012.99 745.78 L2035.21 745.78 L2035.21 747.77 L2022.66 780.34 L2017.78 780.34 L2029.58 749.715 L2012.99 749.715 L2012.99 745.78 Z\" fill=\"#000000\" fill-rule=\"nonzero\" fill-opacity=\"1\" /><path clip-path=\"url(#clip890)\" d=\"M1882.76 616.957 L1904.98 616.957 L1904.98 618.948 L1892.43 651.517 L1887.55 651.517 L1899.35 620.892 L1882.76 620.892 L1882.76 616.957 Z\" fill=\"#000000\" fill-rule=\"nonzero\" fill-opacity=\"1\" /><path clip-path=\"url(#clip890)\" d=\"M1914.1 645.638 L1918.98 645.638 L1918.98 651.517 L1914.1 651.517 L1914.1 645.638 Z\" fill=\"#000000\" fill-rule=\"nonzero\" fill-opacity=\"1\" /><path clip-path=\"url(#clip890)\" d=\"M1929.21 616.957 L1947.57 616.957 L1947.57 620.892 L1933.5 620.892 L1933.5 629.365 Q1934.51 629.017 1935.53 628.855 Q1936.55 628.67 1937.57 628.67 Q1943.36 628.67 1946.74 631.842 Q1950.12 635.013 1950.12 640.429 Q1950.12 646.008 1946.64 649.11 Q1943.17 652.189 1936.85 652.189 Q1934.68 652.189 1932.41 651.818 Q1930.16 651.448 1927.76 650.707 L1927.76 646.008 Q1929.84 647.142 1932.06 647.698 Q1934.28 648.253 1936.76 648.253 Q1940.76 648.253 1943.1 646.147 Q1945.44 644.041 1945.44 640.429 Q1945.44 636.818 1943.1 634.712 Q1940.76 632.605 1936.76 632.605 Q1934.89 632.605 1933.01 633.022 Q1931.16 633.439 1929.21 634.318 L1929.21 616.957 Z\" fill=\"#000000\" fill-rule=\"nonzero\" fill-opacity=\"1\" /><path clip-path=\"url(#clip890)\" d=\"M1958.91 616.957 L1980.76 616.957 L1980.76 620.892 L1963.59 620.892 L1963.59 631.124 L1980.05 631.124 L1980.05 635.059 L1963.59 635.059 L1963.59 647.582 L1981.18 647.582 L1981.18 651.517 L1958.91 651.517 L1958.91 616.957 Z\" fill=\"#000000\" fill-rule=\"nonzero\" fill-opacity=\"1\" /><path clip-path=\"url(#clip890)\" d=\"M1989.24 634.689 L2018.91 634.689 L2018.91 638.624 L1989.24 638.624 L1989.24 634.689 Z\" fill=\"#000000\" fill-rule=\"nonzero\" fill-opacity=\"1\" /><path clip-path=\"url(#clip890)\" d=\"M2033.03 647.582 L2049.35 647.582 L2049.35 651.517 L2027.41 651.517 L2027.41 647.582 Q2030.07 644.828 2034.65 640.198 Q2039.26 635.545 2040.44 634.203 Q2042.69 631.679 2043.57 629.943 Q2044.47 628.184 2044.47 626.494 Q2044.47 623.74 2042.52 622.004 Q2040.6 620.267 2037.5 620.267 Q2035.3 620.267 2032.85 621.031 Q2030.42 621.795 2027.64 623.346 L2027.64 618.624 Q2030.46 617.49 2032.92 616.911 Q2035.37 616.332 2037.41 616.332 Q2042.78 616.332 2045.97 619.018 Q2049.17 621.703 2049.17 626.193 Q2049.17 628.323 2048.36 630.244 Q2047.57 632.142 2045.46 634.735 Q2044.88 635.406 2041.78 638.624 Q2038.68 641.818 2033.03 647.582 Z\" fill=\"#000000\" fill-rule=\"nonzero\" fill-opacity=\"1\" /><path clip-path=\"url(#clip890)\" d=\"M2057.99 616.957 L2080.21 616.957 L2080.21 618.948 L2067.66 651.517 L2062.78 651.517 L2074.58 620.892 L2057.99 620.892 L2057.99 616.957 Z\" fill=\"#000000\" fill-rule=\"nonzero\" fill-opacity=\"1\" /><path clip-path=\"url(#clip890)\" d=\"M1883.43 518.76 L1891.07 518.76 L1891.07 492.394 L1882.76 494.061 L1882.76 489.802 L1891.02 488.135 L1895.7 488.135 L1895.7 518.76 L1903.33 518.76 L1903.33 522.695 L1883.43 522.695 L1883.43 518.76 Z\" fill=\"#000000\" fill-rule=\"nonzero\" fill-opacity=\"1\" /><path clip-path=\"url(#clip890)\" d=\"M1912.36 488.135 L1934.21 488.135 L1934.21 492.07 L1917.04 492.07 L1917.04 502.302 L1933.5 502.302 L1933.5 506.237 L1917.04 506.237 L1917.04 518.76 L1934.63 518.76 L1934.63 522.695 L1912.36 522.695 L1912.36 488.135 Z\" fill=\"#000000\" fill-rule=\"nonzero\" fill-opacity=\"1\" /><path clip-path=\"url(#clip890)\" d=\"M1942.69 505.866 L1972.36 505.866 L1972.36 509.802 L1942.69 509.802 L1942.69 505.866 Z\" fill=\"#000000\" fill-rule=\"nonzero\" fill-opacity=\"1\" /><path clip-path=\"url(#clip890)\" d=\"M1986.48 518.76 L2002.8 518.76 L2002.8 522.695 L1980.86 522.695 L1980.86 518.76 Q1983.52 516.005 1988.1 511.376 Q1992.71 506.723 1993.89 505.38 Q1996.13 502.857 1997.01 501.121 Q1997.92 499.362 1997.92 497.672 Q1997.92 494.917 1995.97 493.181 Q1994.05 491.445 1990.95 491.445 Q1988.75 491.445 1986.3 492.209 Q1983.87 492.973 1981.09 494.524 L1981.09 489.802 Q1983.91 488.667 1986.37 488.089 Q1988.82 487.51 1990.86 487.51 Q1996.23 487.51 1999.42 490.195 Q2002.62 492.88 2002.62 497.371 Q2002.62 499.501 2001.81 501.422 Q2001.02 503.32 1998.91 505.913 Q1998.33 506.584 1995.23 509.802 Q1992.13 512.996 1986.48 518.76 Z\" fill=\"#000000\" fill-rule=\"nonzero\" fill-opacity=\"1\" /><path clip-path=\"url(#clip890)\" d=\"M2023.19 503.552 Q2020.05 503.552 2018.19 505.704 Q2016.37 507.857 2016.37 511.607 Q2016.37 515.334 2018.19 517.51 Q2020.05 519.663 2023.19 519.663 Q2026.34 519.663 2028.17 517.51 Q2030.02 515.334 2030.02 511.607 Q2030.02 507.857 2028.17 505.704 Q2026.34 503.552 2023.19 503.552 M2032.48 488.899 L2032.48 493.158 Q2030.72 492.325 2028.91 491.885 Q2027.13 491.445 2025.37 491.445 Q2020.74 491.445 2018.29 494.57 Q2015.86 497.695 2015.51 504.015 Q2016.88 502.001 2018.94 500.936 Q2021 499.848 2023.47 499.848 Q2028.68 499.848 2031.69 503.019 Q2034.72 506.167 2034.72 511.607 Q2034.72 516.931 2031.57 520.149 Q2028.43 523.366 2023.19 523.366 Q2017.2 523.366 2014.03 518.783 Q2010.86 514.177 2010.86 505.45 Q2010.86 497.255 2014.75 492.394 Q2018.63 487.51 2025.19 487.51 Q2026.94 487.51 2028.73 487.857 Q2030.53 488.204 2032.48 488.899 Z\" fill=\"#000000\" fill-rule=\"nonzero\" fill-opacity=\"1\" /><path clip-path=\"url(#clip890)\" d=\"M1883.43 389.938 L1891.07 389.938 L1891.07 363.572 L1882.76 365.239 L1882.76 360.979 L1891.02 359.313 L1895.7 359.313 L1895.7 389.938 L1903.33 389.938 L1903.33 393.873 L1883.43 393.873 L1883.43 389.938 Z\" fill=\"#000000\" fill-rule=\"nonzero\" fill-opacity=\"1\" /><path clip-path=\"url(#clip890)\" d=\"M1912.78 387.993 L1917.66 387.993 L1917.66 393.873 L1912.78 393.873 L1912.78 387.993 Z\" fill=\"#000000\" fill-rule=\"nonzero\" fill-opacity=\"1\" /><path clip-path=\"url(#clip890)\" d=\"M1931.88 389.938 L1948.2 389.938 L1948.2 393.873 L1926.25 393.873 L1926.25 389.938 Q1928.91 387.183 1933.5 382.553 Q1938.1 377.901 1939.28 376.558 Q1941.53 374.035 1942.41 372.299 Q1943.31 370.54 1943.31 368.85 Q1943.31 366.095 1941.37 364.359 Q1939.45 362.623 1936.34 362.623 Q1934.14 362.623 1931.69 363.387 Q1929.26 364.151 1926.48 365.702 L1926.48 360.979 Q1929.31 359.845 1931.76 359.266 Q1934.21 358.688 1936.25 358.688 Q1941.62 358.688 1944.82 361.373 Q1948.01 364.058 1948.01 368.549 Q1948.01 370.678 1947.2 372.6 Q1946.41 374.498 1944.31 377.09 Q1943.73 377.762 1940.63 380.979 Q1937.52 384.174 1931.88 389.938 Z\" fill=\"#000000\" fill-rule=\"nonzero\" fill-opacity=\"1\" /><path clip-path=\"url(#clip890)\" d=\"M1958.06 359.313 L1976.41 359.313 L1976.41 363.248 L1962.34 363.248 L1962.34 371.72 Q1963.36 371.373 1964.38 371.211 Q1965.39 371.026 1966.41 371.026 Q1972.2 371.026 1975.58 374.197 Q1978.96 377.368 1978.96 382.785 Q1978.96 388.364 1975.49 391.465 Q1972.01 394.544 1965.7 394.544 Q1963.52 394.544 1961.25 394.174 Q1959.01 393.803 1956.6 393.063 L1956.6 388.364 Q1958.68 389.498 1960.9 390.053 Q1963.13 390.609 1965.6 390.609 Q1969.61 390.609 1971.95 388.502 Q1974.28 386.396 1974.28 382.785 Q1974.28 379.174 1971.95 377.067 Q1969.61 374.961 1965.6 374.961 Q1963.73 374.961 1961.85 375.378 Q1960 375.794 1958.06 376.674 L1958.06 359.313 Z\" fill=\"#000000\" fill-rule=\"nonzero\" fill-opacity=\"1\" /><path clip-path=\"url(#clip890)\" d=\"M1987.76 359.313 L2009.61 359.313 L2009.61 363.248 L1992.43 363.248 L1992.43 373.479 L2008.89 373.479 L2008.89 377.415 L1992.43 377.415 L1992.43 389.938 L2010.02 389.938 L2010.02 393.873 L1987.76 393.873 L1987.76 359.313 Z\" fill=\"#000000\" fill-rule=\"nonzero\" fill-opacity=\"1\" /><path clip-path=\"url(#clip890)\" d=\"M2018.08 377.044 L2047.76 377.044 L2047.76 380.979 L2018.08 380.979 L2018.08 377.044 Z\" fill=\"#000000\" fill-rule=\"nonzero\" fill-opacity=\"1\" /><path clip-path=\"url(#clip890)\" d=\"M2061.88 389.938 L2078.19 389.938 L2078.19 393.873 L2056.25 393.873 L2056.25 389.938 Q2058.91 387.183 2063.5 382.553 Q2068.1 377.901 2069.28 376.558 Q2071.53 374.035 2072.41 372.299 Q2073.31 370.54 2073.31 368.85 Q2073.31 366.095 2071.37 364.359 Q2069.44 362.623 2066.34 362.623 Q2064.14 362.623 2061.69 363.387 Q2059.26 364.151 2056.48 365.702 L2056.48 360.979 Q2059.31 359.845 2061.76 359.266 Q2064.21 358.688 2066.25 358.688 Q2071.62 358.688 2074.82 361.373 Q2078.01 364.058 2078.01 368.549 Q2078.01 370.678 2077.2 372.6 Q2076.41 374.498 2074.31 377.09 Q2073.73 377.762 2070.63 380.979 Q2067.52 384.174 2061.88 389.938 Z\" fill=\"#000000\" fill-rule=\"nonzero\" fill-opacity=\"1\" /><path clip-path=\"url(#clip890)\" d=\"M2098.59 374.729 Q2095.44 374.729 2093.59 376.882 Q2091.76 379.035 2091.76 382.785 Q2091.76 386.512 2093.59 388.688 Q2095.44 390.84 2098.59 390.84 Q2101.74 390.84 2103.56 388.688 Q2105.42 386.512 2105.42 382.785 Q2105.42 379.035 2103.56 376.882 Q2101.74 374.729 2098.59 374.729 M2107.87 360.077 L2107.87 364.336 Q2106.11 363.503 2104.31 363.063 Q2102.52 362.623 2100.76 362.623 Q2096.13 362.623 2093.68 365.748 Q2091.25 368.873 2090.9 375.192 Q2092.27 373.178 2094.33 372.114 Q2096.39 371.026 2098.87 371.026 Q2104.07 371.026 2107.08 374.197 Q2110.12 377.345 2110.12 382.785 Q2110.12 388.109 2106.97 391.326 Q2103.82 394.544 2098.59 394.544 Q2092.59 394.544 2089.42 389.961 Q2086.25 385.354 2086.25 376.627 Q2086.25 368.433 2090.14 363.572 Q2094.03 358.688 2100.58 358.688 Q2102.34 358.688 2104.12 359.035 Q2105.93 359.382 2107.87 360.077 Z\" fill=\"#000000\" fill-rule=\"nonzero\" fill-opacity=\"1\" /><path clip-path=\"url(#clip890)\" d=\"M1883.43 261.115 L1891.07 261.115 L1891.07 234.75 L1882.76 236.416 L1882.76 232.157 L1891.02 230.49 L1895.7 230.49 L1895.7 261.115 L1903.33 261.115 L1903.33 265.05 L1883.43 265.05 L1883.43 261.115 Z\" fill=\"#000000\" fill-rule=\"nonzero\" fill-opacity=\"1\" /><path clip-path=\"url(#clip890)\" d=\"M1912.78 259.171 L1917.66 259.171 L1917.66 265.05 L1912.78 265.05 L1912.78 259.171 Z\" fill=\"#000000\" fill-rule=\"nonzero\" fill-opacity=\"1\" /><path clip-path=\"url(#clip890)\" d=\"M1927.89 230.49 L1946.25 230.49 L1946.25 234.426 L1932.18 234.426 L1932.18 242.898 Q1933.2 242.551 1934.21 242.389 Q1935.23 242.203 1936.25 242.203 Q1942.04 242.203 1945.42 245.375 Q1948.8 248.546 1948.8 253.963 Q1948.8 259.541 1945.33 262.643 Q1941.85 265.722 1935.53 265.722 Q1933.36 265.722 1931.09 265.351 Q1928.84 264.981 1926.44 264.24 L1926.44 259.541 Q1928.52 260.676 1930.74 261.231 Q1932.96 261.787 1935.44 261.787 Q1939.45 261.787 1941.78 259.68 Q1944.12 257.574 1944.12 253.963 Q1944.12 250.351 1941.78 248.245 Q1939.45 246.139 1935.44 246.139 Q1933.57 246.139 1931.69 246.555 Q1929.84 246.972 1927.89 247.852 L1927.89 230.49 Z\" fill=\"#000000\" fill-rule=\"nonzero\" fill-opacity=\"1\" /><path clip-path=\"url(#clip890)\" d=\"M1957.59 230.49 L1979.45 230.49 L1979.45 234.426 L1962.27 234.426 L1962.27 244.657 L1978.73 244.657 L1978.73 248.592 L1962.27 248.592 L1962.27 261.115 L1979.86 261.115 L1979.86 265.05 L1957.59 265.05 L1957.59 230.49 Z\" fill=\"#000000\" fill-rule=\"nonzero\" fill-opacity=\"1\" /><path clip-path=\"url(#clip890)\" d=\"M1987.92 248.222 L2017.59 248.222 L2017.59 252.157 L1987.92 252.157 L1987.92 248.222 Z\" fill=\"#000000\" fill-rule=\"nonzero\" fill-opacity=\"1\" /><path clip-path=\"url(#clip890)\" d=\"M2031.71 261.115 L2048.03 261.115 L2048.03 265.05 L2026.09 265.05 L2026.09 261.115 Q2028.75 258.361 2033.33 253.731 Q2037.94 249.078 2039.12 247.736 Q2041.37 245.213 2042.25 243.477 Q2043.15 241.717 2043.15 240.027 Q2043.15 237.273 2041.2 235.537 Q2039.28 233.801 2036.18 233.801 Q2033.98 233.801 2031.53 234.565 Q2029.1 235.328 2026.32 236.879 L2026.32 232.157 Q2029.14 231.023 2031.6 230.444 Q2034.05 229.865 2036.09 229.865 Q2041.46 229.865 2044.65 232.551 Q2047.85 235.236 2047.85 239.727 Q2047.85 241.856 2047.04 243.777 Q2046.25 245.676 2044.14 248.268 Q2043.57 248.939 2040.46 252.157 Q2037.36 255.351 2031.71 261.115 Z\" fill=\"#000000\" fill-rule=\"nonzero\" fill-opacity=\"1\" /><path clip-path=\"url(#clip890)\" d=\"M2068.43 245.907 Q2065.28 245.907 2063.43 248.06 Q2061.6 250.213 2061.6 253.963 Q2061.6 257.689 2063.43 259.865 Q2065.28 262.018 2068.43 262.018 Q2071.57 262.018 2073.4 259.865 Q2075.25 257.689 2075.25 253.963 Q2075.25 250.213 2073.4 248.06 Q2071.57 245.907 2068.43 245.907 M2077.71 231.254 L2077.71 235.514 Q2075.95 234.68 2074.14 234.24 Q2072.36 233.801 2070.6 233.801 Q2065.97 233.801 2063.52 236.926 Q2061.09 240.051 2060.74 246.37 Q2062.11 244.356 2064.17 243.291 Q2066.23 242.203 2068.7 242.203 Q2073.91 242.203 2076.92 245.375 Q2079.95 248.523 2079.95 253.963 Q2079.95 259.287 2076.81 262.504 Q2073.66 265.722 2068.43 265.722 Q2062.43 265.722 2059.26 261.138 Q2056.09 256.532 2056.09 247.805 Q2056.09 239.611 2059.98 234.75 Q2063.87 229.865 2070.42 229.865 Q2072.18 229.865 2073.96 230.213 Q2075.76 230.56 2077.71 231.254 Z\" fill=\"#000000\" fill-rule=\"nonzero\" fill-opacity=\"1\" /><path clip-path=\"url(#clip890)\" d=\"M1883.43 132.293 L1891.07 132.293 L1891.07 105.927 L1882.76 107.594 L1882.76 103.335 L1891.02 101.668 L1895.7 101.668 L1895.7 132.293 L1903.33 132.293 L1903.33 136.228 L1883.43 136.228 L1883.43 132.293 Z\" fill=\"#000000\" fill-rule=\"nonzero\" fill-opacity=\"1\" /><path clip-path=\"url(#clip890)\" d=\"M1912.78 130.349 L1917.66 130.349 L1917.66 136.228 L1912.78 136.228 L1912.78 130.349 Z\" fill=\"#000000\" fill-rule=\"nonzero\" fill-opacity=\"1\" /><path clip-path=\"url(#clip890)\" d=\"M1926.67 101.668 L1948.89 101.668 L1948.89 103.659 L1936.34 136.228 L1931.46 136.228 L1943.26 105.603 L1926.67 105.603 L1926.67 101.668 Z\" fill=\"#000000\" fill-rule=\"nonzero\" fill-opacity=\"1\" /><path clip-path=\"url(#clip890)\" d=\"M1958.06 101.668 L1976.41 101.668 L1976.41 105.603 L1962.34 105.603 L1962.34 114.076 Q1963.36 113.728 1964.38 113.566 Q1965.39 113.381 1966.41 113.381 Q1972.2 113.381 1975.58 116.552 Q1978.96 119.724 1978.96 125.14 Q1978.96 130.719 1975.49 133.821 Q1972.01 136.9 1965.7 136.9 Q1963.52 136.9 1961.25 136.529 Q1959.01 136.159 1956.6 135.418 L1956.6 130.719 Q1958.68 131.853 1960.9 132.409 Q1963.13 132.964 1965.6 132.964 Q1969.61 132.964 1971.95 130.858 Q1974.28 128.751 1974.28 125.14 Q1974.28 121.529 1971.95 119.423 Q1969.61 117.316 1965.6 117.316 Q1963.73 117.316 1961.85 117.733 Q1960 118.15 1958.06 119.029 L1958.06 101.668 Z\" fill=\"#000000\" fill-rule=\"nonzero\" fill-opacity=\"1\" /><path clip-path=\"url(#clip890)\" d=\"M1987.76 101.668 L2009.61 101.668 L2009.61 105.603 L1992.43 105.603 L1992.43 115.835 L2008.89 115.835 L2008.89 119.77 L1992.43 119.77 L1992.43 132.293 L2010.02 132.293 L2010.02 136.228 L1987.76 136.228 L1987.76 101.668 Z\" fill=\"#000000\" fill-rule=\"nonzero\" fill-opacity=\"1\" /><path clip-path=\"url(#clip890)\" d=\"M2018.08 119.4 L2047.76 119.4 L2047.76 123.335 L2018.08 123.335 L2018.08 119.4 Z\" fill=\"#000000\" fill-rule=\"nonzero\" fill-opacity=\"1\" /><path clip-path=\"url(#clip890)\" d=\"M2061.88 132.293 L2078.19 132.293 L2078.19 136.228 L2056.25 136.228 L2056.25 132.293 Q2058.91 129.538 2063.5 124.909 Q2068.1 120.256 2069.28 118.913 Q2071.53 116.39 2072.41 114.654 Q2073.31 112.895 2073.31 111.205 Q2073.31 108.451 2071.37 106.714 Q2069.44 104.978 2066.34 104.978 Q2064.14 104.978 2061.69 105.742 Q2059.26 106.506 2056.48 108.057 L2056.48 103.335 Q2059.31 102.201 2061.76 101.622 Q2064.21 101.043 2066.25 101.043 Q2071.62 101.043 2074.82 103.728 Q2078.01 106.414 2078.01 110.904 Q2078.01 113.034 2077.2 114.955 Q2076.41 116.853 2074.31 119.446 Q2073.73 120.117 2070.63 123.335 Q2067.52 126.529 2061.88 132.293 Z\" fill=\"#000000\" fill-rule=\"nonzero\" fill-opacity=\"1\" /><path clip-path=\"url(#clip890)\" d=\"M2098.59 117.085 Q2095.44 117.085 2093.59 119.238 Q2091.76 121.39 2091.76 125.14 Q2091.76 128.867 2093.59 131.043 Q2095.44 133.196 2098.59 133.196 Q2101.74 133.196 2103.56 131.043 Q2105.42 128.867 2105.42 125.14 Q2105.42 121.39 2103.56 119.238 Q2101.74 117.085 2098.59 117.085 M2107.87 102.432 L2107.87 106.691 Q2106.11 105.858 2104.31 105.418 Q2102.52 104.978 2100.76 104.978 Q2096.13 104.978 2093.68 108.103 Q2091.25 111.228 2090.9 117.548 Q2092.27 115.534 2094.33 114.469 Q2096.39 113.381 2098.87 113.381 Q2104.07 113.381 2107.08 116.552 Q2110.12 119.701 2110.12 125.14 Q2110.12 130.464 2106.97 133.682 Q2103.82 136.9 2098.59 136.9 Q2092.59 136.9 2089.42 132.316 Q2086.25 127.71 2086.25 118.983 Q2086.25 110.789 2090.14 105.927 Q2094.03 101.043 2100.58 101.043 Q2102.34 101.043 2104.12 101.39 Q2105.93 101.738 2107.87 102.432 Z\" fill=\"#000000\" fill-rule=\"nonzero\" fill-opacity=\"1\" /><polyline clip-path=\"url(#clip890)\" style=\"stroke:#000000; stroke-linecap:round; stroke-linejoin:round; stroke-width:4; stroke-opacity:1; fill:none\" points=\"1852.76,1024.33 1852.76,1024.33 1872.76,1024.33 1852.76,1024.33 1852.76,895.511 1872.76,895.511 1852.76,895.511 1852.76,766.688 1872.76,766.688 1852.76,766.688 1852.76,637.866 1872.76,637.866 1852.76,637.866 1852.76,509.044 1872.76,509.044 1852.76,509.044 1852.76,380.222 1872.76,380.222 1852.76,380.222 1852.76,251.399 1872.76,251.399 1852.76,251.399 1852.76,122.577 1872.76,122.577 1852.76,122.577 1852.76,117.424 \"/>\n",
       "</svg>\n"
      ],
      "text/html": [
       "<img src=\"data:image/png;base64,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\" />"
      ]
     },
     "execution_count": 15,
     "metadata": {},
     "output_type": "execute_result"
    },
    {
     "name": "stderr",
     "output_type": "stream",
     "text": [
      "\u001b[33m\u001b[1m┌ \u001b[22m\u001b[39m\u001b[33m\u001b[1mWarning: \u001b[22m\u001b[39mNo strict ticks found\n",
      "\u001b[33m\u001b[1m└ \u001b[22m\u001b[39m\u001b[90m@ PlotUtils ~/.julia/packages/PlotUtils/jEGKP/src/ticks.jl:191\u001b[39m\n",
      "\u001b[33m\u001b[1m┌ \u001b[22m\u001b[39m\u001b[33m\u001b[1mWarning: \u001b[22m\u001b[39mNo strict ticks found\n",
      "\u001b[33m\u001b[1m└ \u001b[22m\u001b[39m\u001b[90m@ PlotUtils ~/.julia/packages/PlotUtils/jEGKP/src/ticks.jl:191\u001b[39m\n",
      "\u001b[33m\u001b[1m┌ \u001b[22m\u001b[39m\u001b[33m\u001b[1mWarning: \u001b[22m\u001b[39mNo strict ticks found\n",
      "\u001b[33m\u001b[1m└ \u001b[22m\u001b[39m\u001b[90m@ PlotUtils ~/.julia/packages/PlotUtils/jEGKP/src/ticks.jl:191\u001b[39m\n",
      "\u001b[33m\u001b[1m┌ \u001b[22m\u001b[39m\u001b[33m\u001b[1mWarning: \u001b[22m\u001b[39mNo strict ticks found\n",
      "\u001b[33m\u001b[1m└ \u001b[22m\u001b[39m\u001b[90m@ PlotUtils ~/.julia/packages/PlotUtils/jEGKP/src/ticks.jl:191\u001b[39m\n",
      "\u001b[33m\u001b[1m┌ \u001b[22m\u001b[39m\u001b[33m\u001b[1mWarning: \u001b[22m\u001b[39mNo strict ticks found\n",
      "\u001b[33m\u001b[1m└ \u001b[22m\u001b[39m\u001b[90m@ PlotUtils ~/.julia/packages/PlotUtils/jEGKP/src/ticks.jl:191\u001b[39m\n"
     ]
    }
   ],
   "source": [
    "histogram2d(chain_mchmc[:r], chain_mchmc[:Aϕ], bins=(40, 20), show_empty_bins=true,\n",
    "    normalize=:pdf, color=:plasma)\n",
    "title!(\"Masked - NSIDE=64\")\n",
    "ylabel!(\"Aϕ\")\n",
    "xlabel!(\"r\")"
   ]
  },
  {
   "cell_type": "code",
   "execution_count": null,
   "id": "f48c433c",
   "metadata": {
    "tags": []
   },
   "outputs": [],
   "source": [
    "plot(chain_mchmc[:dE]/d, label=L\"\\mathrm{Energy}/d\", xlabel=\"step\")"
   ]
  },
  {
   "cell_type": "code",
   "execution_count": null,
   "id": "acc2fe43",
   "metadata": {
    "tags": []
   },
   "outputs": [],
   "source": [
    "vars = var(samples_mchmc, dims=2)[1:d]\n",
    "_vars = var(samples_mchmc, dims=2)[d+1:2*d];"
   ]
  },
  {
   "cell_type": "code",
   "execution_count": null,
   "id": "118b8c8d",
   "metadata": {
    "tags": []
   },
   "outputs": [],
   "source": [
    "k = round(maximum(vars)/minimum(vars), digits=2)\n",
    "_k = round(maximum(_vars)/minimum(_vars), digits=2);"
   ]
  },
  {
   "cell_type": "code",
   "execution_count": null,
   "id": "772e4ba2",
   "metadata": {
    "tags": []
   },
   "outputs": [],
   "source": [
    "plot(_vars, title=\"Diag(cov) - Masked\", label=string(\"Latent space --> K = \", _k))\n",
    "plot!(vars, label=string(\"Parameter space --> K = \", k))"
   ]
  },
  {
   "cell_type": "markdown",
   "id": "47bf987c-cf7a-45c4-af34-128247e75fe8",
   "metadata": {
    "tags": []
   },
   "source": [
    "# HMC"
   ]
  },
  {
   "cell_type": "code",
   "execution_count": null,
   "id": "9bc3972a-cbef-4aed-be62-0d8f1bc7dede",
   "metadata": {
    "tags": []
   },
   "outputs": [],
   "source": [
    "samples_hmc = []\n",
    "rng = Xoshiro(1)\n",
    "prob.ncalls[] = 0\n",
    "ϵ=0.05\n",
    "samples = 10\n",
    "@showprogress for i=1:samples\n",
    "    Ω, = state = hmc_step(rng, prob, init_params, prob.Λmass; symp_kwargs=[(N=25, ϵ=ϵ)], progress=false, always_accept=(i<10))\n",
    "    push!(samples_hmc, adapt(Array, state))\n",
    "end\n",
    "ncalls_hmc = prob.ncalls[]"
   ]
  },
  {
   "cell_type": "code",
   "execution_count": null,
   "id": "3c3b6b15-c9f0-4e2e-a38a-e05c570815f8",
   "metadata": {
    "tags": []
   },
   "outputs": [],
   "source": [
    "chain_hmc = Chains(\n",
    "    permutedims(reduce(hcat, [exp.(sample[1].θ) for sample in samples_hmc])),\n",
    "    [:r, :Aϕ],\n",
    ");"
   ]
  },
  {
   "cell_type": "code",
   "execution_count": null,
   "id": "11ae9425-a275-467b-980c-9461ef43a51d",
   "metadata": {
    "tags": []
   },
   "outputs": [],
   "source": [
    "_samples_hmc = zeros(samples, 3*Nside^2+2)\n",
    "for i in 1:samples\n",
    "    _samples_hmc[i, :]  = samples_hmc[i][1][:]\n",
    "end\n",
    "_samples_hmc"
   ]
  },
  {
   "cell_type": "code",
   "execution_count": null,
   "id": "84483f33",
   "metadata": {
    "tags": []
   },
   "outputs": [],
   "source": [
    "fol_name=string(\"/pscratch/sd/j/jaimerz/chains/\", Nside, \"/HMC/CMBLensing\",\n",
    "    \"_use_map_\", use_map,\n",
    "    \"_masking_\", masking,\n",
    "    \"_Nside_\", Nside,\n",
    "    \"_ϵ_\", ϵ)\n",
    "\n",
    "if isdir(fol_name)\n",
    "    fol_files = readdir(fol_name)\n",
    "    println(\"Found existing file \", fol_name)\n",
    "    if length(fol_files) != 0\n",
    "        last_chain = last([file for file in fol_files if occursin(\"chain\", file)])\n",
    "        last_n = parse(Int, last_chain[end])\n",
    "        last_chain = load(string(fol_name, \"/\", last_chain), \"samples\")\n",
    "        init_params = last_chain[:, end]\n",
    "        println(\"Restarting chain\")\n",
    "    else\n",
    "        println(\"Starting new chain\")\n",
    "        last_n = 0\n",
    "        init_params = prob.Ωstart\n",
    "    end\n",
    "else\n",
    "    mkdir(fol_name)\n",
    "    println(string(\"Created new folder \", fol_name))\n",
    "    last_n = 0\n",
    "end\n",
    "\n",
    "file_name = string(fol_name, \"/chain_\", last_n+1, \"_\", samples)\n",
    "\n",
    "@save file_name _samples_hmc"
   ]
  },
  {
   "cell_type": "code",
   "execution_count": null,
   "id": "7fa49497-ecff-4d9b-ad1b-35890c98a539",
   "metadata": {
    "tags": []
   },
   "outputs": [],
   "source": [
    "fol_name=string(\"/pscratch/sd/j/jaimerz/summaries/\", Nside,\"/HMC/HMC_summary\",\n",
    "    \"_use_map_\", use_map,\n",
    "    \"_masking_\", masking,\n",
    "    \"_Nside_\", Nside,\n",
    "    \"_ϵ_\", ϵ)\n",
    "\n",
    "if isdir(fol_name)\n",
    "    fol_files = readdir(fol_name)\n",
    "    println(\"Found existing file \", fol_name)\n",
    "    if length(fol_files) != 0\n",
    "        last_chain = last([file for file in fol_files if occursin(\"hyperparams\", file)])\n",
    "        last_n = parse(Int, last_chain[end])\n",
    "    end\n",
    "else\n",
    "    mkdir(fol_name)\n",
    "    println(string(\"Created new folder \", fol_name))\n",
    "end\n",
    "\n",
    "file_name = string(fol_name, \"/hyperparams_\", last_n+1, \"_\", samples)\n",
    "npzwrite(file_name,\n",
    "    Dict(\"r\"=> vec(chain_hmc[:r])[:],\n",
    "    \"Aphi\"=> vec(chain_hmc[:Aϕ])[:])"
   ]
  },
  {
   "cell_type": "code",
   "execution_count": null,
   "id": "482c3532-2b22-4c9b-a483-f90319a6ccee",
   "metadata": {
    "tags": []
   },
   "outputs": [],
   "source": [
    "#samples_hmc = load(\"../chains/HMC/CMBLensing_masked_Nnside_64_ϵ_0.25\", \"_samples_hmc\")"
   ]
  },
  {
   "cell_type": "code",
   "execution_count": null,
   "id": "ca8d1356-2707-4cbc-87c5-51dc2c1960bb",
   "metadata": {
    "tags": []
   },
   "outputs": [],
   "source": [
    "chain_hmc = Chains(\n",
    "    permutedims(reduce(hcat, [exp.(sample[1].θ) for sample in samples_hmc])),\n",
    "    [:r, :Aϕ],\n",
    ");"
   ]
  },
  {
   "cell_type": "markdown",
   "id": "547a93f5-b27f-4f69-a70d-203d6d1cb3ad",
   "metadata": {},
   "source": [
    "## Plot"
   ]
  },
  {
   "cell_type": "code",
   "execution_count": null,
   "id": "9b249925-7905-4f02-87dd-ab97a3b5194f",
   "metadata": {
    "tags": []
   },
   "outputs": [],
   "source": [
    "plot(getindex.(samples_hmc, 2), label=nothing, xlabel=\"step\", ylabel=L\"\\Delta H\")     "
   ]
  },
  {
   "cell_type": "code",
   "execution_count": null,
   "id": "4a353113-7133-46f6-8bfc-6341e3a631e2",
   "metadata": {
    "tags": []
   },
   "outputs": [],
   "source": [
    "samples_hmc[end][1][:ϕ°][:]"
   ]
  },
  {
   "cell_type": "code",
   "execution_count": null,
   "id": "764b2120-5ce1-442e-94aa-b8f096861fd2",
   "metadata": {
    "tags": []
   },
   "outputs": [],
   "source": [
    "ps = map([(:ϕ°,:I,L\"L\",L\"\\phi^\\circ\"), (:f°,:E,\"L\\ell\",L\"E^\\circ\"), (:f°,:B,L\"\\ell\",L\"B^\\circ\")]) do (k1, k2, xlabel, title)\n",
    "    plot(get_Cℓ(prob.Ωtrue[k1][k2]); label=\"true\", xlabel, title)\n",
    "    plot!(get_Cℓ(prob.Ωstart[k1][k2]); label=\"start\", xlabel, title)\n",
    "    plot!(get_Cℓ(samples_hmc[end][1][k1][k2]); label=\"last sample\", xlabel, title)\n",
    "end\n",
    "plot(ps..., layout=(1,3), xscale=:log10, yscale=:log10, size=(1000,300), legend=:bottomleft)\n",
    "     \n"
   ]
  },
  {
   "cell_type": "code",
   "execution_count": null,
   "id": "72d2f50a-e563-45ce-850a-825e055409ac",
   "metadata": {
    "tags": []
   },
   "outputs": [],
   "source": [
    "plot([exp(Ω.θ.r) for (Ω,) in samples_hmc], label=L\"r\", xlabel=\"step\")\n",
    "plot!([exp(Ω.θ.Aϕ) for (Ω,) in samples_hmc], label=L\"A_\\phi\")     \n"
   ]
  },
  {
   "cell_type": "code",
   "execution_count": null,
   "id": "124fd2aa-79ad-47d4-affc-328ffb13758d",
   "metadata": {
    "tags": []
   },
   "outputs": [],
   "source": [
    "ess_hmc = MCMCDiagnosticTools.ess(chain_hmc)[[:r,:Aϕ],:ess]"
   ]
  },
  {
   "cell_type": "code",
   "execution_count": null,
   "id": "2e42557d-3523-4643-b1e1-a56252f3ae95",
   "metadata": {
    "tags": []
   },
   "outputs": [],
   "source": [
    "ess_per_call_hmc = ess_hmc ./ (ncalls_hmc/2)"
   ]
  },
  {
   "cell_type": "code",
   "execution_count": null,
   "id": "0a8924e6-e5be-4bb8-8a48-e59262770a9a",
   "metadata": {
    "tags": []
   },
   "outputs": [],
   "source": [
    "ess_per_call_hmc = minimum(ess_hmc ./ (ncalls_hmc/2))"
   ]
  },
  {
   "cell_type": "code",
   "execution_count": null,
   "id": "42234e99-3aba-4701-8cb4-e161089a8b7d",
   "metadata": {
    "tags": []
   },
   "outputs": [],
   "source": [
    "histogram2d(chain_hmc[:r], chain_hmc[:Aϕ], bins=(40, 20), show_empty_bins=true,\n",
    "    normalize=:pdf, color=:plasma)\n",
    "title!(string(\"Masked: \", masking, \"- NSIDE=\", Nside))\n",
    "ylabel!(\"Aϕ\")\n",
    "xlabel!(\"r\")"
   ]
  },
  {
   "cell_type": "markdown",
   "id": "6e23fba8-6f15-433e-a13e-38ef4599bb54",
   "metadata": {
    "tags": []
   },
   "source": [
    "# MUSE"
   ]
  },
  {
   "cell_type": "code",
   "execution_count": null,
   "id": "c45bcb53-4095-4c8e-a272-2ae4c184d1e0",
   "metadata": {},
   "outputs": [],
   "source": [
    "using CMBLensing.ComponentArrays, MuseInference.FiniteDifferences"
   ]
  },
  {
   "cell_type": "code",
   "execution_count": null,
   "id": "9533da2a-058e-4e3e-a692-cc8b86651680",
   "metadata": {},
   "outputs": [],
   "source": [
    "muse_prob = CMBLensingMuseProblem(\n",
    "    prob.ds, \n",
    "    MAP_joint_kwargs = (minsteps=3, nsteps=15, αtol=1e-2, gradtol=3e-5, progress=false, history_keys=(:logpdf, :ΔΩ°_norm)),\n",
    ");"
   ]
  },
  {
   "cell_type": "code",
   "execution_count": null,
   "id": "72a84875-7cf8-4840-8ee6-ec8e99113e5f",
   "metadata": {},
   "outputs": [],
   "source": [
    "# small hack to allow getting MUSE covariance in terms of transformed θ\n",
    "CMBLensingMuseInferenceExt = Base.get_extension(CMBLensing,:CMBLensingMuseInferenceExt)\n",
    "CMBLensingMuseInferenceExt.mergeθ(prob::CMBLensingMuseInferenceExt.CMBLensingMuseProblem, θ) = exp.(θ)"
   ]
  },
  {
   "cell_type": "code",
   "execution_count": null,
   "id": "a6742160-dbb8-43db-8da4-f61b0dc3f89f",
   "metadata": {
    "tags": []
   },
   "outputs": [],
   "source": [
    "# z₀ = zero(FieldTuple(MuseInference.select(NamedTuple(prob.Ωstart), (:f°, :ϕ°))))\n",
    "# H_pre = Diagonal(FieldTuple(MuseInference.select(NamedTuple(prob.Λmass.diag), (:f°, :ϕ°))))\n",
    "# H_pre_map = let H_pre=H_pre, z₀=z₀\n",
    "#     MuseInference.LinearMap{eltype(z₀)}(length(z₀), issymmetric=true) do z\n",
    "#         f, = promote(z, z₀)\n",
    "#         LenseBasis(H_pre \\ f)[:]\n",
    "#     end\n",
    "# end\n",
    "# implicit_diff_cg_kwargs = (maxiter=1500,Pl=MuseInference.InverseMap(H_pre_map));"
   ]
  },
  {
   "cell_type": "code",
   "execution_count": null,
   "id": "52c93e18-4d3c-41d9-bc73-95772851c28e",
   "metadata": {},
   "outputs": [],
   "source": [
    "z₀ = zero(MuseInference.sample_x_z(muse_prob, Xoshiro(0), prob.Ωstart.θ).z);\n",
    "result = MuseResult()\n",
    "nsims = 200\n",
    "rng = Xoshiro(0)\n",
    "\n",
    "prob.ncalls[] = 0\n",
    "MuseInference.muse!(result,  muse_prob, prob.Ωstart.θ; nsims, rng, z₀, maxsteps=2, θ_rtol=0, progress=true, save_MAPs=false)\n",
    "MuseInference.get_J!(result, muse_prob; nsims,   rng, z₀, progress=true)\n",
    "MuseInference.get_H!(result, muse_prob; nsims=4, rng, z₀, progress=true, step=std(result.gs)/100, fdm=central_fdm(2,1,adapt=0))\n",
    "ncalls_muse = prob.ncalls[];"
   ]
  },
  {
   "cell_type": "code",
   "execution_count": null,
   "id": "9de40462-fdd7-4b48-b038-d2083a2d3349",
   "metadata": {},
   "outputs": [],
   "source": [
    "chain_muse = Chains(permutedims(rand(result.dist,5_000)), [:logr, :logAϕ]);"
   ]
  },
  {
   "cell_type": "code",
   "execution_count": null,
   "id": "95fc34d5",
   "metadata": {},
   "outputs": [],
   "source": [
    "fol_name=string(\"/pscratch/sd/j/jaimerz/chains/\", Nside, \"/MUSE/CMBLensing\",\n",
    "    \"_cosmo_\", global_parameters,\n",
    "    \"_masking_\", masking,\n",
    "    \"_Nside_\", Nside)\n",
    "@save fol_name chain_muse"
   ]
  },
  {
   "cell_type": "code",
   "execution_count": null,
   "id": "8b16983f",
   "metadata": {},
   "outputs": [],
   "source": [
    "#chain_muse = load(\"../chains/MUSE/CMBLensing_masked_Nnside_64\", \"chain_muse\")"
   ]
  },
  {
   "cell_type": "code",
   "execution_count": null,
   "id": "da7745d5-19ec-4668-90cc-8991f21c62ad",
   "metadata": {},
   "outputs": [],
   "source": [
    "ess_per_call_muse = nsims / ncalls_muse"
   ]
  },
  {
   "cell_type": "markdown",
   "id": "01254a7b-ce65-4af3-8d57-cc785f946cd1",
   "metadata": {
    "tags": []
   },
   "source": [
    "## Plot"
   ]
  },
  {
   "cell_type": "markdown",
   "id": "a50354a8-6824-4449-a6aa-690dc5abdd94",
   "metadata": {
    "jp-MarkdownHeadingCollapsed": true,
    "tags": []
   },
   "source": [
    "# Compare"
   ]
  },
  {
   "cell_type": "code",
   "execution_count": null,
   "id": "bbb3104b-3c78-459a-af40-ea35cb7fa0da",
   "metadata": {},
   "outputs": [],
   "source": [
    "ess_per_call_muse ./ minimum(ess_per_call_hmc)"
   ]
  },
  {
   "cell_type": "code",
   "execution_count": null,
   "id": "02e30126-0721-4617-8aae-c6aaf8f939bd",
   "metadata": {},
   "outputs": [],
   "source": [
    "ess_per_call_muse ./ minimum(ess_per_call_mchmc)"
   ]
  },
  {
   "cell_type": "code",
   "execution_count": null,
   "id": "9763093f",
   "metadata": {},
   "outputs": [],
   "source": [
    "ess_per_call_mchmc"
   ]
  },
  {
   "cell_type": "code",
   "execution_count": null,
   "id": "26444fcc",
   "metadata": {},
   "outputs": [],
   "source": [
    "ess_per_call_hmc"
   ]
  },
  {
   "cell_type": "code",
   "execution_count": null,
   "id": "b2836a7b",
   "metadata": {},
   "outputs": [],
   "source": [
    "ess_per_call_muse"
   ]
  },
  {
   "cell_type": "code",
   "execution_count": null,
   "id": "1ef21a76-4714-4418-9bb4-7a9d2847c5bd",
   "metadata": {},
   "outputs": [],
   "source": [
    "which_ess = minimum # can be: first (r), last (Aphi), or minimum\n",
    "bar(\n",
    "    [\"HMC\" \"MCHMC\" \"MUSE\"],\n",
    "    which_ess.([[ess_per_call_hmc] [ess_per_call_mchmc] [ess_per_call_muse]]),\n",
    "    ylabel = \"eff. samples / ∇logP eval\", legend=false)"
   ]
  },
  {
   "cell_type": "code",
   "execution_count": null,
   "id": "dbb7d62a-87d2-4393-bc43-a5addc698207",
   "metadata": {},
   "outputs": [],
   "source": [
    "plot(\n",
    "    begin\n",
    "        histogram(log.(chain_hmc[:r]), normalize=:pdf, alpha=0.5, bins=range(-4,0,length=40), label=\"HMC\")\n",
    "        histogram!(log.(chain_mchmc[:r]), normalize=:pdf, alpha=0.5, bins=range(-4,0,length=40), label=\"MCHMC\")\n",
    "        histogram!(chain_muse[:logr], normalize=:pdf, alpha=0.5, bins=range(-4,0,length=40), label=\"MUSE\")\n",
    "        vline!([prob.Ωtrue.θ.r], c=4, lw=3, label=\"Truth\")\n",
    "    end, \n",
    "    begin\n",
    "        histogram(log.(chain_hmc[:Aϕ]), normalize=:pdf, alpha=0.5, bins=range(-0.6,0.6,length=40), label=\"HMC\")\n",
    "        histogram!(log.(chain_mchmc[:Aϕ]), normalize=:pdf, alpha=0.5, bins=range(-0.6,0.6,length=40), label=\"MCHMC\")\n",
    "        histogram!(chain_muse[:logAϕ], normalize=:pdf, alpha=0.5, bins=range(-0.6,0.6,length=40), label=\"MUSE\")\n",
    "        vline!([prob.Ωtrue.θ.Aϕ], c=4, lw=3, label=\"Truth\")\n",
    "    end, \n",
    "    size = (700, 300)\n",
    ")"
   ]
  },
  {
   "cell_type": "code",
   "execution_count": null,
   "id": "41290466-e88b-436e-8bc1-2ea5297ccfdc",
   "metadata": {},
   "outputs": [],
   "source": []
  },
  {
   "cell_type": "code",
   "execution_count": null,
   "id": "7dadf389-dd36-44a7-aef3-d2f53a317912",
   "metadata": {},
   "outputs": [],
   "source": []
  }
 ],
 "metadata": {
  "kernelspec": {
   "display_name": "Julia 1.9.4",
   "language": "julia",
   "name": "julia-1.9"
  },
  "language_info": {
   "file_extension": ".jl",
   "mimetype": "application/julia",
   "name": "julia",
   "version": "1.9.4"
  },
  "widgets": {
   "application/vnd.jupyter.widget-state+json": {
    "state": {},
    "version_major": 2,
    "version_minor": 0
   }
  }
 },
 "nbformat": 4,
 "nbformat_minor": 5
}
