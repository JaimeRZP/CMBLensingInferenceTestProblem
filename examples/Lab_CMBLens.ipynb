{
 "cells": [
  {
   "cell_type": "markdown",
   "id": "91129cb1",
   "metadata": {},
   "source": [
    "# Lab CMBLenses"
   ]
  },
  {
   "cell_type": "code",
   "execution_count": 1,
   "id": "d3285d75",
   "metadata": {},
   "outputs": [
    {
     "name": "stderr",
     "output_type": "stream",
     "text": [
      "\u001b[32m\u001b[1m  Activating\u001b[22m\u001b[39m project at `~/PhD/CMBLensingInferenceTestProblem/examples`\n"
     ]
    }
   ],
   "source": [
    "using Pkg\n",
    "Pkg.activate(\".\")\n",
    "Pkg.precompile()"
   ]
  },
  {
   "cell_type": "code",
   "execution_count": 2,
   "id": "87802120-5beb-4414-95ca-c140a3cd2209",
   "metadata": {
    "tags": []
   },
   "outputs": [],
   "source": [
    "using Revise, Adapt, CMBLensing, CMBLensingInferenceTestProblem, CUDA, JLD2, LaTeXStrings, NPZ, \n",
    "    LinearAlgebra, MCMCChains, MCMCDiagnosticTools, MuseInference, MicroCanonicalHMC,\n",
    "    Plots, ProgressMeter, Random, Statistics, Zygote "
   ]
  },
  {
   "cell_type": "code",
   "execution_count": 3,
   "id": "6efc8272",
   "metadata": {
    "tags": []
   },
   "outputs": [],
   "source": [
    "Plots.default(fmt=:png, dpi=120, size=(500,300), legendfontsize=10)"
   ]
  },
  {
   "cell_type": "code",
   "execution_count": 4,
   "id": "f7a92ecf-4dae-4553-a001-f5376ca7c35a",
   "metadata": {
    "tags": []
   },
   "outputs": [
    {
     "name": "stdout",
     "output_type": "stream",
     "text": [
      "Nside: 64\n",
      "Use Map: true\n",
      "Masking: false\n"
     ]
    }
   ],
   "source": [
    "Nside = 64\n",
    "T = Float64;\n",
    "use_map = true\n",
    "masking = false\n",
    "t = nothing\n",
    "precond_path = string(\"../pixel_preconditioners/pp_nside_\", Nside, \"_t_\", t)\n",
    "println(\"Nside: \", Nside)\n",
    "println(\"Use Map: \", use_map)\n",
    "println(\"Masking: \", masking)\n"
   ]
  },
  {
   "cell_type": "code",
   "execution_count": 5,
   "id": "a7d6f81c",
   "metadata": {
    "tags": []
   },
   "outputs": [
    {
     "ename": "LoadError",
     "evalue": "InterruptException:",
     "output_type": "error",
     "traceback": [
      "InterruptException:",
      "",
      "Stacktrace:",
      "  [1] (::Zygote.var\"#back#302\"{:Cf, Zygote.Context{false}, BaseDataSet, Diagonal{Float64, BaseField{EBFourier, ProjLambert{Float64, CuArray{Float64, 1, CUDA.Mem.DeviceBuffer}, CuArray{Float64, 2, CUDA.Mem.DeviceBuffer}}, Float64, CuArray{Float64, 3, CUDA.Mem.DeviceBuffer}}}})(Δ::Diagonal{ComplexF64, BaseField{EBFourier, ProjLambert{Float64, CuArray{Float64, 1, CUDA.Mem.DeviceBuffer}, CuArray{Float64, 2, CUDA.Mem.DeviceBuffer}}, ComplexF64, CuArray{ComplexF64, 3, CUDA.Mem.DeviceBuffer}}})",
      "    @ Zygote ~/.julia/packages/Zygote/jxHJc/src/lib/lib.jl:237",
      "  [2] #2184#back",
      "    @ ~/.julia/packages/ZygoteRules/M4xmc/src/adjoint.jl:72 [inlined]",
      "  [3] Pullback",
      "    @ ./Base.jl:37 [inlined]",
      "  [4] Pullback",
      "    @ ~/.julia/packages/UnPack/EkESO/src/UnPack.jl:34 [inlined]",
      "  [5] (::Zygote.Pullback{Tuple{typeof(UnPack.unpack), BaseDataSet, Val{:Cf}}, Tuple{Zygote.Pullback{Tuple{typeof(getproperty), BaseDataSet, Symbol}, Tuple{Zygote.var\"#2184#back#303\"{Zygote.var\"#back#302\"{:Cf, Zygote.Context{false}, BaseDataSet, Diagonal{Float64, BaseField{EBFourier, ProjLambert{Float64, CuArray{Float64, 1, CUDA.Mem.DeviceBuffer}, CuArray{Float64, 2, CUDA.Mem.DeviceBuffer}}, Float64, CuArray{Float64, 3, CUDA.Mem.DeviceBuffer}}}}}}}}})(Δ::Diagonal{ComplexF64, BaseField{EBFourier, ProjLambert{Float64, CuArray{Float64, 1, CUDA.Mem.DeviceBuffer}, CuArray{Float64, 2, CUDA.Mem.DeviceBuffer}}, ComplexF64, CuArray{ComplexF64, 3, CUDA.Mem.DeviceBuffer}}})",
      "    @ Zygote ~/.julia/packages/Zygote/jxHJc/src/compiler/interface2.jl:0",
      "  [6] macro expansion",
      "    @ ~/.julia/packages/UnPack/EkESO/src/UnPack.jl:101 [inlined]",
      "  [7] Pullback",
      "    @ ~/PhD/CMBLensing.jl/src/dataset.jl:60 [inlined]",
      "  [8] (::Zygote.Pullback{Tuple{CMBLensing.var\"##_#834\", BaseField{EBFourier, ProjLambert{Float64, CuArray{Float64, 1, CUDA.Mem.DeviceBuffer}, CuArray{Float64, 2, CUDA.Mem.DeviceBuffer}}, ComplexF64, CuArray{ComplexF64, 3, CUDA.Mem.DeviceBuffer}}, BaseField{Map, ProjLambert{Float64, CuArray{Float64, 1, CUDA.Mem.DeviceBuffer}, CuArray{Float64, 2, CUDA.Mem.DeviceBuffer}}, Float64, CuArray{Float64, 2, CUDA.Mem.DeviceBuffer}}, NamedTuple{(), Tuple{}}, BaseField{EBFourier, ProjLambert{Float64, CuArray{Float64, 1, CUDA.Mem.DeviceBuffer}, CuArray{Float64, 2, CUDA.Mem.DeviceBuffer}}, ComplexF64, CuArray{ComplexF64, 3, CUDA.Mem.DeviceBuffer}}, BaseDataSet, CMBLensing.Logpdf, Base.RefValue{Real}}, Any})(Δ::Nothing)",
      "    @ Zygote ~/.julia/packages/Zygote/jxHJc/src/compiler/interface2.jl:0",
      "  [9] Pullback",
      "    @ ~/PhD/CMBLensing.jl/src/dataset.jl:59 [inlined]",
      " [10] (::Zygote.Pullback{Tuple{typeof(Core.kwcall), NamedTuple{(:f, :ϕ, :θ), Tuple{BaseField{EBFourier, ProjLambert{Float64, CuArray{Float64, 1, CUDA.Mem.DeviceBuffer}, CuArray{Float64, 2, CUDA.Mem.DeviceBuffer}}, ComplexF64, CuArray{ComplexF64, 3, CUDA.Mem.DeviceBuffer}}, BaseField{Map, ProjLambert{Float64, CuArray{Float64, 1, CUDA.Mem.DeviceBuffer}, CuArray{Float64, 2, CUDA.Mem.DeviceBuffer}}, Float64, CuArray{Float64, 2, CUDA.Mem.DeviceBuffer}}, NamedTuple{(), Tuple{}}}}, BaseDataSet, CMBLensing.Logpdf, Base.RefValue{Real}}, Any})(Δ::Nothing)",
      "    @ Zygote ~/.julia/packages/Zygote/jxHJc/src/compiler/interface2.jl:0",
      " [11] #291",
      "    @ ~/.julia/packages/Zygote/jxHJc/src/lib/lib.jl:206 [inlined]",
      " [12] (::Zygote.var\"#2173#back#293\"{Zygote.var\"#291#292\"{Tuple{NTuple{4, Nothing}, Tuple{}}, Zygote.Pullback{Tuple{typeof(Core.kwcall), NamedTuple{(:f, :ϕ, :θ), Tuple{BaseField{EBFourier, ProjLambert{Float64, CuArray{Float64, 1, CUDA.Mem.DeviceBuffer}, CuArray{Float64, 2, CUDA.Mem.DeviceBuffer}}, ComplexF64, CuArray{ComplexF64, 3, CUDA.Mem.DeviceBuffer}}, BaseField{Map, ProjLambert{Float64, CuArray{Float64, 1, CUDA.Mem.DeviceBuffer}, CuArray{Float64, 2, CUDA.Mem.DeviceBuffer}}, Float64, CuArray{Float64, 2, CUDA.Mem.DeviceBuffer}}, NamedTuple{(), Tuple{}}}}, BaseDataSet, CMBLensing.Logpdf, Base.RefValue{Real}}, Any}}})(Δ::Nothing)",
      "    @ Zygote ~/.julia/packages/ZygoteRules/M4xmc/src/adjoint.jl:72",
      " [13] Pullback",
      "    @ ~/PhD/CMBLensing.jl/src/simpleppl.jl:96 [inlined]",
      " [14] (::Zygote.Pullback{Tuple{CMBLensing.var\"##loglikelihood#814\", Base.Pairs{Symbol, Any, Tuple{Symbol, Symbol, Symbol}, NamedTuple{(:f, :ϕ, :θ), Tuple{BaseField{EBFourier, ProjLambert{Float64, CuArray{Float64, 1, CUDA.Mem.DeviceBuffer}, CuArray{Float64, 2, CUDA.Mem.DeviceBuffer}}, ComplexF64, CuArray{ComplexF64, 3, CUDA.Mem.DeviceBuffer}}, BaseField{Map, ProjLambert{Float64, CuArray{Float64, 1, CUDA.Mem.DeviceBuffer}, CuArray{Float64, 2, CUDA.Mem.DeviceBuffer}}, Float64, CuArray{Float64, 2, CUDA.Mem.DeviceBuffer}}, NamedTuple{(), Tuple{}}}}}, typeof(StatsAPI.loglikelihood), BaseDataSet}, Any})(Δ::Float64)",
      "    @ Zygote ~/.julia/packages/Zygote/jxHJc/src/compiler/interface2.jl:0",
      " [15] #291",
      "    @ ~/.julia/packages/Zygote/jxHJc/src/lib/lib.jl:206 [inlined]",
      " [16] #2173#back",
      "    @ ~/.julia/packages/ZygoteRules/M4xmc/src/adjoint.jl:72 [inlined]",
      " [17] Pullback",
      "    @ ~/PhD/CMBLensing.jl/src/simpleppl.jl:94 [inlined]",
      " [18] (::Zygote.Pullback{Tuple{typeof(Core.kwcall), NamedTuple{(:f, :ϕ, :θ), Tuple{BaseField{EBFourier, ProjLambert{Float64, CuArray{Float64, 1, CUDA.Mem.DeviceBuffer}, CuArray{Float64, 2, CUDA.Mem.DeviceBuffer}}, ComplexF64, CuArray{ComplexF64, 3, CUDA.Mem.DeviceBuffer}}, BaseField{Map, ProjLambert{Float64, CuArray{Float64, 1, CUDA.Mem.DeviceBuffer}, CuArray{Float64, 2, CUDA.Mem.DeviceBuffer}}, Float64, CuArray{Float64, 2, CUDA.Mem.DeviceBuffer}}, NamedTuple{(), Tuple{}}}}, typeof(StatsAPI.loglikelihood), BaseDataSet}, Tuple{Zygote.var\"#2370#back#419\"{Zygote.var\"#pairs_namedtuple_pullback#418\"{(:f, :ϕ, :θ), NamedTuple{(:f, :ϕ, :θ), Tuple{BaseField{EBFourier, ProjLambert{Float64, CuArray{Float64, 1, CUDA.Mem.DeviceBuffer}, CuArray{Float64, 2, CUDA.Mem.DeviceBuffer}}, ComplexF64, CuArray{ComplexF64, 3, CUDA.Mem.DeviceBuffer}}, BaseField{Map, ProjLambert{Float64, CuArray{Float64, 1, CUDA.Mem.DeviceBuffer}, CuArray{Float64, 2, CUDA.Mem.DeviceBuffer}}, Float64, CuArray{Float64, 2, CUDA.Mem.DeviceBuffer}}, NamedTuple{(), Tuple{}}}}}}, Zygote.var\"#2173#back#293\"{Zygote.var\"#291#292\"{Tuple{Tuple{Nothing, Nothing, Nothing}, Tuple{}}, Zygote.Pullback{Tuple{CMBLensing.var\"##loglikelihood#814\", Base.Pairs{Symbol, Any, Tuple{Symbol, Symbol, Symbol}, NamedTuple{(:f, :ϕ, :θ), Tuple{BaseField{EBFourier, ProjLambert{Float64, CuArray{Float64, 1, CUDA.Mem.DeviceBuffer}, CuArray{Float64, 2, CUDA.Mem.DeviceBuffer}}, ComplexF64, CuArray{ComplexF64, 3, CUDA.Mem.DeviceBuffer}}, BaseField{Map, ProjLambert{Float64, CuArray{Float64, 1, CUDA.Mem.DeviceBuffer}, CuArray{Float64, 2, CUDA.Mem.DeviceBuffer}}, Float64, CuArray{Float64, 2, CUDA.Mem.DeviceBuffer}}, NamedTuple{(), Tuple{}}}}}, typeof(StatsAPI.loglikelihood), BaseDataSet}, Any}}}, Zygote.var\"#2017#back#204\"{typeof(identity)}}})(Δ::Float64)",
      "    @ Zygote ~/.julia/packages/Zygote/jxHJc/src/compiler/interface2.jl:0",
      " [19] #291",
      "    @ ~/.julia/packages/Zygote/jxHJc/src/lib/lib.jl:206 [inlined]",
      " [20] (::Zygote.var\"#2173#back#293\"{Zygote.var\"#291#292\"{Tuple{Tuple{Nothing, Nothing, Nothing}, Tuple{}}, Zygote.Pullback{Tuple{typeof(Core.kwcall), NamedTuple{(:f, :ϕ, :θ), Tuple{BaseField{EBFourier, ProjLambert{Float64, CuArray{Float64, 1, CUDA.Mem.DeviceBuffer}, CuArray{Float64, 2, CUDA.Mem.DeviceBuffer}}, ComplexF64, CuArray{ComplexF64, 3, CUDA.Mem.DeviceBuffer}}, BaseField{Map, ProjLambert{Float64, CuArray{Float64, 1, CUDA.Mem.DeviceBuffer}, CuArray{Float64, 2, CUDA.Mem.DeviceBuffer}}, Float64, CuArray{Float64, 2, CUDA.Mem.DeviceBuffer}}, NamedTuple{(), Tuple{}}}}, typeof(StatsAPI.loglikelihood), BaseDataSet}, Tuple{Zygote.var\"#2370#back#419\"{Zygote.var\"#pairs_namedtuple_pullback#418\"{(:f, :ϕ, :θ), NamedTuple{(:f, :ϕ, :θ), Tuple{BaseField{EBFourier, ProjLambert{Float64, CuArray{Float64, 1, CUDA.Mem.DeviceBuffer}, CuArray{Float64, 2, CUDA.Mem.DeviceBuffer}}, ComplexF64, CuArray{ComplexF64, 3, CUDA.Mem.DeviceBuffer}}, BaseField{Map, ProjLambert{Float64, CuArray{Float64, 1, CUDA.Mem.DeviceBuffer}, CuArray{Float64, 2, CUDA.Mem.DeviceBuffer}}, Float64, CuArray{Float64, 2, CUDA.Mem.DeviceBuffer}}, NamedTuple{(), Tuple{}}}}}}, Zygote.var\"#2173#back#293\"{Zygote.var\"#291#292\"{Tuple{Tuple{Nothing, Nothing, Nothing}, Tuple{}}, Zygote.Pullback{Tuple{CMBLensing.var\"##loglikelihood#814\", Base.Pairs{Symbol, Any, Tuple{Symbol, Symbol, Symbol}, NamedTuple{(:f, :ϕ, :θ), Tuple{BaseField{EBFourier, ProjLambert{Float64, CuArray{Float64, 1, CUDA.Mem.DeviceBuffer}, CuArray{Float64, 2, CUDA.Mem.DeviceBuffer}}, ComplexF64, CuArray{ComplexF64, 3, CUDA.Mem.DeviceBuffer}}, BaseField{Map, ProjLambert{Float64, CuArray{Float64, 1, CUDA.Mem.DeviceBuffer}, CuArray{Float64, 2, CUDA.Mem.DeviceBuffer}}, Float64, CuArray{Float64, 2, CUDA.Mem.DeviceBuffer}}, NamedTuple{(), Tuple{}}}}}, typeof(StatsAPI.loglikelihood), BaseDataSet}, Any}}}, Zygote.var\"#2017#back#204\"{typeof(identity)}}}}})(Δ::Float64)",
      "    @ Zygote ~/.julia/packages/ZygoteRules/M4xmc/src/adjoint.jl:72",
      " [21] Pullback",
      "    @ ~/PhD/CMBLensing.jl/src/simpleppl.jl:100 [inlined]",
      " [22] (::Zygote.Pullback{Tuple{CMBLensing.var\"##logpdf#815\", Base.Pairs{Symbol, Any, Tuple{Symbol, Symbol, Symbol}, NamedTuple{(:f, :ϕ, :θ), Tuple{BaseField{EBFourier, ProjLambert{Float64, CuArray{Float64, 1, CUDA.Mem.DeviceBuffer}, CuArray{Float64, 2, CUDA.Mem.DeviceBuffer}}, ComplexF64, CuArray{ComplexF64, 3, CUDA.Mem.DeviceBuffer}}, BaseField{Map, ProjLambert{Float64, CuArray{Float64, 1, CUDA.Mem.DeviceBuffer}, CuArray{Float64, 2, CUDA.Mem.DeviceBuffer}}, Float64, CuArray{Float64, 2, CUDA.Mem.DeviceBuffer}}, NamedTuple{(), Tuple{}}}}}, typeof(logpdf), BaseDataSet}, Any})(Δ::Float64)",
      "    @ Zygote ~/.julia/packages/Zygote/jxHJc/src/compiler/interface2.jl:0",
      " [23] #291",
      "    @ ~/.julia/packages/Zygote/jxHJc/src/lib/lib.jl:206 [inlined]",
      " [24] #2173#back",
      "    @ ~/.julia/packages/ZygoteRules/M4xmc/src/adjoint.jl:72 [inlined]",
      " [25] Pullback",
      "    @ ~/PhD/CMBLensing.jl/src/simpleppl.jl:99 [inlined]",
      " [26] (::Zygote.Pullback{Tuple{typeof(Core.kwcall), NamedTuple{(:f, :ϕ, :θ), Tuple{BaseField{EBFourier, ProjLambert{Float64, CuArray{Float64, 1, CUDA.Mem.DeviceBuffer}, CuArray{Float64, 2, CUDA.Mem.DeviceBuffer}}, ComplexF64, CuArray{ComplexF64, 3, CUDA.Mem.DeviceBuffer}}, BaseField{Map, ProjLambert{Float64, CuArray{Float64, 1, CUDA.Mem.DeviceBuffer}, CuArray{Float64, 2, CUDA.Mem.DeviceBuffer}}, Float64, CuArray{Float64, 2, CUDA.Mem.DeviceBuffer}}, NamedTuple{(), Tuple{}}}}, typeof(logpdf), BaseDataSet}, Tuple{Zygote.var\"#2370#back#419\"{Zygote.var\"#pairs_namedtuple_pullback#418\"{(:f, :ϕ, :θ), NamedTuple{(:f, :ϕ, :θ), Tuple{BaseField{EBFourier, ProjLambert{Float64, CuArray{Float64, 1, CUDA.Mem.DeviceBuffer}, CuArray{Float64, 2, CUDA.Mem.DeviceBuffer}}, ComplexF64, CuArray{ComplexF64, 3, CUDA.Mem.DeviceBuffer}}, BaseField{Map, ProjLambert{Float64, CuArray{Float64, 1, CUDA.Mem.DeviceBuffer}, CuArray{Float64, 2, CUDA.Mem.DeviceBuffer}}, Float64, CuArray{Float64, 2, CUDA.Mem.DeviceBuffer}}, NamedTuple{(), Tuple{}}}}}}, Zygote.var\"#2173#back#293\"{Zygote.var\"#291#292\"{Tuple{Tuple{Nothing, Nothing, Nothing}, Tuple{}}, Zygote.Pullback{Tuple{CMBLensing.var\"##logpdf#815\", Base.Pairs{Symbol, Any, Tuple{Symbol, Symbol, Symbol}, NamedTuple{(:f, :ϕ, :θ), Tuple{BaseField{EBFourier, ProjLambert{Float64, CuArray{Float64, 1, CUDA.Mem.DeviceBuffer}, CuArray{Float64, 2, CUDA.Mem.DeviceBuffer}}, ComplexF64, CuArray{ComplexF64, 3, CUDA.Mem.DeviceBuffer}}, BaseField{Map, ProjLambert{Float64, CuArray{Float64, 1, CUDA.Mem.DeviceBuffer}, CuArray{Float64, 2, CUDA.Mem.DeviceBuffer}}, Float64, CuArray{Float64, 2, CUDA.Mem.DeviceBuffer}}, NamedTuple{(), Tuple{}}}}}, typeof(logpdf), BaseDataSet}, Any}}}, Zygote.var\"#2017#back#204\"{typeof(identity)}}})(Δ::Float64)",
      "    @ Zygote ~/.julia/packages/Zygote/jxHJc/src/compiler/interface2.jl:0",
      " [27] Pullback",
      "    @ ~/PhD/CMBLensing.jl/src/dataset.jl:86 [inlined]",
      " [28] (::Zygote.Pullback{Tuple{CMBLensing.var\"##logpdf#838\", NamedTuple{(), Tuple{}}, Base.Pairs{Symbol, BaseField{B, ProjLambert{Float64, CuArray{Float64, 1, CUDA.Mem.DeviceBuffer}, CuArray{Float64, 2, CUDA.Mem.DeviceBuffer}}, Float64, A} where {B, A<:(AbstractArray{Float64})}, Tuple{Symbol, Symbol}, NamedTuple{(:f°, :ϕ°), Tuple{BaseField{QUMap, ProjLambert{Float64, CuArray{Float64, 1, CUDA.Mem.DeviceBuffer}, CuArray{Float64, 2, CUDA.Mem.DeviceBuffer}}, Float64, CuArray{Float64, 3, CUDA.Mem.DeviceBuffer}}, BaseField{Map, ProjLambert{Float64, CuArray{Float64, 1, CUDA.Mem.DeviceBuffer}, CuArray{Float64, 2, CUDA.Mem.DeviceBuffer}}, Float64, CuArray{Float64, 2, CUDA.Mem.DeviceBuffer}}}}}, typeof(logpdf), Mixed{BaseDataSet}}, Any})(Δ::Float64)",
      "    @ Zygote ~/.julia/packages/Zygote/jxHJc/src/compiler/interface2.jl:0",
      " [29] Pullback",
      "    @ ~/PhD/CMBLensing.jl/src/dataset.jl:84 [inlined]",
      " [30] (::Zygote.Pullback{Tuple{typeof(Core.kwcall), NamedTuple{(:f°, :ϕ°, :θ), Tuple{BaseField{QUMap, ProjLambert{Float64, CuArray{Float64, 1, CUDA.Mem.DeviceBuffer}, CuArray{Float64, 2, CUDA.Mem.DeviceBuffer}}, Float64, CuArray{Float64, 3, CUDA.Mem.DeviceBuffer}}, BaseField{Map, ProjLambert{Float64, CuArray{Float64, 1, CUDA.Mem.DeviceBuffer}, CuArray{Float64, 2, CUDA.Mem.DeviceBuffer}}, Float64, CuArray{Float64, 2, CUDA.Mem.DeviceBuffer}}, NamedTuple{(), Tuple{}}}}, typeof(logpdf), Mixed{BaseDataSet}}, Any})(Δ::Float64)",
      "    @ Zygote ~/.julia/packages/Zygote/jxHJc/src/compiler/interface2.jl:0",
      " [31] Pullback",
      "    @ ~/PhD/CMBLensing.jl/src/maximization.jl:178 [inlined]",
      " [32] (::Zygote.Pullback{Tuple{CMBLensing.var\"#889#895\"{NamedTuple{(), Tuple{}}, BaseDataSet, BaseField{QUMap, ProjLambert{Float64, CuArray{Float64, 1, CUDA.Mem.DeviceBuffer}, CuArray{Float64, 2, CUDA.Mem.DeviceBuffer}}, Float64, CuArray{Float64, 3, CUDA.Mem.DeviceBuffer}}}, FieldTuple{NamedTuple{(:ϕ°,), Tuple{BaseField{Map, ProjLambert{Float64, CuArray{Float64, 1, CUDA.Mem.DeviceBuffer}, CuArray{Float64, 2, CUDA.Mem.DeviceBuffer}}, Float64, CuArray{Float64, 2, CUDA.Mem.DeviceBuffer}}}}, CMBLensing.BasisProd{Tuple{Map}}, Float64}}, Tuple{Zygote.Pullback{Tuple{Type{NamedTuple{(:θ,)}}, Tuple{NamedTuple{(), Tuple{}}}}, Tuple{Zygote.Pullback{Tuple{Type{NamedTuple{(:θ,), Tuple{NamedTuple{(), Tuple{}}}}}, Tuple{NamedTuple{(), Tuple{}}}}, Tuple{Zygote.var\"#2224#back#315\"{Zygote.Jnew{NamedTuple{(:θ,), Tuple{NamedTuple{(), Tuple{}}}}, Nothing, true}}}}}}, Zygote.Pullback{Tuple{typeof(merge), NamedTuple{(:f°,), Tuple{BaseField{QUMap, ProjLambert{Float64, CuArray{Float64, 1, CUDA.Mem.DeviceBuffer}, CuArray{Float64, 2, CUDA.Mem.DeviceBuffer}}, Float64, CuArray{Float64, 3, CUDA.Mem.DeviceBuffer}}}}, FieldTuple{NamedTuple{(:ϕ°,), Tuple{BaseField{Map, ProjLambert{Float64, CuArray{Float64, 1, CUDA.Mem.DeviceBuffer}, CuArray{Float64, 2, CUDA.Mem.DeviceBuffer}}, Float64, CuArray{Float64, 2, CUDA.Mem.DeviceBuffer}}}}, CMBLensing.BasisProd{Tuple{Map}}, Float64}}, Tuple{Zygote.Pullback{Tuple{typeof(merge), NamedTuple{(:f°,), Tuple{BaseField{QUMap, ProjLambert{Float64, CuArray{Float64, 1, CUDA.Mem.DeviceBuffer}, CuArray{Float64, 2, CUDA.Mem.DeviceBuffer}}, Float64, CuArray{Float64, 3, CUDA.Mem.DeviceBuffer}}}}, NamedTuple{(:ϕ°,), Tuple{BaseField{Map, ProjLambert{Float64, CuArray{Float64, 1, CUDA.Mem.DeviceBuffer}, CuArray{Float64, 2, CUDA.Mem.DeviceBuffer}}, Float64, CuArray{Float64, 2, CUDA.Mem.DeviceBuffer}}}}}, Tuple{Zygote.var\"#2184#back#303\"{Zygote.var\"#back#302\"{:ϕ°, Zygote.Context{false}, NamedTuple{(:ϕ°,), Tuple{BaseField{Map, ProjLambert{Float64, CuArray{Float64, 1, CUDA.Mem.DeviceBuffer}, CuArray{Float64, 2, CUDA.Mem.DeviceBuffer}}, Float64, CuArray{Float64, 2, CUDA.Mem.DeviceBuffer}}}}, BaseField{Map, ProjLambert{Float64, CuArray{Float64, 1, CUDA.Mem.DeviceBuffer}, CuArray{Float64, 2, CUDA.Mem.DeviceBuffer}}, Float64, CuArray{Float64, 2, CUDA.Mem.DeviceBuffer}}}}, Zygote.Pullback{Tuple{Type{NamedTuple{(:f°, :ϕ°), Tuple{BaseField{QUMap, ProjLambert{Float64, CuArray{Float64, 1, CUDA.Mem.DeviceBuffer}, CuArray{Float64, 2, CUDA.Mem.DeviceBuffer}}, Float64, CuArray{Float64, 3, CUDA.Mem.DeviceBuffer}}, BaseField{Map, ProjLambert{Float64, CuArray{Float64, 1, CUDA.Mem.DeviceBuffer}, CuArray{Float64, 2, CUDA.Mem.DeviceBuffer}}, Float64, CuArray{Float64, 2, CUDA.Mem.DeviceBuffer}}}}}, Tuple{BaseField{QUMap, ProjLambert{Float64, CuArray{Float64, 1, CUDA.Mem.DeviceBuffer}, CuArray{Float64, 2, CUDA.Mem.DeviceBuffer}}, Float64, CuArray{Float64, 3, CUDA.Mem.DeviceBuffer}}, BaseField{Map, ProjLambert{Float64, CuArray{Float64, 1, CUDA.Mem.DeviceBuffer}, CuArray{Float64, 2, CUDA.Mem.DeviceBuffer}}, Float64, CuArray{Float64, 2, CUDA.Mem.DeviceBuffer}}}}, Tuple{Zygote.var\"#2224#back#315\"{Zygote.Jnew{NamedTuple{(:f°, :ϕ°), Tuple{BaseField{QUMap, ProjLambert{Float64, CuArray{Float64, 1, CUDA.Mem.DeviceBuffer}, CuArray{Float64, 2, CUDA.Mem.DeviceBuffer}}, Float64, CuArray{Float64, 3, CUDA.Mem.DeviceBuffer}}, BaseField{Map, ProjLambert{Float64, CuArray{Float64, 1, CUDA.Mem.DeviceBuffer}, CuArray{Float64, 2, CUDA.Mem.DeviceBuffer}}, Float64, CuArray{Float64, 2, CUDA.Mem.DeviceBuffer}}}}, Nothing, true}}}}, Zygote.var\"#2017#back#204\"{typeof(identity)}, Zygote.var\"#2184#back#303\"{Zygote.var\"#back#302\"{:f°, Zygote.Context{false}, NamedTuple{(:f°,), Tuple{BaseField{QUMap, ProjLambert{Float64, CuArray{Float64, 1, CUDA.Mem.DeviceBuffer}, CuArray{Float64, 2, CUDA.Mem.DeviceBuffer}}, Float64, CuArray{Float64, 3, CUDA.Mem.DeviceBuffer}}}}, BaseField{QUMap, ProjLambert{Float64, CuArray{Float64, 1, CUDA.Mem.DeviceBuffer}, CuArray{Float64, 2, CUDA.Mem.DeviceBuffer}}, Float64, CuArray{Float64, 3, CUDA.Mem.DeviceBuffer}}}}}}, CMBLensing.var\"#1581#back#1149\"{CMBLensing.var\"#1143#1147\"{FieldTuple{NamedTuple{(:ϕ°,), Tuple{BaseField{Map, ProjLambert{Float64, CuArray{Float64, 1, CUDA.Mem.DeviceBuffer}, CuArray{Float64, 2, CUDA.Mem.DeviceBuffer}}, Float64, CuArray{Float64, 2, CUDA.Mem.DeviceBuffer}}}}, CMBLensing.BasisProd{Tuple{Map}}, Float64}}}}}, Zygote.Pullback{Tuple{Type{Mixed}, BaseDataSet}, Tuple{Zygote.Pullback{Tuple{Type{Mixed{BaseDataSet}}, BaseDataSet}, Tuple{Zygote.Pullback{Tuple{typeof(convert), Type{BaseDataSet}, BaseDataSet}, Tuple{}}, Zygote.var\"#2214#back#313\"{Zygote.Jnew{Mixed{BaseDataSet}, Nothing, false}}, Zygote.ZBack{ChainRules.var\"#fieldtype_pullback#423\"}}}}}, Zygote.var\"#2184#back#303\"{Zygote.var\"#back#302\"{:f°, Zygote.Context{false}, CMBLensing.var\"#889#895\"{NamedTuple{(), Tuple{}}, BaseDataSet, BaseField{QUMap, ProjLambert{Float64, CuArray{Float64, 1, CUDA.Mem.DeviceBuffer}, CuArray{Float64, 2, CUDA.Mem.DeviceBuffer}}, Float64, CuArray{Float64, 3, CUDA.Mem.DeviceBuffer}}}, BaseField{QUMap, ProjLambert{Float64, CuArray{Float64, 1, CUDA.Mem.DeviceBuffer}, CuArray{Float64, 2, CUDA.Mem.DeviceBuffer}}, Float64, CuArray{Float64, 3, CUDA.Mem.DeviceBuffer}}}}, Zygote.var\"#2184#back#303\"{Zygote.var\"#back#302\"{:dsθ, Zygote.Context{false}, CMBLensing.var\"#889#895\"{NamedTuple{(), Tuple{}}, BaseDataSet, BaseField{QUMap, ProjLambert{Float64, CuArray{Float64, 1, CUDA.Mem.DeviceBuffer}, CuArray{Float64, 2, CUDA.Mem.DeviceBuffer}}, Float64, CuArray{Float64, 3, CUDA.Mem.DeviceBuffer}}}, BaseDataSet}}, Zygote.var\"#2184#back#303\"{Zygote.var\"#back#302\"{:θ, Zygote.Context{false}, CMBLensing.var\"#889#895\"{NamedTuple{(), Tuple{}}, BaseDataSet, BaseField{QUMap, ProjLambert{Float64, CuArray{Float64, 1, CUDA.Mem.DeviceBuffer}, CuArray{Float64, 2, CUDA.Mem.DeviceBuffer}}, Float64, CuArray{Float64, 3, CUDA.Mem.DeviceBuffer}}}, NamedTuple{(), Tuple{}}}}, Zygote.Pullback{Tuple{typeof(merge), NamedTuple{(:f°, :ϕ°), Tuple{BaseField{QUMap, ProjLambert{Float64, CuArray{Float64, 1, CUDA.Mem.DeviceBuffer}, CuArray{Float64, 2, CUDA.Mem.DeviceBuffer}}, Float64, CuArray{Float64, 3, CUDA.Mem.DeviceBuffer}}, BaseField{Map, ProjLambert{Float64, CuArray{Float64, 1, CUDA.Mem.DeviceBuffer}, CuArray{Float64, 2, CUDA.Mem.DeviceBuffer}}, Float64, CuArray{Float64, 2, CUDA.Mem.DeviceBuffer}}}}, NamedTuple{(:θ,), Tuple{NamedTuple{(), Tuple{}}}}}, Tuple{Zygote.var\"#2184#back#303\"{Zygote.var\"#back#302\"{:ϕ°, Zygote.Context{false}, NamedTuple{(:f°, :ϕ°), Tuple{BaseField{QUMap, ProjLambert{Float64, CuArray{Float64, 1, CUDA.Mem.DeviceBuffer}, CuArray{Float64, 2, CUDA.Mem.DeviceBuffer}}, Float64, CuArray{Float64, 3, CUDA.Mem.DeviceBuffer}}, BaseField{Map, ProjLambert{Float64, CuArray{Float64, 1, CUDA.Mem.DeviceBuffer}, CuArray{Float64, 2, CUDA.Mem.DeviceBuffer}}, Float64, CuArray{Float64, 2, CUDA.Mem.DeviceBuffer}}}}, BaseField{Map, ProjLambert{Float64, CuArray{Float64, 1, CUDA.Mem.DeviceBuffer}, CuArray{Float64, 2, CUDA.Mem.DeviceBuffer}}, Float64, CuArray{Float64, 2, CUDA.Mem.DeviceBuffer}}}}, Zygote.var\"#2017#back#204\"{typeof(identity)}, Zygote.Pullback{Tuple{Type{NamedTuple{(:f°, :ϕ°, :θ), Tuple{BaseField{QUMap, ProjLambert{Float64, CuArray{Float64, 1, CUDA.Mem.DeviceBuffer}, CuArray{Float64, 2, CUDA.Mem.DeviceBuffer}}, Float64, CuArray{Float64, 3, CUDA.Mem.DeviceBuffer}}, BaseField{Map, ProjLambert{Float64, CuArray{Float64, 1, CUDA.Mem.DeviceBuffer}, CuArray{Float64, 2, CUDA.Mem.DeviceBuffer}}, Float64, CuArray{Float64, 2, CUDA.Mem.DeviceBuffer}}, NamedTuple{(), Tuple{}}}}}, Tuple{BaseField{QUMap, ProjLambert{Float64, CuArray{Float64, 1, CUDA.Mem.DeviceBuffer}, CuArray{Float64, 2, CUDA.Mem.DeviceBuffer}}, Float64, CuArray{Float64, 3, CUDA.Mem.DeviceBuffer}}, BaseField{Map, ProjLambert{Float64, CuArray{Float64, 1, CUDA.Mem.DeviceBuffer}, CuArray{Float64, 2, CUDA.Mem.DeviceBuffer}}, Float64, CuArray{Float64, 2, CUDA.Mem.DeviceBuffer}}, NamedTuple{(), Tuple{}}}}, Tuple{Zygote.var\"#2224#back#315\"{Zygote.Jnew{NamedTuple{(:f°, :ϕ°, :θ), Tuple{BaseField{QUMap, ProjLambert{Float64, CuArray{Float64, 1, CUDA.Mem.DeviceBuffer}, CuArray{Float64, 2, CUDA.Mem.DeviceBuffer}}, Float64, CuArray{Float64, 3, CUDA.Mem.DeviceBuffer}}, BaseField{Map, ProjLambert{Float64, CuArray{Float64, 1, CUDA.Mem.DeviceBuffer}, CuArray{Float64, 2, CUDA.Mem.DeviceBuffer}}, Float64, CuArray{Float64, 2, CUDA.Mem.DeviceBuffer}}, NamedTuple{(), Tuple{}}}}, Nothing, true}}}}, Zygote.var\"#2184#back#303\"{Zygote.var\"#back#302\"{:θ, Zygote.Context{false}, NamedTuple{(:θ,), Tuple{NamedTuple{(), Tuple{}}}}, NamedTuple{(), Tuple{}}}}, Zygote.var\"#2184#back#303\"{Zygote.var\"#back#302\"{:f°, Zygote.Context{false}, NamedTuple{(:f°, :ϕ°), Tuple{BaseField{QUMap, ProjLambert{Float64, CuArray{Float64, 1, CUDA.Mem.DeviceBuffer}, CuArray{Float64, 2, CUDA.Mem.DeviceBuffer}}, Float64, CuArray{Float64, 3, CUDA.Mem.DeviceBuffer}}, BaseField{Map, ProjLambert{Float64, CuArray{Float64, 1, CUDA.Mem.DeviceBuffer}, CuArray{Float64, 2, CUDA.Mem.DeviceBuffer}}, Float64, CuArray{Float64, 2, CUDA.Mem.DeviceBuffer}}}}, BaseField{QUMap, ProjLambert{Float64, CuArray{Float64, 1, CUDA.Mem.DeviceBuffer}, CuArray{Float64, 2, CUDA.Mem.DeviceBuffer}}, Float64, CuArray{Float64, 3, CUDA.Mem.DeviceBuffer}}}}}}, Zygote.var\"#2017#back#204\"{typeof(identity)}, Zygote.var\"#2017#back#204\"{typeof(identity)}, Zygote.Pullback{Tuple{typeof(Core.kwcall), NamedTuple{(:f°, :ϕ°, :θ), Tuple{BaseField{QUMap, ProjLambert{Float64, CuArray{Float64, 1, CUDA.Mem.DeviceBuffer}, CuArray{Float64, 2, CUDA.Mem.DeviceBuffer}}, Float64, CuArray{Float64, 3, CUDA.Mem.DeviceBuffer}}, BaseField{Map, ProjLambert{Float64, CuArray{Float64, 1, CUDA.Mem.DeviceBuffer}, CuArray{Float64, 2, CUDA.Mem.DeviceBuffer}}, Float64, CuArray{Float64, 2, CUDA.Mem.DeviceBuffer}}, NamedTuple{(), Tuple{}}}}, typeof(logpdf), Mixed{BaseDataSet}}, Any}, Zygote.Pullback{Tuple{Type{NamedTuple{(:f°,)}}, Tuple{BaseField{QUMap, ProjLambert{Float64, CuArray{Float64, 1, CUDA.Mem.DeviceBuffer}, CuArray{Float64, 2, CUDA.Mem.DeviceBuffer}}, Float64, CuArray{Float64, 3, CUDA.Mem.DeviceBuffer}}}}, Tuple{Zygote.Pullback{Tuple{Type{NamedTuple{(:f°,), Tuple{BaseField{QUMap, ProjLambert{Float64, CuArray{Float64, 1, CUDA.Mem.DeviceBuffer}, CuArray{Float64, 2, CUDA.Mem.DeviceBuffer}}, Float64, CuArray{Float64, 3, CUDA.Mem.DeviceBuffer}}}}}, Tuple{BaseField{QUMap, ProjLambert{Float64, CuArray{Float64, 1, CUDA.Mem.DeviceBuffer}, CuArray{Float64, 2, CUDA.Mem.DeviceBuffer}}, Float64, CuArray{Float64, 3, CUDA.Mem.DeviceBuffer}}}}, Tuple{Zygote.var\"#2224#back#315\"{Zygote.Jnew{NamedTuple{(:f°,), Tuple{BaseField{QUMap, ProjLambert{Float64, CuArray{Float64, 1, CUDA.Mem.DeviceBuffer}, CuArray{Float64, 2, CUDA.Mem.DeviceBuffer}}, Float64, CuArray{Float64, 3, CUDA.Mem.DeviceBuffer}}}}, Nothing, true}}}}}}}})(Δ::Float64)",
      "    @ Zygote ~/.julia/packages/Zygote/jxHJc/src/compiler/interface2.jl:0",
      " [33] (::Zygote.var\"#75#76\"{Zygote.Pullback{Tuple{CMBLensing.var\"#889#895\"{NamedTuple{(), Tuple{}}, BaseDataSet, BaseField{QUMap, ProjLambert{Float64, CuArray{Float64, 1, CUDA.Mem.DeviceBuffer}, CuArray{Float64, 2, CUDA.Mem.DeviceBuffer}}, Float64, CuArray{Float64, 3, CUDA.Mem.DeviceBuffer}}}, FieldTuple{NamedTuple{(:ϕ°,), Tuple{BaseField{Map, ProjLambert{Float64, CuArray{Float64, 1, CUDA.Mem.DeviceBuffer}, CuArray{Float64, 2, CUDA.Mem.DeviceBuffer}}, Float64, CuArray{Float64, 2, CUDA.Mem.DeviceBuffer}}}}, CMBLensing.BasisProd{Tuple{Map}}, Float64}}, Tuple{Zygote.Pullback{Tuple{Type{NamedTuple{(:θ,)}}, Tuple{NamedTuple{(), Tuple{}}}}, Tuple{Zygote.Pullback{Tuple{Type{NamedTuple{(:θ,), Tuple{NamedTuple{(), Tuple{}}}}}, Tuple{NamedTuple{(), Tuple{}}}}, Tuple{Zygote.var\"#2224#back#315\"{Zygote.Jnew{NamedTuple{(:θ,), Tuple{NamedTuple{(), Tuple{}}}}, Nothing, true}}}}}}, Zygote.Pullback{Tuple{typeof(merge), NamedTuple{(:f°,), Tuple{BaseField{QUMap, ProjLambert{Float64, CuArray{Float64, 1, CUDA.Mem.DeviceBuffer}, CuArray{Float64, 2, CUDA.Mem.DeviceBuffer}}, Float64, CuArray{Float64, 3, CUDA.Mem.DeviceBuffer}}}}, FieldTuple{NamedTuple{(:ϕ°,), Tuple{BaseField{Map, ProjLambert{Float64, CuArray{Float64, 1, CUDA.Mem.DeviceBuffer}, CuArray{Float64, 2, CUDA.Mem.DeviceBuffer}}, Float64, CuArray{Float64, 2, CUDA.Mem.DeviceBuffer}}}}, CMBLensing.BasisProd{Tuple{Map}}, Float64}}, Tuple{Zygote.Pullback{Tuple{typeof(merge), NamedTuple{(:f°,), Tuple{BaseField{QUMap, ProjLambert{Float64, CuArray{Float64, 1, CUDA.Mem.DeviceBuffer}, CuArray{Float64, 2, CUDA.Mem.DeviceBuffer}}, Float64, CuArray{Float64, 3, CUDA.Mem.DeviceBuffer}}}}, NamedTuple{(:ϕ°,), Tuple{BaseField{Map, ProjLambert{Float64, CuArray{Float64, 1, CUDA.Mem.DeviceBuffer}, CuArray{Float64, 2, CUDA.Mem.DeviceBuffer}}, Float64, CuArray{Float64, 2, CUDA.Mem.DeviceBuffer}}}}}, Tuple{Zygote.var\"#2184#back#303\"{Zygote.var\"#back#302\"{:ϕ°, Zygote.Context{false}, NamedTuple{(:ϕ°,), Tuple{BaseField{Map, ProjLambert{Float64, CuArray{Float64, 1, CUDA.Mem.DeviceBuffer}, CuArray{Float64, 2, CUDA.Mem.DeviceBuffer}}, Float64, CuArray{Float64, 2, CUDA.Mem.DeviceBuffer}}}}, BaseField{Map, ProjLambert{Float64, CuArray{Float64, 1, CUDA.Mem.DeviceBuffer}, CuArray{Float64, 2, CUDA.Mem.DeviceBuffer}}, Float64, CuArray{Float64, 2, CUDA.Mem.DeviceBuffer}}}}, Zygote.Pullback{Tuple{Type{NamedTuple{(:f°, :ϕ°), Tuple{BaseField{QUMap, ProjLambert{Float64, CuArray{Float64, 1, CUDA.Mem.DeviceBuffer}, CuArray{Float64, 2, CUDA.Mem.DeviceBuffer}}, Float64, CuArray{Float64, 3, CUDA.Mem.DeviceBuffer}}, BaseField{Map, ProjLambert{Float64, CuArray{Float64, 1, CUDA.Mem.DeviceBuffer}, CuArray{Float64, 2, CUDA.Mem.DeviceBuffer}}, Float64, CuArray{Float64, 2, CUDA.Mem.DeviceBuffer}}}}}, Tuple{BaseField{QUMap, ProjLambert{Float64, CuArray{Float64, 1, CUDA.Mem.DeviceBuffer}, CuArray{Float64, 2, CUDA.Mem.DeviceBuffer}}, Float64, CuArray{Float64, 3, CUDA.Mem.DeviceBuffer}}, BaseField{Map, ProjLambert{Float64, CuArray{Float64, 1, CUDA.Mem.DeviceBuffer}, CuArray{Float64, 2, CUDA.Mem.DeviceBuffer}}, Float64, CuArray{Float64, 2, CUDA.Mem.DeviceBuffer}}}}, Tuple{Zygote.var\"#2224#back#315\"{Zygote.Jnew{NamedTuple{(:f°, :ϕ°), Tuple{BaseField{QUMap, ProjLambert{Float64, CuArray{Float64, 1, CUDA.Mem.DeviceBuffer}, CuArray{Float64, 2, CUDA.Mem.DeviceBuffer}}, Float64, CuArray{Float64, 3, CUDA.Mem.DeviceBuffer}}, BaseField{Map, ProjLambert{Float64, CuArray{Float64, 1, CUDA.Mem.DeviceBuffer}, CuArray{Float64, 2, CUDA.Mem.DeviceBuffer}}, Float64, CuArray{Float64, 2, CUDA.Mem.DeviceBuffer}}}}, Nothing, true}}}}, Zygote.var\"#2017#back#204\"{typeof(identity)}, Zygote.var\"#2184#back#303\"{Zygote.var\"#back#302\"{:f°, Zygote.Context{false}, NamedTuple{(:f°,), Tuple{BaseField{QUMap, ProjLambert{Float64, CuArray{Float64, 1, CUDA.Mem.DeviceBuffer}, CuArray{Float64, 2, CUDA.Mem.DeviceBuffer}}, Float64, CuArray{Float64, 3, CUDA.Mem.DeviceBuffer}}}}, BaseField{QUMap, ProjLambert{Float64, CuArray{Float64, 1, CUDA.Mem.DeviceBuffer}, CuArray{Float64, 2, CUDA.Mem.DeviceBuffer}}, Float64, CuArray{Float64, 3, CUDA.Mem.DeviceBuffer}}}}}}, CMBLensing.var\"#1581#back#1149\"{CMBLensing.var\"#1143#1147\"{FieldTuple{NamedTuple{(:ϕ°,), Tuple{BaseField{Map, ProjLambert{Float64, CuArray{Float64, 1, CUDA.Mem.DeviceBuffer}, CuArray{Float64, 2, CUDA.Mem.DeviceBuffer}}, Float64, CuArray{Float64, 2, CUDA.Mem.DeviceBuffer}}}}, CMBLensing.BasisProd{Tuple{Map}}, Float64}}}}}, Zygote.Pullback{Tuple{Type{Mixed}, BaseDataSet}, Tuple{Zygote.Pullback{Tuple{Type{Mixed{BaseDataSet}}, BaseDataSet}, Tuple{Zygote.Pullback{Tuple{typeof(convert), Type{BaseDataSet}, BaseDataSet}, Tuple{}}, Zygote.var\"#2214#back#313\"{Zygote.Jnew{Mixed{BaseDataSet}, Nothing, false}}, Zygote.ZBack{ChainRules.var\"#fieldtype_pullback#423\"}}}}}, Zygote.var\"#2184#back#303\"{Zygote.var\"#back#302\"{:f°, Zygote.Context{false}, CMBLensing.var\"#889#895\"{NamedTuple{(), Tuple{}}, BaseDataSet, BaseField{QUMap, ProjLambert{Float64, CuArray{Float64, 1, CUDA.Mem.DeviceBuffer}, CuArray{Float64, 2, CUDA.Mem.DeviceBuffer}}, Float64, CuArray{Float64, 3, CUDA.Mem.DeviceBuffer}}}, BaseField{QUMap, ProjLambert{Float64, CuArray{Float64, 1, CUDA.Mem.DeviceBuffer}, CuArray{Float64, 2, CUDA.Mem.DeviceBuffer}}, Float64, CuArray{Float64, 3, CUDA.Mem.DeviceBuffer}}}}, Zygote.var\"#2184#back#303\"{Zygote.var\"#back#302\"{:dsθ, Zygote.Context{false}, CMBLensing.var\"#889#895\"{NamedTuple{(), Tuple{}}, BaseDataSet, BaseField{QUMap, ProjLambert{Float64, CuArray{Float64, 1, CUDA.Mem.DeviceBuffer}, CuArray{Float64, 2, CUDA.Mem.DeviceBuffer}}, Float64, CuArray{Float64, 3, CUDA.Mem.DeviceBuffer}}}, BaseDataSet}}, Zygote.var\"#2184#back#303\"{Zygote.var\"#back#302\"{:θ, Zygote.Context{false}, CMBLensing.var\"#889#895\"{NamedTuple{(), Tuple{}}, BaseDataSet, BaseField{QUMap, ProjLambert{Float64, CuArray{Float64, 1, CUDA.Mem.DeviceBuffer}, CuArray{Float64, 2, CUDA.Mem.DeviceBuffer}}, Float64, CuArray{Float64, 3, CUDA.Mem.DeviceBuffer}}}, NamedTuple{(), Tuple{}}}}, Zygote.Pullback{Tuple{typeof(merge), NamedTuple{(:f°, :ϕ°), Tuple{BaseField{QUMap, ProjLambert{Float64, CuArray{Float64, 1, CUDA.Mem.DeviceBuffer}, CuArray{Float64, 2, CUDA.Mem.DeviceBuffer}}, Float64, CuArray{Float64, 3, CUDA.Mem.DeviceBuffer}}, BaseField{Map, ProjLambert{Float64, CuArray{Float64, 1, CUDA.Mem.DeviceBuffer}, CuArray{Float64, 2, CUDA.Mem.DeviceBuffer}}, Float64, CuArray{Float64, 2, CUDA.Mem.DeviceBuffer}}}}, NamedTuple{(:θ,), Tuple{NamedTuple{(), Tuple{}}}}}, Tuple{Zygote.var\"#2184#back#303\"{Zygote.var\"#back#302\"{:ϕ°, Zygote.Context{false}, NamedTuple{(:f°, :ϕ°), Tuple{BaseField{QUMap, ProjLambert{Float64, CuArray{Float64, 1, CUDA.Mem.DeviceBuffer}, CuArray{Float64, 2, CUDA.Mem.DeviceBuffer}}, Float64, CuArray{Float64, 3, CUDA.Mem.DeviceBuffer}}, BaseField{Map, ProjLambert{Float64, CuArray{Float64, 1, CUDA.Mem.DeviceBuffer}, CuArray{Float64, 2, CUDA.Mem.DeviceBuffer}}, Float64, CuArray{Float64, 2, CUDA.Mem.DeviceBuffer}}}}, BaseField{Map, ProjLambert{Float64, CuArray{Float64, 1, CUDA.Mem.DeviceBuffer}, CuArray{Float64, 2, CUDA.Mem.DeviceBuffer}}, Float64, CuArray{Float64, 2, CUDA.Mem.DeviceBuffer}}}}, Zygote.var\"#2017#back#204\"{typeof(identity)}, Zygote.Pullback{Tuple{Type{NamedTuple{(:f°, :ϕ°, :θ), Tuple{BaseField{QUMap, ProjLambert{Float64, CuArray{Float64, 1, CUDA.Mem.DeviceBuffer}, CuArray{Float64, 2, CUDA.Mem.DeviceBuffer}}, Float64, CuArray{Float64, 3, CUDA.Mem.DeviceBuffer}}, BaseField{Map, ProjLambert{Float64, CuArray{Float64, 1, CUDA.Mem.DeviceBuffer}, CuArray{Float64, 2, CUDA.Mem.DeviceBuffer}}, Float64, CuArray{Float64, 2, CUDA.Mem.DeviceBuffer}}, NamedTuple{(), Tuple{}}}}}, Tuple{BaseField{QUMap, ProjLambert{Float64, CuArray{Float64, 1, CUDA.Mem.DeviceBuffer}, CuArray{Float64, 2, CUDA.Mem.DeviceBuffer}}, Float64, CuArray{Float64, 3, CUDA.Mem.DeviceBuffer}}, BaseField{Map, ProjLambert{Float64, CuArray{Float64, 1, CUDA.Mem.DeviceBuffer}, CuArray{Float64, 2, CUDA.Mem.DeviceBuffer}}, Float64, CuArray{Float64, 2, CUDA.Mem.DeviceBuffer}}, NamedTuple{(), Tuple{}}}}, Tuple{Zygote.var\"#2224#back#315\"{Zygote.Jnew{NamedTuple{(:f°, :ϕ°, :θ), Tuple{BaseField{QUMap, ProjLambert{Float64, CuArray{Float64, 1, CUDA.Mem.DeviceBuffer}, CuArray{Float64, 2, CUDA.Mem.DeviceBuffer}}, Float64, CuArray{Float64, 3, CUDA.Mem.DeviceBuffer}}, BaseField{Map, ProjLambert{Float64, CuArray{Float64, 1, CUDA.Mem.DeviceBuffer}, CuArray{Float64, 2, CUDA.Mem.DeviceBuffer}}, Float64, CuArray{Float64, 2, CUDA.Mem.DeviceBuffer}}, NamedTuple{(), Tuple{}}}}, Nothing, true}}}}, Zygote.var\"#2184#back#303\"{Zygote.var\"#back#302\"{:θ, Zygote.Context{false}, NamedTuple{(:θ,), Tuple{NamedTuple{(), Tuple{}}}}, NamedTuple{(), Tuple{}}}}, Zygote.var\"#2184#back#303\"{Zygote.var\"#back#302\"{:f°, Zygote.Context{false}, NamedTuple{(:f°, :ϕ°), Tuple{BaseField{QUMap, ProjLambert{Float64, CuArray{Float64, 1, CUDA.Mem.DeviceBuffer}, CuArray{Float64, 2, CUDA.Mem.DeviceBuffer}}, Float64, CuArray{Float64, 3, CUDA.Mem.DeviceBuffer}}, BaseField{Map, ProjLambert{Float64, CuArray{Float64, 1, CUDA.Mem.DeviceBuffer}, CuArray{Float64, 2, CUDA.Mem.DeviceBuffer}}, Float64, CuArray{Float64, 2, CUDA.Mem.DeviceBuffer}}}}, BaseField{QUMap, ProjLambert{Float64, CuArray{Float64, 1, CUDA.Mem.DeviceBuffer}, CuArray{Float64, 2, CUDA.Mem.DeviceBuffer}}, Float64, CuArray{Float64, 3, CUDA.Mem.DeviceBuffer}}}}}}, Zygote.var\"#2017#back#204\"{typeof(identity)}, Zygote.var\"#2017#back#204\"{typeof(identity)}, Zygote.Pullback{Tuple{typeof(Core.kwcall), NamedTuple{(:f°, :ϕ°, :θ), Tuple{BaseField{QUMap, ProjLambert{Float64, CuArray{Float64, 1, CUDA.Mem.DeviceBuffer}, CuArray{Float64, 2, CUDA.Mem.DeviceBuffer}}, Float64, CuArray{Float64, 3, CUDA.Mem.DeviceBuffer}}, BaseField{Map, ProjLambert{Float64, CuArray{Float64, 1, CUDA.Mem.DeviceBuffer}, CuArray{Float64, 2, CUDA.Mem.DeviceBuffer}}, Float64, CuArray{Float64, 2, CUDA.Mem.DeviceBuffer}}, NamedTuple{(), Tuple{}}}}, typeof(logpdf), Mixed{BaseDataSet}}, Any}, Zygote.Pullback{Tuple{Type{NamedTuple{(:f°,)}}, Tuple{BaseField{QUMap, ProjLambert{Float64, CuArray{Float64, 1, CUDA.Mem.DeviceBuffer}, CuArray{Float64, 2, CUDA.Mem.DeviceBuffer}}, Float64, CuArray{Float64, 3, CUDA.Mem.DeviceBuffer}}}}, Tuple{Zygote.Pullback{Tuple{Type{NamedTuple{(:f°,), Tuple{BaseField{QUMap, ProjLambert{Float64, CuArray{Float64, 1, CUDA.Mem.DeviceBuffer}, CuArray{Float64, 2, CUDA.Mem.DeviceBuffer}}, Float64, CuArray{Float64, 3, CUDA.Mem.DeviceBuffer}}}}}, Tuple{BaseField{QUMap, ProjLambert{Float64, CuArray{Float64, 1, CUDA.Mem.DeviceBuffer}, CuArray{Float64, 2, CUDA.Mem.DeviceBuffer}}, Float64, CuArray{Float64, 3, CUDA.Mem.DeviceBuffer}}}}, Tuple{Zygote.var\"#2224#back#315\"{Zygote.Jnew{NamedTuple{(:f°,), Tuple{BaseField{QUMap, ProjLambert{Float64, CuArray{Float64, 1, CUDA.Mem.DeviceBuffer}, CuArray{Float64, 2, CUDA.Mem.DeviceBuffer}}, Float64, CuArray{Float64, 3, CUDA.Mem.DeviceBuffer}}}}, Nothing, true}}}}}}}}})(Δ::Float64)",
      "    @ Zygote ~/.julia/packages/Zygote/jxHJc/src/compiler/interface.jl:91",
      " [34] gradient(f::Function, args::FieldTuple{NamedTuple{(:ϕ°,), Tuple{BaseField{Map, ProjLambert{Float64, CuArray{Float64, 1, CUDA.Mem.DeviceBuffer}, CuArray{Float64, 2, CUDA.Mem.DeviceBuffer}}, Float64, CuArray{Float64, 2, CUDA.Mem.DeviceBuffer}}}}, CMBLensing.BasisProd{Tuple{Map}}, Float64})",
      "    @ Zygote ~/.julia/packages/Zygote/jxHJc/src/compiler/interface.jl:148",
      " [35] macro expansion",
      "    @ ~/.julia/packages/TimerOutputs/RsWnF/src/TimerOutput.jl:237 [inlined]",
      " [36] macro expansion",
      "    @ ~/PhD/CMBLensing.jl/src/maximization.jl:178 [inlined]",
      " [37] macro expansion",
      "    @ ./timing.jl:393 [inlined]",
      " [38] MAP_joint(θ::NamedTuple{(), Tuple{}}, ds::BaseDataSet, Ωstart::FieldTuple{NamedTuple{(:ϕ,), Tuple{BaseField{Map, ProjLambert{Float64, CuArray{Float64, 1, CUDA.Mem.DeviceBuffer}, CuArray{Float64, 2, CUDA.Mem.DeviceBuffer}}, Float64, CuArray{Float64, 2, CUDA.Mem.DeviceBuffer}}}}, CMBLensing.BasisProd{Tuple{Map}}, Float64}; nsteps::Int64, minsteps::Int64, fstart::Nothing, αtol::Float64, gradtol::Int64, αmax::Nothing, prior_deprojection_factor::Int64, nburnin_update_hessian::Float64, progress::Bool, conjgrad_kwargs::NamedTuple{(:tol, :nsteps), Tuple{Float64, Int64}}, quasi_sample::Bool, history_keys::Tuple{Symbol}, aggressive_gc::Bool)",
      "    @ CMBLensing ~/PhD/CMBLensing.jl/src/maximization.jl:174",
      " [39] #MAP_joint#885",
      "    @ ~/PhD/CMBLensing.jl/src/maximization.jl:115 [inlined]",
      " [40] MAP_joint",
      "    @ ~/PhD/CMBLensing.jl/src/maximization.jl:115 [inlined]",
      " [41] load_cmb_lensing_problem(; storage::Type, T::Type{Float64}, Nside::Int64, masking::Bool, global_parameters::Bool)",
      "    @ CMBLensingInferenceTestProblem ~/.julia/packages/CMBLensingInferenceTestProblem/whLhd/src/problem.jl:31",
      " [42] top-level scope",
      "    @ In[5]:1"
     ]
    }
   ],
   "source": [
    "prob = load_cmb_lensing_problem(;storage=CuArray, T, Nside,\n",
    "    masking=masking, global_parameters=true);\n",
    "d = length(prob.Ωstart)\n",
    "to_vec, from_vec = CMBLensingInferenceTestProblem.to_from_vec(prob.Ωstart);\n",
    "cl = get_Cℓ(prob.Ωstart[:ϕ°][:I]);\n",
    "println(\"Built problem\")"
   ]
  },
  {
   "cell_type": "code",
   "execution_count": null,
   "id": "561335a1",
   "metadata": {
    "tags": []
   },
   "outputs": [],
   "source": [
    "# Precond\n",
    "prob.Λmass.diag.θ.r *= 5.85\n",
    "prob.Λmass.diag.θ.Aϕ *= 112.09\n",
    "\n",
    "if t == nothing\n",
    "    precond = one(simulate(Diagonal(one(LenseBasis(diag(prob.Λmass))))));\n",
    "else\n",
    "    precond = load(precond_path, \"dist_mat_precond\")\n",
    "    precond = adapt(CuArray, precond)\n",
    "    precond = from_vec(precond);\n",
    "end\n",
    ";"
   ]
  },
  {
   "cell_type": "code",
   "execution_count": null,
   "id": "9a21bb26-7590-4da4-bae0-122e0aa70ef2",
   "metadata": {},
   "outputs": [],
   "source": [
    "#init_params\n",
    "if use_map\n",
    "    init_params = prob.Ωtrue\n",
    "else\n",
    "    init_params = prob.Ωstart\n",
    "end\n",
    ";"
   ]
  },
  {
   "cell_type": "markdown",
   "id": "7ff4eb5a-a361-45d7-b344-300e7c3bc6fb",
   "metadata": {
    "tags": []
   },
   "source": [
    "# MCHMC"
   ]
  },
  {
   "cell_type": "code",
   "execution_count": null,
   "id": "cf9d88ae",
   "metadata": {
    "tags": []
   },
   "outputs": [],
   "source": [
    "target = CMBLensingInferenceTestProblem.CMBLensingTarget(prob);"
   ]
  },
  {
   "cell_type": "code",
   "execution_count": null,
   "id": "37018a1b-bc19-4174-b317-1846d0a0c900",
   "metadata": {
    "tags": []
   },
   "outputs": [],
   "source": [
    "#Sampler\n",
    "TEV = 0.01\n",
    "nadapts = 0\n",
    "samples = 1_000\n",
    "L=100.0\n",
    "spl = MCHMC(nadapts, TEV;\n",
    "    adaptive=false, eps=10.0, L=L, sigma=precond,\n",
    "    tune_eps=false, tune_L=false, tune_sigma=false);"
   ]
  },
  {
   "cell_type": "code",
   "execution_count": null,
   "id": "e9d5fdf1",
   "metadata": {},
   "outputs": [],
   "source": [
    "θ_start = prob.Ωstart\n",
    "x_start = target.transform(prob.Ωstart)\n",
    "println(exp.(θ_start.θ))\n",
    "println(exp.(x_start.θ))"
   ]
  },
  {
   "cell_type": "code",
   "execution_count": null,
   "id": "6dd1d260",
   "metadata": {},
   "outputs": [],
   "source": [
    "rng = MersenneTwister(1234)\n",
    "t, s = MicroCanonicalHMC.Step(rng, spl, target.h, x_start;\n",
    "        inv_transform=target.inv_transform)\n",
    "println(exp.(t.θ.θ))\n",
    "println(exp.(target.inv_transform(s.x).θ))"
   ]
  },
  {
   "cell_type": "code",
   "execution_count": null,
   "id": "64accb9a",
   "metadata": {},
   "outputs": [],
   "source": [
    "smp = MicroCanonicalHMC._make_sample(t; transform=target.transform, include_latent=true)\n",
    "println(exp.(smp[end÷2-2:end÷2-1]))"
   ]
  },
  {
   "cell_type": "code",
   "execution_count": null,
   "id": "67443272",
   "metadata": {},
   "outputs": [],
   "source": [
    "samples = Sample(spl, target, 2; include_latent=true)\n",
    "println(exp.(samples[:, 2][end÷2-2:end÷2-1]))\n",
    "println(exp.(samples[:, 2][end-4:end-3]))"
   ]
  },
  {
   "cell_type": "code",
   "execution_count": null,
   "id": "387994be",
   "metadata": {},
   "outputs": [],
   "source": []
  },
  {
   "cell_type": "code",
   "execution_count": null,
   "id": "2f1c6305-cdb7-49e4-9d15-1f74650ced3e",
   "metadata": {
    "tags": []
   },
   "outputs": [],
   "source": [
    "fol_name=string(\"../chains/\", Nside,\"/MCHMC/MCHMC\",\n",
    "    \"_Nside_\", Nside,\n",
    "    \"_use_map_\", use_map,\n",
    "    \"_masking_\", masking,\n",
    "    \"_precond_\", t,\n",
    "    \"_L_\", L,\n",
    "    \"_TEV_\", TEV)\n",
    "\n",
    "last_n = 0 \n",
    "if isdir(fol_name)\n",
    "    fol_files = readdir(fol_name)\n",
    "    println(\"Found existing file \", fol_name)\n",
    "    if length(fol_files) != 0\n",
    "        last_chain = last([file for file in fol_files if occursin(\"chain\", file)])\n",
    "        last_n = parse(Int, last_chain[end])\n",
    "    end\n",
    "else\n",
    "    mkdir(fol_name)\n",
    "    println(string(\"Created new folder \", fol_name))\n",
    "end\n",
    "\n",
    "file_name = string(fol_name, \"/chain_\", last_n+1, \"_\", samples)"
   ]
  },
  {
   "cell_type": "code",
   "execution_count": null,
   "id": "4b950c0d-c34c-4468-b452-7fd8a20aa4c6",
   "metadata": {
    "tags": []
   },
   "outputs": [],
   "source": [
    "prob.ncalls[] = 0\n",
    "samples_mchmc = MicroCanonicalHMC.Sample(spl, target, samples; include_latent=true, thinning=20, file_name=file_name)\n",
    "ncalls_mchmc = prob.ncalls[]"
   ]
  },
  {
   "cell_type": "code",
   "execution_count": null,
   "id": "b3fbef67-b374-4c36-ab9a-74d3eef3f667",
   "metadata": {
    "tags": []
   },
   "outputs": [],
   "source": [
    "chain_mchmc = Chains(permutedims(reduce(hcat, [[exp.(sample[end÷2-2:end÷2-1]);] for sample in eachcol(samples_mchmc) if all(isfinite.(sample))])),  [:r, :Aϕ]);"
   ]
  },
  {
   "cell_type": "code",
   "execution_count": null,
   "id": "c3967517",
   "metadata": {
    "tags": []
   },
   "outputs": [],
   "source": [
    "plot(chain_mchmc[:r], label=L\"r\", xlabel=\"step\")\n",
    "plot!(log.(chain_mchmc[:Aϕ]), label=L\"A_\\phi\")"
   ]
  },
  {
   "cell_type": "code",
   "execution_count": null,
   "id": "b94d66c5",
   "metadata": {
    "tags": []
   },
   "outputs": [],
   "source": [
    "histogram2d(chain_mchmc[:r], chain_mchmc[:Aϕ], bins=(40, 20), show_empty_bins=true,\n",
    "    normalize=:pdf, color=:plasma)\n",
    "title!(\"Masked - NSIDE=64\")\n",
    "ylabel!(\"Aϕ\")\n",
    "xlabel!(\"r\")"
   ]
  },
  {
   "cell_type": "code",
   "execution_count": null,
   "id": "f48c433c",
   "metadata": {
    "tags": []
   },
   "outputs": [],
   "source": [
    "plot(chain_mchmc[:dE]/d, label=L\"\\mathrm{Energy}/d\", xlabel=\"step\")"
   ]
  },
  {
   "cell_type": "code",
   "execution_count": null,
   "id": "fffe9ff6-558c-434b-bf19-64eeefb30e16",
   "metadata": {},
   "outputs": [],
   "source": [
    "fol_name=string(\"../summaries/\", Nside,\"/MCHMC/MCHMC_summary\",\n",
    "    \"_Nside_\", Nside,\n",
    "    \"_use_map_\", use_map,\n",
    "    \"_masking_\", masking,\n",
    "    \"_precond_\", t,\n",
    "    \"_L_\", L,\n",
    "    \"_TEV_\", TEV)\n",
    "\n",
    "if isdir(fol_name)\n",
    "    fol_files = readdir(fol_name)\n",
    "    println(\"Found existing file \", fol_name)\n",
    "    if length(fol_files) != 0\n",
    "        last_chain = last([file for file in fol_files if occursin(\"hyperparams\", file)])\n",
    "        last_n = parse(Int, last_chain[end])\n",
    "    end\n",
    "else\n",
    "    mkdir(fol_name)\n",
    "    println(string(\"Created new folder \", fol_name))\n",
    "end\n",
    "\n",
    "file_name = string(fol_name, \"/hyperparams_\", last_n+1, \"_\", samples)\n",
    "npzwrite(file_name,\n",
    "    Dict(\"r\"=> vec(chain_mchmc[:r])[:],\n",
    "    \"Aphi\"=> vec(chain_mchmc[:Aϕ])[:])\n",
    "    "
   ]
  },
  {
   "cell_type": "code",
   "execution_count": null,
   "id": "ce31c592-d53b-4948-a8c1-c02e9c3c323b",
   "metadata": {
    "tags": []
   },
   "outputs": [],
   "source": [
    "ess_mchmc = MCMCDiagnosticTools.ess(chain_mchmc)[[:r,:Aϕ],:ess]"
   ]
  },
  {
   "cell_type": "code",
   "execution_count": null,
   "id": "234e5da4",
   "metadata": {
    "tags": []
   },
   "outputs": [],
   "source": [
    "ess_per_call_mchmc = minimum(ess_mchmc ./ samples) #ncalls_mchmc"
   ]
  },
  {
   "cell_type": "code",
   "execution_count": null,
   "id": "acc2fe43",
   "metadata": {
    "tags": []
   },
   "outputs": [],
   "source": [
    "vars = var(samples_mchmc, dims=2)[1:d]\n",
    "_vars = var(samples_mchmc, dims=2)[d+1:2*d];"
   ]
  },
  {
   "cell_type": "code",
   "execution_count": null,
   "id": "118b8c8d",
   "metadata": {
    "tags": []
   },
   "outputs": [],
   "source": [
    "k = round(maximum(vars)/minimum(vars), digits=2)\n",
    "_k = round(maximum(_vars)/minimum(_vars), digits=2);"
   ]
  },
  {
   "cell_type": "code",
   "execution_count": null,
   "id": "772e4ba2",
   "metadata": {
    "tags": []
   },
   "outputs": [],
   "source": [
    "plot(_vars, title=\"Diag(cov) - Masked\", label=string(\"Latent space --> K = \", _k))\n",
    "plot!(vars, label=string(\"Parameter space --> K = \", k))"
   ]
  },
  {
   "cell_type": "markdown",
   "id": "47bf987c-cf7a-45c4-af34-128247e75fe8",
   "metadata": {
    "tags": []
   },
   "source": [
    "# HMC"
   ]
  },
  {
   "cell_type": "code",
   "execution_count": null,
   "id": "9bc3972a-cbef-4aed-be62-0d8f1bc7dede",
   "metadata": {
    "tags": []
   },
   "outputs": [],
   "source": [
    "samples_hmc = []\n",
    "rng = Xoshiro(1)\n",
    "prob.ncalls[] = 0\n",
    "ϵ=0.05\n",
    "samples = 10\n",
    "@showprogress for i=1:samples\n",
    "    Ω, = state = hmc_step(rng, prob, init_params, prob.Λmass; symp_kwargs=[(N=25, ϵ=ϵ)], progress=false, always_accept=(i<10))\n",
    "    push!(samples_hmc, adapt(Array, state))\n",
    "end\n",
    "ncalls_hmc = prob.ncalls[]"
   ]
  },
  {
   "cell_type": "code",
   "execution_count": null,
   "id": "3c3b6b15-c9f0-4e2e-a38a-e05c570815f8",
   "metadata": {
    "tags": []
   },
   "outputs": [],
   "source": [
    "chain_hmc = Chains(\n",
    "    permutedims(reduce(hcat, [exp.(sample[1].θ) for sample in samples_hmc])),\n",
    "    [:r, :Aϕ],\n",
    ");"
   ]
  },
  {
   "cell_type": "code",
   "execution_count": null,
   "id": "11ae9425-a275-467b-980c-9461ef43a51d",
   "metadata": {
    "tags": []
   },
   "outputs": [],
   "source": [
    "_samples_hmc = zeros(samples, 3*Nside^2+2)\n",
    "for i in 1:samples\n",
    "    _samples_hmc[i, :]  = samples_hmc[i][1][:]\n",
    "end\n",
    "_samples_hmc"
   ]
  },
  {
   "cell_type": "code",
   "execution_count": null,
   "id": "84483f33",
   "metadata": {
    "tags": []
   },
   "outputs": [],
   "source": [
    "fol_name=string(\"/pscratch/sd/j/jaimerz/chains/\", Nside, \"/HMC/CMBLensing\",\n",
    "    \"_use_map_\", use_map,\n",
    "    \"_masking_\", masking,\n",
    "    \"_Nside_\", Nside,\n",
    "    \"_ϵ_\", ϵ)\n",
    "\n",
    "if isdir(fol_name)\n",
    "    fol_files = readdir(fol_name)\n",
    "    println(\"Found existing file \", fol_name)\n",
    "    if length(fol_files) != 0\n",
    "        last_chain = last([file for file in fol_files if occursin(\"chain\", file)])\n",
    "        last_n = parse(Int, last_chain[end])\n",
    "        last_chain = load(string(fol_name, \"/\", last_chain), \"samples\")\n",
    "        init_params = last_chain[:, end]\n",
    "        println(\"Restarting chain\")\n",
    "    else\n",
    "        println(\"Starting new chain\")\n",
    "        last_n = 0\n",
    "        init_params = prob.Ωstart\n",
    "    end\n",
    "else\n",
    "    mkdir(fol_name)\n",
    "    println(string(\"Created new folder \", fol_name))\n",
    "    last_n = 0\n",
    "end\n",
    "\n",
    "file_name = string(fol_name, \"/chain_\", last_n+1, \"_\", samples)\n",
    "\n",
    "@save file_name _samples_hmc"
   ]
  },
  {
   "cell_type": "code",
   "execution_count": null,
   "id": "7fa49497-ecff-4d9b-ad1b-35890c98a539",
   "metadata": {
    "tags": []
   },
   "outputs": [],
   "source": [
    "fol_name=string(\"/pscratch/sd/j/jaimerz/summaries/\", Nside,\"/HMC/HMC_summary\",\n",
    "    \"_use_map_\", use_map,\n",
    "    \"_masking_\", masking,\n",
    "    \"_Nside_\", Nside,\n",
    "    \"_ϵ_\", ϵ)\n",
    "\n",
    "if isdir(fol_name)\n",
    "    fol_files = readdir(fol_name)\n",
    "    println(\"Found existing file \", fol_name)\n",
    "    if length(fol_files) != 0\n",
    "        last_chain = last([file for file in fol_files if occursin(\"hyperparams\", file)])\n",
    "        last_n = parse(Int, last_chain[end])\n",
    "    end\n",
    "else\n",
    "    mkdir(fol_name)\n",
    "    println(string(\"Created new folder \", fol_name))\n",
    "end\n",
    "\n",
    "file_name = string(fol_name, \"/hyperparams_\", last_n+1, \"_\", samples)\n",
    "npzwrite(file_name,\n",
    "    Dict(\"r\"=> vec(chain_hmc[:r])[:],\n",
    "    \"Aphi\"=> vec(chain_hmc[:Aϕ])[:])"
   ]
  },
  {
   "cell_type": "code",
   "execution_count": null,
   "id": "482c3532-2b22-4c9b-a483-f90319a6ccee",
   "metadata": {
    "tags": []
   },
   "outputs": [],
   "source": [
    "#samples_hmc = load(\"../chains/HMC/CMBLensing_masked_Nnside_64_ϵ_0.25\", \"_samples_hmc\")"
   ]
  },
  {
   "cell_type": "code",
   "execution_count": null,
   "id": "ca8d1356-2707-4cbc-87c5-51dc2c1960bb",
   "metadata": {
    "tags": []
   },
   "outputs": [],
   "source": [
    "chain_hmc = Chains(\n",
    "    permutedims(reduce(hcat, [exp.(sample[1].θ) for sample in samples_hmc])),\n",
    "    [:r, :Aϕ],\n",
    ");"
   ]
  },
  {
   "cell_type": "markdown",
   "id": "547a93f5-b27f-4f69-a70d-203d6d1cb3ad",
   "metadata": {},
   "source": [
    "## Plot"
   ]
  },
  {
   "cell_type": "code",
   "execution_count": null,
   "id": "9b249925-7905-4f02-87dd-ab97a3b5194f",
   "metadata": {
    "tags": []
   },
   "outputs": [],
   "source": [
    "plot(getindex.(samples_hmc, 2), label=nothing, xlabel=\"step\", ylabel=L\"\\Delta H\")     "
   ]
  },
  {
   "cell_type": "code",
   "execution_count": null,
   "id": "4a353113-7133-46f6-8bfc-6341e3a631e2",
   "metadata": {
    "tags": []
   },
   "outputs": [],
   "source": [
    "samples_hmc[end][1][:ϕ°][:]"
   ]
  },
  {
   "cell_type": "code",
   "execution_count": null,
   "id": "764b2120-5ce1-442e-94aa-b8f096861fd2",
   "metadata": {
    "tags": []
   },
   "outputs": [],
   "source": [
    "ps = map([(:ϕ°,:I,L\"L\",L\"\\phi^\\circ\"), (:f°,:E,\"L\\ell\",L\"E^\\circ\"), (:f°,:B,L\"\\ell\",L\"B^\\circ\")]) do (k1, k2, xlabel, title)\n",
    "    plot(get_Cℓ(prob.Ωtrue[k1][k2]); label=\"true\", xlabel, title)\n",
    "    plot!(get_Cℓ(prob.Ωstart[k1][k2]); label=\"start\", xlabel, title)\n",
    "    plot!(get_Cℓ(samples_hmc[end][1][k1][k2]); label=\"last sample\", xlabel, title)\n",
    "end\n",
    "plot(ps..., layout=(1,3), xscale=:log10, yscale=:log10, size=(1000,300), legend=:bottomleft)\n",
    "     \n"
   ]
  },
  {
   "cell_type": "code",
   "execution_count": null,
   "id": "72d2f50a-e563-45ce-850a-825e055409ac",
   "metadata": {
    "tags": []
   },
   "outputs": [],
   "source": [
    "plot([exp(Ω.θ.r) for (Ω,) in samples_hmc], label=L\"r\", xlabel=\"step\")\n",
    "plot!([exp(Ω.θ.Aϕ) for (Ω,) in samples_hmc], label=L\"A_\\phi\")     \n"
   ]
  },
  {
   "cell_type": "code",
   "execution_count": null,
   "id": "124fd2aa-79ad-47d4-affc-328ffb13758d",
   "metadata": {
    "tags": []
   },
   "outputs": [],
   "source": [
    "ess_hmc = MCMCDiagnosticTools.ess(chain_hmc)[[:r,:Aϕ],:ess]"
   ]
  },
  {
   "cell_type": "code",
   "execution_count": null,
   "id": "2e42557d-3523-4643-b1e1-a56252f3ae95",
   "metadata": {
    "tags": []
   },
   "outputs": [],
   "source": [
    "ess_per_call_hmc = ess_hmc ./ (ncalls_hmc/2)"
   ]
  },
  {
   "cell_type": "code",
   "execution_count": null,
   "id": "0a8924e6-e5be-4bb8-8a48-e59262770a9a",
   "metadata": {
    "tags": []
   },
   "outputs": [],
   "source": [
    "ess_per_call_hmc = minimum(ess_hmc ./ (ncalls_hmc/2))"
   ]
  },
  {
   "cell_type": "code",
   "execution_count": null,
   "id": "42234e99-3aba-4701-8cb4-e161089a8b7d",
   "metadata": {
    "tags": []
   },
   "outputs": [],
   "source": [
    "histogram2d(chain_hmc[:r], chain_hmc[:Aϕ], bins=(40, 20), show_empty_bins=true,\n",
    "    normalize=:pdf, color=:plasma)\n",
    "title!(string(\"Masked: \", masking, \"- NSIDE=\", Nside))\n",
    "ylabel!(\"Aϕ\")\n",
    "xlabel!(\"r\")"
   ]
  },
  {
   "cell_type": "markdown",
   "id": "6e23fba8-6f15-433e-a13e-38ef4599bb54",
   "metadata": {
    "tags": []
   },
   "source": [
    "# MUSE"
   ]
  },
  {
   "cell_type": "code",
   "execution_count": null,
   "id": "c45bcb53-4095-4c8e-a272-2ae4c184d1e0",
   "metadata": {},
   "outputs": [],
   "source": [
    "using CMBLensing.ComponentArrays, MuseInference.FiniteDifferences"
   ]
  },
  {
   "cell_type": "code",
   "execution_count": null,
   "id": "9533da2a-058e-4e3e-a692-cc8b86651680",
   "metadata": {},
   "outputs": [],
   "source": [
    "muse_prob = CMBLensingMuseProblem(\n",
    "    prob.ds, \n",
    "    MAP_joint_kwargs = (minsteps=3, nsteps=15, αtol=1e-2, gradtol=3e-5, progress=false, history_keys=(:logpdf, :ΔΩ°_norm)),\n",
    ");"
   ]
  },
  {
   "cell_type": "code",
   "execution_count": null,
   "id": "72a84875-7cf8-4840-8ee6-ec8e99113e5f",
   "metadata": {},
   "outputs": [],
   "source": [
    "# small hack to allow getting MUSE covariance in terms of transformed θ\n",
    "CMBLensingMuseInferenceExt = Base.get_extension(CMBLensing,:CMBLensingMuseInferenceExt)\n",
    "CMBLensingMuseInferenceExt.mergeθ(prob::CMBLensingMuseInferenceExt.CMBLensingMuseProblem, θ) = exp.(θ)"
   ]
  },
  {
   "cell_type": "code",
   "execution_count": null,
   "id": "a6742160-dbb8-43db-8da4-f61b0dc3f89f",
   "metadata": {
    "tags": []
   },
   "outputs": [],
   "source": [
    "# z₀ = zero(FieldTuple(MuseInference.select(NamedTuple(prob.Ωstart), (:f°, :ϕ°))))\n",
    "# H_pre = Diagonal(FieldTuple(MuseInference.select(NamedTuple(prob.Λmass.diag), (:f°, :ϕ°))))\n",
    "# H_pre_map = let H_pre=H_pre, z₀=z₀\n",
    "#     MuseInference.LinearMap{eltype(z₀)}(length(z₀), issymmetric=true) do z\n",
    "#         f, = promote(z, z₀)\n",
    "#         LenseBasis(H_pre \\ f)[:]\n",
    "#     end\n",
    "# end\n",
    "# implicit_diff_cg_kwargs = (maxiter=1500,Pl=MuseInference.InverseMap(H_pre_map));"
   ]
  },
  {
   "cell_type": "code",
   "execution_count": null,
   "id": "52c93e18-4d3c-41d9-bc73-95772851c28e",
   "metadata": {},
   "outputs": [],
   "source": [
    "z₀ = zero(MuseInference.sample_x_z(muse_prob, Xoshiro(0), prob.Ωstart.θ).z);\n",
    "result = MuseResult()\n",
    "nsims = 200\n",
    "rng = Xoshiro(0)\n",
    "\n",
    "prob.ncalls[] = 0\n",
    "MuseInference.muse!(result,  muse_prob, prob.Ωstart.θ; nsims, rng, z₀, maxsteps=2, θ_rtol=0, progress=true, save_MAPs=false)\n",
    "MuseInference.get_J!(result, muse_prob; nsims,   rng, z₀, progress=true)\n",
    "MuseInference.get_H!(result, muse_prob; nsims=4, rng, z₀, progress=true, step=std(result.gs)/100, fdm=central_fdm(2,1,adapt=0))\n",
    "ncalls_muse = prob.ncalls[];"
   ]
  },
  {
   "cell_type": "code",
   "execution_count": null,
   "id": "9de40462-fdd7-4b48-b038-d2083a2d3349",
   "metadata": {},
   "outputs": [],
   "source": [
    "chain_muse = Chains(permutedims(rand(result.dist,5_000)), [:logr, :logAϕ]);"
   ]
  },
  {
   "cell_type": "code",
   "execution_count": null,
   "id": "95fc34d5",
   "metadata": {},
   "outputs": [],
   "source": [
    "fol_name=string(\"/pscratch/sd/j/jaimerz/chains/\", Nside, \"/MUSE/CMBLensing\",\n",
    "    \"_cosmo_\", global_parameters,\n",
    "    \"_masking_\", masking,\n",
    "    \"_Nside_\", Nside)\n",
    "@save fol_name chain_muse"
   ]
  },
  {
   "cell_type": "code",
   "execution_count": null,
   "id": "8b16983f",
   "metadata": {},
   "outputs": [],
   "source": [
    "#chain_muse = load(\"../chains/MUSE/CMBLensing_masked_Nnside_64\", \"chain_muse\")"
   ]
  },
  {
   "cell_type": "code",
   "execution_count": null,
   "id": "da7745d5-19ec-4668-90cc-8991f21c62ad",
   "metadata": {},
   "outputs": [],
   "source": [
    "ess_per_call_muse = nsims / ncalls_muse"
   ]
  },
  {
   "cell_type": "markdown",
   "id": "01254a7b-ce65-4af3-8d57-cc785f946cd1",
   "metadata": {
    "tags": []
   },
   "source": [
    "## Plot"
   ]
  },
  {
   "cell_type": "markdown",
   "id": "a50354a8-6824-4449-a6aa-690dc5abdd94",
   "metadata": {
    "jp-MarkdownHeadingCollapsed": true,
    "tags": []
   },
   "source": [
    "# Compare"
   ]
  },
  {
   "cell_type": "code",
   "execution_count": null,
   "id": "bbb3104b-3c78-459a-af40-ea35cb7fa0da",
   "metadata": {},
   "outputs": [],
   "source": [
    "ess_per_call_muse ./ minimum(ess_per_call_hmc)"
   ]
  },
  {
   "cell_type": "code",
   "execution_count": null,
   "id": "02e30126-0721-4617-8aae-c6aaf8f939bd",
   "metadata": {},
   "outputs": [],
   "source": [
    "ess_per_call_muse ./ minimum(ess_per_call_mchmc)"
   ]
  },
  {
   "cell_type": "code",
   "execution_count": null,
   "id": "9763093f",
   "metadata": {},
   "outputs": [],
   "source": [
    "ess_per_call_mchmc"
   ]
  },
  {
   "cell_type": "code",
   "execution_count": null,
   "id": "26444fcc",
   "metadata": {},
   "outputs": [],
   "source": [
    "ess_per_call_hmc"
   ]
  },
  {
   "cell_type": "code",
   "execution_count": null,
   "id": "b2836a7b",
   "metadata": {},
   "outputs": [],
   "source": [
    "ess_per_call_muse"
   ]
  },
  {
   "cell_type": "code",
   "execution_count": null,
   "id": "1ef21a76-4714-4418-9bb4-7a9d2847c5bd",
   "metadata": {},
   "outputs": [],
   "source": [
    "which_ess = minimum # can be: first (r), last (Aphi), or minimum\n",
    "bar(\n",
    "    [\"HMC\" \"MCHMC\" \"MUSE\"],\n",
    "    which_ess.([[ess_per_call_hmc] [ess_per_call_mchmc] [ess_per_call_muse]]),\n",
    "    ylabel = \"eff. samples / ∇logP eval\", legend=false)"
   ]
  },
  {
   "cell_type": "code",
   "execution_count": null,
   "id": "dbb7d62a-87d2-4393-bc43-a5addc698207",
   "metadata": {},
   "outputs": [],
   "source": [
    "plot(\n",
    "    begin\n",
    "        histogram(log.(chain_hmc[:r]), normalize=:pdf, alpha=0.5, bins=range(-4,0,length=40), label=\"HMC\")\n",
    "        histogram!(log.(chain_mchmc[:r]), normalize=:pdf, alpha=0.5, bins=range(-4,0,length=40), label=\"MCHMC\")\n",
    "        histogram!(chain_muse[:logr], normalize=:pdf, alpha=0.5, bins=range(-4,0,length=40), label=\"MUSE\")\n",
    "        vline!([prob.Ωtrue.θ.r], c=4, lw=3, label=\"Truth\")\n",
    "    end, \n",
    "    begin\n",
    "        histogram(log.(chain_hmc[:Aϕ]), normalize=:pdf, alpha=0.5, bins=range(-0.6,0.6,length=40), label=\"HMC\")\n",
    "        histogram!(log.(chain_mchmc[:Aϕ]), normalize=:pdf, alpha=0.5, bins=range(-0.6,0.6,length=40), label=\"MCHMC\")\n",
    "        histogram!(chain_muse[:logAϕ], normalize=:pdf, alpha=0.5, bins=range(-0.6,0.6,length=40), label=\"MUSE\")\n",
    "        vline!([prob.Ωtrue.θ.Aϕ], c=4, lw=3, label=\"Truth\")\n",
    "    end, \n",
    "    size = (700, 300)\n",
    ")"
   ]
  },
  {
   "cell_type": "code",
   "execution_count": null,
   "id": "41290466-e88b-436e-8bc1-2ea5297ccfdc",
   "metadata": {},
   "outputs": [],
   "source": []
  },
  {
   "cell_type": "code",
   "execution_count": null,
   "id": "7dadf389-dd36-44a7-aef3-d2f53a317912",
   "metadata": {},
   "outputs": [],
   "source": []
  }
 ],
 "metadata": {
  "kernelspec": {
   "display_name": "Julia 1.9.4",
   "language": "julia",
   "name": "julia-1.9"
  },
  "language_info": {
   "file_extension": ".jl",
   "mimetype": "application/julia",
   "name": "julia",
   "version": "1.9.4"
  },
  "widgets": {
   "application/vnd.jupyter.widget-state+json": {
    "state": {},
    "version_major": 2,
    "version_minor": 0
   }
  }
 },
 "nbformat": 4,
 "nbformat_minor": 5
}
