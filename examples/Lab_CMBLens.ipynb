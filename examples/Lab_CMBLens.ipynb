{
 "cells": [
  {
   "cell_type": "markdown",
   "id": "91129cb1",
   "metadata": {},
   "source": [
    "# Lab CMBLenses"
   ]
  },
  {
   "cell_type": "code",
   "execution_count": 1,
   "id": "d3285d75",
   "metadata": {},
   "outputs": [
    {
     "name": "stderr",
     "output_type": "stream",
     "text": [
      "\u001b[32m\u001b[1m  Activating\u001b[22m\u001b[39m project at `~/PhD/CMBLensingInferenceTestProblem/examples`\n"
     ]
    }
   ],
   "source": [
    "using Pkg\n",
    "Pkg.activate(\".\")\n",
    "Pkg.precompile()"
   ]
  },
  {
   "cell_type": "code",
   "execution_count": 2,
   "id": "87802120-5beb-4414-95ca-c140a3cd2209",
   "metadata": {
    "tags": []
   },
   "outputs": [],
   "source": [
    "using Revise, Adapt, CMBLensing, CMBLensingInferenceTestProblem, CUDA, JLD2, LaTeXStrings, NPZ, \n",
    "    LinearAlgebra, MCMCChains, MCMCDiagnosticTools, MuseInference, MicroCanonicalHMC,\n",
    "    Plots, ProgressMeter, Random, Statistics, Zygote "
   ]
  },
  {
   "cell_type": "code",
   "execution_count": 3,
   "id": "6efc8272",
   "metadata": {
    "tags": []
   },
   "outputs": [],
   "source": [
    "Plots.default(fmt=:png, dpi=120, size=(500,300), legendfontsize=10)"
   ]
  },
  {
   "cell_type": "code",
   "execution_count": 4,
   "id": "f7a92ecf-4dae-4553-a001-f5376ca7c35a",
   "metadata": {
    "tags": []
   },
   "outputs": [
    {
     "name": "stdout",
     "output_type": "stream",
     "text": [
      "Nside: 64\n",
      "Use Map: true\n",
      "Masking: false\n"
     ]
    }
   ],
   "source": [
    "Nside = 64\n",
    "T = Float64;\n",
    "use_map = true\n",
    "masking = false\n",
    "t = nothing\n",
    "precond_path = string(\"../pixel_preconditioners/pp_nside_\", Nside, \"_t_\", t)\n",
    "println(\"Nside: \", Nside)\n",
    "println(\"Use Map: \", use_map)\n",
    "println(\"Masking: \", masking)\n"
   ]
  },
  {
   "cell_type": "code",
   "execution_count": 5,
   "id": "a7d6f81c",
   "metadata": {
    "tags": []
   },
   "outputs": [
    {
     "name": "stdout",
     "output_type": "stream",
     "text": [
      "Built problem\n"
     ]
    }
   ],
   "source": [
    "prob = load_cmb_lensing_problem(;storage=CuArray, T, Nside,\n",
    "    masking=masking, global_parameters=true);\n",
    "d = length(prob.Ωstart)\n",
    "to_vec, from_vec = CMBLensingInferenceTestProblem.to_from_vec(prob.Ωstart);\n",
    "cl = get_Cℓ(prob.Ωstart[:ϕ°][:I]);\n",
    "println(\"Built problem\")"
   ]
  },
  {
   "cell_type": "code",
   "execution_count": 6,
   "id": "561335a1",
   "metadata": {
    "tags": []
   },
   "outputs": [],
   "source": [
    "# Precond\n",
    "prob.Λmass.diag.θ.r *= 5.85\n",
    "prob.Λmass.diag.θ.Aϕ *= 112.09\n",
    "\n",
    "if t == nothing\n",
    "    precond = one(simulate(Diagonal(one(LenseBasis(diag(prob.Λmass))))));\n",
    "else\n",
    "    precond = load(precond_path, \"dist_mat_precond\")\n",
    "    precond = adapt(CuArray, precond)\n",
    "    precond = from_vec(precond);\n",
    "end\n",
    ";"
   ]
  },
  {
   "cell_type": "code",
   "execution_count": 7,
   "id": "9a21bb26-7590-4da4-bae0-122e0aa70ef2",
   "metadata": {},
   "outputs": [],
   "source": [
    "#init_params\n",
    "if use_map\n",
    "    init_params = prob.Ωtrue\n",
    "else\n",
    "    init_params = prob.Ωstart\n",
    "end\n",
    ";"
   ]
  },
  {
   "cell_type": "markdown",
   "id": "7ff4eb5a-a361-45d7-b344-300e7c3bc6fb",
   "metadata": {
    "tags": []
   },
   "source": [
    "# MCHMC"
   ]
  },
  {
   "cell_type": "code",
   "execution_count": 8,
   "id": "cf9d88ae",
   "metadata": {
    "tags": []
   },
   "outputs": [],
   "source": [
    "function CMBLensingTarget2(prob)\n",
    "    θ_start = prob.Ωstart\n",
    "    d = length(θ_start)\n",
    "    θ_names = [string(\"θ_\", i) for i=1:d]\n",
    "    Λmass = prob.Λmass\n",
    "    sqrtΛmass = sqrt(Λmass)\n",
    "    inv_sqrtΛmass = pinv(sqrtΛmass)\n",
    "\n",
    "    function transform(x)\n",
    "        xt = CMBLensing.LenseBasis(sqrtΛmass * x)\n",
    "        return xt\n",
    "    end\n",
    "\n",
    "    function inv_transform(xt)\n",
    "        x = CMBLensing.LenseBasis(inv_sqrtΛmass * xt)\n",
    "        return x\n",
    "    end\n",
    "\n",
    "    function ℓπ(xt)\n",
    "        x = inv_transform(xt)\n",
    "        return prob(x)\n",
    "    end\n",
    "\n",
    "    function ∂lπ∂θ(xt)\n",
    "        return (ℓπ(xt), CMBLensing.LenseBasis(Zygote.gradient(ℓπ, xt)[1]))\n",
    "    end\n",
    "\n",
    "    return MicroCanonicalHMC.Target(\n",
    "        d,\n",
    "        MicroCanonicalHMC.Hamiltonian(ℓπ, ∂lπ∂θ),\n",
    "        transform,\n",
    "        inv_transform,\n",
    "        θ_start,\n",
    "        θ_names)\n",
    "end\n",
    "target2 = CMBLensingTarget2(prob);\n",
    "target = CMBLensingInferenceTestProblem.CMBLensingTarget(prob);"
   ]
  },
  {
   "cell_type": "code",
   "execution_count": 9,
   "id": "37018a1b-bc19-4174-b317-1846d0a0c900",
   "metadata": {
    "tags": []
   },
   "outputs": [],
   "source": [
    "#Sampler\n",
    "TEV = 0.0001\n",
    "nadapts = 0\n",
    "samples = 1_000\n",
    "L=70.0\n",
    "spl = MCHMC(nadapts, TEV;\n",
    "    adaptive=true, eps=0.01, L=L, sigma=precond,\n",
    "    tune_L=false, tune_sigma=false);"
   ]
  },
  {
   "cell_type": "code",
   "execution_count": 10,
   "id": "2f1c6305-cdb7-49e4-9d15-1f74650ced3e",
   "metadata": {
    "tags": []
   },
   "outputs": [
    {
     "name": "stdout",
     "output_type": "stream",
     "text": [
      "Found existing file ../chains/64/MCHMC/MCHMC_Nside_64_use_map_true_masking_false_precond_nothing_L_70.0_TEV_0.0001\n"
     ]
    },
    {
     "data": {
      "text/plain": [
       "\"../chains/64/MCHMC/MCHMC_Nside_64_use_map_true_masking_false_precond_nothing_L_70.0_TEV_0.0001/chain_1_1000\""
      ]
     },
     "execution_count": 10,
     "metadata": {},
     "output_type": "execute_result"
    }
   ],
   "source": [
    "fol_name=string(\"../chains/\", Nside,\"/MCHMC/MCHMC\",\n",
    "    \"_Nside_\", Nside,\n",
    "    \"_use_map_\", use_map,\n",
    "    \"_masking_\", masking,\n",
    "    \"_precond_\", t,\n",
    "    \"_L_\", L,\n",
    "    \"_TEV_\", TEV)\n",
    "\n",
    "last_n = 0 \n",
    "if isdir(fol_name)\n",
    "    fol_files = readdir(fol_name)\n",
    "    println(\"Found existing file \", fol_name)\n",
    "    if length(fol_files) != 0\n",
    "        last_chain = last([file for file in fol_files if occursin(\"chain\", file)])\n",
    "        last_n = parse(Int, last_chain[end])\n",
    "    end\n",
    "else\n",
    "    mkdir(fol_name)\n",
    "    println(string(\"Created new folder \", fol_name))\n",
    "end\n",
    "\n",
    "file_name = string(fol_name, \"/chain_\", last_n+1, \"_\", samples)"
   ]
  },
  {
   "cell_type": "code",
   "execution_count": null,
   "id": "c92af9f8",
   "metadata": {},
   "outputs": [],
   "source": []
  },
  {
   "cell_type": "code",
   "execution_count": 31,
   "id": "4b950c0d-c34c-4468-b452-7fd8a20aa4c6",
   "metadata": {
    "tags": []
   },
   "outputs": [
    {
     "name": "stderr",
     "output_type": "stream",
     "text": [
      "\r\u001b[32mSampling: 100%|█████████████████████████████████████████| Time: 0:01:20\u001b[39m\r\n",
      "\u001b[34m  ϵ:     35.89493469369773\u001b[39m\r\n",
      "\u001b[34m  dE/d:  -3.7125636595617706e-5\u001b[39m\n"
     ]
    },
    {
     "data": {
      "text/plain": [
       "2002"
      ]
     },
     "execution_count": 31,
     "metadata": {},
     "output_type": "execute_result"
    }
   ],
   "source": [
    "prob.ncalls[] = 0\n",
    "samples_mchmc = MicroCanonicalHMC.Sample(spl, target, samples; include_latent=true, thinning=20, file_name=file_name)\n",
    "ncalls_mchmc = prob.ncalls[]"
   ]
  },
  {
   "cell_type": "code",
   "execution_count": 32,
   "id": "b3fbef67-b374-4c36-ab9a-74d3eef3f667",
   "metadata": {
    "tags": []
   },
   "outputs": [],
   "source": [
    "chain_mchmc = Chains(permutedims(reduce(hcat, [[exp.(sample[end÷2-2:end÷2-1]);] for sample in eachcol(samples_mchmc) if all(isfinite.(sample))])),  [:r, :Aϕ]);"
   ]
  },
  {
   "cell_type": "code",
   "execution_count": 42,
   "id": "c3967517",
   "metadata": {
    "tags": []
   },
   "outputs": [
    {
     "data": {
      "image/png": "[encoded data removed]",
      "image/svg+xml": [
       "<?xml version=\"1.0\" encoding=\"utf-8\"?>\n",
       "<svg xmlns=\"http://www.w3.org/2000/svg\" xmlns:xlink=\"http://www.w3.org/1999/xlink\" width=\"500\" height=\"300\" viewBox=\"0 0 2000 1200\">\n",
       "<defs>\n",
       "  <clipPath id=\"clip490\">\n",
       "    <rect x=\"0\" y=\"0\" width=\"2000\" height=\"1200\"/>\n",
       "  </clipPath>\n",
       "</defs>\n",
       "<path clip-path=\"url(#clip490)\" d=\"M0 1200 L2000 1200 L2000 0 L0 0  Z\" fill=\"#ffffff\" fill-rule=\"evenodd\" fill-opacity=\"1\"/>\n",
       "<defs>\n",
       "  <clipPath id=\"clip491\">\n",
       "    <rect x=\"400\" y=\"0\" width=\"1401\" height=\"1200\"/>\n",
       "  </clipPath>\n",
       "</defs>\n",
       "<path clip-path=\"url(#clip490)\" d=\"M108.177 1035.39 L1952.76 1035.39 L1952.76 47.2441 L108.177 47.2441  Z\" fill=\"#ffffff\" fill-rule=\"evenodd\" fill-opacity=\"1\"/>\n",
       "<defs>\n",
       "  <clipPath id=\"clip492\">\n",
       "    <rect x=\"108\" y=\"47\" width=\"1846\" height=\"989\"/>\n",
       "  </clipPath>\n",
       "</defs>\n",
       "<polyline clip-path=\"url(#clip492)\" style=\"stroke:#000000; stroke-linecap:round; stroke-linejoin:round; stroke-width:2; stroke-opacity:0.1; fill:none\" points=\"124.869,1035.39 124.869,47.2441 \"/>\n",
       "<polyline clip-path=\"url(#clip492)\" style=\"stroke:#000000; stroke-linecap:round; stroke-linejoin:round; stroke-width:2; stroke-opacity:0.1; fill:none\" points=\"480.005,1035.39 480.005,47.2441 \"/>\n",
       "<polyline clip-path=\"url(#clip492)\" style=\"stroke:#000000; stroke-linecap:round; stroke-linejoin:round; stroke-width:2; stroke-opacity:0.1; fill:none\" points=\"835.141,1035.39 835.141,47.2441 \"/>\n",
       "<polyline clip-path=\"url(#clip492)\" style=\"stroke:#000000; stroke-linecap:round; stroke-linejoin:round; stroke-width:2; stroke-opacity:0.1; fill:none\" points=\"1190.28,1035.39 1190.28,47.2441 \"/>\n",
       "<polyline clip-path=\"url(#clip492)\" style=\"stroke:#000000; stroke-linecap:round; stroke-linejoin:round; stroke-width:2; stroke-opacity:0.1; fill:none\" points=\"1545.41,1035.39 1545.41,47.2441 \"/>\n",
       "<polyline clip-path=\"url(#clip492)\" style=\"stroke:#000000; stroke-linecap:round; stroke-linejoin:round; stroke-width:2; stroke-opacity:0.1; fill:none\" points=\"1900.55,1035.39 1900.55,47.2441 \"/>\n",
       "<polyline clip-path=\"url(#clip490)\" style=\"stroke:#000000; stroke-linecap:round; stroke-linejoin:round; stroke-width:4; stroke-opacity:1; fill:none\" points=\"108.177,1035.39 1952.76,1035.39 \"/>\n",
       "<polyline clip-path=\"url(#clip490)\" style=\"stroke:#000000; stroke-linecap:round; stroke-linejoin:round; stroke-width:4; stroke-opacity:1; fill:none\" points=\"124.869,1035.39 124.869,1016.49 \"/>\n",
       "<polyline clip-path=\"url(#clip490)\" style=\"stroke:#000000; stroke-linecap:round; stroke-linejoin:round; stroke-width:4; stroke-opacity:1; fill:none\" points=\"480.005,1035.39 480.005,1016.49 \"/>\n",
       "<polyline clip-path=\"url(#clip490)\" style=\"stroke:#000000; stroke-linecap:round; stroke-linejoin:round; stroke-width:4; stroke-opacity:1; fill:none\" points=\"835.141,1035.39 835.141,1016.49 \"/>\n",
       "<polyline clip-path=\"url(#clip490)\" style=\"stroke:#000000; stroke-linecap:round; stroke-linejoin:round; stroke-width:4; stroke-opacity:1; fill:none\" points=\"1190.28,1035.39 1190.28,1016.49 \"/>\n",
       "<polyline clip-path=\"url(#clip490)\" style=\"stroke:#000000; stroke-linecap:round; stroke-linejoin:round; stroke-width:4; stroke-opacity:1; fill:none\" points=\"1545.41,1035.39 1545.41,1016.49 \"/>\n",
       "<polyline clip-path=\"url(#clip490)\" style=\"stroke:#000000; stroke-linecap:round; stroke-linejoin:round; stroke-width:4; stroke-opacity:1; fill:none\" points=\"1900.55,1035.39 1900.55,1016.49 \"/>\n",
       "<path clip-path=\"url(#clip490)\" d=\"M124.869 1063.11 Q121.257 1063.11 119.429 1066.67 Q117.623 1070.21 117.623 1077.34 Q117.623 1084.45 119.429 1088.01 Q121.257 1091.56 124.869 1091.56 Q128.503 1091.56 130.308 1088.01 Q132.137 1084.45 132.137 1077.34 Q132.137 1070.21 130.308 1066.67 Q128.503 1063.11 124.869 1063.11 M124.869 1059.4 Q130.679 1059.4 133.734 1064.01 Q136.813 1068.59 136.813 1077.34 Q136.813 1086.07 133.734 1090.68 Q130.679 1095.26 124.869 1095.26 Q119.058 1095.26 115.98 1090.68 Q112.924 1086.07 112.924 1077.34 Q112.924 1068.59 115.98 1064.01 Q119.058 1059.4 124.869 1059.4 Z\" fill=\"#000000\" fill-rule=\"nonzero\" fill-opacity=\"1\" /><path clip-path=\"url(#clip490)\" d=\"M454.693 1090.65 L462.332 1090.65 L462.332 1064.29 L454.021 1065.95 L454.021 1061.69 L462.285 1060.03 L466.961 1060.03 L466.961 1090.65 L474.6 1090.65 L474.6 1094.59 L454.693 1094.59 L454.693 1090.65 Z\" fill=\"#000000\" fill-rule=\"nonzero\" fill-opacity=\"1\" /><path clip-path=\"url(#clip490)\" d=\"M494.044 1063.11 Q490.433 1063.11 488.605 1066.67 Q486.799 1070.21 486.799 1077.34 Q486.799 1084.45 488.605 1088.01 Q490.433 1091.56 494.044 1091.56 Q497.679 1091.56 499.484 1088.01 Q501.313 1084.45 501.313 1077.34 Q501.313 1070.21 499.484 1066.67 Q497.679 1063.11 494.044 1063.11 M494.044 1059.4 Q499.854 1059.4 502.91 1064.01 Q505.989 1068.59 505.989 1077.34 Q505.989 1086.07 502.91 1090.68 Q499.854 1095.26 494.044 1095.26 Q488.234 1095.26 485.155 1090.68 Q482.1 1086.07 482.1 1077.34 Q482.1 1068.59 485.155 1064.01 Q488.234 1059.4 494.044 1059.4 Z\" fill=\"#000000\" fill-rule=\"nonzero\" fill-opacity=\"1\" /><path clip-path=\"url(#clip490)\" d=\"M813.915 1090.65 L830.234 1090.65 L830.234 1094.59 L808.29 1094.59 L808.29 1090.65 Q810.952 1087.9 815.535 1083.27 Q820.142 1078.62 821.322 1077.27 Q823.567 1074.75 824.447 1073.01 Q825.35 1071.25 825.35 1069.56 Q825.35 1066.81 823.405 1065.07 Q821.484 1063.34 818.382 1063.34 Q816.183 1063.34 813.73 1064.1 Q811.299 1064.87 808.521 1066.42 L808.521 1061.69 Q811.345 1060.56 813.799 1059.98 Q816.253 1059.4 818.29 1059.4 Q823.66 1059.4 826.854 1062.09 Q830.049 1064.77 830.049 1069.26 Q830.049 1071.39 829.239 1073.31 Q828.452 1075.21 826.345 1077.81 Q825.767 1078.48 822.665 1081.69 Q819.563 1084.89 813.915 1090.65 Z\" fill=\"#000000\" fill-rule=\"nonzero\" fill-opacity=\"1\" /><path clip-path=\"url(#clip490)\" d=\"M850.049 1063.11 Q846.438 1063.11 844.609 1066.67 Q842.803 1070.21 842.803 1077.34 Q842.803 1084.45 844.609 1088.01 Q846.438 1091.56 850.049 1091.56 Q853.683 1091.56 855.489 1088.01 Q857.317 1084.45 857.317 1077.34 Q857.317 1070.21 855.489 1066.67 Q853.683 1063.11 850.049 1063.11 M850.049 1059.4 Q855.859 1059.4 858.915 1064.01 Q861.993 1068.59 861.993 1077.34 Q861.993 1086.07 858.915 1090.68 Q855.859 1095.26 850.049 1095.26 Q844.239 1095.26 841.16 1090.68 Q838.104 1086.07 838.104 1077.34 Q838.104 1068.59 841.16 1064.01 Q844.239 1059.4 850.049 1059.4 Z\" fill=\"#000000\" fill-rule=\"nonzero\" fill-opacity=\"1\" /><path clip-path=\"url(#clip490)\" d=\"M1179.12 1075.95 Q1182.48 1076.67 1184.35 1078.94 Q1186.25 1081.21 1186.25 1084.54 Q1186.25 1089.66 1182.73 1092.46 Q1179.21 1095.26 1172.73 1095.26 Q1170.56 1095.26 1168.24 1094.82 Q1165.95 1094.4 1163.5 1093.55 L1163.5 1089.03 Q1165.44 1090.17 1167.75 1090.75 Q1170.07 1091.32 1172.59 1091.32 Q1176.99 1091.32 1179.28 1089.59 Q1181.6 1087.85 1181.6 1084.54 Q1181.6 1081.49 1179.44 1079.77 Q1177.32 1078.04 1173.5 1078.04 L1169.47 1078.04 L1169.47 1074.19 L1173.68 1074.19 Q1177.13 1074.19 1178.96 1072.83 Q1180.79 1071.44 1180.79 1068.85 Q1180.79 1066.19 1178.89 1064.77 Q1177.01 1063.34 1173.5 1063.34 Q1171.57 1063.34 1169.38 1063.75 Q1167.18 1064.17 1164.54 1065.05 L1164.54 1060.88 Q1167.2 1060.14 1169.51 1059.77 Q1171.85 1059.4 1173.91 1059.4 Q1179.24 1059.4 1182.34 1061.83 Q1185.44 1064.24 1185.44 1068.36 Q1185.44 1071.23 1183.8 1073.22 Q1182.15 1075.19 1179.12 1075.95 Z\" fill=\"#000000\" fill-rule=\"nonzero\" fill-opacity=\"1\" /><path clip-path=\"url(#clip490)\" d=\"M1205.12 1063.11 Q1201.5 1063.11 1199.68 1066.67 Q1197.87 1070.21 1197.87 1077.34 Q1197.87 1084.45 1199.68 1088.01 Q1201.5 1091.56 1205.12 1091.56 Q1208.75 1091.56 1210.56 1088.01 Q1212.38 1084.45 1212.38 1077.34 Q1212.38 1070.21 1210.56 1066.67 Q1208.75 1063.11 1205.12 1063.11 M1205.12 1059.4 Q1210.93 1059.4 1213.98 1064.01 Q1217.06 1068.59 1217.06 1077.34 Q1217.06 1086.07 1213.98 1090.68 Q1210.93 1095.26 1205.12 1095.26 Q1199.31 1095.26 1196.23 1090.68 Q1193.17 1086.07 1193.17 1077.34 Q1193.17 1068.59 1196.23 1064.01 Q1199.31 1059.4 1205.12 1059.4 Z\" fill=\"#000000\" fill-rule=\"nonzero\" fill-opacity=\"1\" /><path clip-path=\"url(#clip490)\" d=\"M1533.59 1064.1 L1521.78 1082.55 L1533.59 1082.55 L1533.59 1064.1 M1532.36 1060.03 L1538.24 1060.03 L1538.24 1082.55 L1543.17 1082.55 L1543.17 1086.44 L1538.24 1086.44 L1538.24 1094.59 L1533.59 1094.59 L1533.59 1086.44 L1517.98 1086.44 L1517.98 1081.93 L1532.36 1060.03 Z\" fill=\"#000000\" fill-rule=\"nonzero\" fill-opacity=\"1\" /><path clip-path=\"url(#clip490)\" d=\"M1560.9 1063.11 Q1557.29 1063.11 1555.46 1066.67 Q1553.66 1070.21 1553.66 1077.34 Q1553.66 1084.45 1555.46 1088.01 Q1557.29 1091.56 1560.9 1091.56 Q1564.53 1091.56 1566.34 1088.01 Q1568.17 1084.45 1568.17 1077.34 Q1568.17 1070.21 1566.34 1066.67 Q1564.53 1063.11 1560.9 1063.11 M1560.9 1059.4 Q1566.71 1059.4 1569.77 1064.01 Q1572.84 1068.59 1572.84 1077.34 Q1572.84 1086.07 1569.77 1090.68 Q1566.71 1095.26 1560.9 1095.26 Q1555.09 1095.26 1552.01 1090.68 Q1548.96 1086.07 1548.96 1077.34 Q1548.96 1068.59 1552.01 1064.01 Q1555.09 1059.4 1560.9 1059.4 Z\" fill=\"#000000\" fill-rule=\"nonzero\" fill-opacity=\"1\" /><path clip-path=\"url(#clip490)\" d=\"M1875.25 1060.03 L1893.61 1060.03 L1893.61 1063.96 L1879.53 1063.96 L1879.53 1072.44 Q1880.55 1072.09 1881.57 1071.93 Q1882.59 1071.74 1883.61 1071.74 Q1889.39 1071.74 1892.77 1074.91 Q1896.15 1078.08 1896.15 1083.5 Q1896.15 1089.08 1892.68 1092.18 Q1889.21 1095.26 1882.89 1095.26 Q1880.71 1095.26 1878.44 1094.89 Q1876.2 1094.52 1873.79 1093.78 L1873.79 1089.08 Q1875.88 1090.21 1878.1 1090.77 Q1880.32 1091.32 1882.8 1091.32 Q1886.8 1091.32 1889.14 1089.22 Q1891.48 1087.11 1891.48 1083.5 Q1891.48 1079.89 1889.14 1077.78 Q1886.8 1075.68 1882.8 1075.68 Q1880.92 1075.68 1879.05 1076.09 Q1877.19 1076.51 1875.25 1077.39 L1875.25 1060.03 Z\" fill=\"#000000\" fill-rule=\"nonzero\" fill-opacity=\"1\" /><path clip-path=\"url(#clip490)\" d=\"M1915.37 1063.11 Q1911.75 1063.11 1909.93 1066.67 Q1908.12 1070.21 1908.12 1077.34 Q1908.12 1084.45 1909.93 1088.01 Q1911.75 1091.56 1915.37 1091.56 Q1919 1091.56 1920.81 1088.01 Q1922.63 1084.45 1922.63 1077.34 Q1922.63 1070.21 1920.81 1066.67 Q1919 1063.11 1915.37 1063.11 M1915.37 1059.4 Q1921.18 1059.4 1924.23 1064.01 Q1927.31 1068.59 1927.31 1077.34 Q1927.31 1086.07 1924.23 1090.68 Q1921.18 1095.26 1915.37 1095.26 Q1909.56 1095.26 1906.48 1090.68 Q1903.42 1086.07 1903.42 1077.34 Q1903.42 1068.59 1906.48 1064.01 Q1909.56 1059.4 1915.37 1059.4 Z\" fill=\"#000000\" fill-rule=\"nonzero\" fill-opacity=\"1\" /><path clip-path=\"url(#clip490)\" d=\"M988.851 1139.65 L988.851 1145.19 Q986.368 1143.92 983.695 1143.28 Q981.021 1142.65 978.156 1142.65 Q973.796 1142.65 971.6 1143.98 Q969.435 1145.32 969.435 1147.99 Q969.435 1150.03 970.995 1151.21 Q972.555 1152.35 977.265 1153.4 L979.27 1153.85 Q985.509 1155.19 988.119 1157.64 Q990.76 1160.06 990.76 1164.42 Q990.76 1169.38 986.814 1172.28 Q982.899 1175.17 976.024 1175.17 Q973.159 1175.17 970.04 1174.6 Q966.953 1174.06 963.515 1172.95 L963.515 1166.9 Q966.762 1168.59 969.913 1169.45 Q973.064 1170.27 976.151 1170.27 Q980.289 1170.27 982.517 1168.87 Q984.745 1167.44 984.745 1164.86 Q984.745 1162.48 983.122 1161.2 Q981.53 1159.93 976.087 1158.75 L974.05 1158.27 Q968.608 1157.13 966.189 1154.77 Q963.77 1152.39 963.77 1148.25 Q963.77 1143.22 967.335 1140.48 Q970.899 1137.74 977.456 1137.74 Q980.703 1137.74 983.567 1138.22 Q986.432 1138.7 988.851 1139.65 Z\" fill=\"#000000\" fill-rule=\"nonzero\" fill-opacity=\"1\" /><path clip-path=\"url(#clip490)\" d=\"M1005.88 1128.48 L1005.88 1138.6 L1017.94 1138.6 L1017.94 1143.16 L1005.88 1143.16 L1005.88 1162.51 Q1005.88 1166.87 1007.06 1168.11 Q1008.27 1169.35 1011.93 1169.35 L1017.94 1169.35 L1017.94 1174.25 L1011.93 1174.25 Q1005.15 1174.25 1002.57 1171.74 Q999.991 1169.19 999.991 1162.51 L999.991 1143.16 L995.694 1143.16 L995.694 1138.6 L999.991 1138.6 L999.991 1128.48 L1005.88 1128.48 Z\" fill=\"#000000\" fill-rule=\"nonzero\" fill-opacity=\"1\" /><path clip-path=\"url(#clip490)\" d=\"M1056.14 1154.96 L1056.14 1157.83 L1029.21 1157.83 Q1029.59 1163.88 1032.84 1167.06 Q1036.12 1170.21 1041.94 1170.21 Q1045.31 1170.21 1048.47 1169.38 Q1051.65 1168.55 1054.77 1166.9 L1054.77 1172.44 Q1051.62 1173.77 1048.31 1174.47 Q1045 1175.17 1041.59 1175.17 Q1033.06 1175.17 1028.06 1170.21 Q1023.1 1165.24 1023.1 1156.78 Q1023.1 1148.03 1027.81 1142.9 Q1032.55 1137.74 1040.57 1137.74 Q1047.77 1137.74 1051.93 1142.39 Q1056.14 1147.01 1056.14 1154.96 M1050.28 1153.25 Q1050.22 1148.44 1047.57 1145.57 Q1044.96 1142.71 1040.64 1142.71 Q1035.73 1142.71 1032.77 1145.48 Q1029.85 1148.25 1029.4 1153.28 L1050.28 1153.25 Z\" fill=\"#000000\" fill-rule=\"nonzero\" fill-opacity=\"1\" /><path clip-path=\"url(#clip490)\" d=\"M1071.41 1168.9 L1071.41 1187.81 L1065.53 1187.81 L1065.53 1138.6 L1071.41 1138.6 L1071.41 1144.01 Q1073.26 1140.83 1076.06 1139.3 Q1078.89 1137.74 1082.81 1137.74 Q1089.3 1137.74 1093.34 1142.9 Q1097.42 1148.06 1097.42 1156.46 Q1097.42 1164.86 1093.34 1170.02 Q1089.3 1175.17 1082.81 1175.17 Q1078.89 1175.17 1076.06 1173.65 Q1073.26 1172.09 1071.41 1168.9 M1091.34 1156.46 Q1091.34 1150 1088.67 1146.34 Q1086.02 1142.65 1081.38 1142.65 Q1076.73 1142.65 1074.06 1146.34 Q1071.41 1150 1071.41 1156.46 Q1071.41 1162.92 1074.06 1166.61 Q1076.73 1170.27 1081.38 1170.27 Q1086.02 1170.27 1088.67 1166.61 Q1091.34 1162.92 1091.34 1156.46 Z\" fill=\"#000000\" fill-rule=\"nonzero\" fill-opacity=\"1\" /><polyline clip-path=\"url(#clip492)\" style=\"stroke:#000000; stroke-linecap:round; stroke-linejoin:round; stroke-width:2; stroke-opacity:0.1; fill:none\" points=\"108.177,1011.35 1952.76,1011.35 \"/>\n",
       "<polyline clip-path=\"url(#clip492)\" style=\"stroke:#000000; stroke-linecap:round; stroke-linejoin:round; stroke-width:2; stroke-opacity:0.1; fill:none\" points=\"108.177,793.216 1952.76,793.216 \"/>\n",
       "<polyline clip-path=\"url(#clip492)\" style=\"stroke:#000000; stroke-linecap:round; stroke-linejoin:round; stroke-width:2; stroke-opacity:0.1; fill:none\" points=\"108.177,575.081 1952.76,575.081 \"/>\n",
       "<polyline clip-path=\"url(#clip492)\" style=\"stroke:#000000; stroke-linecap:round; stroke-linejoin:round; stroke-width:2; stroke-opacity:0.1; fill:none\" points=\"108.177,356.945 1952.76,356.945 \"/>\n",
       "<polyline clip-path=\"url(#clip492)\" style=\"stroke:#000000; stroke-linecap:round; stroke-linejoin:round; stroke-width:2; stroke-opacity:0.1; fill:none\" points=\"108.177,138.81 1952.76,138.81 \"/>\n",
       "<polyline clip-path=\"url(#clip490)\" style=\"stroke:#000000; stroke-linecap:round; stroke-linejoin:round; stroke-width:4; stroke-opacity:1; fill:none\" points=\"108.177,1035.39 108.177,47.2441 \"/>\n",
       "<polyline clip-path=\"url(#clip490)\" style=\"stroke:#000000; stroke-linecap:round; stroke-linejoin:round; stroke-width:4; stroke-opacity:1; fill:none\" points=\"108.177,1011.35 127.075,1011.35 \"/>\n",
       "<polyline clip-path=\"url(#clip490)\" style=\"stroke:#000000; stroke-linecap:round; stroke-linejoin:round; stroke-width:4; stroke-opacity:1; fill:none\" points=\"108.177,793.216 127.075,793.216 \"/>\n",
       "<polyline clip-path=\"url(#clip490)\" style=\"stroke:#000000; stroke-linecap:round; stroke-linejoin:round; stroke-width:4; stroke-opacity:1; fill:none\" points=\"108.177,575.081 127.075,575.081 \"/>\n",
       "<polyline clip-path=\"url(#clip490)\" style=\"stroke:#000000; stroke-linecap:round; stroke-linejoin:round; stroke-width:4; stroke-opacity:1; fill:none\" points=\"108.177,356.945 127.075,356.945 \"/>\n",
       "<polyline clip-path=\"url(#clip490)\" style=\"stroke:#000000; stroke-linecap:round; stroke-linejoin:round; stroke-width:4; stroke-opacity:1; fill:none\" points=\"108.177,138.81 127.075,138.81 \"/>\n",
       "<path clip-path=\"url(#clip490)\" d=\"M66.2328 997.15 Q62.6217 997.15 60.793 1000.71 Q58.9875 1004.26 58.9875 1011.39 Q58.9875 1018.49 60.793 1022.06 Q62.6217 1025.6 66.2328 1025.6 Q69.867 1025.6 71.6726 1022.06 Q73.5013 1018.49 73.5013 1011.39 Q73.5013 1004.26 71.6726 1000.71 Q69.867 997.15 66.2328 997.15 M66.2328 993.447 Q72.0429 993.447 75.0985 998.053 Q78.1772 1002.64 78.1772 1011.39 Q78.1772 1020.11 75.0985 1024.72 Q72.0429 1029.3 66.2328 1029.3 Q60.4226 1029.3 57.344 1024.72 Q54.2884 1020.11 54.2884 1011.39 Q54.2884 1002.64 57.344 998.053 Q60.4226 993.447 66.2328 993.447 Z\" fill=\"#000000\" fill-rule=\"nonzero\" fill-opacity=\"1\" /><path clip-path=\"url(#clip490)\" d=\"M58.2699 806.561 L65.9087 806.561 L65.9087 780.195 L57.5986 781.862 L57.5986 777.603 L65.8624 775.936 L70.5383 775.936 L70.5383 806.561 L78.1772 806.561 L78.1772 810.496 L58.2699 810.496 L58.2699 806.561 Z\" fill=\"#000000\" fill-rule=\"nonzero\" fill-opacity=\"1\" /><path clip-path=\"url(#clip490)\" d=\"M61.8578 588.426 L78.1772 588.426 L78.1772 592.361 L56.2328 592.361 L56.2328 588.426 Q58.8949 585.671 63.4782 581.041 Q68.0846 576.389 69.2652 575.046 Q71.5105 572.523 72.3902 570.787 Q73.2929 569.028 73.2929 567.338 Q73.2929 564.583 71.3485 562.847 Q69.4272 561.111 66.3254 561.111 Q64.1263 561.111 61.6726 561.875 Q59.2421 562.639 56.4643 564.19 L56.4643 559.467 Q59.2884 558.333 61.7421 557.754 Q64.1958 557.176 66.2328 557.176 Q71.6031 557.176 74.7976 559.861 Q77.992 562.546 77.992 567.037 Q77.992 569.166 77.1818 571.088 Q76.3948 572.986 74.2883 575.578 Q73.7096 576.25 70.6078 579.467 Q67.5059 582.662 61.8578 588.426 Z\" fill=\"#000000\" fill-rule=\"nonzero\" fill-opacity=\"1\" /><path clip-path=\"url(#clip490)\" d=\"M71.0476 355.591 Q74.404 356.309 76.279 358.577 Q78.1772 360.846 78.1772 364.179 Q78.1772 369.295 74.6587 372.096 Q71.1402 374.897 64.6587 374.897 Q62.4828 374.897 60.168 374.457 Q57.8764 374.04 55.4227 373.184 L55.4227 368.67 Q57.3671 369.804 59.6819 370.383 Q61.9967 370.962 64.5198 370.962 Q68.918 370.962 71.2096 369.225 Q73.5244 367.489 73.5244 364.179 Q73.5244 361.124 71.3717 359.411 Q69.242 357.675 65.4226 357.675 L61.3949 357.675 L61.3949 353.832 L65.6078 353.832 Q69.0569 353.832 70.8855 352.466 Q72.7142 351.077 72.7142 348.485 Q72.7142 345.823 70.8161 344.411 Q68.9411 342.976 65.4226 342.976 Q63.5013 342.976 61.3023 343.392 Q59.1032 343.809 56.4643 344.689 L56.4643 340.522 Q59.1264 339.781 61.4412 339.411 Q63.7791 339.04 65.8393 339.04 Q71.1633 339.04 74.2652 341.471 Q77.367 343.878 77.367 347.999 Q77.367 350.869 75.7235 352.86 Q74.08 354.827 71.0476 355.591 Z\" fill=\"#000000\" fill-rule=\"nonzero\" fill-opacity=\"1\" /><path clip-path=\"url(#clip490)\" d=\"M68.5939 125.604 L56.7884 144.053 L68.5939 144.053 L68.5939 125.604 M67.367 121.53 L73.2466 121.53 L73.2466 144.053 L78.1772 144.053 L78.1772 147.942 L73.2466 147.942 L73.2466 156.09 L68.5939 156.09 L68.5939 147.942 L52.9921 147.942 L52.9921 143.428 L67.367 121.53 Z\" fill=\"#000000\" fill-rule=\"nonzero\" fill-opacity=\"1\" /><polyline clip-path=\"url(#clip492)\" style=\"stroke:#009af9; stroke-linecap:round; stroke-linejoin:round; stroke-width:4; stroke-opacity:1; fill:none\" points=\"160.382,983.266 195.896,982.824 231.41,982.058 266.923,981.704 302.437,981.963 337.95,980.263 373.464,979.004 408.978,977.663 444.491,978.922 480.005,981.841 515.519,984.623 551.032,988.45 586.546,994.25 622.06,998.832 657.573,997.573 693.087,991.762 728.601,987.52 764.114,990.4 799.628,1000.26 835.141,1007.42 870.655,1003.75 906.169,981.676 941.682,972.972 977.196,978.689 1012.71,968.894 1048.22,976.761 1083.74,963.084 1119.25,991.547 1154.76,941.603 1190.28,999.242 1225.79,982.828 1261.31,981.618 1296.82,1003.51 1332.33,994.802 1367.85,955.859 1403.36,997.633 1438.87,984.738 1474.39,980.924 1509.9,956.974 1545.41,991.989 1580.93,996.792 1616.44,994.701 1651.96,975.346 1687.47,1002.85 1722.98,1000.34 1758.5,989.747 1794.01,974.737 1829.52,1003.67 1865.04,970.823 1900.55,957.047 \"/>\n",
       "<polyline clip-path=\"url(#clip492)\" style=\"stroke:#e26f46; stroke-linecap:round; stroke-linejoin:round; stroke-width:4; stroke-opacity:1; fill:none\" points=\"160.382,430.307 195.896,413.036 231.41,401.577 266.923,388.951 302.437,379.526 337.95,376.402 373.464,374.846 408.978,352.669 444.491,348.001 480.005,383.602 515.519,477.561 551.032,521.861 586.546,507.809 622.06,460.667 657.573,413.678 693.087,441.821 728.601,545.454 764.114,641.092 799.628,458.808 835.141,274.754 870.655,301.407 906.169,395.627 941.682,428.298 977.196,221.768 1012.71,545.956 1048.22,358.336 1083.74,515.294 1119.25,102.029 1154.76,503.495 1190.28,427.324 1225.79,515.765 1261.31,75.2104 1296.82,456.856 1332.33,443.081 1367.85,370.158 1403.36,381.568 1438.87,327.092 1474.39,472.546 1509.9,555.787 1545.41,506.364 1580.93,196.12 1616.44,320.75 1651.96,585.769 1687.47,366.764 1722.98,726.943 1758.5,215.935 1794.01,527.037 1829.52,429.025 1865.04,451.955 1900.55,398.421 \"/>\n",
       "<path clip-path=\"url(#clip490)\" d=\"M169.663 285.213 L429.456 285.213 L429.456 80.1822 L169.663 80.1822  Z\" fill=\"#ffffff\" fill-rule=\"evenodd\" fill-opacity=\"1\"/>\n",
       "<polyline clip-path=\"url(#clip490)\" style=\"stroke:#000000; stroke-linecap:round; stroke-linejoin:round; stroke-width:4; stroke-opacity:1; fill:none\" points=\"169.663,285.213 429.456,285.213 429.456,80.1822 169.663,80.1822 169.663,285.213 \"/>\n",
       "<polyline clip-path=\"url(#clip490)\" style=\"stroke:#009af9; stroke-linecap:round; stroke-linejoin:round; stroke-width:5; stroke-opacity:1; fill:none\" points=\"190.158,148.526 313.13,148.526 \"/>\n",
       "<path clip-path=\"url(#clip490)\" d=\"M358.044 138.71 Q358.044 140.262 357.019 141.257 Q356.023 142.252 354.735 142.252 Q353.623 142.252 353.037 141.608 Q352.451 140.964 352.451 140.144 Q352.451 138.973 353.359 138.007 Q354.267 137.041 355.584 136.836 Q354.618 136.133 353.066 136.133 Q350.519 136.133 348.265 138.095 Q347.269 139.003 346.186 140.671 Q345.103 142.311 344.898 143.014 L342.995 150.831 Q342.819 151.709 341.736 155.925 Q340.682 160.112 340.594 160.288 Q340.301 161.107 339.657 161.547 Q339.013 161.986 338.369 161.986 Q337.637 161.986 337.139 161.547 Q336.641 161.107 336.641 160.346 Q336.641 160.229 336.729 159.79 Q336.817 159.351 336.963 158.736 Q337.11 158.121 337.168 157.77 L340.652 143.921 Q341.297 141.403 341.443 140.613 Q341.619 139.793 341.619 138.885 Q341.619 137.304 341.121 136.719 Q340.623 136.133 339.745 136.133 Q338.222 136.133 337.227 137.949 Q336.231 139.764 335.382 143.277 Q335.119 144.243 334.943 144.448 Q334.797 144.653 334.358 144.653 Q333.626 144.624 333.626 144.038 Q333.626 143.892 333.86 142.955 Q334.094 141.989 334.533 140.584 Q335.002 139.149 335.499 138.241 Q335.792 137.626 336.056 137.217 Q336.319 136.807 336.846 136.163 Q337.373 135.518 338.164 135.167 Q338.954 134.816 339.92 134.816 Q342.028 134.816 343.522 136.104 Q345.044 137.392 345.395 139.412 Q346.127 138.358 347.035 137.451 Q347.943 136.514 349.612 135.665 Q351.28 134.816 353.066 134.816 Q355.291 134.816 356.668 135.958 Q358.044 137.07 358.044 138.71 Z\" fill=\"#000000\" fill-rule=\"nonzero\" fill-opacity=\"1\" /><polyline clip-path=\"url(#clip490)\" style=\"stroke:#e26f46; stroke-linecap:round; stroke-linejoin:round; stroke-width:5; stroke-opacity:1; fill:none\" points=\"190.158,216.87 313.13,216.87 \"/>\n",
       "<path clip-path=\"url(#clip490)\" d=\"M374.761 224.01 Q374.761 224.567 374.527 224.86 Q374.322 225.123 374.117 225.182 Q373.942 225.211 373.678 225.211 Q372.917 225.211 370.282 225.123 Q367.647 225.035 366.886 225.035 Q365.656 225.035 363.138 225.123 Q360.62 225.211 359.39 225.211 Q358.571 225.211 358.571 224.537 Q358.571 224.098 358.658 223.864 Q358.746 223.601 358.98 223.513 Q359.244 223.396 359.39 223.396 Q359.566 223.366 360.005 223.366 Q360.591 223.366 361.206 223.308 Q361.82 223.22 362.582 223.044 Q363.343 222.869 363.811 222.429 Q364.309 221.99 364.309 221.375 Q364.309 221.112 364.104 218.945 Q363.899 216.779 363.636 214.261 Q363.372 211.714 363.343 211.362 L348.294 211.362 Q346.918 213.734 345.952 215.373 Q344.986 217.013 344.634 217.569 Q344.283 218.126 344.078 218.477 Q343.873 218.828 343.756 219.033 Q342.907 220.585 342.907 221.258 Q342.907 223.132 345.718 223.366 Q346.684 223.366 346.684 224.069 Q346.684 224.596 346.449 224.889 Q346.215 225.152 346.01 225.182 Q345.835 225.211 345.542 225.211 Q344.576 225.211 342.555 225.123 Q340.535 225.035 339.54 225.035 Q338.691 225.035 336.934 225.123 Q335.177 225.211 334.387 225.211 Q334.036 225.211 333.831 225.006 Q333.626 224.801 333.626 224.537 Q333.626 224.128 333.684 223.893 Q333.772 223.659 334.006 223.542 Q334.241 223.425 334.358 223.425 Q334.475 223.396 334.885 223.366 Q337.11 223.22 338.837 222.166 Q340.594 221.083 342.263 218.301 L363.109 183.285 Q363.314 182.933 363.46 182.758 Q363.606 182.582 363.899 182.436 Q364.221 182.289 364.69 182.289 Q365.422 182.289 365.568 182.523 Q365.714 182.728 365.802 183.724 L369.462 221.2 Q369.55 221.99 369.608 222.312 Q369.696 222.605 370.077 222.927 Q370.487 223.22 371.219 223.308 Q371.98 223.366 373.385 223.366 Q373.912 223.366 374.117 223.396 Q374.322 223.396 374.527 223.542 Q374.761 223.688 374.761 224.01 M363.167 209.489 L361.264 189.726 L349.436 209.489 L363.167 209.489 Z\" fill=\"#000000\" fill-rule=\"nonzero\" fill-opacity=\"1\" /><path clip-path=\"url(#clip490)\" d=\"M402.779 231.514 Q402.779 233.584 401.713 235.654 Q400.648 237.724 398.906 239.322 Q397.164 240.9 394.786 241.925 Q392.409 242.95 389.929 243.032 L388.33 249.283 Q388.023 250.799 387.859 250.963 Q387.695 251.127 387.449 251.127 Q386.937 251.127 386.937 250.656 Q386.937 250.512 387.859 246.967 L388.843 243.032 Q385.113 242.827 382.94 240.675 Q380.768 238.523 380.768 235.428 Q380.768 233.338 381.834 231.268 Q382.92 229.177 384.662 227.599 Q386.424 226.021 388.802 225.017 Q391.179 224.013 393.618 223.931 L396.057 214.237 Q396.18 213.684 396.282 213.54 Q396.385 213.397 396.692 213.397 Q396.918 213.397 397.041 213.499 Q397.164 213.602 397.164 213.704 L397.184 213.806 L397.061 214.401 L394.704 223.931 Q396.795 224.074 398.414 224.812 Q400.033 225.55 400.955 226.657 Q401.877 227.743 402.328 228.973 Q402.779 230.202 402.779 231.514 M393.372 224.853 Q391.118 225.058 389.212 226.165 Q387.306 227.271 386.076 228.911 Q384.846 230.53 384.17 232.477 Q383.494 234.404 383.494 236.31 Q383.494 237.806 383.986 238.953 Q384.498 240.101 385.338 240.757 Q386.178 241.392 387.101 241.741 Q388.043 242.069 389.048 242.11 L393.372 224.853 M400.033 230.633 Q400.033 227.968 398.496 226.472 Q396.959 224.976 394.458 224.853 L390.134 242.11 Q391.958 241.966 393.557 241.208 Q395.176 240.429 396.344 239.281 Q397.512 238.113 398.352 236.678 Q399.193 235.223 399.602 233.686 Q400.033 232.129 400.033 230.633 Z\" fill=\"#000000\" fill-rule=\"nonzero\" fill-opacity=\"1\" /></svg>\n"
      ],
      "text/html": [
       "<img src=\"data:image/png;base64,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\" />"
      ]
     },
     "execution_count": 42,
     "metadata": {},
     "output_type": "execute_result"
    }
   ],
   "source": [
    "plot(chain_mchmc[:r], label=L\"r\", xlabel=\"step\")\n",
    "plot!(log.(chain_mchmc[:Aϕ]), label=L\"A_\\phi\")"
   ]
  },
  {
   "cell_type": "code",
   "execution_count": 34,
   "id": "b94d66c5",
   "metadata": {
    "tags": []
   },
   "outputs": [
    {
     "data": {
      "image/png": "[encoded data removed]",
      "image/svg+xml": [
       "<?xml version=\"1.0\" encoding=\"utf-8\"?>\n",
       "<svg xmlns=\"http://www.w3.org/2000/svg\" xmlns:xlink=\"http://www.w3.org/1999/xlink\" width=\"500\" height=\"300\" viewBox=\"0 0 2000 1200\">\n",
       "<defs>\n",
       "  <clipPath id=\"clip130\">\n",
       "    <rect x=\"0\" y=\"0\" width=\"2000\" height=\"1200\"/>\n",
       "  </clipPath>\n",
       "</defs>\n",
       "<path clip-path=\"url(#clip130)\" d=\"M0 1200 L2000 1200 L2000 0 L0 0  Z\" fill=\"#ffffff\" fill-rule=\"evenodd\" fill-opacity=\"1\"/>\n",
       "<defs>\n",
       "  <clipPath id=\"clip131\">\n",
       "    <rect x=\"400\" y=\"0\" width=\"1401\" height=\"1200\"/>\n",
       "  </clipPath>\n",
       "</defs>\n",
       "<path clip-path=\"url(#clip130)\" d=\"M195.026 1035.39 L1752.76 1035.39 L1752.76 117.424 L195.026 117.424  Z\" fill=\"#ffffff\" fill-rule=\"evenodd\" fill-opacity=\"1\"/>\n",
       "<defs>\n",
       "  <clipPath id=\"clip132\">\n",
       "    <rect x=\"195\" y=\"117\" width=\"1559\" height=\"919\"/>\n",
       "  </clipPath>\n",
       "</defs>\n",
       "<polyline clip-path=\"url(#clip132)\" style=\"stroke:#000000; stroke-linecap:round; stroke-linejoin:round; stroke-width:2; stroke-opacity:0.1; fill:none\" points=\"396.024,1035.39 396.024,117.424 \"/>\n",
       "<polyline clip-path=\"url(#clip132)\" style=\"stroke:#000000; stroke-linecap:round; stroke-linejoin:round; stroke-width:2; stroke-opacity:0.1; fill:none\" points=\"647.27,1035.39 647.27,117.424 \"/>\n",
       "<polyline clip-path=\"url(#clip132)\" style=\"stroke:#000000; stroke-linecap:round; stroke-linejoin:round; stroke-width:2; stroke-opacity:0.1; fill:none\" points=\"898.517,1035.39 898.517,117.424 \"/>\n",
       "<polyline clip-path=\"url(#clip132)\" style=\"stroke:#000000; stroke-linecap:round; stroke-linejoin:round; stroke-width:2; stroke-opacity:0.1; fill:none\" points=\"1149.76,1035.39 1149.76,117.424 \"/>\n",
       "<polyline clip-path=\"url(#clip132)\" style=\"stroke:#000000; stroke-linecap:round; stroke-linejoin:round; stroke-width:2; stroke-opacity:0.1; fill:none\" points=\"1401.01,1035.39 1401.01,117.424 \"/>\n",
       "<polyline clip-path=\"url(#clip132)\" style=\"stroke:#000000; stroke-linecap:round; stroke-linejoin:round; stroke-width:2; stroke-opacity:0.1; fill:none\" points=\"1652.26,1035.39 1652.26,117.424 \"/>\n",
       "<polyline clip-path=\"url(#clip130)\" style=\"stroke:#000000; stroke-linecap:round; stroke-linejoin:round; stroke-width:4; stroke-opacity:1; fill:none\" points=\"195.026,1035.39 1752.76,1035.39 \"/>\n",
       "<polyline clip-path=\"url(#clip130)\" style=\"stroke:#000000; stroke-linecap:round; stroke-linejoin:round; stroke-width:4; stroke-opacity:1; fill:none\" points=\"396.024,1035.39 396.024,1016.49 \"/>\n",
       "<polyline clip-path=\"url(#clip130)\" style=\"stroke:#000000; stroke-linecap:round; stroke-linejoin:round; stroke-width:4; stroke-opacity:1; fill:none\" points=\"647.27,1035.39 647.27,1016.49 \"/>\n",
       "<polyline clip-path=\"url(#clip130)\" style=\"stroke:#000000; stroke-linecap:round; stroke-linejoin:round; stroke-width:4; stroke-opacity:1; fill:none\" points=\"898.517,1035.39 898.517,1016.49 \"/>\n",
       "<polyline clip-path=\"url(#clip130)\" style=\"stroke:#000000; stroke-linecap:round; stroke-linejoin:round; stroke-width:4; stroke-opacity:1; fill:none\" points=\"1149.76,1035.39 1149.76,1016.49 \"/>\n",
       "<polyline clip-path=\"url(#clip130)\" style=\"stroke:#000000; stroke-linecap:round; stroke-linejoin:round; stroke-width:4; stroke-opacity:1; fill:none\" points=\"1401.01,1035.39 1401.01,1016.49 \"/>\n",
       "<polyline clip-path=\"url(#clip130)\" style=\"stroke:#000000; stroke-linecap:round; stroke-linejoin:round; stroke-width:4; stroke-opacity:1; fill:none\" points=\"1652.26,1035.39 1652.26,1016.49 \"/>\n",
       "<path clip-path=\"url(#clip130)\" d=\"M358.825 1063.11 Q355.214 1063.11 353.385 1066.67 Q351.58 1070.21 351.58 1077.34 Q351.58 1084.45 353.385 1088.01 Q355.214 1091.56 358.825 1091.56 Q362.459 1091.56 364.265 1088.01 Q366.093 1084.45 366.093 1077.34 Q366.093 1070.21 364.265 1066.67 Q362.459 1063.11 358.825 1063.11 M358.825 1059.4 Q364.635 1059.4 367.691 1064.01 Q370.769 1068.59 370.769 1077.34 Q370.769 1086.07 367.691 1090.68 Q364.635 1095.26 358.825 1095.26 Q353.015 1095.26 349.936 1090.68 Q346.88 1086.07 346.88 1077.34 Q346.88 1068.59 349.936 1064.01 Q353.015 1059.4 358.825 1059.4 Z\" fill=\"#000000\" fill-rule=\"nonzero\" fill-opacity=\"1\" /><path clip-path=\"url(#clip130)\" d=\"M378.987 1088.71 L383.871 1088.71 L383.871 1094.59 L378.987 1094.59 L378.987 1088.71 Z\" fill=\"#000000\" fill-rule=\"nonzero\" fill-opacity=\"1\" /><path clip-path=\"url(#clip130)\" d=\"M404.056 1063.11 Q400.445 1063.11 398.616 1066.67 Q396.811 1070.21 396.811 1077.34 Q396.811 1084.45 398.616 1088.01 Q400.445 1091.56 404.056 1091.56 Q407.69 1091.56 409.496 1088.01 Q411.325 1084.45 411.325 1077.34 Q411.325 1070.21 409.496 1066.67 Q407.69 1063.11 404.056 1063.11 M404.056 1059.4 Q409.866 1059.4 412.922 1064.01 Q416 1068.59 416 1077.34 Q416 1086.07 412.922 1090.68 Q409.866 1095.26 404.056 1095.26 Q398.246 1095.26 395.167 1090.68 Q392.112 1086.07 392.112 1077.34 Q392.112 1068.59 395.167 1064.01 Q398.246 1059.4 404.056 1059.4 Z\" fill=\"#000000\" fill-rule=\"nonzero\" fill-opacity=\"1\" /><path clip-path=\"url(#clip130)\" d=\"M424.264 1060.03 L442.621 1060.03 L442.621 1063.96 L428.547 1063.96 L428.547 1072.44 Q429.565 1072.09 430.584 1071.93 Q431.602 1071.74 432.621 1071.74 Q438.408 1071.74 441.787 1074.91 Q445.167 1078.08 445.167 1083.5 Q445.167 1089.08 441.695 1092.18 Q438.223 1095.26 431.903 1095.26 Q429.727 1095.26 427.459 1094.89 Q425.213 1094.52 422.806 1093.78 L422.806 1089.08 Q424.889 1090.21 427.112 1090.77 Q429.334 1091.32 431.811 1091.32 Q435.815 1091.32 438.153 1089.22 Q440.491 1087.11 440.491 1083.5 Q440.491 1079.89 438.153 1077.78 Q435.815 1075.68 431.811 1075.68 Q429.936 1075.68 428.061 1076.09 Q426.209 1076.51 424.264 1077.39 L424.264 1060.03 Z\" fill=\"#000000\" fill-rule=\"nonzero\" fill-opacity=\"1\" /><path clip-path=\"url(#clip130)\" d=\"M609.574 1063.11 Q605.963 1063.11 604.134 1066.67 Q602.329 1070.21 602.329 1077.34 Q602.329 1084.45 604.134 1088.01 Q605.963 1091.56 609.574 1091.56 Q613.208 1091.56 615.014 1088.01 Q616.842 1084.45 616.842 1077.34 Q616.842 1070.21 615.014 1066.67 Q613.208 1063.11 609.574 1063.11 M609.574 1059.4 Q615.384 1059.4 618.44 1064.01 Q621.518 1068.59 621.518 1077.34 Q621.518 1086.07 618.44 1090.68 Q615.384 1095.26 609.574 1095.26 Q603.764 1095.26 600.685 1090.68 Q597.63 1086.07 597.63 1077.34 Q597.63 1068.59 600.685 1064.01 Q603.764 1059.4 609.574 1059.4 Z\" fill=\"#000000\" fill-rule=\"nonzero\" fill-opacity=\"1\" /><path clip-path=\"url(#clip130)\" d=\"M629.736 1088.71 L634.62 1088.71 L634.62 1094.59 L629.736 1094.59 L629.736 1088.71 Z\" fill=\"#000000\" fill-rule=\"nonzero\" fill-opacity=\"1\" /><path clip-path=\"url(#clip130)\" d=\"M645.615 1090.65 L653.254 1090.65 L653.254 1064.29 L644.944 1065.95 L644.944 1061.69 L653.208 1060.03 L657.884 1060.03 L657.884 1090.65 L665.523 1090.65 L665.523 1094.59 L645.615 1094.59 L645.615 1090.65 Z\" fill=\"#000000\" fill-rule=\"nonzero\" fill-opacity=\"1\" /><path clip-path=\"url(#clip130)\" d=\"M684.967 1063.11 Q681.356 1063.11 679.527 1066.67 Q677.722 1070.21 677.722 1077.34 Q677.722 1084.45 679.527 1088.01 Q681.356 1091.56 684.967 1091.56 Q688.601 1091.56 690.407 1088.01 Q692.235 1084.45 692.235 1077.34 Q692.235 1070.21 690.407 1066.67 Q688.601 1063.11 684.967 1063.11 M684.967 1059.4 Q690.777 1059.4 693.833 1064.01 Q696.911 1068.59 696.911 1077.34 Q696.911 1086.07 693.833 1090.68 Q690.777 1095.26 684.967 1095.26 Q679.157 1095.26 676.078 1090.68 Q673.023 1086.07 673.023 1077.34 Q673.023 1068.59 676.078 1064.01 Q679.157 1059.4 684.967 1059.4 Z\" fill=\"#000000\" fill-rule=\"nonzero\" fill-opacity=\"1\" /><path clip-path=\"url(#clip130)\" d=\"M861.318 1063.11 Q857.707 1063.11 855.878 1066.67 Q854.073 1070.21 854.073 1077.34 Q854.073 1084.45 855.878 1088.01 Q857.707 1091.56 861.318 1091.56 Q864.953 1091.56 866.758 1088.01 Q868.587 1084.45 868.587 1077.34 Q868.587 1070.21 866.758 1066.67 Q864.953 1063.11 861.318 1063.11 M861.318 1059.4 Q867.128 1059.4 870.184 1064.01 Q873.263 1068.59 873.263 1077.34 Q873.263 1086.07 870.184 1090.68 Q867.128 1095.26 861.318 1095.26 Q855.508 1095.26 852.429 1090.68 Q849.374 1086.07 849.374 1077.34 Q849.374 1068.59 852.429 1064.01 Q855.508 1059.4 861.318 1059.4 Z\" fill=\"#000000\" fill-rule=\"nonzero\" fill-opacity=\"1\" /><path clip-path=\"url(#clip130)\" d=\"M881.48 1088.71 L886.364 1088.71 L886.364 1094.59 L881.48 1094.59 L881.48 1088.71 Z\" fill=\"#000000\" fill-rule=\"nonzero\" fill-opacity=\"1\" /><path clip-path=\"url(#clip130)\" d=\"M897.36 1090.65 L904.999 1090.65 L904.999 1064.29 L896.688 1065.95 L896.688 1061.69 L904.952 1060.03 L909.628 1060.03 L909.628 1090.65 L917.267 1090.65 L917.267 1094.59 L897.36 1094.59 L897.36 1090.65 Z\" fill=\"#000000\" fill-rule=\"nonzero\" fill-opacity=\"1\" /><path clip-path=\"url(#clip130)\" d=\"M926.758 1060.03 L945.114 1060.03 L945.114 1063.96 L931.04 1063.96 L931.04 1072.44 Q932.059 1072.09 933.077 1071.93 Q934.096 1071.74 935.114 1071.74 Q940.901 1071.74 944.281 1074.91 Q947.66 1078.08 947.66 1083.5 Q947.66 1089.08 944.188 1092.18 Q940.716 1095.26 934.397 1095.26 Q932.221 1095.26 929.952 1094.89 Q927.707 1094.52 925.299 1093.78 L925.299 1089.08 Q927.383 1090.21 929.605 1090.77 Q931.827 1091.32 934.304 1091.32 Q938.309 1091.32 940.647 1089.22 Q942.984 1087.11 942.984 1083.5 Q942.984 1079.89 940.647 1077.78 Q938.309 1075.68 934.304 1075.68 Q932.429 1075.68 930.554 1076.09 Q928.702 1076.51 926.758 1077.39 L926.758 1060.03 Z\" fill=\"#000000\" fill-rule=\"nonzero\" fill-opacity=\"1\" /><path clip-path=\"url(#clip130)\" d=\"M1112.07 1063.11 Q1108.46 1063.11 1106.63 1066.67 Q1104.82 1070.21 1104.82 1077.34 Q1104.82 1084.45 1106.63 1088.01 Q1108.46 1091.56 1112.07 1091.56 Q1115.7 1091.56 1117.51 1088.01 Q1119.34 1084.45 1119.34 1077.34 Q1119.34 1070.21 1117.51 1066.67 Q1115.7 1063.11 1112.07 1063.11 M1112.07 1059.4 Q1117.88 1059.4 1120.93 1064.01 Q1124.01 1068.59 1124.01 1077.34 Q1124.01 1086.07 1120.93 1090.68 Q1117.88 1095.26 1112.07 1095.26 Q1106.26 1095.26 1103.18 1090.68 Q1100.12 1086.07 1100.12 1077.34 Q1100.12 1068.59 1103.18 1064.01 Q1106.26 1059.4 1112.07 1059.4 Z\" fill=\"#000000\" fill-rule=\"nonzero\" fill-opacity=\"1\" /><path clip-path=\"url(#clip130)\" d=\"M1132.23 1088.71 L1137.11 1088.71 L1137.11 1094.59 L1132.23 1094.59 L1132.23 1088.71 Z\" fill=\"#000000\" fill-rule=\"nonzero\" fill-opacity=\"1\" /><path clip-path=\"url(#clip130)\" d=\"M1151.33 1090.65 L1167.65 1090.65 L1167.65 1094.59 L1145.7 1094.59 L1145.7 1090.65 Q1148.36 1087.9 1152.95 1083.27 Q1157.55 1078.62 1158.73 1077.27 Q1160.98 1074.75 1161.86 1073.01 Q1162.76 1071.25 1162.76 1069.56 Q1162.76 1066.81 1160.82 1065.07 Q1158.9 1063.34 1155.79 1063.34 Q1153.59 1063.34 1151.14 1064.1 Q1148.71 1064.87 1145.93 1066.42 L1145.93 1061.69 Q1148.76 1060.56 1151.21 1059.98 Q1153.66 1059.4 1155.7 1059.4 Q1161.07 1059.4 1164.27 1062.09 Q1167.46 1064.77 1167.46 1069.26 Q1167.46 1071.39 1166.65 1073.31 Q1165.86 1075.21 1163.76 1077.81 Q1163.18 1078.48 1160.08 1081.69 Q1156.97 1084.89 1151.33 1090.65 Z\" fill=\"#000000\" fill-rule=\"nonzero\" fill-opacity=\"1\" /><path clip-path=\"url(#clip130)\" d=\"M1187.46 1063.11 Q1183.85 1063.11 1182.02 1066.67 Q1180.22 1070.21 1180.22 1077.34 Q1180.22 1084.45 1182.02 1088.01 Q1183.85 1091.56 1187.46 1091.56 Q1191.09 1091.56 1192.9 1088.01 Q1194.73 1084.45 1194.73 1077.34 Q1194.73 1070.21 1192.9 1066.67 Q1191.09 1063.11 1187.46 1063.11 M1187.46 1059.4 Q1193.27 1059.4 1196.33 1064.01 Q1199.4 1068.59 1199.4 1077.34 Q1199.4 1086.07 1196.33 1090.68 Q1193.27 1095.26 1187.46 1095.26 Q1181.65 1095.26 1178.57 1090.68 Q1175.52 1086.07 1175.52 1077.34 Q1175.52 1068.59 1178.57 1064.01 Q1181.65 1059.4 1187.46 1059.4 Z\" fill=\"#000000\" fill-rule=\"nonzero\" fill-opacity=\"1\" /><path clip-path=\"url(#clip130)\" d=\"M1363.81 1063.11 Q1360.2 1063.11 1358.37 1066.67 Q1356.57 1070.21 1356.57 1077.34 Q1356.57 1084.45 1358.37 1088.01 Q1360.2 1091.56 1363.81 1091.56 Q1367.45 1091.56 1369.25 1088.01 Q1371.08 1084.45 1371.08 1077.34 Q1371.08 1070.21 1369.25 1066.67 Q1367.45 1063.11 1363.81 1063.11 M1363.81 1059.4 Q1369.62 1059.4 1372.68 1064.01 Q1375.76 1068.59 1375.76 1077.34 Q1375.76 1086.07 1372.68 1090.68 Q1369.62 1095.26 1363.81 1095.26 Q1358 1095.26 1354.92 1090.68 Q1351.87 1086.07 1351.87 1077.34 Q1351.87 1068.59 1354.92 1064.01 Q1358 1059.4 1363.81 1059.4 Z\" fill=\"#000000\" fill-rule=\"nonzero\" fill-opacity=\"1\" /><path clip-path=\"url(#clip130)\" d=\"M1383.97 1088.71 L1388.86 1088.71 L1388.86 1094.59 L1383.97 1094.59 L1383.97 1088.71 Z\" fill=\"#000000\" fill-rule=\"nonzero\" fill-opacity=\"1\" /><path clip-path=\"url(#clip130)\" d=\"M1403.07 1090.65 L1419.39 1090.65 L1419.39 1094.59 L1397.45 1094.59 L1397.45 1090.65 Q1400.11 1087.9 1404.69 1083.27 Q1409.3 1078.62 1410.48 1077.27 Q1412.72 1074.75 1413.6 1073.01 Q1414.51 1071.25 1414.51 1069.56 Q1414.51 1066.81 1412.56 1065.07 Q1410.64 1063.34 1407.54 1063.34 Q1405.34 1063.34 1402.89 1064.1 Q1400.45 1064.87 1397.68 1066.42 L1397.68 1061.69 Q1400.5 1060.56 1402.95 1059.98 Q1405.41 1059.4 1407.45 1059.4 Q1412.82 1059.4 1416.01 1062.09 Q1419.2 1064.77 1419.2 1069.26 Q1419.2 1071.39 1418.39 1073.31 Q1417.61 1075.21 1415.5 1077.81 Q1414.92 1078.48 1411.82 1081.69 Q1408.72 1084.89 1403.07 1090.65 Z\" fill=\"#000000\" fill-rule=\"nonzero\" fill-opacity=\"1\" /><path clip-path=\"url(#clip130)\" d=\"M1429.25 1060.03 L1447.61 1060.03 L1447.61 1063.96 L1433.53 1063.96 L1433.53 1072.44 Q1434.55 1072.09 1435.57 1071.93 Q1436.59 1071.74 1437.61 1071.74 Q1443.39 1071.74 1446.77 1074.91 Q1450.15 1078.08 1450.15 1083.5 Q1450.15 1089.08 1446.68 1092.18 Q1443.21 1095.26 1436.89 1095.26 Q1434.71 1095.26 1432.45 1094.89 Q1430.2 1094.52 1427.79 1093.78 L1427.79 1089.08 Q1429.88 1090.21 1432.1 1090.77 Q1434.32 1091.32 1436.8 1091.32 Q1440.8 1091.32 1443.14 1089.22 Q1445.48 1087.11 1445.48 1083.5 Q1445.48 1079.89 1443.14 1077.78 Q1440.8 1075.68 1436.8 1075.68 Q1434.92 1075.68 1433.05 1076.09 Q1431.2 1076.51 1429.25 1077.39 L1429.25 1060.03 Z\" fill=\"#000000\" fill-rule=\"nonzero\" fill-opacity=\"1\" /><path clip-path=\"url(#clip130)\" d=\"M1614.56 1063.11 Q1610.95 1063.11 1609.12 1066.67 Q1607.32 1070.21 1607.32 1077.34 Q1607.32 1084.45 1609.12 1088.01 Q1610.95 1091.56 1614.56 1091.56 Q1618.19 1091.56 1620 1088.01 Q1621.83 1084.45 1621.83 1077.34 Q1621.83 1070.21 1620 1066.67 Q1618.19 1063.11 1614.56 1063.11 M1614.56 1059.4 Q1620.37 1059.4 1623.43 1064.01 Q1626.51 1068.59 1626.51 1077.34 Q1626.51 1086.07 1623.43 1090.68 Q1620.37 1095.26 1614.56 1095.26 Q1608.75 1095.26 1605.67 1090.68 Q1602.62 1086.07 1602.62 1077.34 Q1602.62 1068.59 1605.67 1064.01 Q1608.75 1059.4 1614.56 1059.4 Z\" fill=\"#000000\" fill-rule=\"nonzero\" fill-opacity=\"1\" /><path clip-path=\"url(#clip130)\" d=\"M1634.72 1088.71 L1639.61 1088.71 L1639.61 1094.59 L1634.72 1094.59 L1634.72 1088.71 Z\" fill=\"#000000\" fill-rule=\"nonzero\" fill-opacity=\"1\" /><path clip-path=\"url(#clip130)\" d=\"M1663.96 1075.95 Q1667.32 1076.67 1669.19 1078.94 Q1671.09 1081.21 1671.09 1084.54 Q1671.09 1089.66 1667.57 1092.46 Q1664.05 1095.26 1657.57 1095.26 Q1655.39 1095.26 1653.08 1094.82 Q1650.79 1094.4 1648.33 1093.55 L1648.33 1089.03 Q1650.28 1090.17 1652.59 1090.75 Q1654.91 1091.32 1657.43 1091.32 Q1661.83 1091.32 1664.12 1089.59 Q1666.44 1087.85 1666.44 1084.54 Q1666.44 1081.49 1664.28 1079.77 Q1662.15 1078.04 1658.33 1078.04 L1654.31 1078.04 L1654.31 1074.19 L1658.52 1074.19 Q1661.97 1074.19 1663.8 1072.83 Q1665.63 1071.44 1665.63 1068.85 Q1665.63 1066.19 1663.73 1064.77 Q1661.85 1063.34 1658.33 1063.34 Q1656.41 1063.34 1654.21 1063.75 Q1652.01 1064.17 1649.38 1065.05 L1649.38 1060.88 Q1652.04 1060.14 1654.35 1059.77 Q1656.69 1059.4 1658.75 1059.4 Q1664.07 1059.4 1667.18 1061.83 Q1670.28 1064.24 1670.28 1068.36 Q1670.28 1071.23 1668.63 1073.22 Q1666.99 1075.19 1663.96 1075.95 Z\" fill=\"#000000\" fill-rule=\"nonzero\" fill-opacity=\"1\" /><path clip-path=\"url(#clip130)\" d=\"M1689.95 1063.11 Q1686.34 1063.11 1684.51 1066.67 Q1682.71 1070.21 1682.71 1077.34 Q1682.71 1084.45 1684.51 1088.01 Q1686.34 1091.56 1689.95 1091.56 Q1693.59 1091.56 1695.39 1088.01 Q1697.22 1084.45 1697.22 1077.34 Q1697.22 1070.21 1695.39 1066.67 Q1693.59 1063.11 1689.95 1063.11 M1689.95 1059.4 Q1695.76 1059.4 1698.82 1064.01 Q1701.9 1068.59 1701.9 1077.34 Q1701.9 1086.07 1698.82 1090.68 Q1695.76 1095.26 1689.95 1095.26 Q1684.14 1095.26 1681.06 1090.68 Q1678.01 1086.07 1678.01 1077.34 Q1678.01 1068.59 1681.06 1064.01 Q1684.14 1059.4 1689.95 1059.4 Z\" fill=\"#000000\" fill-rule=\"nonzero\" fill-opacity=\"1\" /><path clip-path=\"url(#clip130)\" d=\"M984.331 1144.08 Q983.344 1143.51 982.167 1143.25 Q981.021 1142.96 979.62 1142.96 Q974.655 1142.96 971.981 1146.21 Q969.34 1149.43 969.34 1155.47 L969.34 1174.25 L963.451 1174.25 L963.451 1138.6 L969.34 1138.6 L969.34 1144.14 Q971.186 1140.9 974.146 1139.34 Q977.106 1137.74 981.339 1137.74 Q981.944 1137.74 982.676 1137.84 Q983.408 1137.9 984.299 1138.06 L984.331 1144.08 Z\" fill=\"#000000\" fill-rule=\"nonzero\" fill-opacity=\"1\" /><polyline clip-path=\"url(#clip132)\" style=\"stroke:#000000; stroke-linecap:round; stroke-linejoin:round; stroke-width:2; stroke-opacity:0.1; fill:none\" points=\"195.026,1035.39 1752.76,1035.39 \"/>\n",
       "<polyline clip-path=\"url(#clip132)\" style=\"stroke:#000000; stroke-linecap:round; stroke-linejoin:round; stroke-width:2; stroke-opacity:0.1; fill:none\" points=\"195.026,729.4 1752.76,729.4 \"/>\n",
       "<polyline clip-path=\"url(#clip132)\" style=\"stroke:#000000; stroke-linecap:round; stroke-linejoin:round; stroke-width:2; stroke-opacity:0.1; fill:none\" points=\"195.026,423.412 1752.76,423.412 \"/>\n",
       "<polyline clip-path=\"url(#clip132)\" style=\"stroke:#000000; stroke-linecap:round; stroke-linejoin:round; stroke-width:2; stroke-opacity:0.1; fill:none\" points=\"195.026,117.424 1752.76,117.424 \"/>\n",
       "<polyline clip-path=\"url(#clip130)\" style=\"stroke:#000000; stroke-linecap:round; stroke-linejoin:round; stroke-width:4; stroke-opacity:1; fill:none\" points=\"195.026,1035.39 195.026,117.424 \"/>\n",
       "<polyline clip-path=\"url(#clip130)\" style=\"stroke:#000000; stroke-linecap:round; stroke-linejoin:round; stroke-width:4; stroke-opacity:1; fill:none\" points=\"195.026,1035.39 211.774,1035.39 \"/>\n",
       "<polyline clip-path=\"url(#clip130)\" style=\"stroke:#000000; stroke-linecap:round; stroke-linejoin:round; stroke-width:4; stroke-opacity:1; fill:none\" points=\"195.026,729.4 211.774,729.4 \"/>\n",
       "<polyline clip-path=\"url(#clip130)\" style=\"stroke:#000000; stroke-linecap:round; stroke-linejoin:round; stroke-width:4; stroke-opacity:1; fill:none\" points=\"195.026,423.412 211.774,423.412 \"/>\n",
       "<polyline clip-path=\"url(#clip130)\" style=\"stroke:#000000; stroke-linecap:round; stroke-linejoin:round; stroke-width:4; stroke-opacity:1; fill:none\" points=\"195.026,117.424 211.774,117.424 \"/>\n",
       "<path clip-path=\"url(#clip130)\" d=\"M153.082 1021.19 Q149.471 1021.19 147.642 1024.75 Q145.837 1028.29 145.837 1035.42 Q145.837 1042.53 147.642 1046.09 Q149.471 1049.64 153.082 1049.64 Q156.716 1049.64 158.522 1046.09 Q160.35 1042.53 160.35 1035.42 Q160.35 1028.29 158.522 1024.75 Q156.716 1021.19 153.082 1021.19 M153.082 1017.48 Q158.892 1017.48 161.948 1022.09 Q165.026 1026.67 165.026 1035.42 Q165.026 1044.15 161.948 1048.76 Q158.892 1053.34 153.082 1053.34 Q147.272 1053.34 144.193 1048.76 Q141.138 1044.15 141.138 1035.42 Q141.138 1026.67 144.193 1022.09 Q147.272 1017.48 153.082 1017.48 Z\" fill=\"#000000\" fill-rule=\"nonzero\" fill-opacity=\"1\" /><path clip-path=\"url(#clip130)\" d=\"M117.943 742.745 L134.263 742.745 L134.263 746.68 L112.318 746.68 L112.318 742.745 Q114.98 739.99 119.564 735.361 Q124.17 730.708 125.351 729.365 Q127.596 726.842 128.476 725.106 Q129.378 723.347 129.378 721.657 Q129.378 718.902 127.434 717.166 Q125.513 715.43 122.411 715.43 Q120.212 715.43 117.758 716.194 Q115.328 716.958 112.55 718.509 L112.55 713.787 Q115.374 712.652 117.828 712.074 Q120.281 711.495 122.318 711.495 Q127.689 711.495 130.883 714.18 Q134.077 716.865 134.077 721.356 Q134.077 723.486 133.267 725.407 Q132.48 727.305 130.374 729.898 Q129.795 730.569 126.693 733.786 Q123.591 736.981 117.943 742.745 Z\" fill=\"#000000\" fill-rule=\"nonzero\" fill-opacity=\"1\" /><path clip-path=\"url(#clip130)\" d=\"M144.124 712.12 L162.48 712.12 L162.48 716.055 L148.406 716.055 L148.406 724.527 Q149.425 724.18 150.443 724.018 Q151.462 723.833 152.48 723.833 Q158.267 723.833 161.647 727.004 Q165.026 730.175 165.026 735.592 Q165.026 741.171 161.554 744.273 Q158.082 747.351 151.763 747.351 Q149.587 747.351 147.318 746.981 Q145.073 746.61 142.665 745.87 L142.665 741.171 Q144.749 742.305 146.971 742.861 Q149.193 743.416 151.67 743.416 Q155.675 743.416 158.013 741.31 Q160.35 739.203 160.35 735.592 Q160.35 731.981 158.013 729.874 Q155.675 727.768 151.67 727.768 Q149.795 727.768 147.92 728.185 Q146.068 728.601 144.124 729.481 L144.124 712.12 Z\" fill=\"#000000\" fill-rule=\"nonzero\" fill-opacity=\"1\" /><path clip-path=\"url(#clip130)\" d=\"M112.966 406.132 L131.323 406.132 L131.323 410.067 L117.249 410.067 L117.249 418.539 Q118.267 418.192 119.286 418.03 Q120.304 417.845 121.323 417.845 Q127.11 417.845 130.49 421.016 Q133.869 424.187 133.869 429.604 Q133.869 435.183 130.397 438.285 Q126.925 441.363 120.605 441.363 Q118.429 441.363 116.161 440.993 Q113.916 440.623 111.508 439.882 L111.508 435.183 Q113.591 436.317 115.814 436.873 Q118.036 437.428 120.513 437.428 Q124.517 437.428 126.855 435.322 Q129.193 433.215 129.193 429.604 Q129.193 425.993 126.855 423.887 Q124.517 421.78 120.513 421.78 Q118.638 421.78 116.763 422.197 Q114.911 422.613 112.966 423.493 L112.966 406.132 Z\" fill=\"#000000\" fill-rule=\"nonzero\" fill-opacity=\"1\" /><path clip-path=\"url(#clip130)\" d=\"M153.082 409.211 Q149.471 409.211 147.642 412.776 Q145.837 416.317 145.837 423.447 Q145.837 430.553 147.642 434.118 Q149.471 437.66 153.082 437.66 Q156.716 437.66 158.522 434.118 Q160.35 430.553 160.35 423.447 Q160.35 416.317 158.522 412.776 Q156.716 409.211 153.082 409.211 M153.082 405.507 Q158.892 405.507 161.948 410.113 Q165.026 414.697 165.026 423.447 Q165.026 432.174 161.948 436.78 Q158.892 441.363 153.082 441.363 Q147.272 441.363 144.193 436.78 Q141.138 432.174 141.138 423.447 Q141.138 414.697 144.193 410.113 Q147.272 405.507 153.082 405.507 Z\" fill=\"#000000\" fill-rule=\"nonzero\" fill-opacity=\"1\" /><path clip-path=\"url(#clip130)\" d=\"M112.735 100.144 L134.957 100.144 L134.957 102.135 L122.411 134.704 L117.527 134.704 L129.332 104.079 L112.735 104.079 L112.735 100.144 Z\" fill=\"#000000\" fill-rule=\"nonzero\" fill-opacity=\"1\" /><path clip-path=\"url(#clip130)\" d=\"M144.124 100.144 L162.48 100.144 L162.48 104.079 L148.406 104.079 L148.406 112.551 Q149.425 112.204 150.443 112.042 Q151.462 111.857 152.48 111.857 Q158.267 111.857 161.647 115.028 Q165.026 118.2 165.026 123.616 Q165.026 129.195 161.554 132.297 Q158.082 135.375 151.763 135.375 Q149.587 135.375 147.318 135.005 Q145.073 134.635 142.665 133.894 L142.665 129.195 Q144.749 130.329 146.971 130.885 Q149.193 131.44 151.67 131.44 Q155.675 131.44 158.013 129.334 Q160.35 127.227 160.35 123.616 Q160.35 120.005 158.013 117.899 Q155.675 115.792 151.67 115.792 Q149.795 115.792 147.92 116.209 Q146.068 116.626 144.124 117.505 L144.124 100.144 Z\" fill=\"#000000\" fill-rule=\"nonzero\" fill-opacity=\"1\" /><path clip-path=\"url(#clip130)\" d=\"M26.066 596.299 L49.7146 605.02 L49.7146 587.546 L26.066 596.299 M19.7322 599.927 L19.7322 592.639 L67.2522 574.528 L67.2522 581.212 L55.0618 585.541 L55.0618 606.961 L67.2522 611.29 L67.2522 618.07 L19.7322 599.927 Z\" fill=\"#000000\" fill-rule=\"nonzero\" fill-opacity=\"1\" /><path clip-path=\"url(#clip130)\" d=\"M17.727 549.67 L30.8721 549.67 Q30.8721 543.336 35.7419 539.103 Q40.7072 534.742 49.46 534.742 Q58.2129 534.742 63.1781 539.103 Q68.0479 543.336 68.0479 549.67 L80.8111 549.67 L80.8111 555.495 L68.0479 555.495 Q68.0479 561.829 63.1781 566.094 Q58.2129 570.422 49.46 570.422 Q40.7072 570.422 35.7419 566.094 Q30.8721 561.829 30.8721 555.495 L17.727 555.495 L17.727 549.67 M62.828 549.67 Q62.828 546.073 59.5497 543.623 Q55.8894 540.949 49.46 540.917 Q43.0943 540.885 39.3704 543.623 Q36.092 546.073 36.092 549.67 L62.828 549.67 M62.828 555.495 L36.092 555.495 Q36.092 559.091 39.3704 561.51 Q43.0943 564.279 49.46 564.247 Q55.8894 564.216 59.5497 561.51 Q62.828 559.091 62.828 555.495 Z\" fill=\"#000000\" fill-rule=\"nonzero\" fill-opacity=\"1\" /><path clip-path=\"url(#clip130)\" d=\"M566.451 12.096 L578.644 12.096 L594.078 53.2532 L609.593 12.096 L621.787 12.096 L621.787 72.576 L613.806 72.576 L613.806 19.4686 L598.21 60.9499 L589.987 60.9499 L574.391 19.4686 L574.391 72.576 L566.451 72.576 L566.451 12.096 Z\" fill=\"#000000\" fill-rule=\"nonzero\" fill-opacity=\"1\" /><path clip-path=\"url(#clip130)\" d=\"M658.326 49.7694 Q649.292 49.7694 645.808 51.8354 Q642.325 53.9013 642.325 58.8839 Q642.325 62.8538 644.917 65.2034 Q647.55 67.5124 652.047 67.5124 Q658.245 67.5124 661.972 63.1374 Q665.739 58.7219 665.739 51.4303 L665.739 49.7694 L658.326 49.7694 M673.193 46.6907 L673.193 72.576 L665.739 72.576 L665.739 65.6895 Q663.187 69.8214 659.379 71.8063 Q655.571 73.7508 650.062 73.7508 Q643.094 73.7508 638.962 69.8619 Q634.871 65.9325 634.871 59.3701 Q634.871 51.7138 639.975 47.825 Q645.12 43.9361 655.288 43.9361 L665.739 43.9361 L665.739 43.2069 Q665.739 38.0623 662.336 35.2672 Q658.974 32.4315 652.857 32.4315 Q648.968 32.4315 645.282 33.3632 Q641.595 34.295 638.193 36.1584 L638.193 29.2718 Q642.284 27.692 646.132 26.9223 Q649.981 26.1121 653.627 26.1121 Q663.47 26.1121 668.331 31.2163 Q673.193 36.3204 673.193 46.6907 Z\" fill=\"#000000\" fill-rule=\"nonzero\" fill-opacity=\"1\" /><path clip-path=\"url(#clip130)\" d=\"M717.469 28.5427 L717.469 35.5912 Q714.309 33.9709 710.906 33.1607 Q707.504 32.3505 703.858 32.3505 Q698.308 32.3505 695.513 34.0519 Q692.758 35.7533 692.758 39.156 Q692.758 41.7486 694.743 43.2475 Q696.728 44.7058 702.724 46.0426 L705.276 46.6097 Q713.215 48.3111 716.537 51.4303 Q719.899 54.509 719.899 60.0587 Q719.899 66.3781 714.876 70.0644 Q709.894 73.7508 701.144 73.7508 Q697.498 73.7508 693.528 73.0216 Q689.599 72.3329 685.224 70.9151 L685.224 63.2184 Q689.356 65.3654 693.366 66.4591 Q697.376 67.5124 701.306 67.5124 Q706.572 67.5124 709.408 65.73 Q712.243 63.9071 712.243 60.6258 Q712.243 57.5877 710.177 55.9673 Q708.152 54.3469 701.225 52.8481 L698.632 52.2405 Q691.705 50.7821 688.626 47.7845 Q685.548 44.7463 685.548 39.4801 Q685.548 33.0797 690.085 29.5959 Q694.622 26.1121 702.967 26.1121 Q707.099 26.1121 710.744 26.7198 Q714.39 27.3274 717.469 28.5427 Z\" fill=\"#000000\" fill-rule=\"nonzero\" fill-opacity=\"1\" /><path clip-path=\"url(#clip130)\" d=\"M731.485 9.54393 L738.979 9.54393 L738.979 46.7717 L761.219 27.2059 L770.738 27.2059 L746.676 48.4326 L771.751 72.576 L762.029 72.576 L738.979 50.4176 L738.979 72.576 L731.485 72.576 L731.485 9.54393 Z\" fill=\"#000000\" fill-rule=\"nonzero\" fill-opacity=\"1\" /><path clip-path=\"url(#clip130)\" d=\"M815.663 48.0275 L815.663 51.6733 L781.392 51.6733 Q781.878 59.3701 786.01 63.421 Q790.183 67.4314 797.596 67.4314 Q801.89 67.4314 805.9 66.3781 Q809.951 65.3249 813.921 63.2184 L813.921 70.267 Q809.911 71.9684 805.698 72.8596 Q801.485 73.7508 797.15 73.7508 Q786.294 73.7508 779.934 67.4314 Q773.614 61.1119 773.614 50.3365 Q773.614 39.1965 779.61 32.6746 Q785.646 26.1121 795.854 26.1121 Q805.009 26.1121 810.316 32.0264 Q815.663 37.9003 815.663 48.0275 M808.209 45.84 Q808.128 39.7232 804.766 36.0774 Q801.444 32.4315 795.935 32.4315 Q789.697 32.4315 785.929 35.9558 Q782.202 39.4801 781.635 45.8805 L808.209 45.84 Z\" fill=\"#000000\" fill-rule=\"nonzero\" fill-opacity=\"1\" /><path clip-path=\"url(#clip130)\" d=\"M857.752 34.0924 L857.752 9.54393 L865.205 9.54393 L865.205 72.576 L857.752 72.576 L857.752 65.7705 Q855.402 69.8214 851.797 71.8063 Q848.232 73.7508 843.209 73.7508 Q834.986 73.7508 829.8 67.1883 Q824.656 60.6258 824.656 49.9314 Q824.656 39.2371 829.8 32.6746 Q834.986 26.1121 843.209 26.1121 Q848.232 26.1121 851.797 28.0971 Q855.402 30.0415 857.752 34.0924 M832.353 49.9314 Q832.353 58.1548 835.715 62.8538 Q839.118 67.5124 845.032 67.5124 Q850.946 67.5124 854.349 62.8538 Q857.752 58.1548 857.752 49.9314 Q857.752 41.7081 854.349 37.0496 Q850.946 32.3505 845.032 32.3505 Q839.118 32.3505 835.715 37.0496 Q832.353 41.7081 832.353 49.9314 Z\" fill=\"#000000\" fill-rule=\"nonzero\" fill-opacity=\"1\" /><path clip-path=\"url(#clip130)\" d=\"M903.162 46.5287 L924.997 46.5287 L924.997 53.1722 L903.162 53.1722 L903.162 46.5287 Z\" fill=\"#000000\" fill-rule=\"nonzero\" fill-opacity=\"1\" /><path clip-path=\"url(#clip130)\" d=\"M963.561 12.096 L974.58 12.096 L1001.4 62.6918 L1001.4 12.096 L1009.34 12.096 L1009.34 72.576 L998.318 72.576 L971.501 21.9802 L971.501 72.576 L963.561 72.576 L963.561 12.096 Z\" fill=\"#000000\" fill-rule=\"nonzero\" fill-opacity=\"1\" /><path clip-path=\"url(#clip130)\" d=\"M1061.88 14.0809 L1061.88 22.0612 Q1057.22 19.8332 1053.09 18.7395 Q1048.95 17.6457 1045.11 17.6457 Q1038.42 17.6457 1034.78 20.2383 Q1031.17 22.8309 1031.17 27.611 Q1031.17 31.6214 1033.56 33.6873 Q1035.99 35.7128 1042.72 36.9686 L1047.66 37.9813 Q1056.81 39.7232 1061.15 44.1387 Q1065.52 48.5136 1065.52 55.8863 Q1065.52 64.6767 1059.61 69.2137 Q1053.73 73.7508 1042.35 73.7508 Q1038.06 73.7508 1033.2 72.7785 Q1028.38 71.8063 1023.19 69.9024 L1023.19 61.4765 Q1028.17 64.2716 1032.95 65.6895 Q1037.73 67.1073 1042.35 67.1073 Q1049.36 67.1073 1053.17 64.3527 Q1056.98 61.598 1056.98 56.4939 Q1056.98 52.0379 1054.22 49.5264 Q1051.51 47.0148 1045.27 45.759 L1040.29 44.7868 Q1031.13 42.9639 1027.04 39.075 Q1022.95 35.1862 1022.95 28.2591 Q1022.95 20.2383 1028.58 15.6203 Q1034.25 11.0023 1044.17 11.0023 Q1048.43 11.0023 1052.84 11.7719 Q1057.26 12.5416 1061.88 14.0809 Z\" fill=\"#000000\" fill-rule=\"nonzero\" fill-opacity=\"1\" /><path clip-path=\"url(#clip130)\" d=\"M1078.28 12.096 L1086.47 12.096 L1086.47 72.576 L1078.28 72.576 L1078.28 12.096 Z\" fill=\"#000000\" fill-rule=\"nonzero\" fill-opacity=\"1\" /><path clip-path=\"url(#clip130)\" d=\"M1110.93 18.8205 L1110.93 65.8515 L1120.82 65.8515 Q1133.33 65.8515 1139.13 60.1802 Q1144.96 54.509 1144.96 42.2752 Q1144.96 30.1225 1139.13 24.4918 Q1133.33 18.8205 1120.82 18.8205 L1110.93 18.8205 M1102.75 12.096 L1119.56 12.096 Q1137.14 12.096 1145.37 19.4281 Q1153.59 26.7198 1153.59 42.2752 Q1153.59 57.9117 1145.33 65.2439 Q1137.06 72.576 1119.56 72.576 L1102.75 72.576 L1102.75 12.096 Z\" fill=\"#000000\" fill-rule=\"nonzero\" fill-opacity=\"1\" /><path clip-path=\"url(#clip130)\" d=\"M1166.63 12.096 L1204.87 12.096 L1204.87 18.9825 L1174.82 18.9825 L1174.82 36.8875 L1203.62 36.8875 L1203.62 43.7741 L1174.82 43.7741 L1174.82 65.6895 L1205.6 65.6895 L1205.6 72.576 L1166.63 72.576 L1166.63 12.096 Z\" fill=\"#000000\" fill-rule=\"nonzero\" fill-opacity=\"1\" /><path clip-path=\"url(#clip130)\" d=\"M1219.7 34.9026 L1271.63 34.9026 L1271.63 41.7081 L1219.7 41.7081 L1219.7 34.9026 M1219.7 51.4303 L1271.63 51.4303 L1271.63 58.3168 L1219.7 58.3168 L1219.7 51.4303 Z\" fill=\"#000000\" fill-rule=\"nonzero\" fill-opacity=\"1\" /><path clip-path=\"url(#clip130)\" d=\"M1307.81 39.075 Q1302.3 39.075 1299.06 42.8424 Q1295.86 46.6097 1295.86 53.1722 Q1295.86 59.6941 1299.06 63.502 Q1302.3 67.2693 1307.81 67.2693 Q1313.32 67.2693 1316.52 63.502 Q1319.76 59.6941 1319.76 53.1722 Q1319.76 46.6097 1316.52 42.8424 Q1313.32 39.075 1307.81 39.075 M1324.05 13.4328 L1324.05 20.8865 Q1320.97 19.4281 1317.81 18.6585 Q1314.69 17.8888 1311.62 17.8888 Q1303.51 17.8888 1299.22 23.3575 Q1294.97 28.8262 1294.36 39.8852 Q1296.75 36.3609 1300.35 34.4975 Q1303.96 32.5936 1308.29 32.5936 Q1317.41 32.5936 1322.67 38.1433 Q1327.98 43.6525 1327.98 53.1722 Q1327.98 62.4892 1322.47 68.12 Q1316.96 73.7508 1307.81 73.7508 Q1297.32 73.7508 1291.77 65.73 Q1286.22 57.6687 1286.22 42.3968 Q1286.22 28.0566 1293.02 19.5497 Q1299.83 11.0023 1311.29 11.0023 Q1314.37 11.0023 1317.49 11.6099 Q1320.65 12.2175 1324.05 13.4328 Z\" fill=\"#000000\" fill-rule=\"nonzero\" fill-opacity=\"1\" /><path clip-path=\"url(#clip130)\" d=\"M1364.56 19.2256 L1343.9 51.5113 L1364.56 51.5113 L1364.56 19.2256 M1362.41 12.096 L1372.7 12.096 L1372.7 51.5113 L1381.33 51.5113 L1381.33 58.3168 L1372.7 58.3168 L1372.7 72.576 L1364.56 72.576 L1364.56 58.3168 L1337.26 58.3168 L1337.26 50.4176 L1362.41 12.096 Z\" fill=\"#000000\" fill-rule=\"nonzero\" fill-opacity=\"1\" /><g clip-path=\"url(#clip132)\">\n",
       "<image width=\"1558\" height=\"918\" xlink:href=\"data:image/png;base64,\n",
       "iVBORw0KGgoAAAANSUhEUgAABhYAAAOWCAYAAAADWag9AAAfWElEQVR4nOzbwa2bUBRFUTtCwhPX\n",
       "QEt05XZoiTI8coaZRftLxM8ma1VwJHijrXu93x6vCwAA/8z6XEZPOMQ276MnAAAA8AF+jR4AAAAA\n",
       "AAB8D2EBAAAAAADIhAUAAAAAACATFgAAAAAAgExYAAAAAAAAMmEBAAAAAADIhAUAAAAAACATFgAA\n",
       "AAAAgExYAAAAAAAAMmEBAAAAAADIhAUAAAAAACATFgAAAAAAgExYAAAAAAAAMmEBAAAAAADIhAUA\n",
       "AAAAACATFgAAAAAAgExYAAAAAAAAMmEBAAAAAADIhAUAAAAAACATFgAAAAAAgExYAAAAAAAAMmEB\n",
       "AAAAAADIhAUAAAAAACATFgAAAAAAgExYAAAAAAAAMmEBAAAAAADIhAUAAAAAACATFgAAAAAAgExY\n",
       "AAAAAAAAMmEBAAAAAADIhAUAAAAAACATFgAAAAAAgExYAAAAAAAAMmEBAAAAAADIhAUAAAAAACAT\n",
       "FgAAAAAAgExYAAAAAAAAMmEBAAAAAADIhAUAAAAAACATFgAAAAAAgExYAAAAAAAAMmEBAAAAAADI\n",
       "hAUAAAAAACATFgAAAAAAgExYAAAAAAAAMmEBAAAAAADIhAUAAAAAACATFgAAAAAAgExYAAAAAAAA\n",
       "MmEBAAAAAADIhAUAAAAAACATFgAAAAAAgExYAAAAAAAAMmEBAAAAAADIhAUAAAAAACATFgAAAAAA\n",
       "gExYAAAAAAAAMmEBAAAAAADIhAUAAAAAACATFgAAAAAAgExYAAAAAAAAsmn0AACAs9vmffQEAAAA\n",
       "OIyLBQAAAAAAIBMWAAAAAACATFgAAAAAAAAyYQEAAAAAAMiEBQAAAAAAIBMWAAAAAACATFgAAAAA\n",
       "AAAyYQEAAAAAAMiEBQAAAAAAIBMWAAAAAACATFgAAAAAAAAyYQEAAAAAAMiEBQAAAAAAIBMWAAAA\n",
       "AACATFgAAAAAAAAyYQEAAAAAAMiEBQAAAAAAIBMWAAAAAACATFgAAAAAAAAyYQEAAAAAAMiEBQAA\n",
       "AAAAIBMWAAAAAACATFgAAAAAAAAyYQEAAAAAAMiEBQAAAAAAIBMWAAAAAACATFgAAAAAAAAyYQEA\n",
       "AAAAAMiEBQAAAAAAIBMWAAAAAACATFgAAAAAAAAyYQEAAAAAAMiEBQAAAAAAIBMWAAAAAACATFgA\n",
       "AAAAAAAyYQEAAAAAAMiEBQAAAAAAIBMWAAAAAACATFgAAAAAAAAyYQEAAAAAAMiEBQAAAAAAIBMW\n",
       "AAAAAACATFgAAAAAAAAyYQEAAAAAAMiEBQAAAAAAIBMWAAAAAACATFgAAAAAAAAyYQEAAAAAAMiE\n",
       "BQAAAAAAIBMWAAAAAACATFgAAAAAAAAyYQEAAAAAAMiEBQAAAAAAIBMWAAAAAACATFgAAAAAAAAy\n",
       "YQEAAAAAAMiEBQAAAAAAIBMWAAAAAACATFgAAAAAAAAyYQEAAAAAAMim0QMA+H7rcxk94RDbvI+e\n",
       "AAAAAPDxXCwAAAAAAACZsAAAAAAAAGTCAgAAAAAAkAkLAAAAAABAJiwAAAAAAACZsAAAAAAAAGTC\n",
       "AgAAAAAAkAkLAAAAAABAJiwAAAAAAACZsAAAAAAAAGTCAgAAAAAAkAkLAAAAAABAJiwAAAAAAACZ\n",
       "sAAAAAAAAGTCAgAAAAAAkAkLAAAAAABAJiwAAAAAAACZsAAAAAAAAGTCAgAAAAAAkAkLAAAAAABA\n",
       "JiwAAAAAAACZsAAAAAAAAGTCAgAAAAAAkAkLAAAAAABAJiwAAAAAAACZsAAAAAAAAGTCAgAAAAAA\n",
       "kAkLAAAAAABAJiwAAAAAAACZsAAAAAAAAGTCAgAAAAAAkAkLAAAAAABAJiwAAAAAAACZsAAAAAAA\n",
       "AGTCAgAAAAAAkAkLAAAAAABAJiwAAAAAAACZsAAAAAAAAGTCAgAAAAAAkAkLAAAAAABAJiwAAAAA\n",
       "AACZsAAAAAAAAGTCAgAAAAAAkAkLAAAAAABAJiwAAAAAAACZsAAAAAAAAGTCAgAAAAAAkAkLAAAA\n",
       "AABAJiwAAAAAAACZsAAAAAAAAGTCAgAAAAAAkAkLAAAAAABAJiwAAAAAAACZsAAAAAAAAGTCAgAA\n",
       "AAAAkAkLAAAAAABAJiwAAAAAAACZsAAAAAAAAGTCAgAAAAAAkAkLAAAAAABANo0eAMD32+Z99AQA\n",
       "AAAA3sTFAgAAAAAAkAkLAAAAAABAJiwAAAAAAACZsAAAAAAAAGTCAgAAAAAAkAkLAAAAAABAJiwA\n",
       "AAAAAACZsAAAAAAAAGTCAgAAAAAAkAkLAAAAAABAJiwAAAAAAACZsAAAAAAAAGTCAgAAAAAAkAkL\n",
       "AAAAAABAJiwAAAAAAACZsAAAAAAAAGTCAgAAAAAAkAkLAAAAAABAJiwAAAAAAACZsAAAAAAAAGTC\n",
       "AgAAAAAAkAkLAAAAAABAJiwAAAAAAACZsAAAAAAAAGTCAgAAAAAAkAkLAAAAAABAJiwAAAAAAACZ\n",
       "sAAAAAAAAGTCAgAAAAAAkAkLAAAAAABAJiwAAAAAAACZsAAAAAAAAGTCAgAAAAAAkAkLAAAAAABA\n",
       "JiwAAAAAAACZsAAAAAAAAGTCAgAAAAAAkAkLAAAAAABAJiwAAAAAAACZsAAAAAAAAGTCAgAAAAAA\n",
       "kAkLAAAAAABAJiwAAAAAAACZsAAAAAAAAGTCAgAAAAAAkAkLAAAAAABAJiwAAAAAAACZsAAAAAAA\n",
       "AGTCAgAAAAAAkAkLAAAAAABAJiwAAAAAAACZsAAAAAAAAGTCAgAAAAAAkAkLAAAAAABAJiwAAAAA\n",
       "AACZsAAAAAAAAGTCAgAAAAAAkAkLAAAAAABAJiwAAAAAAACZsAAAAAAAAGTCAgAAAAAAkAkLAAAA\n",
       "AABAJiwAAAAAAACZsAAAAAAAAGTCAgAAAAAAkAkLAAAAAABAJiwAAAAAAACZsAAAAAAAAGTCAgAA\n",
       "AAAAkAkLAAAAAABAJiwAAAAAAACZsAAAAAAAAGTCAgAAAAAAkAkLAAAAAABAJiwAAAAAAACZsAAA\n",
       "AAAAAGTCAgAAAAAAkAkLAAAAAABAJiwAAAAAAACZsAAAAAAAAGTCAgAAAAAAkAkLAAAAAABAJiwA\n",
       "AAAAAACZsAAAAAAAAGTCAgAAAAAAkAkLAAAAAABAJiwAAAAAAACZsAAAAAAAAGTCAgAAAAAAkAkL\n",
       "AAAAAABAJiwAAAAAAACZsAAAAAAAAGTCAgAAAAAAkAkLAAAAAABAJiwAAAAAAACZsAAAAAAAAGTC\n",
       "AgAAAAAAkAkLAAAAAABAJiwAAAAAAACZsAAAAAAAAGTCAgAAAAAAkAkLAAAAAABAJiwAAAAAAACZ\n",
       "sAAAAAAAAGTCAgAAAAAAkAkLAAAAAABAJiwAAAAAAACZsAAAAAAAAGTCAgAAAAAAkAkLAAAAAABA\n",
       "JiwAAAAAAACZsAAAAAAAAGTCAgAAAAAAkAkLAAAAAABAJiwAAAAAAACZsAAAAAAAAGTCAgAAAAAA\n",
       "kAkLAAAAAABAJiwAAAAAAACZsAAAAAAAAGTCAgAAAAAAkAkLAAAAAABAJiwAAAAAAACZsAAAAAAA\n",
       "AGTCAgAAAAAAkAkLAAAAAABAJiwAAAAAAACZsAAAAAAAAGTCAgAAAAAAkAkLAAAAAABAJiwAAAAA\n",
       "AACZsAAAAAAAAGTCAgAAAAAAkAkLAAAAAABAJiwAAAAAAACZsAAAAAAAAGTCAgAAAAAAkAkLAAAA\n",
       "AABAJiwAAAAAAACZsAAAAAAAAGTCAgAAAAAAkAkLAAAAAABAJiwAAAAAAACZsAAAAAAAAGTCAgAA\n",
       "AAAAkAkLAAAAAABAJiwAAAAAAACZsAAAAAAAAGTCAgAAAAAAkAkLAAAAAABAJiwAAAAAAACZsAAA\n",
       "AAAAAGTCAgAAAAAAkAkLAAAAAABAJiwAAAAAAACZsAAAAAAAAGTCAgAAAAAAkAkLAAAAAABAJiwA\n",
       "AAAAAACZsAAAAAAAAGTCAgAAAAAAkAkLAAAAAABAJiwAAAAAAACZsAAAAAAAAGTCAgAAAAAAkAkL\n",
       "AAAAAABAJiwAAAAAAACZsAAAAAAAAGTCAgAAAAAAkAkLAAAAAABAJiwAAAAAAACZsAAAAAAAAGTC\n",
       "AgAAAAAAkAkLAAAAAABAJiwAAAAAAACZsAAAAAAAAGTCAgAAAAAAkAkLAAAAAABAJiwAAAAAAACZ\n",
       "sAAAAAAAAGTCAgAAAAAAkAkLAAAAAABAJiwAAAAAAADZNHoA8D7rcxk94RDbvI+eAAAAAAD/LRcL\n",
       "AAAAAABAJiwAAAAAAACZsAAAAAAAAGTCAgAAAAAAkAkLAAAAAABAJiwAAAAAAACZsAAAAAAAAGTC\n",
       "AgAAAAAAkAkLAAAAAABAJiwAAAAAAACZsAAAAAAAAGTCAgAAAAAAkAkLAAAAAABAJiwAAAAAAACZ\n",
       "sAAAAAAAAGTCAgAAAAAAkAkLAAAAAABAJiwAAAAAAACZsAAAAAAAAGTCAgAAAAAAkAkLAAAAAABA\n",
       "JiwAAAAAAACZsAAAAAAAAGTCAgAAAAAAkAkLAAAAAABAJiwAAAAAAACZsAAAAAAAAGTCAgAAAAAA\n",
       "kAkLAAAAAABAJiwAAAAAAACZsAAAAAAAAGTCAgAAAAAAkAkLAAAAAABAJiwAAAAAAACZsAAAAAAA\n",
       "AGTCAgAAAAAAkAkLAAAAAABAJiwAAAAAAACZsAAAAAAAAGTCAgAAAAAAkAkLAAAAAABAJiwAAAAA\n",
       "AACZsAAAAAAAAGTCAgAAAAAAkAkLAAAAAABAJiwAAAAAAACZsAAAAAAAAGTCAgAAAAAAkAkLAAAA\n",
       "AABAJiwAAAAAAACZsAAAAAAAAGTCAgAAAAAAkAkLAAAAAABAJiwAAAAAAACZsAAAAAAAAGTCAgAA\n",
       "AAAAkAkLAAAAAABAJiwAAAAAAACZsAAAAAAAAGTCAgAAAAAAkE2jBwDvs8376Amc1PpcRk84hDcC\n",
       "f+etAwAAcLm4WAAAAAAAAH5AWAAAAAAAADJhAQAAAAAAyIQFAAAAAAAgExYAAAAAAIBMWAAAAAAA\n",
       "ADJhAQAAAAAAyIQFAAAAAAAgExYAAAAAAIBMWAAAAAAAADJhAQAAAAAAyIQFAAAAAAAgExYAAAAA\n",
       "AIBMWAAAAAAAADJhAQAAAAAAyIQFAAAAAAAgExYAAAAAAIBMWAAAAAAAADJhAQAAAAAAyIQFAAAA\n",
       "AAAgExYAAAAAAIBMWAAAAAAAADJhAQAAAAAAyIQFAAAAAAAgExYAAAAAAIBMWAAAAAAAADJhAQAA\n",
       "AAAAyIQFAAAAAAAgExYAAAAAAIBMWAAAAAAAADJhAQAAAAAAyIQFAAAAAAAgExYAAAAAAIBMWAAA\n",
       "AAAAADJhAQAAAAAAyIQFAAAAAAAgExYAAAAAAIBMWAAAAAAAADJhAQAAAAAAyIQFAAAAAAAgExYA\n",
       "AAAAAIBMWAAAAAAAADJhAQAAAAAAyIQFAAAAAAAgExYAAAAAAIBMWAAAAAAAADJhAQAAAAAAyIQF\n",
       "AAAAAAAgExYAAAAAAIBMWAAAAAAAADJhAQAAAAAAyIQFAAAAAAAgExYAAAAAAIBMWAAAAAAAADJh\n",
       "AQAAAAAAyIQFAAAAAAAgExYAAAAAAIBMWAAAAAAAADJhAQAAAAAAyIQFAAAAAAAgu95vj9foEQAA\n",
       "AAAAwHdwsQAAAAAAAGTCAgAAAAAAkAkLAAAAAABAJiwAAAAAAACZsAAAAAAAAGTCAgAAAAAAkAkL\n",
       "AAAAAABAJiwAAAAAAACZsAAAAAAAAGTCAgAAAAAAkAkLAAAAAABAJiwAAAAAAACZsAAAAAAAAGTC\n",
       "AgAAAAAAkAkLAAAAAABAJiwAAAAAAACZsAAAAAAAAGTCAgAAAAAAkAkLAAAAAABAJiwAAAAAAACZ\n",
       "sAAAAAAAAGTCAgAAAAAAkAkLAAAAAABAJiwAAAAAAACZsAAAAAAAAGTCAgAAAAAAkAkLAAAAAABA\n",
       "JiwAAAAAAACZsAAAAAAAAGTCAgAAAAAAkAkLAAAAAABAJiwAAAAAAACZsAAAAAAAAGTCAgAAAAAA\n",
       "kAkLAAAAAABAJiwAAAAAAACZsAAAAAAAAGTCAgAAAAAAkAkLAAAAAABAJiwAAAAAAACZsAAAAAAA\n",
       "AGTCAgAAAAAAkAkLAAAAAABAJiwAAAAAAACZsAAAAAAAAGTCAgAAAAAAkAkLAAAAAABAJiwAAAAA\n",
       "AACZsAAAAAAAAGTCAgAAAAAAkAkLAAAAAABAJiwAAAAAAACZsAAAAAAAAGTCAgAAAAAAkAkLAAAA\n",
       "AABAJiwAAAAAAACZsAAAAAAAAGTCAgAAAAAAkAkLAAAAAABAJiwAAAAAAADZtD6X0RsOs8376AmH\n",
       "OMs3Ocv3AAAAAADgDxcLAAAAAABAJiwAAAAAAACZsAAAAAAAAGTCAgAAAAAAkAkLAAAAAABAJiwA\n",
       "AAAAAACZsAAAAAAAAGTCAgAAAAAAkAkLAAAAAABAJiwAAAAAAACZsAAAAAAAAGTCAgAAAAAAkAkL\n",
       "AAAAAABAJiwAAAAAAACZsAAAAAAAAGTCAgAAAAAAkAkLAAAAAABAJiwAAAAAAACZsAAAAAAAAGTC\n",
       "AgAAAAAAkAkLAAAAAABAJiwAAAAAAACZsAAAAAAAAGTCAgAAAAAAkAkLAAAAAABAJiwAAAAAAACZ\n",
       "sAAAAAAAAGTCAgAAAAAAkAkLAAAAAABAJiwAAAAAAACZsAAAAAAAAGTCAgAAAAAAkAkLAAAAAABA\n",
       "JiwAAAAAAACZsAAAAAAAAGTCAgAAAAAAkAkLAAAAAABAJiwAAAAAAACZsAAAAAAAAGTCAgAAAAAA\n",
       "kAkLAAAAAABAJiwAAAAAAACZsAAAAAAAAGTCAgAAAAAAkAkLAAAAAABAJiwAAAAAAACZsAAAAAAA\n",
       "AGTCAgAAAAAAkAkLAAAAAABAJiwAAAAAAACZsAAAAAAAAGTCAgAAAAAAkAkLAAAAAABAJiwAAAAA\n",
       "AACZsAAAAAAAAGTCAgAAAAAAkAkLAAAAAABAJiwAAAAAAACZsAAAAAAAAGTCAgAAAAAAkF3vt8dr\n",
       "9AiAn1ify+gJh9jmffQE+GhneeuXy3ne+5m+yRmc5b8CAAC+j4sFAAAAAAAgExYAAAAAAIBMWAAA\n",
       "AAAAADJhAQAAAAAAyIQFAAAAAAAgExYAAAAAAIBMWAAAAAAAADJhAQAAAAAAyIQFAAAAAAAgExYA\n",
       "AAAAAIBMWAAAAAAAADJhAQAAAAAAyIQFAAAAAAAgExYAAAAAAIBMWAAAAAAAADJhAQAAAAAAyIQF\n",
       "AAAAAAAgExYAAAAAAIBMWAAAAAAAADJhAQAAAAAAyIQFAAAAAAAgExYAAAAAAIBMWAAAAAAAADJh\n",
       "AQAAAAAAyIQFAAAAAAAgExYAAAAAAIBMWAAAAAAAADJhAQAAAAAAyIQFAAAAAAAgExYAAAAAAIBM\n",
       "WAAAAAAAADJhAQAAAAAAyIQFAAAAAAAgExYAAAAAAIBMWAAAAAAAADJhAQAAAAAAyIQFAAAAAAAg\n",
       "ExYAAAAAAIBMWAAAAAAA+N2+HeO0EQVQFAUpkt0gd6GLl4KUFXgrLCC1S/qsIYVXEImlWKmgcxdX\n",
       "pCWkucWgb37OWcGTZv545KsBMmEBAAAAAADIhAUAAAAAACATFgAAAAAAgExYAAAAAAAAMmEBAAAA\n",
       "AADIhAUAAAAAACATFgAAAAAAgExYAAAAAAAAMmEBAAAAAADIhAUAAAAAACATFgAAAAAAgExYAAAA\n",
       "AAAAMmEBAAAAAADIhAUAAAAAACATFgAAAAAAgExYAAAAAAAAMmEBAAAAAADIhAUAAAAAACATFgAA\n",
       "AAAAgExYAAAAAAAAMmEBAAAAAADIhAUAAAAAACD7NHoA/9qdt6MnLOKwOo6ewBsPm9vRExZxf3Jv\n",
       "wf9gpt+RX6fvoycs4seXb6MnLOLxeT16AgAMN8t/DzOZ6f0XmJ8vFgAAAAAAgExYAAAAAAAAMmEB\n",
       "AAAAAADIhAUAAAAAACATFgAAAAAAgExYAAAAAAAAMmEBAAAAAADIhAUAAAAAACATFgAAAAAAgExY\n",
       "AAAAAAAAMmEBAAAAAADIhAUAAAAAACATFgAAAAAAgExYAAAAAAAAMmEBAAAAAADIhAUAAAAAACAT\n",
       "FgAAAAAAgExYAAAAAAAAMmEBAAAAAADIhAUAAAAAACATFgAAAAAAgExYAAAAAAAAMmEBAAAAAADI\n",
       "hAUAAAAAACATFgAAAAAAgExYAAAAAAAAMmEBAAAAAADIhAUAAAAAACATFgAAAAAAgExYAAAAAAAA\n",
       "MmEBAAAAAADIhAUAAAAAACATFgAAAAAAgExYAAAAAAAAMmEBAAAAAADIhAUAAAAAACATFgAAAAAA\n",
       "gExYAAAAAAAAMmEBAAAAAADIhAUAAAAAACATFgAAAAAAgExYAAAAAAAAMmEBAAAAAADIhAUAAAAA\n",
       "ACATFgAAAAAAgExYAAAAAAAAMmEBAAAAAADIhAUAAAAAACATFgAAAAAAgExYAAAAAAAAMmEBAAAA\n",
       "AADIhAUAAAAAACATFgAAAAAAgExYAAAAAAAAMmEBAAAAAADIhAUAAAAAACATFgAAAAAAgExYAAAA\n",
       "AAAAMmEBAAAAAADIhAUAAAAAACC7vlnvX0aP4G8Pm9vRExZxf3oaPWExP+9Ooycs4uvjZvSERcxy\n",
       "RmYy03nncsx01h+f16MnLOKwOo6ewKR25+3oCbzirAMAvJ9Z3n19sQAAAAAAAGTCAgAAAAAAkAkL\n",
       "AAAAAABAJiwAAAAAAACZsAAAAAAAAGTCAgAAAAAAkAkLAAAAAABAJiwAAAAAAACZsAAAAAAAAGTC\n",
       "AgAAAAAAkAkLAAAAAABAJiwAAAAAAACZsAAAAAAAAGTCAgAAAAAAkAkLAAAAAABAJiwAAAAAAACZ\n",
       "sAAAAAAAAGTCAgAAAAAAkAkLAAAAAABAJiwAAAAAAACZsAAAAAAAAGTCAgAAAAAAkAkLAAAAAABA\n",
       "JiwAAAAAAACZsAAAAAAAAGTCAgAAAAAAkAkLAAAAAABAJiwAAAAAAACZsAAAAAAAAGTCAgAAAAAA\n",
       "kAkLAAAAAABAJiwAAAAAAACZsAAAAAAAAGTCAgAAAAAAkAkLAAAAAABAJiwAAAAAAACZsAAAAAAA\n",
       "AGTCAgAAAAAAkAkLAAAAAABAJiwAAAAAAACZsAAAAAAAAGTCAgAAAAAAkAkLAAAAAABAJiwAAAAA\n",
       "AACZsAAAAAAAAGTCAgAAAAAAkAkLAAAAAABAJiwAAAAAAACZsAAAAAAAAGTCAgAAAAAAkAkLAAAA\n",
       "AABAJiwAAAAAAACZsAAAAAAAAGTCAgAAAAAAkAkLAAAAAABAJiwAAAAAAACZsAAAAAAAAGTCAgAA\n",
       "AAAAkAkLAAAAAABAJiwAAAAAAADZ9c16/zJ6BAAf2+68HT1hEXeff4+esIj709PoCbwxyxk5rI6j\n",
       "J/DKw+Z29ITFeG5dFs8s3ot767LMcj2urua5JgAfiS8WAAAAAACATFgAAAAAAAAyYQEAAAAAAMiE\n",
       "BQAAAAAAIBMWAAAAAACATFgAAAAAAAAyYQEAAAAAAMiEBQAAAAAAIBMWAAAAAACATFgAAAAAAAAy\n",
       "YQEAAAAAAMiEBQAAAAAAIBMWAAAAAACATFgAAAAAAAAyYQEAAAAAAMiEBQAAAAAAIBMWAAAAAACA\n",
       "TFgAAAAAAAAyYQEAAAAAAMiEBQAAAAAAIBMWAAAAAACATFgAAAAAAAAyYQEAAAAAAMiEBQAAAAAA\n",
       "IBMWAAAAAACATFgAAAAAAAAyYQEAAAAAAMiEBQAAAAAAIBMWAAAAAACATFgAAAAAAAAyYQEAAAAA\n",
       "AMiEBQAAAAAAIBMWAAAAAACATFgAAAAAAAAyYQEAAAAAAMiEBQAAAAAAIBMWAAAAAACATFgAAAAA\n",
       "AAAyYQEAAAAAAMiEBQAAAAAAIBMWAAAAAACATFgAAAAAAAAyYQEAAAAAAMiEBQAAAAAAIBMWAAAA\n",
       "AACATFgAAAAAAAAyYQEAAAAAAMiEBQAAAAAAIBMWAAAAAACATFgAAAAAAAAyYQEAAAAAAMiEBQAA\n",
       "AAAAIBMWAAAAAACATFgAAAAAAAAyYQEAAAAAAMiEBQAAAAAAIBMWAAAAAACATFgAAAAAAAAyYQEA\n",
       "AAAAAMiEBQAAAAAAILu+We9fRo+AS7c7b0dPWMRhdRw9AQAAAAD44HyxAAAAAAAAZMICAAAAAACQ\n",
       "CQsAAAAAAEAmLAAAAAAAAJmwAAAAAAAAZMICAAAAAACQCQsAAAAAAEAmLAAAAAAAAJmwAAAAAAAA\n",
       "ZMICAAAAAACQCQsAAAAAAEAmLAAAAAAAAJmwAAAAAAAAZMICAAAAAACQCQsAAAAAAEAmLAAAAAAA\n",
       "AJmwAAAAAAAAZMICAAAAAACQCQsAAAAAAEAmLAAAAAAAAJmwAAAAAAAAZMICAAAAAACQCQsAAAAA\n",
       "AEAmLAAAAAAAAJmwAAAAAAAAZMICAAAAAACQCQsAAAAAAEAmLAAAAAAAAJmwAAAAAAAAZMICAAAA\n",
       "AACQCQsAAAAAAEAmLAAAAAAAAJmwAAAAAAAAZMICAAAAAACQCQsAAAAAAEAmLAAAAAAAAJmwAAAA\n",
       "AAAAZMICAAAAAACQCQsAAAAAAEAmLAAAAAAAAJmwAAAAAAAAZMICAAAAAACQCQsAAAAAAEAmLAAA\n",
       "AAAAAJmwAAAAAAAAZMICAAAAAACQCQsAAAAAAEAmLAAAAAAAAJmwAAAAAAAAZMICAAAAAACQCQsA\n",
       "AAAAAEAmLAAAAAAAAJmwAAAAAAAAZMICAAAAAACQCQsAAAAAAEAmLAAAAAAAAJmwAAAAAAAAZMIC\n",
       "AAAAAACQCQsAAAAAAEAmLAAAAAAAANkf9axr/1gCnBsAAAAASUVORK5CYII=\n",
       "\" transform=\"translate(195, 117)\"/>\n",
       "</g>\n",
       "<defs>\n",
       "  <clipPath id=\"clip133\">\n",
       "    <rect x=\"1792\" y=\"117\" width=\"61\" height=\"919\"/>\n",
       "  </clipPath>\n",
       "</defs>\n",
       "<g clip-path=\"url(#clip133)\">\n",
       "<image width=\"60\" height=\"918\" xlink:href=\"data:image/png;base64,\n",
       "iVBORw0KGgoAAAANSUhEUgAAADwAAAOWCAYAAACzk/FnAAAFoElEQVR4nO3dwY3bQBQFQdKYRJx/\n",
       "cL764CWdhQTU64pgG+LgD4eU9v7z9/d7Dfn17T/g0wrWnfvZat6qvQr2nevdat6qvQaDz/3c3/4b\n",
       "PmruEy5Yd+7n23/CZ819wnPB55o67xj8hAvWNZZ0BevO1Rq2zQU3lnQF687d7aFtLridlq5g3bmf\n",
       "rbk09wkXrOvJg24uuBMPXcG6c7W1tM0Fd4inK1jXqaVuLri7JV3BusaSrmBdt4e6ueDGkq5gXc+H\n",
       "dXPBnXjoCta1tdQVrGtrqZsL7ueldAXr2lrq5oLbaekK1p2rraVtLridlq5gXa8t6QrWtbXUzQWf\n",
       "6+2SphWs6/ZQNxfcWNIVrGss6QrWdeKhmwtua6krWNfWUjcX3FjSFazrbklXsK6vAOjmghtLuoJ1\n",
       "3R7q5oIbS7qCdY0l3VzweXu2ZCtY11jSFazr9lA3F9xY0hWsayzp5oJ75UFXsO68jSVbwbpuD3Vz\n",
       "wV3SuoJ1bS11c8GNJV3Bun4DQDcX3FjSFazrbklXsK45rJsLPm+XtK1gXa8e6uaC22npCtZ14qEr\n",
       "WNdXAHRzwZ146ArWdeKhmwvuxENXsK6tpa5gXVtL3VxwY0lXsK6DeN1ccM+HdQXrOrXUzQV3t6Qr\n",
       "WNdY0hWs6/ZQNxfc1lJXsK6DeN1ccDstXcG6Tjx0Beu6PdTNBXdJ6wrW9Ua8bi64saQrWNeJh24u\n",
       "+Lw9W7IVrOthmq5gXVtL3VxwJx66gnWtYd1ccDstXcG6Tjx0Bet68qCbC+5uSVewrttD3VxwY0lX\n",
       "sK4TD13BuraWurngtpa6gnUdxOvmghtLuoJ1nXjo5oI7ANAVrGtrqStY1xrWzQV3SesK1vV/HnRz\n",
       "wR3i6QrWtbXUFaxrDevmgrukdQXrWsO6ueDe8dAVrGss6eaCz/t8+0/4rLlPuGBdY0lXsK41rJsL\n",
       "7pLWFaxrDevmgjuI1xWsayzpCtb1FQDdXHBjSVewrl891M0FN5Z0Betaw7q54C5pXcG61rCuYF1r\n",
       "WDcX3LMlXcG6xpJuLrhLWlewrjWsK1jXGtbNBXdJ6wrW9eqhbi64saQrWNfDNF3Buuawbi64S1pX\n",
       "sK41rJsL7pLWFaxrDevmgrukdQXrWsO6gnU9TNPNBTeWdAXrWsO6ueAuaV3BuvO0hm0F65rDurng\n",
       "vqilK1jXQbxuLridlq5gXWtYNxfcJa0rWNdBvK5gXXNYNxfcJa0rWNca1s0Fn+f59p/wWXOfcMG6\n",
       "xpKuYF1rWDcX3CWtK1jXwzTdXHBvxOsK1rW11BWsaw3r5oK7W9IVrDtvD8Rtc8HttHQF69pa6uaC\n",
       "O4jXFaxra6krWHee5rBtLrixpCtY14mHbi64Ew9dwbq2lrqCdf3ogW4uuK2lrmBdJx66ueDGkq5g\n",
       "3XmuxhJtLrixpCtY1xrWFazrxEM3F3zGptLeJ1ywrjfidXPBjSVdwbrGkq5g3Xl7mGabC24s6QrW\n",
       "dXuomws+Y9/x2PuEC9b1joeuYF1zWDcX3N2SrmBdY0k3F9xY0hWsayzp5oIbS7qCdee5tlbx3Cdc\n",
       "sK6tpW4uuK2lrmBdY0k3F9xY0hWs68RDV7CuOaybC+5uSVew7rxtLW1zwY0lXcG61rBuLvi8dzst\n",
       "WsG6xpKuYF0nHrq54MaSrmBda1g3F9xOS1ew7jxbPxG/9wkXrGsO6+aCu1vSFazrWy26ueB2WrqC\n",
       "dW0tdQXrztO7lra54L4/rCtY14mHbi64S1pXsK6tpW4uuLGkK1jXGtYVrDtvrw/b5oIbS7qCda1h\n",
       "3Vxwry3pCtb1+rCuYF1bS91ccJe0rmBda1g3F9xP0+gK1jWWdHPBXdK6gnWtYV3Butawbi64S1pX\n",
       "sK41rJsL7teWdAXrGku6gnXnpzVsmwvuktYVrGtrqZsLPj/31tct5z7hgnXnX2PJNhf8H3vbntEE\n",
       "4nM0AAAAAElFTkSuQmCC\n",
       "\" transform=\"translate(1793, 117)\"/>\n",
       "</g>\n",
       "<path clip-path=\"url(#clip130)\" d=\"M1894.7 1017.56 Q1891.09 1017.56 1889.26 1021.12 Q1887.45 1024.66 1887.45 1031.79 Q1887.45 1038.9 1889.26 1042.47 Q1891.09 1046.01 1894.7 1046.01 Q1898.33 1046.01 1900.14 1042.47 Q1901.97 1038.9 1901.97 1031.79 Q1901.97 1024.66 1900.14 1021.12 Q1898.33 1017.56 1894.7 1017.56 M1894.7 1013.85 Q1900.51 1013.85 1903.57 1018.46 Q1906.64 1023.04 1906.64 1031.79 Q1906.64 1040.52 1903.57 1045.13 Q1900.51 1049.71 1894.7 1049.71 Q1888.89 1049.71 1885.81 1045.13 Q1882.76 1040.52 1882.76 1031.79 Q1882.76 1023.04 1885.81 1018.46 Q1888.89 1013.85 1894.7 1013.85 Z\" fill=\"#000000\" fill-rule=\"nonzero\" fill-opacity=\"1\" /><path clip-path=\"url(#clip130)\" d=\"M1894.7 921.937 Q1891.09 921.937 1889.26 925.501 Q1887.45 929.043 1887.45 936.173 Q1887.45 943.279 1889.26 946.844 Q1891.09 950.385 1894.7 950.385 Q1898.33 950.385 1900.14 946.844 Q1901.97 943.279 1901.97 936.173 Q1901.97 929.043 1900.14 925.501 Q1898.33 921.937 1894.7 921.937 M1894.7 918.233 Q1900.51 918.233 1903.57 922.839 Q1906.64 927.423 1906.64 936.173 Q1906.64 944.899 1903.57 949.506 Q1900.51 954.089 1894.7 954.089 Q1888.89 954.089 1885.81 949.506 Q1882.76 944.899 1882.76 936.173 Q1882.76 927.423 1885.81 922.839 Q1888.89 918.233 1894.7 918.233 Z\" fill=\"#000000\" fill-rule=\"nonzero\" fill-opacity=\"1\" /><path clip-path=\"url(#clip130)\" d=\"M1914.86 947.538 L1919.75 947.538 L1919.75 953.418 L1914.86 953.418 L1914.86 947.538 Z\" fill=\"#000000\" fill-rule=\"nonzero\" fill-opacity=\"1\" /><path clip-path=\"url(#clip130)\" d=\"M1933.96 949.483 L1950.28 949.483 L1950.28 953.418 L1928.33 953.418 L1928.33 949.483 Q1931 946.728 1935.58 942.098 Q1940.19 937.446 1941.37 936.103 Q1943.61 933.58 1944.49 931.844 Q1945.39 930.085 1945.39 928.395 Q1945.39 925.64 1943.45 923.904 Q1941.53 922.168 1938.43 922.168 Q1936.23 922.168 1933.77 922.932 Q1931.34 923.696 1928.57 925.247 L1928.57 920.524 Q1931.39 919.39 1933.84 918.812 Q1936.3 918.233 1938.33 918.233 Q1943.7 918.233 1946.9 920.918 Q1950.09 923.603 1950.09 928.094 Q1950.09 930.224 1949.28 932.145 Q1948.5 934.043 1946.39 936.636 Q1945.81 937.307 1942.71 940.524 Q1939.61 943.719 1933.96 949.483 Z\" fill=\"#000000\" fill-rule=\"nonzero\" fill-opacity=\"1\" /><path clip-path=\"url(#clip130)\" d=\"M1960.14 918.858 L1978.5 918.858 L1978.5 922.793 L1964.42 922.793 L1964.42 931.265 Q1965.44 930.918 1966.46 930.756 Q1967.48 930.571 1968.5 930.571 Q1974.28 930.571 1977.66 933.742 Q1981.04 936.913 1981.04 942.33 Q1981.04 947.909 1977.57 951.01 Q1974.1 954.089 1967.78 954.089 Q1965.6 954.089 1963.33 953.719 Q1961.09 953.348 1958.68 952.608 L1958.68 947.909 Q1960.76 949.043 1962.99 949.598 Q1965.21 950.154 1967.69 950.154 Q1971.69 950.154 1974.03 948.047 Q1976.37 945.941 1976.37 942.33 Q1976.37 938.719 1974.03 936.612 Q1971.69 934.506 1967.69 934.506 Q1965.81 934.506 1963.94 934.923 Q1962.08 935.339 1960.14 936.219 L1960.14 918.858 Z\" fill=\"#000000\" fill-rule=\"nonzero\" fill-opacity=\"1\" /><path clip-path=\"url(#clip130)\" d=\"M1894.7 826.315 Q1891.09 826.315 1889.26 829.88 Q1887.45 833.422 1887.45 840.551 Q1887.45 847.658 1889.26 851.223 Q1891.09 854.764 1894.7 854.764 Q1898.33 854.764 1900.14 851.223 Q1901.97 847.658 1901.97 840.551 Q1901.97 833.422 1900.14 829.88 Q1898.33 826.315 1894.7 826.315 M1894.7 822.612 Q1900.51 822.612 1903.57 827.218 Q1906.64 831.801 1906.64 840.551 Q1906.64 849.278 1903.57 853.885 Q1900.51 858.468 1894.7 858.468 Q1888.89 858.468 1885.81 853.885 Q1882.76 849.278 1882.76 840.551 Q1882.76 831.801 1885.81 827.218 Q1888.89 822.612 1894.7 822.612 Z\" fill=\"#000000\" fill-rule=\"nonzero\" fill-opacity=\"1\" /><path clip-path=\"url(#clip130)\" d=\"M1914.86 851.917 L1919.75 851.917 L1919.75 857.797 L1914.86 857.797 L1914.86 851.917 Z\" fill=\"#000000\" fill-rule=\"nonzero\" fill-opacity=\"1\" /><path clip-path=\"url(#clip130)\" d=\"M1929.98 823.237 L1948.33 823.237 L1948.33 827.172 L1934.26 827.172 L1934.26 835.644 Q1935.28 835.297 1936.3 835.135 Q1937.32 834.95 1938.33 834.95 Q1944.12 834.95 1947.5 838.121 Q1950.88 841.292 1950.88 846.709 Q1950.88 852.287 1947.41 855.389 Q1943.94 858.468 1937.62 858.468 Q1935.44 858.468 1933.17 858.098 Q1930.93 857.727 1928.52 856.986 L1928.52 852.287 Q1930.6 853.422 1932.83 853.977 Q1935.05 854.533 1937.52 854.533 Q1941.53 854.533 1943.87 852.426 Q1946.2 850.32 1946.2 846.709 Q1946.2 843.098 1943.87 840.991 Q1941.53 838.885 1937.52 838.885 Q1935.65 838.885 1933.77 839.301 Q1931.92 839.718 1929.98 840.598 L1929.98 823.237 Z\" fill=\"#000000\" fill-rule=\"nonzero\" fill-opacity=\"1\" /><path clip-path=\"url(#clip130)\" d=\"M1970.09 826.315 Q1966.48 826.315 1964.65 829.88 Q1962.85 833.422 1962.85 840.551 Q1962.85 847.658 1964.65 851.223 Q1966.48 854.764 1970.09 854.764 Q1973.73 854.764 1975.53 851.223 Q1977.36 847.658 1977.36 840.551 Q1977.36 833.422 1975.53 829.88 Q1973.73 826.315 1970.09 826.315 M1970.09 822.612 Q1975.9 822.612 1978.96 827.218 Q1982.04 831.801 1982.04 840.551 Q1982.04 849.278 1978.96 853.885 Q1975.9 858.468 1970.09 858.468 Q1964.28 858.468 1961.2 853.885 Q1958.15 849.278 1958.15 840.551 Q1958.15 831.801 1961.2 827.218 Q1964.28 822.612 1970.09 822.612 Z\" fill=\"#000000\" fill-rule=\"nonzero\" fill-opacity=\"1\" /><path clip-path=\"url(#clip130)\" d=\"M1894.7 730.694 Q1891.09 730.694 1889.26 734.259 Q1887.45 737.801 1887.45 744.93 Q1887.45 752.037 1889.26 755.601 Q1891.09 759.143 1894.7 759.143 Q1898.33 759.143 1900.14 755.601 Q1901.97 752.037 1901.97 744.93 Q1901.97 737.801 1900.14 734.259 Q1898.33 730.694 1894.7 730.694 M1894.7 726.99 Q1900.51 726.99 1903.57 731.597 Q1906.64 736.18 1906.64 744.93 Q1906.64 753.657 1903.57 758.263 Q1900.51 762.847 1894.7 762.847 Q1888.89 762.847 1885.81 758.263 Q1882.76 753.657 1882.76 744.93 Q1882.76 736.18 1885.81 731.597 Q1888.89 726.99 1894.7 726.99 Z\" fill=\"#000000\" fill-rule=\"nonzero\" fill-opacity=\"1\" /><path clip-path=\"url(#clip130)\" d=\"M1914.86 756.296 L1919.75 756.296 L1919.75 762.175 L1914.86 762.175 L1914.86 756.296 Z\" fill=\"#000000\" fill-rule=\"nonzero\" fill-opacity=\"1\" /><path clip-path=\"url(#clip130)\" d=\"M1928.75 727.615 L1950.97 727.615 L1950.97 729.606 L1938.43 762.175 L1933.54 762.175 L1945.35 731.551 L1928.75 731.551 L1928.75 727.615 Z\" fill=\"#000000\" fill-rule=\"nonzero\" fill-opacity=\"1\" /><path clip-path=\"url(#clip130)\" d=\"M1960.14 727.615 L1978.5 727.615 L1978.5 731.551 L1964.42 731.551 L1964.42 740.023 Q1965.44 739.676 1966.46 739.513 Q1967.48 739.328 1968.5 739.328 Q1974.28 739.328 1977.66 742.5 Q1981.04 745.671 1981.04 751.087 Q1981.04 756.666 1977.57 759.768 Q1974.1 762.847 1967.78 762.847 Q1965.6 762.847 1963.33 762.476 Q1961.09 762.106 1958.68 761.365 L1958.68 756.666 Q1960.76 757.8 1962.99 758.356 Q1965.21 758.912 1967.69 758.912 Q1971.69 758.912 1974.03 756.805 Q1976.37 754.699 1976.37 751.087 Q1976.37 747.476 1974.03 745.37 Q1971.69 743.263 1967.69 743.263 Q1965.81 743.263 1963.94 743.68 Q1962.08 744.097 1960.14 744.976 L1960.14 727.615 Z\" fill=\"#000000\" fill-rule=\"nonzero\" fill-opacity=\"1\" /><path clip-path=\"url(#clip130)\" d=\"M1883.43 662.619 L1891.07 662.619 L1891.07 636.253 L1882.76 637.92 L1882.76 633.661 L1891.02 631.994 L1895.7 631.994 L1895.7 662.619 L1903.33 662.619 L1903.33 666.554 L1883.43 666.554 L1883.43 662.619 Z\" fill=\"#000000\" fill-rule=\"nonzero\" fill-opacity=\"1\" /><path clip-path=\"url(#clip130)\" d=\"M1912.78 660.675 L1917.66 660.675 L1917.66 666.554 L1912.78 666.554 L1912.78 660.675 Z\" fill=\"#000000\" fill-rule=\"nonzero\" fill-opacity=\"1\" /><path clip-path=\"url(#clip130)\" d=\"M1937.85 635.073 Q1934.24 635.073 1932.41 638.638 Q1930.6 642.179 1930.6 649.309 Q1930.6 656.415 1932.41 659.98 Q1934.24 663.522 1937.85 663.522 Q1941.48 663.522 1943.29 659.98 Q1945.12 656.415 1945.12 649.309 Q1945.12 642.179 1943.29 638.638 Q1941.48 635.073 1937.85 635.073 M1937.85 631.369 Q1943.66 631.369 1946.71 635.976 Q1949.79 640.559 1949.79 649.309 Q1949.79 658.036 1946.71 662.642 Q1943.66 667.225 1937.85 667.225 Q1932.04 667.225 1928.96 662.642 Q1925.9 658.036 1925.9 649.309 Q1925.9 640.559 1928.96 635.976 Q1932.04 631.369 1937.85 631.369 Z\" fill=\"#000000\" fill-rule=\"nonzero\" fill-opacity=\"1\" /><path clip-path=\"url(#clip130)\" d=\"M1968.01 635.073 Q1964.4 635.073 1962.57 638.638 Q1960.76 642.179 1960.76 649.309 Q1960.76 656.415 1962.57 659.98 Q1964.4 663.522 1968.01 663.522 Q1971.64 663.522 1973.45 659.98 Q1975.28 656.415 1975.28 649.309 Q1975.28 642.179 1973.45 638.638 Q1971.64 635.073 1968.01 635.073 M1968.01 631.369 Q1973.82 631.369 1976.88 635.976 Q1979.95 640.559 1979.95 649.309 Q1979.95 658.036 1976.88 662.642 Q1973.82 667.225 1968.01 667.225 Q1962.2 667.225 1959.12 662.642 Q1956.07 658.036 1956.07 649.309 Q1956.07 640.559 1959.12 635.976 Q1962.2 631.369 1968.01 631.369 Z\" fill=\"#000000\" fill-rule=\"nonzero\" fill-opacity=\"1\" /><path clip-path=\"url(#clip130)\" d=\"M1883.43 566.998 L1891.07 566.998 L1891.07 540.632 L1882.76 542.299 L1882.76 538.04 L1891.02 536.373 L1895.7 536.373 L1895.7 566.998 L1903.33 566.998 L1903.33 570.933 L1883.43 570.933 L1883.43 566.998 Z\" fill=\"#000000\" fill-rule=\"nonzero\" fill-opacity=\"1\" /><path clip-path=\"url(#clip130)\" d=\"M1912.78 565.053 L1917.66 565.053 L1917.66 570.933 L1912.78 570.933 L1912.78 565.053 Z\" fill=\"#000000\" fill-rule=\"nonzero\" fill-opacity=\"1\" /><path clip-path=\"url(#clip130)\" d=\"M1931.88 566.998 L1948.2 566.998 L1948.2 570.933 L1926.25 570.933 L1926.25 566.998 Q1928.91 564.243 1933.5 559.614 Q1938.1 554.961 1939.28 553.618 Q1941.53 551.095 1942.41 549.359 Q1943.31 547.6 1943.31 545.91 Q1943.31 543.155 1941.37 541.419 Q1939.45 539.683 1936.34 539.683 Q1934.14 539.683 1931.69 540.447 Q1929.26 541.211 1926.48 542.762 L1926.48 538.04 Q1929.31 536.905 1931.76 536.327 Q1934.21 535.748 1936.25 535.748 Q1941.62 535.748 1944.82 538.433 Q1948.01 541.118 1948.01 545.609 Q1948.01 547.739 1947.2 549.66 Q1946.41 551.558 1944.31 554.151 Q1943.73 554.822 1940.63 558.039 Q1937.52 561.234 1931.88 566.998 Z\" fill=\"#000000\" fill-rule=\"nonzero\" fill-opacity=\"1\" /><path clip-path=\"url(#clip130)\" d=\"M1958.06 536.373 L1976.41 536.373 L1976.41 540.308 L1962.34 540.308 L1962.34 548.78 Q1963.36 548.433 1964.38 548.271 Q1965.39 548.086 1966.41 548.086 Q1972.2 548.086 1975.58 551.257 Q1978.96 554.428 1978.96 559.845 Q1978.96 565.424 1975.49 568.526 Q1972.01 571.604 1965.7 571.604 Q1963.52 571.604 1961.25 571.234 Q1959.01 570.863 1956.6 570.123 L1956.6 565.424 Q1958.68 566.558 1960.9 567.114 Q1963.13 567.669 1965.6 567.669 Q1969.61 567.669 1971.95 565.563 Q1974.28 563.456 1974.28 559.845 Q1974.28 556.234 1971.95 554.127 Q1969.61 552.021 1965.6 552.021 Q1963.73 552.021 1961.85 552.438 Q1960 552.854 1958.06 553.734 L1958.06 536.373 Z\" fill=\"#000000\" fill-rule=\"nonzero\" fill-opacity=\"1\" /><path clip-path=\"url(#clip130)\" d=\"M1883.43 471.377 L1891.07 471.377 L1891.07 445.011 L1882.76 446.678 L1882.76 442.418 L1891.02 440.752 L1895.7 440.752 L1895.7 471.377 L1903.33 471.377 L1903.33 475.312 L1883.43 475.312 L1883.43 471.377 Z\" fill=\"#000000\" fill-rule=\"nonzero\" fill-opacity=\"1\" /><path clip-path=\"url(#clip130)\" d=\"M1912.78 469.432 L1917.66 469.432 L1917.66 475.312 L1912.78 475.312 L1912.78 469.432 Z\" fill=\"#000000\" fill-rule=\"nonzero\" fill-opacity=\"1\" /><path clip-path=\"url(#clip130)\" d=\"M1927.89 440.752 L1946.25 440.752 L1946.25 444.687 L1932.18 444.687 L1932.18 453.159 Q1933.2 452.812 1934.21 452.65 Q1935.23 452.465 1936.25 452.465 Q1942.04 452.465 1945.42 455.636 Q1948.8 458.807 1948.8 464.224 Q1948.8 469.802 1945.33 472.904 Q1941.85 475.983 1935.53 475.983 Q1933.36 475.983 1931.09 475.613 Q1928.84 475.242 1926.44 474.502 L1926.44 469.802 Q1928.52 470.937 1930.74 471.492 Q1932.96 472.048 1935.44 472.048 Q1939.45 472.048 1941.78 469.941 Q1944.12 467.835 1944.12 464.224 Q1944.12 460.613 1941.78 458.506 Q1939.45 456.4 1935.44 456.4 Q1933.57 456.4 1931.69 456.816 Q1929.84 457.233 1927.89 458.113 L1927.89 440.752 Z\" fill=\"#000000\" fill-rule=\"nonzero\" fill-opacity=\"1\" /><path clip-path=\"url(#clip130)\" d=\"M1968.01 443.83 Q1964.4 443.83 1962.57 447.395 Q1960.76 450.937 1960.76 458.066 Q1960.76 465.173 1962.57 468.738 Q1964.4 472.279 1968.01 472.279 Q1971.64 472.279 1973.45 468.738 Q1975.28 465.173 1975.28 458.066 Q1975.28 450.937 1973.45 447.395 Q1971.64 443.83 1968.01 443.83 M1968.01 440.127 Q1973.82 440.127 1976.88 444.733 Q1979.95 449.316 1979.95 458.066 Q1979.95 466.793 1976.88 471.4 Q1973.82 475.983 1968.01 475.983 Q1962.2 475.983 1959.12 471.4 Q1956.07 466.793 1956.07 458.066 Q1956.07 449.316 1959.12 444.733 Q1962.2 440.127 1968.01 440.127 Z\" fill=\"#000000\" fill-rule=\"nonzero\" fill-opacity=\"1\" /><path clip-path=\"url(#clip130)\" d=\"M1883.43 375.755 L1891.07 375.755 L1891.07 349.39 L1882.76 351.056 L1882.76 346.797 L1891.02 345.13 L1895.7 345.13 L1895.7 375.755 L1903.33 375.755 L1903.33 379.69 L1883.43 379.69 L1883.43 375.755 Z\" fill=\"#000000\" fill-rule=\"nonzero\" fill-opacity=\"1\" /><path clip-path=\"url(#clip130)\" d=\"M1912.78 373.811 L1917.66 373.811 L1917.66 379.69 L1912.78 379.69 L1912.78 373.811 Z\" fill=\"#000000\" fill-rule=\"nonzero\" fill-opacity=\"1\" /><path clip-path=\"url(#clip130)\" d=\"M1926.67 345.13 L1948.89 345.13 L1948.89 347.121 L1936.34 379.69 L1931.46 379.69 L1943.26 349.066 L1926.67 349.066 L1926.67 345.13 Z\" fill=\"#000000\" fill-rule=\"nonzero\" fill-opacity=\"1\" /><path clip-path=\"url(#clip130)\" d=\"M1958.06 345.13 L1976.41 345.13 L1976.41 349.066 L1962.34 349.066 L1962.34 357.538 Q1963.36 357.191 1964.38 357.029 Q1965.39 356.843 1966.41 356.843 Q1972.2 356.843 1975.58 360.015 Q1978.96 363.186 1978.96 368.603 Q1978.96 374.181 1975.49 377.283 Q1972.01 380.362 1965.7 380.362 Q1963.52 380.362 1961.25 379.991 Q1959.01 379.621 1956.6 378.88 L1956.6 374.181 Q1958.68 375.316 1960.9 375.871 Q1963.13 376.427 1965.6 376.427 Q1969.61 376.427 1971.95 374.32 Q1974.28 372.214 1974.28 368.603 Q1974.28 364.992 1971.95 362.885 Q1969.61 360.779 1965.6 360.779 Q1963.73 360.779 1961.85 361.195 Q1960 361.612 1958.06 362.492 L1958.06 345.13 Z\" fill=\"#000000\" fill-rule=\"nonzero\" fill-opacity=\"1\" /><path clip-path=\"url(#clip130)\" d=\"M1888.38 280.134 L1904.7 280.134 L1904.7 284.069 L1882.76 284.069 L1882.76 280.134 Q1885.42 277.379 1890 272.75 Q1894.61 268.097 1895.79 266.755 Q1898.03 264.231 1898.91 262.495 Q1899.82 260.736 1899.82 259.046 Q1899.82 256.292 1897.87 254.556 Q1895.95 252.819 1892.85 252.819 Q1890.65 252.819 1888.2 253.583 Q1885.77 254.347 1882.99 255.898 L1882.99 251.176 Q1885.81 250.042 1888.27 249.463 Q1890.72 248.884 1892.76 248.884 Q1898.13 248.884 1901.32 251.569 Q1904.52 254.255 1904.52 258.745 Q1904.52 260.875 1903.7 262.796 Q1902.92 264.694 1900.81 267.287 Q1900.23 267.958 1897.13 271.176 Q1894.03 274.37 1888.38 280.134 Z\" fill=\"#000000\" fill-rule=\"nonzero\" fill-opacity=\"1\" /><path clip-path=\"url(#clip130)\" d=\"M1914.51 278.19 L1919.4 278.19 L1919.4 284.069 L1914.51 284.069 L1914.51 278.19 Z\" fill=\"#000000\" fill-rule=\"nonzero\" fill-opacity=\"1\" /><path clip-path=\"url(#clip130)\" d=\"M1939.58 252.588 Q1935.97 252.588 1934.14 256.153 Q1932.34 259.694 1932.34 266.824 Q1932.34 273.93 1934.14 277.495 Q1935.97 281.037 1939.58 281.037 Q1943.22 281.037 1945.02 277.495 Q1946.85 273.93 1946.85 266.824 Q1946.85 259.694 1945.02 256.153 Q1943.22 252.588 1939.58 252.588 M1939.58 248.884 Q1945.39 248.884 1948.45 253.491 Q1951.53 258.074 1951.53 266.824 Q1951.53 275.551 1948.45 280.157 Q1945.39 284.741 1939.58 284.741 Q1933.77 284.741 1930.7 280.157 Q1927.64 275.551 1927.64 266.824 Q1927.64 258.074 1930.7 253.491 Q1933.77 248.884 1939.58 248.884 Z\" fill=\"#000000\" fill-rule=\"nonzero\" fill-opacity=\"1\" /><path clip-path=\"url(#clip130)\" d=\"M1969.75 252.588 Q1966.14 252.588 1964.31 256.153 Q1962.5 259.694 1962.5 266.824 Q1962.5 273.93 1964.31 277.495 Q1966.14 281.037 1969.75 281.037 Q1973.38 281.037 1975.19 277.495 Q1977.01 273.93 1977.01 266.824 Q1977.01 259.694 1975.19 256.153 Q1973.38 252.588 1969.75 252.588 M1969.75 248.884 Q1975.56 248.884 1978.61 253.491 Q1981.69 258.074 1981.69 266.824 Q1981.69 275.551 1978.61 280.157 Q1975.56 284.741 1969.75 284.741 Q1963.94 284.741 1960.86 280.157 Q1957.8 275.551 1957.8 266.824 Q1957.8 258.074 1960.86 253.491 Q1963.94 248.884 1969.75 248.884 Z\" fill=\"#000000\" fill-rule=\"nonzero\" fill-opacity=\"1\" /><path clip-path=\"url(#clip130)\" d=\"M1888.38 184.513 L1904.7 184.513 L1904.7 188.448 L1882.76 188.448 L1882.76 184.513 Q1885.42 181.758 1890 177.129 Q1894.61 172.476 1895.79 171.133 Q1898.03 168.61 1898.91 166.874 Q1899.82 165.115 1899.82 163.425 Q1899.82 160.67 1897.87 158.934 Q1895.95 157.198 1892.85 157.198 Q1890.65 157.198 1888.2 157.962 Q1885.77 158.726 1882.99 160.277 L1882.99 155.555 Q1885.81 154.42 1888.27 153.842 Q1890.72 153.263 1892.76 153.263 Q1898.13 153.263 1901.32 155.948 Q1904.52 158.633 1904.52 163.124 Q1904.52 165.254 1903.7 167.175 Q1902.92 169.073 1900.81 171.666 Q1900.23 172.337 1897.13 175.555 Q1894.03 178.749 1888.38 184.513 Z\" fill=\"#000000\" fill-rule=\"nonzero\" fill-opacity=\"1\" /><path clip-path=\"url(#clip130)\" d=\"M1914.51 182.568 L1919.4 182.568 L1919.4 188.448 L1914.51 188.448 L1914.51 182.568 Z\" fill=\"#000000\" fill-rule=\"nonzero\" fill-opacity=\"1\" /><path clip-path=\"url(#clip130)\" d=\"M1933.61 184.513 L1949.93 184.513 L1949.93 188.448 L1927.99 188.448 L1927.99 184.513 Q1930.65 181.758 1935.23 177.129 Q1939.84 172.476 1941.02 171.133 Q1943.26 168.61 1944.14 166.874 Q1945.05 165.115 1945.05 163.425 Q1945.05 160.67 1943.1 158.934 Q1941.18 157.198 1938.08 157.198 Q1935.88 157.198 1933.43 157.962 Q1931 158.726 1928.22 160.277 L1928.22 155.555 Q1931.04 154.42 1933.5 153.842 Q1935.95 153.263 1937.99 153.263 Q1943.36 153.263 1946.55 155.948 Q1949.75 158.633 1949.75 163.124 Q1949.75 165.254 1948.94 167.175 Q1948.15 169.073 1946.04 171.666 Q1945.46 172.337 1942.36 175.555 Q1939.26 178.749 1933.61 184.513 Z\" fill=\"#000000\" fill-rule=\"nonzero\" fill-opacity=\"1\" /><path clip-path=\"url(#clip130)\" d=\"M1959.79 153.888 L1978.15 153.888 L1978.15 157.823 L1964.07 157.823 L1964.07 166.295 Q1965.09 165.948 1966.11 165.786 Q1967.13 165.601 1968.15 165.601 Q1973.94 165.601 1977.32 168.772 Q1980.7 171.944 1980.7 177.36 Q1980.7 182.939 1977.22 186.041 Q1973.75 189.119 1967.43 189.119 Q1965.26 189.119 1962.99 188.749 Q1960.74 188.379 1958.33 187.638 L1958.33 182.939 Q1960.42 184.073 1962.64 184.629 Q1964.86 185.184 1967.34 185.184 Q1971.34 185.184 1973.68 183.078 Q1976.02 180.971 1976.02 177.36 Q1976.02 173.749 1973.68 171.643 Q1971.34 169.536 1967.34 169.536 Q1965.46 169.536 1963.59 169.953 Q1961.74 170.369 1959.79 171.249 L1959.79 153.888 Z\" fill=\"#000000\" fill-rule=\"nonzero\" fill-opacity=\"1\" /><polyline clip-path=\"url(#clip130)\" style=\"stroke:#000000; stroke-linecap:round; stroke-linejoin:round; stroke-width:4; stroke-opacity:1; fill:none\" points=\"1852.76,1035.39 1852.76,1035.39 1872.76,1035.39 1852.76,1035.39 1852.76,939.767 1872.76,939.767 1852.76,939.767 1852.76,844.145 1872.76,844.145 1852.76,844.145 1852.76,748.524 1872.76,748.524 1852.76,748.524 1852.76,652.903 1872.76,652.903 1852.76,652.903 1852.76,557.282 1872.76,557.282 1852.76,557.282 1852.76,461.661 1872.76,461.661 1852.76,461.661 1852.76,366.039 1872.76,366.039 1852.76,366.039 1852.76,270.418 1872.76,270.418 1852.76,270.418 1852.76,174.797 1872.76,174.797 1852.76,174.797 1852.76,117.424 \"/>\n",
       "</svg>\n"
      ],
      "text/html": [
       "<img src=\"data:image/png;base64,iVBORw0KGgoAAAANSUhEUgAAAlgAAAFnCAIAAAD1wKBuAAAABmJLR0QA/wD/AP+gvaeTAAAgAElEQVR4nOzdd1wTSf8H8AmhhADSqyBNQVFOFEXhEE9AwYZyiB0V63mKYvfsZznb2RVPfRQ99X72ghUVC54dsSIiHZQmKL0n+/tjn2cvl9ACSQD5vF95+crOzs7OhsiXmZ2dYVEURQAAAFoqucauAAAAQGOSb+wKAPxLTk5OXl4el8s1MDCQzRkzMzOLiorU1dW1tbVlc0YAaFJY6BptscrKyo4cOUK/t7CwcHd3rzJbTk7O2bNn6fedO3fu0aOHVGs1b968rVu3enl5Xbx4UaonYgwbNuzs2bOBgYHbtm2TRvlHjhwpKysjhDg4ONjZ2YlmePDgQVRUlI6Ozo8//ii0q7y8/OrVq3///XdKSgqPx9PV1dXX1+/atauLi4umpqZgzsjIyJcvXyoqKo4dO5ZJ/PLly5kzZwSztWrVSk1NTVdX19bWVllZubo6UxQVHBxc83V1797d1ta25jz1kJCQcPbs2aioqIKCAh0dHSsrq759+3733Xc1HxUdHX3//n1CiLa2to+Pj8RrBd84ClqqL1++MF8DfX398vLyKrNt2rSJybZo0SJp12ru3LmEEC8vL2mfiEH/3gwMDJRS+VpaWvSnZ21tXVFRIZphxowZhBB7e3uh9Dt37piamlb531ZOTm7t2rWCmZcuXUoIadWqlWDi69evq/uPLy8v361bt127duXl5YlWqbKystZfHRs3bmzwZ/MvxcXFM2fOlJOr4n7N48ePaziwtLS0Y8eOdE47OzvJ1gpaAnSNAmGxWJmZmdevXx88eLDoXrrVyGKh86ChYmJijh07NmHChLpkfvr0af/+/UtLS1VUVPz8/Lp3766np1dQUBAVFRUSEvLmzZvs7Oy6n7p///4mJiaEkMLCwry8vISEhJiYmIiIiIiIiE2bNh05cqRPnz5VHmhra9u2bdsqd1lZWdW9ArUqKyvz9vYODQ0lhHh4ePTr109TUzM9Pf3t27eXLl2q+dg1a9ZERUUpKChUVFRIsErQciAQAundu/fdu3ePHDkiGgifPn0aFRVlamrKZrMTEhIapXrfBlVV1cLCwlWrVo0aNUpJSanW/IsXLy4tLTUxMXn48KGxsbHgrrVr1z5//lysQDhr1ixPT0/BlKysrP379//222+pqakDBgy4efOms7Oz6IETJkyg2+jStmbNmtDQUA6Hc+rUKaHvYXFxMZ/Pr+7AV69ebdq0qV27dnZ2dqdPn5Z+TeEbhFGjQMaOHaukpHTp0iXR3630jaLx48dX2WHFKC8vT05Ojo6OzsnJqfV0ZWVlsbGxsbGxubm5Dam2oOzs7KioqOTk5Fr79MrLy2NjYxMTE8vLyyV19rr46aefVFRUkpOT9+7dW2vm0tLS8PBwQsj48eOFoiDN3t7ew8OjIfXR09NbtmzZ/fv3VVVVS0tLx4wZI+MPRFBqairdA79u3TrRv8a4XK6qqmqVB1ZWVk6cOLGysnLv3r013PIEqBkCIRAtLa1BgwaVl5f/3//9n2B6aWnpyZMnWSzWuHHjqjzwzZs38+fPt7Gx4XA4ZmZmNjY2Ojo6HTt2PHDggGg/Kp/P37Vrl7W1NYfDsbKysrKy0tTU1NHRGTFiREpKSq2VfPfunb29vaWl5aRJk5hf2eXl5Tt37mzfvr2urm6nTp3MzMx0dXVnzJhRZWupqKho3rx5enp6VlZWFhYWurq6s2fPLioqqtNn1GAGBgazZs0ihKxbty4/P7/mzF+/fuXxeISQKqOgBNnb22/cuJEQkpKScuzYMameqwbBwcEVFRWampo///yzWAeuW7cuMjJyypQpbm5uUqobtAQIhEAIIfSNq8OHDwsmnj9//uvXry4uLpaWllUedfTo0S1btsTFxZmZmbm4uPTo0UNDQ+Pdu3dTp04V/Y02a9asWbNmffjwwcTExN3d3dPT08bGpqio6NSpU0lJSTVX7+HDh717946MjOzateuePXsUFRUJIQUFBZ6enrNnz46JiTE0NHRxcbGxsSksLAwKCnJ0dPz06ZNgCaWlpQMGDNi6dWteXp6Njc3AgQONjY137tzp4eEhsxtLCxcu1NLSys7O3rp1a805tbS06Gu8fv26tGvl7+/fqlUrQsiVK1ekfa7q0LcG+/Xrx+FwCCEJCQmPHj2KioqquX0fHR29fv16AwODDRs2yKii8I3CPUIghBBPT09DQ8PIyMhXr1517tyZTqTjYg2DO9q3b793797Ro0fTv0kJIaWlpdu3b1+6dOkff/zh6+vr6upKpyclJQUFBRFCDh486O/vz2Kx6PTCwsKzZ88aGhrWULczZ874+fmVlpbOmjVr27ZtTCftlClT7ty5Y2hoePToUaZBkJiY+OOPP758+XL8+PG3bt1iClmzZk14eLiiouLx48eHDRtGJ547d2706NF020sGNDQ0Fi5cuHjx4i1btkyfPl1fX7+6nEpKSh4eHpcuXbpw4YKXl9eMGTOcnZ1VVFSkUStlZeWePXveuHHj0aNH9S6ksLBw+fLldc8/YMCAvn370u95PN6LFy8IIfb29jdv3pw7d+7bt2/pXerq6lOmTFm1apXotVdWVo4fP76srGzPnj1CT5IAiK2xh61Co2Eenzh37hxFUfPnzyeEzJ07l9778eNHNputoqKSn59PURQ9dLCOj09MnjyZEOLn58ekhISEEEJat25d67FCj09s375dTk6OzWbv3r1bMNuTJ08IIXJyck+fPhUqISkpiR6N8uTJEzolPz+fvsn022+/CWVmHg6R9uMTv//+O0VRJSUldG+n4OmqfHwiISGhdevWzP9TBQUFe3v7gICA0NDQ0tJS0bPU/PjEtWvXaqjh9OnTCSFsNpvH49EpTFNMXl6eU42srCymhIyMDLF+7axevZo5lvke+vj4yMnJycnJdevWzcPDw8zMjE7v3r17YWGhUJ3Xr19PCBk8eDCTQnfg4/EJqAe0COG//P39f//992PHjm3YsEFBQeHw4cM8Hs/X11dNTU3con744Yf//Oc/z549Y1J0dHQIIdnZ2fHx8dV1tArh8XizZs0KCgricrknTpwQGkNB39Dq3r179+7dhQ40NTV1dnYOCwsLDQ11cHAghISFhRUWFiooKPz0009CmadNm7Z8+XL6gXcZ4HA4y5cvnzZtWlBQUEBAgIWFRXU5zc3NIyMj16xZc/Lkyc+fP1dUVDx//vz58+e7du3S0NBYsWJFYGAg07BuIHV1dUIIj8crKCig3zMqKyur65+kBG4Dq6mprVu3ru5n7N27N/OeuWNK9w1cunTJ3t6eLn/37t2zZ89+9uzZL7/8snPnTuaQmJiYX3/9VV1dvS4jjwBqhUAI/2VjY9O9e/dnz55dvXp1yJAhR48eJTX2i9K+fPly/Pjx8PDwpKSk3Nxceph7SUkJIeTz589MNjs7O1NT0+TkZDs7uzFjxnh6evbq1auGKc2KioqGDh16+fJlPT29S5cu0fFMEN0iNDAwEOz/ZNADCGNjY+nNly9fEkKMjY1F+9BatWplbm7+/v37mi+TEEJRlOgYHBUVFS6XW+uxgiZNmrR9+/bo6Og1a9bUPHuLnp7erl27duzY8eTJkzt37kRERNy+fTsvLy83N3fu3LkJCQm7du0S69TVoUcMsVgs0R7IVatWTZ06tcqj6D9uaFwud8mSJfU7O303lHbgwAE6CtL1CQgIePHiRXBw8IEDB3777Te6Wc/n8ydPnlxaWrpz507BRjNA/TVyixQaj1DXKEVRe/bsIYR4e3vTY/fNzc35fD69q8qu0du3bwv+NlRRUTE2NrawsKDv+amoqAhmfvbsmeAj2HJycj179ty8eXNxcbFgNqGn1kJDQ6usPNNvVgOmfzUgIIAQ4uLiUmVR/fr1I3XoGq1yqOfKlStrPor6d9co7eTJk/Qn8PLlS6r6mWVElZeXHzt2TFdXlz77s2fPmF0N6Rr19fUlhKirqzMpTCtwy5YttdaqgZgPVk1Njfm+MehxNISQW7du0SlbtmwhhPTu3VsoM7pGod7QIoR/jBo1at68eZcvX6bHj0yYMKGGzrcvX74MGzbsy5cvAwYMmDNnjouLC/On/dWrVwcOHCiUv1u3bq9fvw4LCwsJCbl7925MTMzjx48fP378xx9/hIaGCvWXOjs7l5aWRkRE+Pv737p1q0OHDkKlURRFCBkwYICLi0t1NWSmRKHH11TXxVeX6cToQkSHt1T3fFvNfH19t27d+uTJk1WrVp0/f77uByooKIwZM0ZbW7t///6EkPPnz3fr1q0eFRDy+PFjQkiV86DWUX5+/pw5c+qe39vbe9CgQfR7NTU1bW3tnJwcCwsL0e8b80NMS0uj39BjuDgcjlBHNz3YJzU1ddq0aYSQsWPH9urVqx7XAi0QAiH8Q1NTc8iQISdPngwJCWGxWILTN4sKCQn58uWLtrb2uXPnhKZKSU9Pr/IQJSWlAQMGDBgwgBCSmpp67NixtWvXxsfHL1q0SGhuaC0trePHj3t5ed25c+eHH364ceMGM5aVpq+vn5yc3LZt20WLFtV6XXQTKjU1tcq9dXmKkRCioqIi7pCQ6rBYrNWrV3t4eFy4cOHhw4fiHt63b19lZeWSkpKPHz82vDJhYWH0J8MM8a2HkpKSQ4cO1T2/mZkZEwgJIZ06dbp3716VT/QzifLy//plxbQUheTk5Ozfv58QYm9vj0AIdYRACP8yYcIEuuOuT58+NQzlIITEx8cTQmxtbUUnDLtz506tJzIxMfnll194PN7y5cvpG35CVFVVL1++PHTo0Js3b/7www/Xrl3r2bMns9fJyenp06dXr14VfKCiOl27diWEfPr0KT09XehRjc+fP9f6FKM09OvXz83NLSwsbPHixeKu4UB3CZL6tkcFFRUVBQYGEkI4HA491rd+1NTU6B7LOvr+++8FNz09Pe/du0dP9yN4y5AQEh0dTb9h+gwCAwMFbz8zTp06FRkZaWhoOHv2bEKItJdJgW9KY/fNQqMRvUdIUVRlZeXNmzdv3rwZHx8vmFn0HiE9ft3MzIwZc097/fo1/btM8B6hUB4GPdzDwMCASRF6fKK0tHTo0KGEEFVV1du3bwuehY5/O3bsqO4CmZOWlpbS9zLnz58vlGfx4sX0hyCbxycEPXnyhO4JtLa2Jv++R1haWnrixInqPjSm7XX48GEmsR73CN++fcv0rG7atElwlyzvEVIUlZSURH9n9u3bJ7SLvoNraGhY5cIdgnCPEOoNLUL4FzabXd3ChELo9QqSkpLmzp27fv16eqDmrVu3xo8fr6ioKNTNFRQUdPXq1cmTJ/fv35+ZE/LRo0f0/F41TJuppKR08uTJMWPGnDlzZtCgQRcuXKAfxLa1tZ09e/a2bdvmzJmTlpYWGBjILOSbkZFx7dq1AwcO7Nu3j25sKSkpLVmyZO7cuVu3bjUwMAgICFBUVKyoqNi9e/emTZu4XG5xcXE9PqsGcnBw8Pb2PnfuXExMjNCuysrKkSNHLl++3M/Pz8PDo0uXLvTSCvHx8f/5z3/ovx5MTU2ZmQFqdf/+/YKCAvp9YWFhfHz8/fv379+/T1EUi8WaN2/eggULqjzwxYsXQhPvMUxMTKqcp7seTE1NZ8+evXnz5sDAQEVFxdGjRysqKmZnZy9evPjGjRuEkFWrVgl1jQJIUmNHYmg0VbYIq1PlqFE/Pz+6BC6X26lTJz09PUJI69at9+3bR/7dIty+fTudU15e3tzc/LvvvmOGPlpbW6enpzM5q1yPsLKykn6QQ0lJ6fz583RiRUUFM5Ebi8UyMTFp164dUywh5PXr14IljBgxgk7X0NDo1KmThoYGIcTHx4deDlf2LUKKot6/f8/8fhdsERYVFQn196qrqwummJiYCF4dJf56hPSH5urqGhYWJlqxugwg8vb2ltAnRFEUVVFR4eXlRZesrKxsZGTEZrPpzTr+aNAihHrDH1ktl4KCAt34owNYzZycnMzMzISWpgsODu7cufO+fftiY2Pfvn1rbGw8Y8aMlStXJicnu7u70/NG0ry9vSsrK+/evfvy5ctPnz6Vl5crKCjY2dn5+vrOmjVL8F5Xu3bt3N3dhYbGsNnsgwcP6urqvnjx4sCBAx07dmzXrp28vPyePXtGjx69Z8+e8PBwesSHrq6unZ2dm5vb0KFDmcVa6RL++usvFxeXoKCgd+/e5efnW1lZLVu2LDAwkJ4FW7Kr6wnq3bt3QUFBlUvsWltbL1269MGDB/SFM+lcLjczM/PGjRtXr16lPzF6pQ4NDQ07O7shQ4ZMmTJF6Jk/a2vr/v37CyWqqqoKte81NDRatWqlq6vbtWvXnj17tmnTpso6s1gsemBqDZgH/iRCXl7+woULhw4dOnDgwMuXL9PS0rhcbq9evWbPnl1rTWgdO3Z0d3ev43QNAIKw2ipIQHl5OYvFUlBQqGP+/Px8ZnpSSamsrOTxeHVZ6q+iooLFYjWvrrbi4mJFRcXmVeeGKCoqktLcqgCiEAgBAKBFwzJMAADQoiEQAgBAi4ZACAAALRoCIQAAtGgIhAAA0KLJYjQ2j8cTXcJGWVmZfs6soKBA8OldeXn5eqwECwAAUD+yaBFGRUVpiaCXviOEDBw4UDCdnlgSAABANmTxHGF5ebngejHnz59fuHBhXFycubk5IcTFxaVTp07z58+n9yorKwutDwAAACA9sugaVVRUFFzQJzQ0tE+fPnQUpGlqata84g8AAICUyHrGptTU1Nu3bx89elQw8dWrVytWrNDX1+/du3enTp1kXCUAAGjJZB0IDx48qKamJngjUF5ePjc39927dxcuXJg9e/aSJUtWr15d5bGVlZUTJ060sbGhV3EjhHC53OnTp7ecCRgBAL4lN27caN++fXWTv8uMTOca5fP5FhYWgwcPphdUo5WUlDAL1G3YsOGXX36JiIiocmL7T58+WZgOV1VxYwKhnJycjo4Os9k0URTVxGvYcE3kGvuVt6575huKn+qemc/nC62L9I2hfw80hR+i9HzzP0TpXeDLt1NqnVKfTyUWVowXt+QBrvyRI0fOnDmzvlWTDJm2pW7dupWcnDxx4kTBRCYKEkIWLFiwevXqR48eVRkI5eXlCUu5opwrmPgxtUBKtYVmJ6dMs+6ZU5WEH+kBgCrVZWEZilTwqY+1ZhNh1BQWfpBpIDx48GDXrl27dOlSXQY+n//N/9UGAPANogiL31x/dcuu3jk5ORcvXpw0aZJgYm5ubkZGBv2eoqi1a9eWl5d///33MqsVAABIBiUn9qtpkF2L8NixYywWa9SoUYKJ8fHxjo6OnTt31tPTi42NjY+P//XXX4VWJwcAgCaORVgsfnO9xyy7QNitW7crV65oav7rLk7nzp3v3bv38uXL/Pz8kSNHOjk5WVpayqxKAAAgKSx+Y9egvmQXCKvs8JSXl3d0dHR0dJRZNQAAQPIoQhp/1Es94Qk8AACQALQIAQCgZUMgBACAlotqxi3CpjJ6FQAAmjUWJfarVhRFpaWlia5oK6qkpCQ1NVVwddu6QyAEAABJ4Iv/ql5BQcGIESNatWrVunVrdXX1Ll26PHr0qMqcV65c6datG5fLbdOmjYqKyvTp00tKSuhdeXl5QkvhBgUFiZaArlEAAGg4isWX5LDRwsLCysrK06dPd+nSJT8/PyAgYPDgwR8+fNDS0hLK+eHDhyFDhhw8eLBNmzbh4eFjx45VUlLavn07IYSiqK9fvwYHB9va2tKZjY2NRc+FQAgAAA0m6ccnDA0Nz549S7/X19ffvXt3u3btnjx50r9/f6Gcc+bMYd4PGTJk4sSJV65coQMhzdrausr5qxkIhAAA0FAsKT8+kZOTQwgRbQ6Kys7O1tbWFky5detWRESEubm5q6srl8sVPQSBEAAAJEGiXaP/KpjPX7ZsmYODQ7du3WrO+fz58zNnzhw8eJBJUVRUDAkJ4XA4r1690tTUPHnyZM+ePYWOQiAEAIBG8/Lly9OnTzObbDbbzc1NXV1dMM/8+fMjIyMfPHjAZrNrKCo1NdXHx+fHH38cO3YsnaKmppaZmamhoUEIycnJGTRo0JgxY+Lj44UORCAEAIAGq9vjEKJCQkLu3r0rmLJnzx5PT09mc+nSpQcPHrx582b79u1rKCc9Pd3Nzc3W1vbPP/9kEtlsNh0FCSHa2tpLly4dPHjwx48fhYbMIBACAIAk1Ose4YoVKwICAqrbu2rVqh07dly9etXBwaGGQrKysvr27Wtubn769OkalhFWVFQkhFRUVAilIxDCt+OCUnJjVwGg5ZL4YJnff/998+bNV65ccXFxEdp17969r1+/Dh06lBDy+fNnNzc3Q0PDCxcucDgcwWxZWVk6Ojr0Yu/l5eU7d+7U19c3MzMTKg2BEAAAGoyS8FyjMTExCxYs0NHRmT9/PpO4ePHiYcOGEUL279//5s0bOhCuWrXq7du3fD6/V69edDZ5efnHjx8TQoKCgo4cOdKlSxcul/vgwYPMzMwTJ06wWMLrJiIQAgCABNTvHmF1dHV19+3bJ5RoY2NDv5k2bdrXr1/p9yNGjBBazp1uAtLZzM3N4+LiKioqfvnll4EDB7Zu3Vr0XAiEAAAgCRJtEWppaU2dOrW6vYKdpS4uLqJ9pzRDQ8Px48fXei4EQgAAkAQszAsAAC1Xc16GCYEQAAAkAYEQAABaNHSNAgBAS8biCz+W0FwgEAIAQINJ+jlCWUIgBAAASUDXKAAAtGAs0my7RuUauwIAAACNCS1CAABoMNwjBACAlowl6blGZQmBEAAAJKHZ3iNEIAQAAEmgEAgBAKDFwj1C+PYMLTOte2YsDQ8AaBECAEDLhhYhAAC0XJTkB8t8+fLlxo0b79+/V1NTc3Fx6d69ew2Z79+/HxYWpqys7OPj07ZtW8Fdjx8/Dg0NVVBQ+PHHH9u3by96LB6oBwAASaBYYr+ql5mZaWBgsGjRoufPn1+6dKlHjx4LFy6sLvOaNWv69u375s2ba9eu2drahoWFMbu2bdvm4uLy8uXLu3fvdu7c+dKlS6KHIxACAIAk8MV/VU9ZWfnixYtJSUmXLl26e/funj17Nm/e/O7dO9GcsbGxv/766+7du8+ePXv37t1hw4b99NNPfD6fEPLx48dffvll06ZN58+fv3HjxsSJE6dPn15RUSFUAgIhAAA0nPjNwRpbhK1aterfvz+L9d88gwcPJoTEx8eL5gwJCeFyuX5+fvTm9OnT4+LiXr58SQi5cuUKIWTSpEn0rp9//vnTp0+PHj0SKgGBEAAAGoy+Ryjuq85u377NZrM7d+4suisxMbF9+/ZKSkr0Jp0nMTGR/tfCwkJNTY3e1alTJ3l5+YSEBKESMFgGAAAkQWpTrKWkpMydO3fOnDlt2rQR3ZuZmamhocFsqqioKCkppaenE0IyMjIEd7FYLA0NjYyMDKESEAgBAEAS6jVqNDg4+P79+4Ip8+fPd3BwYDazsrL69+/ftWvXtWvXVlkCh8P5/PnzP7Xg8ysrK7lcLiFEWVm5vLxcMHNZWZmysrJQCQiEAADQaExMTOzt7QVTdHV1mffZ2dlubm6GhoYXL15kOj+FGBoaRkZGMps5OTk8Hs/AwIDeJRgjS0pKCgoKDA0NhUpAIAQAAEmo18wy7u7uAQEBVe7Kzc319PRUV1e/cOGCaDOOYWtru2XLloyMDDr43b17l8Vifffdd/SulJSUhIQECwsLehf5301EQRgsAwAADSbpwTKFhYVubm5ZWVnr1q2LiYl5/vz58+fPmebdr7/+Om7cOPq9t7e3np5eYGBgYWFhSkrKihUrvLy8jI2NCSEDBgwwMzMLDAzMy8tLT09fsmSJm5ubtbW10LkQCAEAQBIk+vhEUlJSZGRkamrqDz/80O1/zpw5Q++Nj49/+/Yt/V5VVfXixYtPnz7V0tIyMzMzNDQ8cOAAvUtJSenChQsxMTE6OjqtW7fmcrl//vmn6LnQNQoAAA1FEUJJdK7RTp06UVS141CF4pmDg0NcXFx8fLyKioqRkZHgrs6dO79//z4hIUFJSYluJopCIAQAgIarpYUnbXJycu3atatyF4vFsrS0rOFYBEIAAGgwKUy6LTMIhAAAIAlYjxAAAFo0tAjhG4NF5wFAPFKbYk3aEAgBAKDBKEKhRQgAAC0a7hECAEAL1siPTzQEAiEAAEgAukYBAKAFo5px1yjmGgUAgBYNLUIAAJAEic41KksIhAAAIAnNtmsUgRAAACSgXoNlmsRD+AiEAADQYLWtL1jdYZKvifgQCAEAQAIodI0CAECLhucIAQCgRZNoi7CwsPDUqVMRERFxcXEODg5r166tLmffvn2FUnr37r1s2TJCyK5du0JCQpj0Vq1anT17VrQEBEIAAGgwSU+6nZSUtHLlSnt7+8TEREVFxRpy+vr6Mu9zcnKWLFni7e1Nb8bExGRmZs6cOZPe5HA4VZaAQAgAAJIg0YEvnTp1Sk1NJYT4+PiUlZXVkHPq1KnM+x07dnA4nFGjRjEppqamghmqhEAIAAANRTWNwTLBwcE+Pj6amppMSnl5+fPnz1VUVCwsLKprWWKKNQAAaDgW4Yv/kqhnz569evVq0qRJgok3btzo1atXhw4djIyMjhw5UuWBCIQAACAJ9KOEYr0IKSkp+fpvFFXPPtaDBw+am5v37t2bSfH3909LSysuLv7y5cvIkSP9/f3v3LkjeiACIQAANBhFKIol7osQsmjRIq1/O3PmTD3OX1JScvLkyUmTJsnJ/RPX7O3tDQ0NCSGampo7d+40MzO7fPmy6LG4RwgAAJJQr67OlStXjhs3jtlks9kmJib1KOf06dP5+fmCRQmRk5MzMjL6/Pmz6C4EQgAAkID6DZbR1ta2sLAQ65CysrK4uDhTU1NVVVUm8eDBg56enkJBlKIoFuu/tUpMTHzx4sWQIUNEC0QgBACApmjGjBmVlZUvXrzg8XjTpk0jhOzbtz/MMnMAACAASURBVI8QEhcX16lTp5CQkMGDB9M5ExIS7t+/L9SnWlFR0alTJ29vbxMTk0+fPh08eFBfX3/ixImiJ0IgBAAASZDOBNqiE8doaWn99NNPZmZmTEp8fPxPP/00aNAgwWxsNtvf3//p06cPHjzQ1dWdOXPmjBkztLS0RE/Bqvf4HNnLzMxsYzxGSd69sSsCANCC5JcsrjUP/3NS8cHp4pbseblgxIgRAQEB9aqXxKBFCAAADVe/ZZiaBARCAACQgKYws0z9IBACAIAkIBACAEDLJenVJ2QJgRAAABqqiUy6XT8IhAAAIAnN5hEEYbIIhAUFBUFBQYIpnp6enTt3pt9TFHX8+PHQ0FAFBYURI0Z4eHjIoEoAACBZzbdrVBaTbufl5S1evPj27dvP/0dwtrc5c+b8/PPPhoaGHA5n4MCB9MQBAADQrIi/9EST6UqVXdfo77//bmtrK5T44cOHXbt2HT16dPTo0YQQXV3dRYsW+fn5cblcmVUMAAAaimrG9wgbeRmm69evc7lcHx8fenPcuHF5eXkPHjxo3FoBAIC46rcMU1Mgu0Do4eGhrKxsa2u7Y8eOyspKOjElJcXU1FRJSYnetLS0VFRUTElJkVmtAABAMhp7hfp6k0XXqLKy8urVq52dnRUUFG7cuLFw4cKEhIQdO3YQQj5//qyhoSGYWUNDIzMzs8pyysrKZFBbAAAQVFhYKLjgUXWaTgtPXLIIhNra2suXL6ffOzs7E0J+//33rVu3stlsNTW14uJiwcyFhYWtWrWqshym4QgAADJTlyjYrDXCPUJHR8eSkpJPnz4RQgwNDTMyMphd+fn5xcXFRkZGsq8VAAA0SLMdNdoIgfD58+ccDoeOdg4ODunp6a9fv6Z3hYaGslis7t27y75WAABQfxShxH81EbLoGj106FBFRYWdnZ2SktLNmzfXrVs3btw4eXl5Qoibm1vXrl0nT568f//+wsLC+fPnjxgxwsTERAa1AgAASaEIq/k+UC+LQKioqLh58+b4+HhCiJmZ2cKFC5csWULvkpOTu3jx4tSpU7t37y4vLz98+PDdu3fLoEoAACBhUujqrKys/PjxI4fDMTAwqC5PVlZWYWEhsykvL9+mTRvBDJGRkR8/frSxsWnbtm2VJcgiEI4dO3bs2LGEEB6Px2azhfYaGxtfvXq1yl0AANBcSHbUaGpq6vDhw1+9elVSUjJw4MDLly9Xl3PBggV//vkns2lmZpaYmEi/Lysr8/b2DgsLMzMzi4uLmzt37ubNm0VLkOk9whpCHaIgAEAzRkn4gXo2m+3p6Xnq1Cl3d/daT+7j4/Plf16+fMmkr1+//smTJ+/evYuJibl27drWrVuvXLkiengjzywDAADfCImOGjUyMlq5cuWgQYOqe6BOkKKioub/qKurM+lHjhwZO3aspaUlIaRfv35OTk7BwcGih2MZJgAAaLjGHCwTFRU1ffp0NTU1R0fHoUOHslgsQkhpaWlycrKjoyOT7fvvv6+yixUtQgAAkIDGenxCWVnZzMxMUVExLi5u+PDhAwYMqKioIISkp6dTFKWjo8Pk1NbWTktLEy0BLUIAAJCA+g2WuXXrltD8YiNHjjQ1Na17CXv37qWbgISQO3fuuLu7nzhxws/Pj6IoQgizixAiJyfH5/NFS0AgBACABqPq+fhETEyMYCCUk5Pr3bu3WIFQMNT16dOnQ4cOz5498/PzMzQ0JITk5OQwe3NycqqcuQyBEAAAGoqqb4twxowZAQEBEqxJYWGhiooKIURZWdnY2PjZs2fDhw+ndz158sTKykr0ENwjBAAACaD4LHFf9TtRRkZGYGBgVFQUIaS0tPThw4d0Op/P/+2335KTk3/44Qc6ZcyYMUePHqWntn748GF4eDj9ULsQtAgBAEASJD2zDIfDYVbfo/s/6dt+OTk5O3bscHNz69ixY0lJyffff6+rq9u6detPnz59/fp1xYoVHh4e9FHLli37+++/bWxsOnTo8PLly/HjxzPrwAtCIAQAgKbo4cOHVFVDSy0tLSMiIuj50jQ1NTMyMp49e5aTk6Ovr9+5c2f61iBNVVX13r179+7dS01N7dixY7du3ao8EQIhAAA0XC0zxdRD165dq0zncDj29vbMpr6+/qBBg6orhM1mu7q61nwiBEIAAGiwprSskrgQCJucoWVijBu+oJQsvZoAANSdxFuEMoNACAAADUURgvUIAQCgZUOLEAAAWjJ0jQIAQAtGIRACAECLJvnHJ2QGgRAAACQBj08AAEBLhlGjAADQoqFrFAAAWi4Kg2UAAKCFQyAEAIAWrfkGQizMCwAALRpahAAA0HAsTLEGAAAtWvPtGq09EIaHh2/fvv3hw4eZmZny8vIWFhYDBgyYP39+69atZVA/AABoBihC8SVZHo/Hi46Ofv78eUxMjJWV1YQJE6o+LUU9ffo0JCQkJiZGWVnZ2dnZ399fUVGR3nvx4sVHjx4xmblc7ooVK0QLqSUQrl+/funSpRRFKSkpWVhYlJSUxMbGbt++/c8//7x27ZqDg0M9LxEAAL4tkm0RRkdH29raGhoalpeX9+zZs7pAWFBQ4OTk1Ldv365du5aUlCxatOjEiRM3b96Ul5cnhNy8efPcuXPOzs50ZjU1tSoLqSkQhoeHL1myxNLScsuWLV5eXiwWixCSl5e3d+/eFStWDB8+PCYmRklJqSGXCgAA3wBK0oHQ0tLy06dPRkZGPj4+ZWVl1WVTVlb+8OGDpaUlvenl5eXq6hoeHu7q6kqn2Nvbnzp1quZz1RQIjxw5IicnFxoaypyDEKKurr548WIFBYX58+ffuXPH09OzrpcFddNEFp0fWmZa98xNpM5i+eYvEEDGJBsIlZWVlZWVa82moKAgGKFsbW0JIdnZ2WKdSzgQHj16NCoqin5/584dVVXVAwcOiB6WkZFBCNmxY8fdu3fplGnTppmbm4t1bgAA+GY0hcEyp06d4nA4Tk5OTMqdO3cUFRW5XG737t03btzYtWtX0aOEA+H58+fPnz8vmLJx48bqTnn9+vXr16/T7wcMGIBACADQQlGN//jE69evFyxYsHLlSmNjYzqlT58+7u7ulpaW6enp69at69Wr1/Pnz9u3by90oHAg3Lx589KlS+n3c+bMefXqVVhYGH13UFBERMRPP/20atWqQYMG0SnW1tYSviYAAGg+6tciXL169fbt2wVTgoKCPDw8xC0nJiamX79+o0ePXrRoEZPo4+NDv7G1tXVycrKwsDh+/PiaNWuEjhUOhIKdrb17975///6bN2/8/f0F8/B4vNWrVxNCvL29v/vuO3GrCwAA3576LcPk5eUlONZETk6uR48e4hYSHx/v5ubWr1+/ffv2ibbcaKqqqu3bt09MTBTdVdNgmZkzZ/7xxx+TJk26cOGCr6+vmZlZUVFRTEzMH3/8ER0d7ePjgygIAAC0+rUI7ezsfH19G3LelJQUd3d3R0fHQ4cOyclVO29ofn5+dHR0nz59RHfVFAj19fVv3bo1fPjwkJCQkJAQwV3Dhw8/dOhQvesNAADfEooQStIr1B88eJDH4yUmJlZWVu7fv58QMnXqVELI+/fvu3Xrdvr06f79++fn57u4uJSUlPTp04eJSj169OjcuXNlZaW/v7+3t7exsXFGRsbGjRtLS0vHjBkjeqJaHqjv3LlzVFTUtWvX7t+/n5mZqaioaG5uPmjQILQFAQDgH1JYj/DgwYPl5eVycnKKioqCgVBRUdHKykpVVZUQUlhYqKOjQwgRbJspKyt37tyZxWIVFBQEBAR8/vxZT0+vS5cu9+7ds7KyEj1R7VOsycvLDx48ePDgwULpFEXxeDz66X0AAGjZWBIPhA8fPqwy3cLCIjIykn5vZGQUERFRZTY2m33hwoW6nKg+yzClpaVt3LjRysoqOjq6HocDAMC3h6JY4r4au8r/JUZ7rrS09MKFC8HBwbdu3eLz+SwWC81BAABo7uoUyaKioo4ePXrw4EF63hobGxtfX18/Pz/BZy0AAKAlazotPHHVFAizsrKOHz9+6NCht2/fEkI0NTUJIYGBgdu2bZNR7QAAoJn4pgIhj8e7c+fO/v37L168WF5erqSkNGjQoHHjxjk5ORkbG6uoqMi+lgAA0JRRVD0fqG8KhANhXl5e+/bt6Tm1nZycxo0bN3z4cLotmJWV1QgVBACA5uDbaRGWl5dnZGSw2exly5YtXLiQy+U2SrUAAKBZaUKjQMUl/PiEiorK4MGDWSzWr7/+amBg4O/vf/fuXT6f3yiVAwCA5qL5Pj4hHAi5XG5ISEhqauqmTZuMjY0PHz7cp08fc3PzZcuWxcTENEoVAQCg6ft2AiHNwMBgwYIF7969e/jw4ZQpU3Jzc9etW+fi4kIIiY6Oxs1CAAAQRDXnQFjLc4SOjo6Ojo7bt28/e/ZscHDw3bt3z507FxIS0rdv39GjR/v6+iopKcmmoiBjF5SSG7sK0vXNXyCATFGSn3RbZuo0xRqXy/Xz87t9+3ZKSsqGDRvatGlz7do1Pz+/Dx8+SLt+AADQLDTfFqF4c40aGxsvWrQoNjb25s2bo0ePVlRUlFK1AACgeaH4LHFfjV3l/6rPZKFycnLu7u7u7u4Srw0AADRPTaiFJy7Mmg0AAA0mhfUIZQaBEAAAGopqzjPL1Gc9QgAAgCaltLQ0MzOTx+OJ7iorK8vMzKysrKzuWARCAACQAMmOGs3Ozg4MDHR2dtbV1R05cmSN56UWLVqkpaVlYGBgYmJy8eJFwb2rVq3S1tY2MDBo3br1iRMnqiwBgRAAACRAsoEwNzc3NjbW1dXV1NS0sLCwhpy7du3auXPnyZMnv379OmHChOHDhzPzoAUHB//222/BwcFfv36dNWuWn5/fixcvREtAIAQAAAmQbCBs27btlStXVq9ebWpqWvN5d+zY4e/vP3jwYA0NjXXr1hkZGe3du5fetX379pEjR/r6+mpoaCxdurR9+/Z79uwRLQGBEAAAGk7sKCiRwTV5eXkJCQnM43wsFsvNzS0yMpIQUllZ+fbtWzc3Nyazm5vb8+fPRQtBIAQAgAajGueB+rS0NEKIvr4+k6Kvr08nZmRk8Pn8KncJweMTAADQUPV+fCImJubWrVvMJovF6tmzp4qKSh0PLy4uJoQIznrN4XCKioqYXRwOh9mlrKxM7xKCQAgAABJQv0AYHBz8119/MZssFuvIkSODBg2q4+EGBgaEkK9fvzIpOTk5RkZGzK4vX76I7hKCQAgAABJQv0C4YcOGgICAep9UX1+fw+G8e/eub9++dEp0dHSbNm0IIa1atdLQ0IiOjmYyM7uE4B4hAAA0HItPif2q35ny8/P/7//+j77bJy8vP2DAgKNHj5aXlxNC4uPj7969O2TIEDqnl5fXX3/9VVJSQghJTU0NDQ0dOnSoaIFoEQIAQINJYa7RAQMGVFRUvH79ms/n0w2+mzdvEkJSU1NHjx4dEhJC93OuX7/eycnJxcXFwcHh/PnzPXv2HDNmDF3CmjVrevTo0atXLycnp8uXL3fo0GHy5MmiJ0IgBACAhqKI5Bfm9fHx4fF4vr6+QulGRkZBQUHfffcdvWllZfXq1avDhw+npaUtX758woQJCgoK9K42bdq8fPkyODg4JSVl/vz5/v7+gmNnGCyq+SwqnJmZ2c/g586sYXU/RKxVyIeW1fLYZr1LBgBovvJLFteeJzbnttcxcUv+Xfv0iBEjGnKPUCLQIgQAAAlovqtPIBACAIAENN9AiFGjAADQoqFFCAAADYYV6gEAoCWjSP2fC2x0CIQAACABaBECAECLhkAIAAAtGgIhAAC0XBRF+PzGrkR9IRACAIAEoEUIAAAtWvMNhLJ7oJ7H4338+JFeDgMAAL4tLIoS+9XYdf4vWQTClJQULy8vVVVVExMTLpfr6uoaExPD7B04cKCWAGYdKQAAaEZkth6hxMmiazQjI0NLS+v69esdOnRIS0ubOHGil5dXdHS0nJwcIaSgoGDo0KEzZsygM6upqcmgSgAAIEEUJfllmGRGFoHQwcHBwcGBfq+np7dhwwYPD4/Y2Fhra2s60dDQ0N7eXgY1AQAAKWk6XZ3iaoTBMjk5OYQQLS0tJiU2Nnb37t16enqOjo4mJiayrxIAADQQAmFdFRcXr127dvjw4bq6ukziq1evsrKy4uLivnz5smHDhlmzZsm4VgAAUB2Kolis2oOcNO75FRYWnjlzJi0trX379kOGDGGz2aJ5kpKSnj17JpTo7OxsaGhICDl//nxlZSWTbmVl1blzZ6HMMg2ElZWV48aNKykp2blzJ5N49uxZOijyeLzFixcHBga6urp26tRJ9PDy8vL38nmJ8tJaGr45Ljo/tMy07plxgfUuWSzN8XMGqEFxcbGKiorsz5udne3s7FxWVta9e/etW7ceOHDg0qVL8vLCYev58+eLFy9mNvPz87OzsyMjI+lA6Ofnp6qqytR/0qRJjRkI+Xz+hAkTHj9+HB4erq+vz6QzTUM2m71u3bqdO3fev3+/ykCoqKgoo7oCAMD/1DEKUpKeWWbVqlWlpaUvXrzQ1NSMjo7u2rXrkSNHJk2aJJTNx8fHx8eH2RwzZsybN2+6dOnCpOzevXvYsGE1nEhGzxFSFPXzzz/funXr5s2bFhYW1WVjs9lsNluwGQsAAE0fRRGJP0d45syZMWPGaGpqEkI6dOjg7u5++vTpmg/Jy8u7cOHC5MmTxaq8LAIhRVEzZsw4f/58WFhYhw4dBHcVFhYWFRUxm3v27CkpKenRo4cMagUAAJIj9kOENd9TLC4uzszMtLOzY1Ls7OwSEhJqrsSxY8cqKytHjx4tmLhp0yYHBwdfX98TJ05UeZQsukavX7++d+9eIyOj8ePHM4m7du1ydHSMiYnp06ePs7Oznp5eTEzM48ePZ82axTxrAQAAzYVknyPMyMgghNDNQZq2tnZ6enrNRx08eNDb21tHR4dJ8fDwcHJyUlVVffr0qZ+fX3h4eFBQkNBRsgiENjY2+/btE0qkH5Po2LHjsWPHXrx4kZ+f7+vru337djQHAQCao/o9PhEcHHz//n1mk8ViLVy40N7eXklJiRBSUVHB7CovL+dwODUU9fr16xcvXmzcuFEw8ezZs/SbadOmdezYcf78+cuXL6fH0TBkEQhNTU2nTp1a5S4Oh+Pl5eXl5SWDagAAgJRQhPDr1SLU1tYWHDjCYrHU1dUJIXp6enJyctnZ2cyuz58/CwUwIfv37zcxMXF1da0ug5eX17x58969e9cIgRAAAL559WsRenl5BQQEiKYrKChYW1uHh4f7+fnRKeHh4ba2ttWVU1pa+tdff82ePbvKZw1pycnJhBADAwOhdNmtPgEAAN8sSvKTbk+bNu2vv/76+++/KYo6fPjws2fPmM7Fffv2eXt7C2Y+d+5cXl7ehAkTBBOfPHly/fr1goICHo/35MmTmTNnWltbM7N7MtAiBAAACZD4pNsBAQHR0dG9e/fmcDh8Pn/btm29e/emd8XFxYWHhwtmPnjwoLu7u6npvybK+Pjxo5+fX0lJCZvN5vF4zs7Ohw4dEn0kH4EQAAAkQOJzjcrJyf3xxx9r1qz5+PFj27ZtBdcm2rhx44YNGwQzh4WFiZbg4+MzePDgxMTEsrIyMzOzVq1aVXkiBEIAAGgoihC+pGeWoenq6grOTU2jV/GrC0VFRdG+UCEIhAAAIAFYjxAAAFowSiqrT8gGAiEAADQU1ZxbhHh8AgAAWjS0CAEAoOFYfIKuUQAAaMGab9coAuE/mshq79vU9WvP9D9z8r7xxdDF+pxT8/bXPfOZNsvrnvleVk1T/UJjEev/rFik9x/8G4ZACAAALRdFMGoUAABatmbbIEQgBAAASajfMkxNAQIhAABIQLONgwiEAADQYBSFFiEAALRsFJ4jBACAlgwtQgAAaNGabRxEIAQAgAajCJHOcoSygEm3AQBAAihK7Fetrly54uzsbGFhMXDgwFevXlVzXqrvv/3555/M3rKysiVLltjY2FhbW8+fP7+4uFi0BLQIAQBAAiTeIrx3796QIUNmz57t4eGxf//+Pn36vH792tjYWCgbRVG3bt2aOHGilZUVnWJhYcHs/fnnny9durR9+3Z5efl58+alpqaePHlSqAQEQgAAkACJ3yNcs2aNq6vrli1bCCF9+vSxtLTcsWPH5s2bq8w8fPhwDw8PocTExMTDhw8fP3585MiRhBBVVdWBAweuXLnSxsZGMBu6RgEAoMmhKOrvv/8eMmQIvamgoNC/f//w8PDq8ufm5r569SovL08w8cGDBywWa9CgQfRm3759VVRU7t27J3QsAiEAADQUPVhG3FcNcnJyysrK2rRpw6S0adPm06dP1eUfOXKknZ2dhobGwIEDU1NT6cS0tDRNTU1VVVV6U0FBwcDAIC0tTehYBEIAAJAASvwXIaSkpOSrgNzcXLq0L1++EEKYGEYIadWqVU5Ojuh5WSzWxYsX8/Pzy8vLw8PDo6Ojhw4dSlEUIeTr16+CJRBC1NTURAtBIAQAAAmoX4tw0aJFWgI0NTXPnDlDCNHR0SGECHZ1fv36VU9PT/S8LBbLy8tLTU1NQUGhV69eW7dujYyMTElJIYRoa2vn5+cLZs7NzRUtBINlAABAAuo3WGblypXjxo1jNlksFt0dqqmpqaysnJz8zwrJycnJRkZGtRZoZmZGCMnIyDA1NW3dunVubm5ubq6GhgYhpLS0NDMzU7QQtAgBAKChKEL4hBL3RQjR1ta2EGBubs5mswkhLBarT58+Z8+epTs5S0pKrl696ubmRp8uJycnKSmpypqEhISw2ewOHToQQlxcXOTk5M6fP0/vunLlSllZmaurq9AhaBH+o7dead0zX8irPQ/jdm8xcrsKD2iqyTZ1fTFyi2NOXqaUShaLWBcYwFlX98wXlJJrz8RQEiOvuIaWmUqpZPGusRn65i9QeqTxrZP4c4QrV650cXHx9/fv169fcHAwIWTWrFn0rg0bNhw6dIi+2xcUFHTv3j1HR0cVFZUHDx4cPXp0zpw5rVq1IoS0bt16xowZgYGBBQUF8vLyK1eu9Pf3b9u2rdCJEAgBAEACJP4coYODw+3bt7ds2bJt27aOHTvu27ePub3XvXv3kpIS+r2jo+OLFy/OnTtXUVFhamp6/PjxESNGMIVs2bLFzMzszJkzFEXNnz9/7ty5oidCIAQAgIaS0lyjTk5OTk5OounDhw8fPnw4/b5Lly4HDhyorgQ2mx0YGBgYGFjDWRAIAQBAArD6BAAAtGj8ZhsKEQgBAEACmmsYRCAEAICGa9brESIQAgBAw1FUs20TIhACAIAENN8WIWaWAQCAFg0tQgAAkIDm2yJEIAQAgIaiCKFYuEcIAAAtGFqEAADQomHUKAAAtFx4jhAAAFo6BEIAAGjR0DUKAAAtGp/V2DWoLwTCf0hvTXbXe+pSKll6dRZrAeveeqV1zyxWncXKPJRIa6l3sWxT1xcr/5w8aS2zLtYPUXqrvUuvGk3kApsjiX8aFFqEAADQwknpHmF0dPSnT5/at29vbGxc7an5/JiYmLS0tNatW1tbW7NY/zROExMTKeqfCK2urq6trS10OKZYAwAACeATStxXzQVWVFT4+PjY2tpOmjTJ1NR0+fLlVWa7evWqsbGxjY3NqFGjbGxsHBwcEhMTmb22traWAtavXy9aAgIhAAA0HEWJ/6q5xM2bN4eFhb169So5OfnixYu//fbbtWvXRLNVVlauXr06Ly8vKysrISGhoKBg8uTJghkOHz785X/WrFkjWgK6RgEAoKGk8RxhcHDw6NGjO3bsSAgZNGiQo6PjoUOH+vfvL5TNy8uLeW9mZjZ16tSlS5dSFMV0kKqoqGhqatZwIrQIAQCgwViEz6LEfdVQXnl5eXx8vLOzM5Pi7OwcHR1da0ViY2NNTEwEbxOeO3du5syZmzZtev/+fZWHIBACAECTk5GRQVGUjo4Ok6Kjo5OWllbzUREREYcOHVq6dCmToqury+PxiouLjx8/3rlz53379okeha5RAACQgPo9PHHr1q3i4mJmU05ObtSoUcbGxjwejxAi2LBjs9mVlZU1FJWQkODt7T1ixIhx48YxiXFxcWw2mxDC5/N//vnnwMDAESNGaGhoCB6IQAgAAA1FEVLrKNAqxcTECAZCQsj3339vbGxsaGhICPny5QuTnpOTY2RkVF05KSkpbm5uPXr0OHTokFD4pN/IycnNmjVr3759b9686dWrl+CxCIQAACAB9QuEM2bMCAgIEE3ncDjGxsYREREjRoygU549e9auXbsqC/n48aOrq2uHDh2OHz8uL19tXCspKaFLFkrHPUIAAJAASvxXzUaNGnX8+PH09HRCSERExN27d0eNGkXvunbt2tq1a+n3mZmZ/fr1a9u27fnz55WUlARLSEhIyMrKot/n5eUtXbpUW1u7U6dOQidCIAQAAAmQ+AP1y5YtMzY2trW17dOnT+/evYcNGzZy5Eh61+3bt7dt20a//+OPP6Kjox8+fGhoaKj1P9nZ2YSQsLAwY2Pjjh079ujRo02bNs+ePTt+/LiysrLQidA1CgAADVXve4Q1aNWq1YMHD27evPnx48c1a9YIPkoxY8YMX19f+v2UKVMGDRokdCw9HMbf379r167v3r0rLy9v06ZNz5491dTURE+EQAgAABJAib/6RK1HKCgoDBgwQDTdzMzMzMyMfm9kZFTdIBp5eXl7e3t7e/uaz4JACAAADVd7V6cotjQqIj4EQgAAaKj6dY0iEAIAwLdDSsswyQACIQAASAAW5oWaNMd1tMWqxoU86VVEDE3ko5uTl9nYVfivJvKBSK8aTeQCgUhn1KjMIBACAIAEIBACAECL1nwDIWaWAQCAFg0tQgAAaCiKEL74D9Q3EQiEAADQcPV5oL6JQCAEAAAJQCAEAICWC49PAABAS4dAkR/irAAAEtdJREFUCAAALRoCIQAAtFzoGgUAgBaO4rMQCAEAoAWTRoswISEhKCgoNTW1Y8eOAQEBmpqaEj8FaSIzy4SGhs6dO3fRokURERGNXRcAABAbRQiPUOK+ai4zNjbW3t7+xYsXnTp1OnPmjJOTU0FBgTQq3/iBcPXq1UOHDv369WtiYmLPnj1PnDjR2DUCAACxSTwQrlixwtTU9Pr168uXL799+3ZGRsbevXulUfNGDoRJSUlr1qzZsWNHcHDwqVOnZs+ePWvWrLKyssatFQAAiIUeLCPuq+Yyr169OnLkSAUFBUKIjo5O//79r1y5Io3KN3IgvHr1qoKCwtixY+nNKVOmfP78+eHDh41bKwAAEBPFY/HFfdVQXF5eXn5+vrW1NZNibW2dmpoqjao38mCZpKQkc3NzLpdLb1pbW8vLyyclJTVqpQAAQDwUIZUSHSyTlZVFCFFXV2dSNDU1MzIyJHgKRiMHwqysLA0NDWaTxWLVcKmFhYXllWF8co9JkZOTMzQ0lJNr/DudNUhLS7uqpdqqVas65teRam2kID8/v6ioyNDQsLErIi0URSUlJRkbG9NdNN+krKwsBQUFKQ3JawqKi4uzs7PbtGnT2BWRopSUFF1dXWVlZYmX3Lbtf/bu3du3b98a8th01C0o/UXckl1crq1evXr79u1MipycXFBQUN++fenfmcXFxcyuwsJCwbgoQY0cCLlcbmlpqWBKcXGxiopKlZktLS3Hjx+vpaXFpCgqKnbt2pXFatKLfyQmJurp6VV3Ud+AwsLC7OxsMzOzxq6IFEVFRdnY2DTxb1pDpKWlcTgcwf9c35jy8vKkpCQrK6vGrogUxcTEWFhYSOnPNXt7e2kUu3PnztjY2CrPpaurKy8vL9guysjIkNIf3I0cCA0NDen2L62oqKioqMjIyKi6/IcPH5ZFtQD+zdfXt7GrAPANsrOzs7Ozq3KXnJycvb19aGjo5MmTCSEURd24caNPnz7SqEYjdyp26dLl48ePMTEx9GZYWBid2KiVAgCAxjd//vxz584FBQXFxcXNmzcvKSkpICBAGidiUVRjTopTUVFha2trbGx85MiRwsLCoUOHWlpaXr58uRGrBAAATURQUNC6devS0tLat2+/bds2T09PaZylkQMhIeTDhw9jxoyJiIhgsVj9+/c/cuSIjk6zGy8CAADSwufzpToosvEDIe3z58+KiopSGhEEAABQnaby4IGurm4zjYKCo3trQFFUSUmJtCsjDWVlZTwer4GF1PFTaixNvHoNV8cLFBrCLaiJf4F5PF4dZ6Sq4RqbuDr+EGvIVlFRUVFRIbkafTuaSiBsjm7evNmuXTsVFRVNTc3ffvutumwVFRUBAQEqKipcLrdbt24vX75kdvn7+1sK+PHHH2VS8bqKjY11cXHhcDhcLnfChAnV/Qd7/PjxzJkzHR0dLS0tL1y4ILT30KFDhoaGKioqrVu3PnbsmPRrLZ4tW7Zoa2urqKhYWFjUMHvThg0bhg0b1r59e2dnZ6FdHTp0EPwhbtq0ScpVFs/Vq1ctLS1VVFS0tbU3b95cZZ7MzMwpU6YYGxsrKyurqan5+vqmpKQweysrKwMDA1VVVblcbteuXSMjI2VV9zopLi729/fncrkcDqdXr14fPnyoMtvJkyddXFyUlZW5XK6lpeUff/zB7IqMjLT8t/DwcFlVv07Wr1+vqampoqLStm3b0NDQKvMkJyd///33XC5XRUVFTU1t5MiRaWlpzN6MjIxBgwZxOBxlZWVvb+/s7GxZ1b2ZoKBe4uLilJWVZ86cmZSUdPz4cQUFhf/85z9V5ly0aJG6unpoaGhcXNyPP/5oaGiYn59P7/L09BwwYMCp/7l165YMr6AWZWVl7dq1c3V1ff/+/d9//21oaDhp0qQqc27fvt3Ly2vFihWEkD///FNw161bt1gs1u+//56cnLxhwwY5Obnw8HCZVL9Ojh8/zmazDx06lJycvGDBAiUlpaioqCpzdu/eferUqR4eHiYmJkK7lJSUFixYwPwQX79+Lf2K11V0dLSSktLcuXOTkpIOHz4sLy9/9OhR0WyPHz/29PQ8efJkVFTUjRs32rdvb2try+Px6L3Lli1TU1O7evVqfHz88OHD9fT0vn79KtvrqMnkyZP19fXDw8Pfv3/ft2/ftm3blpaWimabNGnS8uXL79279+7du5UrVxJCjh07Ru968OABIeTw4cPMDzE9PV22F1GTQ4cO0T+4pKSkwMBAZWXl2NhY0WwpKSlbt259+PBhXFzclStX2rZt+/3339O7+Hx+r169bG1tX7169eLFiw4dOvTr10+2F9HUIRDW05w5c4yNjZlfFlOmTOnQoYNotpKSEhUVlfXr19Obubm5ioqKe/fupTc9PT0DAwNlU2FxnTp1ihCSmJhIb9L/Gz9//lxdfrpjSigQ9u/f39XVldns1auXt7e3dOpbH126dBk9ejT9ns/nt2vXbvr06TXkX7lyZZWB8Pz589KqYsP8/PPPFhYWfD6f3hw3bpydnV2tR12/fp0QEh0dTVFUWVmZurr66tWr6V0FBQXKyso7duyQXp3Fkp2dLS8vv3//fnozNTWVxWKdPHmy1gNdXFyYryIdCHNzc6VY0QawsbHx9/en3/P5fFNT07r80jh06BCLxSouLqYo6tGjR4QQ5m/QmzdvEkKa1F9sjQ5do/UUERHh7u7ODGTq169fdHR0YWGhULb3798XFRV5eHjQm+rq6j169Hj27BmTIT09/fTp02FhYV++fJFNzevo+fPnVlZWzHwxHh4elZWV4naLRURE9OvXj9ns16+f4LU3roqKilevXjHVY7FY9a7e27dvT5069ejRo6a2cEpERETfvn2ZCXH69ev36tWr8vLymo+i76KpqqoSQmJjY/Py8phPSVVV1dHRsemsG/ry5cvKykqmesbGxh06dKjLD7G0tJS+QMbt27fPnTv3+vVrqVS0voqLi9+9eyf4Le3bt29dLvDNmzempqb0dGvPnz9XVVV1cnKid/Xu3VtJSenp06fSq3azgxXq6yktLU3wdhE98U9aWprQHE50N72BgYFgTsG++xs3brx58+bjx4+EkK1bt06aNEnaNa+jtLQ0wdmM9PX15eTkBGteq/Ly8uzsbKFrz8jI4PF4bDZbknWtl8zMTD6fL1g9AwMDsS6QsXfvXnV19fj4+DZt2hw9erRnz56Sq2aDpKWl9e/fn9k0NDSkKCo9Pd3U1LS6QyoqKjZs2ODm5mZsbEwISU9PJzV+gRsXXRPBL6qhoSFd5xpcv349IiJC8L4+m81esGABn89PTk7u06fP8ePH9fX1pVRnsVT5+dMTj1Rpw4YNkZGRiYmJhJDz58/TiWlpaXp6esx/OgUFBR0dnabzQ2wK0CKsp8LCQg6Hw2zSC2iIrp5MtxEFp8Hlcrn5+fn0+127dmVnZ0dFRWVlZfn5+U2dOrXp/EEqdIFsNltRUVGs5aGLioooihK69srKyiYybI++lup+NHX3+vXrT58+vXv3LiUlRV9f38fHp9Yml8wUFhYKXSCp6lvKoCgqICAgPj7+wIEDTAlEEp+SlBQWFrLZbMHZNWutXkxMzLhx4wICAtzc3OgUGxubtLS0uLi4hISEiIiI169fz5w5U7r1rjPRb6mysnINF2hgYGBubm5iYhIbG8usZyf0NSCEcLlcKS313kwhENaTvr5+bm4us5mTk0P+/Ycbk40Q8vXrVybly5cvzB+wbdu2pTtXlZSUtm3bxuFw7ty5I+2a15HQBRYXF5eWlopeYA00NDQ4HI7gtefk5KiqqjaR+cfpa6nuR1N3TB+Avr7+xo0b09LSoqOjJVXJBqrjt5Qxb968U6dO3bhxw9zcnCmBSOJTkhJ9fX0ejyf4O73m6sXHx7u5uXl6em7dupVJ1NDQ0NPTo9936dJl9uzZNTS5ZEzcb+mECRM2btx47ty5rVu3zpo1i24a6uvrC5ZAFyLW/+VvHgJhPZmYmLx//57ZjImJUVJSEu1OMTExofcK5qQThSgoKKioqIjeZWwsJiYmcXFxzBOE9CWItYoNi8Vq3bq10LU3nXVwNDQ0VFVV6/KjqTv6Wdgm9UMU/JZ++PCBfo6iysyLFy8+9P/t3VtME9saB/C29Oa0WNSA3ERp0WIbodpLwIjFOkqCIk010IRKNCEYQTGtRh5KgvHyoAQ1xrQPGHw1PqmpIWr0BU18kpeKkUZTQS1C07ReUqhtZz+snR7igX323ueUdp/5/55m9Rsm3yrTfsyw1prh4UePHi1cBPnPn8AZ8Ut6yWTS5/MtlZ7f7zeZTDt27Lh9+/YfLFMik8mi0eh/P3f2fyI/P18kEv2N93/37t2JRIL84Lp162ZmZlK1kGxnzycxK2R4sM4/ltvtFovFHz58YBgmHo/X1tY2NzeT0JcvXzwez7dv30hz8+bNVquVbJObFU+fPmUYZn5+PhaLpQ5IbuiPjIwsazeWNjY2xuVy7927R5o9PT1FRUU/f/5kGCYWi3k8nsnJyYX7LzpqtKenp6ysjEwXiUQiJSUlvb29y9WD/6ylpUWj0czPzzMMEwgEcnNzr127RkLj4+NPnjz5Zf9/HzX6/fv3hc1Tp06JRKJIJJLOrP+C69evSySST58+MQwTi8W0Wm1LSwsJBQIBj8dDRhUyDNPX1yeRSBad3FJVVXXw4EGyTYbJZM9ZGo/Hi4uLu7q6SJMsUzw2Nkaao6Ojr169ItuTk5NyudxisSz80BELf4lzc3N6vb6mpib9uf9Zzc3NBoOBfPSmpqYoinK5XCTk9XrJlwnDMKlJWcTNmze5XC75gvr8+bNQKLxx4wYJDQwMUBQVCoWWrw9ZD4Xwb5qbm9PpdAqFwul0mkymlStXer1eErp//z6HwxkfHyfNx48f8/l8i8Vy9uzZtWvXWiwW8vqbN28KCwttNtuZM2fMZnNOTo7ZbE7Nx8gGnZ2dMpnM4XC0t7fzeLw7d+6Q12dnZzkcTmre5PPnz2maNplMHA5HrVbTNH3x4kUSmp6eLi0t1Wq1fX19W7du3bBhwx9MwFh+ExMTq1evrqurczqdSqWyqqqK/F+TYRi73V5QUJDas7u7m6ZpuVwuFotpmqZp+t27dwzDuFwutVrd0dFht9tra2u5XO7g4GBmOrOYHz9+aDSaTZs2OZ1Oo9G4atWqt2/fkhCZHkN6QW7Ir1+/nl7g5cuXZM9nz54JhUKz2dzb21tYWNjU1JSaj5EN7t69y+PxbDbb6dOn8/LyOjo6UiGNRtPa2kq2ycBLo9GY6mBnZycJWa1Wo9F48uRJMttEKpWOjo5moCdLGB8fl8lku3btcjqdFRUVWq02Go2SUFdXV+ovs/7+/m3bth07dszhcDQ0NPB4PIfDkTrIhQsXRCJRd3f38ePHBQJBVp2l2SDn3LlzmbkU/Yfj8/ltbW0cDmdiYqKysnJoaEipVJJQTk5OSUlJXV0dGZugUCiamprev38fDAaPHDly6dIlcluGoqiioqJwOEyeautwOPr7+9O6sOxftX///rKyMq/XK5VKr169mhp/yOVyc3NzjUYjuRU8NzcXi8UUCgVN09XV1XK5XK1Wk3dDKpW2tbV9/frV7/dv3759aGgoq1ZUX7NmjdVqnZ2dnZqa2rt3r9vtTg2pFwgEKpXKYDCQZjAYLCgo0Gq19fX1crlcLpfX1NRIJJLCwsIVK1aEQqFIJKLT6a5cuXLo0KHMdehXAoHAZrMlEgmfz6dSqW7duqVQKEiIz+eXlpaSlYOSyWRxcbFer5cvoNPpyHN6y8vLDxw44Pf7Z2Zm2tvbL1++nA2DflPUavWePXt8Pl84HD5x4oTT6UxNFxGLxQaDgZyKPB7PYDBs3Lgx1UGlUkme+FZeXh6Px8mDURsaGtxu95YtWzLYo1/k5+e3trZOT09//PixsbHR5XKRLxYOhyMUCtVqtV6v53A4FRUVFEUFg8FwOKxWqwcGBo4ePZo6yM6dO6urq8l6EefPnz98+HBmOpOtsmXRbQAAgIzIousPAACA5YdCCAAArIZCCAAArIZCCAAArIZCCAAArIZCCAAArIZCCAAArIZCCAAArIZCCAAArIZCCAAArIZCCAAArMbPdAIA/+eGh4fz8vIsFsuLFy88Hk8oFLLb7ZWVlZnOCwB+h0W3AdKLoiiVSlVfXz84OCgQCBKJxIMHD/bt25fpvADgd7giBEi7169fBwKBkZERk8mUTCaj0WimMwKAf8EVIUB6URQVjUYfPnzY2NiY6VwAYBEohADpRVGUQCCIRCKZTgQAFodRowBpV1ZWlukUAGBJKIQAaScSiTKdAgAsCYUQAABYDYUQAABYDYUQAABYDYUQAABYDRPqAdLL4/FIpdJMZwEAS8I8QgAAYDXcGgUAAFZDIQQAAFZDIQQAAFZDIQQAAFZDIQQAAFZDIQQAAFb7DfiTWkxobsX5AAAAAElFTkSuQmCC\" />"
      ]
     },
     "execution_count": 34,
     "metadata": {},
     "output_type": "execute_result"
    }
   ],
   "source": [
    "histogram2d(chain_mchmc[:r], chain_mchmc[:Aϕ], bins=(40, 20), show_empty_bins=true,\n",
    "    normalize=:pdf, color=:plasma)\n",
    "title!(\"Masked - NSIDE=64\")\n",
    "ylabel!(\"Aϕ\")\n",
    "xlabel!(\"r\")"
   ]
  },
  {
   "cell_type": "code",
   "execution_count": 35,
   "id": "f48c433c",
   "metadata": {
    "tags": []
   },
   "outputs": [
    {
     "ename": "LoadError",
     "evalue": "ArgumentError: index dE not found",
     "output_type": "error",
     "traceback": [
      "ArgumentError: index dE not found",
      "",
      "Stacktrace:",
      " [1] axisindexes",
      "   @ ~/.julia/packages/AxisArrays/CtyI0/src/indexing.jl:317 [inlined]",
      " [2] axisindexes",
      "   @ ~/.julia/packages/AxisArrays/CtyI0/src/indexing.jl:199 [inlined]",
      " [3] macro expansion",
      "   @ ~/.julia/packages/AxisArrays/CtyI0/src/indexing.jl:394 [inlined]",
      " [4] _to_index(::AxisArrays.AxisArray{Float64, 3, CuArray{Float64, 3, CUDA.Mem.DeviceBuffer}, Tuple{AxisArrays.Axis{:iter, StepRange{Int64, Int64}}, AxisArrays.Axis{:var, Vector{Symbol}}, AxisArrays.Axis{:chain, UnitRange{Int64}}}}, ::Tuple{AxisArrays.Unsupported, AxisArrays.Unsupported, AxisArrays.Unsupported}, ::Colon, ::Symbol, ::Colon)",
      "   @ AxisArrays ~/.julia/packages/AxisArrays/CtyI0/src/indexing.jl:349",
      " [5] to_index",
      "   @ ~/.julia/packages/AxisArrays/CtyI0/src/indexing.jl:347 [inlined]",
      " [6] getindex",
      "   @ ~/.julia/packages/AxisArrays/CtyI0/src/indexing.jl:123 [inlined]",
      " [7] getindex(chn::Chains{Float64, AxisArrays.AxisArray{Float64, 3, CuArray{Float64, 3, CUDA.Mem.DeviceBuffer}, Tuple{AxisArrays.Axis{:iter, StepRange{Int64, Int64}}, AxisArrays.Axis{:var, Vector{Symbol}}, AxisArrays.Axis{:chain, UnitRange{Int64}}}}, Missing, NamedTuple{(:parameters,), Tuple{Vector{Symbol}}}, NamedTuple{(), Tuple{}}}, i::Function, j::Symbol, k::Function)",
      "   @ MCMCChains ~/.julia/packages/MCMCChains/oBOqh/src/chains.jl:192",
      " [8] getindex(c::Chains{Float64, AxisArrays.AxisArray{Float64, 3, CuArray{Float64, 3, CUDA.Mem.DeviceBuffer}, Tuple{AxisArrays.Axis{:iter, StepRange{Int64, Int64}}, AxisArrays.Axis{:var, Vector{Symbol}}, AxisArrays.Axis{:chain, UnitRange{Int64}}}}, Missing, NamedTuple{(:parameters,), Tuple{Vector{Symbol}}}, NamedTuple{(), Tuple{}}}, v::Symbol)",
      "   @ MCMCChains ~/.julia/packages/MCMCChains/oBOqh/src/chains.jl:189",
      " [9] top-level scope",
      "   @ In[35]:1"
     ]
    }
   ],
   "source": [
    "plot(chain_mchmc[:dE]/d, label=L\"\\mathrm{Energy}/d\", xlabel=\"step\")"
   ]
  },
  {
   "cell_type": "code",
   "execution_count": 16,
   "id": "fffe9ff6-558c-434b-bf19-64eeefb30e16",
   "metadata": {},
   "outputs": [
    {
     "name": "stdout",
     "output_type": "stream",
     "text": [
      "Created new folder ../summaries/64/MCHMC/MCHMC_summary_Nside_64_use_map_true_masking_false_precond_nothing_L_100.0_TEV_0.001\n"
     ]
    },
    {
     "ename": "LoadError",
     "evalue": "syntax: incomplete: premature end of input",
     "output_type": "error",
     "traceback": [
      "syntax: incomplete: premature end of input",
      "",
      "Stacktrace:",
      " [1] top-level scope",
      "   @ In[16]:22"
     ]
    }
   ],
   "source": [
    "fol_name=string(\"../summaries/\", Nside,\"/MCHMC/MCHMC_summary\",\n",
    "    \"_Nside_\", Nside,\n",
    "    \"_use_map_\", use_map,\n",
    "    \"_masking_\", masking,\n",
    "    \"_precond_\", t,\n",
    "    \"_L_\", L,\n",
    "    \"_TEV_\", TEV)\n",
    "\n",
    "if isdir(fol_name)\n",
    "    fol_files = readdir(fol_name)\n",
    "    println(\"Found existing file \", fol_name)\n",
    "    if length(fol_files) != 0\n",
    "        last_chain = last([file for file in fol_files if occursin(\"hyperparams\", file)])\n",
    "        last_n = parse(Int, last_chain[end])\n",
    "    end\n",
    "else\n",
    "    mkdir(fol_name)\n",
    "    println(string(\"Created new folder \", fol_name))\n",
    "end\n",
    "\n",
    "file_name = string(fol_name, \"/hyperparams_\", last_n+1, \"_\", samples)\n",
    "npzwrite(file_name,\n",
    "    Dict(\"r\"=> vec(chain_mchmc[:r])[:],\n",
    "    \"Aphi\"=> vec(chain_mchmc[:Aϕ])[:])\n",
    "    "
   ]
  },
  {
   "cell_type": "code",
   "execution_count": 17,
   "id": "ce31c592-d53b-4948-a8c1-c02e9c3c323b",
   "metadata": {
    "tags": []
   },
   "outputs": [
    {
     "name": "stderr",
     "output_type": "stream",
     "text": [
      "\u001b[33m\u001b[1m┌ \u001b[22m\u001b[39m\u001b[33m\u001b[1mWarning: \u001b[22m\u001b[39mPerforming scalar indexing on task Task (runnable) @0x00007f062a1beef0.\n",
      "\u001b[33m\u001b[1m│ \u001b[22m\u001b[39mInvocation of getindex resulted in scalar indexing of a GPU array.\n",
      "\u001b[33m\u001b[1m│ \u001b[22m\u001b[39mThis is typically caused by calling an iterating implementation of a method.\n",
      "\u001b[33m\u001b[1m│ \u001b[22m\u001b[39mSuch implementations *do not* execute on the GPU, but very slowly on the CPU,\n",
      "\u001b[33m\u001b[1m│ \u001b[22m\u001b[39mand therefore are only permitted from the REPL for prototyping purposes.\n",
      "\u001b[33m\u001b[1m│ \u001b[22m\u001b[39mIf you did intend to index this array, annotate the caller with @allowscalar.\n",
      "\u001b[33m\u001b[1m└ \u001b[22m\u001b[39m\u001b[90m@ GPUArraysCore ~/.julia/packages/GPUArraysCore/uOYfN/src/GPUArraysCore.jl:106\u001b[39m\n"
     ]
    },
    {
     "ename": "LoadError",
     "evalue": "InvalidIRError: compiling MethodInstance for GPUArrays.getindex_kernel(::CUDA.CuKernelContext, ::CuDeviceVector{Float64, 1}, ::CuDeviceVector{Float64, 1}, ::Tuple{Int64}, ::CuDeviceVector{Union{Nothing, Int64}, 1}) resulted in invalid LLVM IR\n\u001b[31mReason: unsupported dynamic function invocation\u001b[39m\u001b[31m (call to var\"#sprint#484\"(\u001b[90mcontext\u001b[39m, \u001b[90msizehint\u001b[39m::\u001b[1mInteger\u001b[22m, ::\u001b[1mtypeof(sprint)\u001b[22m, \u001b[90mf\u001b[39m::\u001b[1mFunction\u001b[22m, \u001b[90margs...\u001b[39m)\u001b[90m @\u001b[39m \u001b[90mBase\u001b[39m \u001b[90mstrings/\u001b[39m\u001b[90m\u001b[4mio.jl:107\u001b[24m\u001b[39m)\u001b[39m\nStacktrace:\n  [1] \u001b[0m\u001b[1msprint\u001b[22m\n\u001b[90m    @\u001b[39m \u001b[90m./strings/\u001b[39m\u001b[90m\u001b[4mio.jl:107\u001b[24m\u001b[39m\n  [2] \u001b[0m\u001b[1m#repr#487\u001b[22m\n\u001b[90m    @\u001b[39m \u001b[90m./strings/\u001b[39m\u001b[90m\u001b[4mio.jl:282\u001b[24m\u001b[39m\n  [3] \u001b[0m\u001b[1mrepr\u001b[22m\n\u001b[90m    @\u001b[39m \u001b[90m./strings/\u001b[39m\u001b[90m\u001b[4mio.jl:282\u001b[24m\u001b[39m\n  [4] \u001b[0m\u001b[1mlimitrepr\u001b[22m\n\u001b[90m    @\u001b[39m \u001b[90m./strings/\u001b[39m\u001b[90m\u001b[4mio.jl:284\u001b[24m\u001b[39m\n  [5] \u001b[0m\u001b[1mto_index\u001b[22m\n\u001b[90m    @\u001b[39m \u001b[90m./\u001b[39m\u001b[90m\u001b[4mindices.jl:300\u001b[24m\u001b[39m\n  [6] \u001b[0m\u001b[1mto_index\u001b[22m\n\u001b[90m    @\u001b[39m \u001b[90m./\u001b[39m\u001b[90m\u001b[4mindices.jl:277\u001b[24m\u001b[39m\n  [7] \u001b[0m\u001b[1m_to_indices1\u001b[22m\n\u001b[90m    @\u001b[39m \u001b[90m./\u001b[39m\u001b[90m\u001b[4mindices.jl:359\u001b[24m\u001b[39m\n  [8] \u001b[0m\u001b[1mto_indices\u001b[22m\n\u001b[90m    @\u001b[39m \u001b[90m./\u001b[39m\u001b[90m\u001b[4mindices.jl:354\u001b[24m\u001b[39m\n  [9] \u001b[0m\u001b[1mto_indices\u001b[22m\n\u001b[90m    @\u001b[39m \u001b[90m./\u001b[39m\u001b[90m\u001b[4mindices.jl:345\u001b[24m\u001b[39m\n [10] \u001b[0m\u001b[1mgetindex\u001b[22m\n\u001b[90m    @\u001b[39m \u001b[90m./\u001b[39m\u001b[90m\u001b[4mabstractarray.jl:1296\u001b[24m\u001b[39m\n [11] \u001b[0m\u001b[1mmacro expansion\u001b[22m\n\u001b[90m    @\u001b[39m \u001b[90m~/.julia/packages/GPUArrays/5XhED/src/host/\u001b[39m\u001b[90m\u001b[4mindexing.jl:58\u001b[24m\u001b[39m\n [12] \u001b[0m\u001b[1mgetindex_kernel\u001b[22m\n\u001b[90m    @\u001b[39m \u001b[90m~/.julia/packages/GPUArrays/5XhED/src/host/\u001b[39m\u001b[90m\u001b[4mindexing.jl:52\u001b[24m\u001b[39m\n\u001b[31mReason: unsupported dynamic function invocation\u001b[39m\u001b[31m (call to print)\u001b[39m\nStacktrace:\n [1] \u001b[0m\u001b[1mprint_to_string\u001b[22m\n\u001b[90m   @\u001b[39m \u001b[90m./strings/\u001b[39m\u001b[90m\u001b[4mio.jl:144\u001b[24m\u001b[39m\n\u001b[31mReason: unsupported call through a literal pointer\u001b[39m\u001b[31m (call to ijl_array_grow_end)\u001b[39m\nStacktrace:\n [1] \u001b[0m\u001b[1m_growend!\u001b[22m\n\u001b[90m   @\u001b[39m \u001b[90m./\u001b[39m\u001b[90m\u001b[4marray.jl:1014\u001b[24m\u001b[39m\n [2] \u001b[0m\u001b[1mresize!\u001b[22m\n\u001b[90m   @\u001b[39m \u001b[90m./\u001b[39m\u001b[90m\u001b[4marray.jl:1249\u001b[24m\u001b[39m\n [3] \u001b[0m\u001b[1mprint_to_string\u001b[22m\n\u001b[90m   @\u001b[39m \u001b[90m./strings/\u001b[39m\u001b[90m\u001b[4mio.jl:146\u001b[24m\u001b[39m\n\u001b[31mReason: unsupported call through a literal pointer\u001b[39m\u001b[31m (call to ijl_array_del_end)\u001b[39m\nStacktrace:\n [1] \u001b[0m\u001b[1m_deleteend!\u001b[22m\n\u001b[90m   @\u001b[39m \u001b[90m./\u001b[39m\u001b[90m\u001b[4marray.jl:1023\u001b[24m\u001b[39m\n [2] \u001b[0m\u001b[1mresize!\u001b[22m\n\u001b[90m   @\u001b[39m \u001b[90m./\u001b[39m\u001b[90m\u001b[4marray.jl:1254\u001b[24m\u001b[39m\n [3] \u001b[0m\u001b[1mprint_to_string\u001b[22m\n\u001b[90m   @\u001b[39m \u001b[90m./strings/\u001b[39m\u001b[90m\u001b[4mio.jl:146\u001b[24m\u001b[39m\n\u001b[31mReason: unsupported call through a literal pointer\u001b[39m\u001b[31m (call to ijl_array_to_string)\u001b[39m\nStacktrace:\n [1] \u001b[0m\u001b[1mString\u001b[22m\n\u001b[90m   @\u001b[39m \u001b[90m./strings/\u001b[39m\u001b[90m\u001b[4mstring.jl:67\u001b[24m\u001b[39m\n [2] \u001b[0m\u001b[1mprint_to_string\u001b[22m\n\u001b[90m   @\u001b[39m \u001b[90m./strings/\u001b[39m\u001b[90m\u001b[4mio.jl:146\u001b[24m\u001b[39m\n\u001b[31mReason: unsupported call through a literal pointer\u001b[39m\u001b[31m (call to ijl_alloc_string)\u001b[39m\nStacktrace:\n [1] \u001b[0m\u001b[1m_string_n\u001b[22m\n\u001b[90m   @\u001b[39m \u001b[90m./strings/\u001b[39m\u001b[90m\u001b[4mstring.jl:90\u001b[24m\u001b[39m\n [2] \u001b[0m\u001b[1mStringVector\u001b[22m\n\u001b[90m   @\u001b[39m \u001b[90m./\u001b[39m\u001b[90m\u001b[4miobuffer.jl:31\u001b[24m\u001b[39m\n [3] \u001b[0m\u001b[1m#IOBuffer#454\u001b[22m\n\u001b[90m   @\u001b[39m \u001b[90m./\u001b[39m\u001b[90m\u001b[4miobuffer.jl:114\u001b[24m\u001b[39m\n [4] \u001b[0m\u001b[1mGenericIOBuffer\u001b[22m\n\u001b[90m   @\u001b[39m \u001b[90m./\u001b[39m\u001b[90m\u001b[4miobuffer.jl:105\u001b[24m\u001b[39m\n [5] \u001b[0m\u001b[1mprint_to_string\u001b[22m\n\u001b[90m   @\u001b[39m \u001b[90m./strings/\u001b[39m\u001b[90m\u001b[4mio.jl:142\u001b[24m\u001b[39m\n\u001b[31mReason: unsupported call through a literal pointer\u001b[39m\u001b[31m (call to ijl_string_to_array)\u001b[39m\nStacktrace:\n [1] \u001b[0m\u001b[1munsafe_wrap\u001b[22m\n\u001b[90m   @\u001b[39m \u001b[90m./strings/\u001b[39m\u001b[90m\u001b[4mstring.jl:100\u001b[24m\u001b[39m\n [2] \u001b[0m\u001b[1mStringVector\u001b[22m\n\u001b[90m   @\u001b[39m \u001b[90m./\u001b[39m\u001b[90m\u001b[4miobuffer.jl:31\u001b[24m\u001b[39m\n [3] \u001b[0m\u001b[1m#IOBuffer#454\u001b[22m\n\u001b[90m   @\u001b[39m \u001b[90m./\u001b[39m\u001b[90m\u001b[4miobuffer.jl:114\u001b[24m\u001b[39m\n [4] \u001b[0m\u001b[1mGenericIOBuffer\u001b[22m\n\u001b[90m   @\u001b[39m \u001b[90m./\u001b[39m\u001b[90m\u001b[4miobuffer.jl:105\u001b[24m\u001b[39m\n [5] \u001b[0m\u001b[1mprint_to_string\u001b[22m\n\u001b[90m   @\u001b[39m \u001b[90m./strings/\u001b[39m\u001b[90m\u001b[4mio.jl:142\u001b[24m\u001b[39m\n\u001b[36m\u001b[1mHint\u001b[22m\u001b[39m\u001b[36m: catch this exception as `err` and call `code_typed(err; interactive = true)` to introspect the erronous code with Cthulhu.jl\u001b[39m",
     "output_type": "error",
     "traceback": [
      "InvalidIRError: compiling MethodInstance for GPUArrays.getindex_kernel(::CUDA.CuKernelContext, ::CuDeviceVector{Float64, 1}, ::CuDeviceVector{Float64, 1}, ::Tuple{Int64}, ::CuDeviceVector{Union{Nothing, Int64}, 1}) resulted in invalid LLVM IR\n\u001b[31mReason: unsupported dynamic function invocation\u001b[39m\u001b[31m (call to var\"#sprint#484\"(\u001b[90mcontext\u001b[39m, \u001b[90msizehint\u001b[39m::\u001b[1mInteger\u001b[22m, ::\u001b[1mtypeof(sprint)\u001b[22m, \u001b[90mf\u001b[39m::\u001b[1mFunction\u001b[22m, \u001b[90margs...\u001b[39m)\u001b[90m @\u001b[39m \u001b[90mBase\u001b[39m \u001b[90mstrings/\u001b[39m\u001b[90m\u001b[4mio.jl:107\u001b[24m\u001b[39m)\u001b[39m\nStacktrace:\n  [1] \u001b[0m\u001b[1msprint\u001b[22m\n\u001b[90m    @\u001b[39m \u001b[90m./strings/\u001b[39m\u001b[90m\u001b[4mio.jl:107\u001b[24m\u001b[39m\n  [2] \u001b[0m\u001b[1m#repr#487\u001b[22m\n\u001b[90m    @\u001b[39m \u001b[90m./strings/\u001b[39m\u001b[90m\u001b[4mio.jl:282\u001b[24m\u001b[39m\n  [3] \u001b[0m\u001b[1mrepr\u001b[22m\n\u001b[90m    @\u001b[39m \u001b[90m./strings/\u001b[39m\u001b[90m\u001b[4mio.jl:282\u001b[24m\u001b[39m\n  [4] \u001b[0m\u001b[1mlimitrepr\u001b[22m\n\u001b[90m    @\u001b[39m \u001b[90m./strings/\u001b[39m\u001b[90m\u001b[4mio.jl:284\u001b[24m\u001b[39m\n  [5] \u001b[0m\u001b[1mto_index\u001b[22m\n\u001b[90m    @\u001b[39m \u001b[90m./\u001b[39m\u001b[90m\u001b[4mindices.jl:300\u001b[24m\u001b[39m\n  [6] \u001b[0m\u001b[1mto_index\u001b[22m\n\u001b[90m    @\u001b[39m \u001b[90m./\u001b[39m\u001b[90m\u001b[4mindices.jl:277\u001b[24m\u001b[39m\n  [7] \u001b[0m\u001b[1m_to_indices1\u001b[22m\n\u001b[90m    @\u001b[39m \u001b[90m./\u001b[39m\u001b[90m\u001b[4mindices.jl:359\u001b[24m\u001b[39m\n  [8] \u001b[0m\u001b[1mto_indices\u001b[22m\n\u001b[90m    @\u001b[39m \u001b[90m./\u001b[39m\u001b[90m\u001b[4mindices.jl:354\u001b[24m\u001b[39m\n  [9] \u001b[0m\u001b[1mto_indices\u001b[22m\n\u001b[90m    @\u001b[39m \u001b[90m./\u001b[39m\u001b[90m\u001b[4mindices.jl:345\u001b[24m\u001b[39m\n [10] \u001b[0m\u001b[1mgetindex\u001b[22m\n\u001b[90m    @\u001b[39m \u001b[90m./\u001b[39m\u001b[90m\u001b[4mabstractarray.jl:1296\u001b[24m\u001b[39m\n [11] \u001b[0m\u001b[1mmacro expansion\u001b[22m\n\u001b[90m    @\u001b[39m \u001b[90m~/.julia/packages/GPUArrays/5XhED/src/host/\u001b[39m\u001b[90m\u001b[4mindexing.jl:58\u001b[24m\u001b[39m\n [12] \u001b[0m\u001b[1mgetindex_kernel\u001b[22m\n\u001b[90m    @\u001b[39m \u001b[90m~/.julia/packages/GPUArrays/5XhED/src/host/\u001b[39m\u001b[90m\u001b[4mindexing.jl:52\u001b[24m\u001b[39m\n\u001b[31mReason: unsupported dynamic function invocation\u001b[39m\u001b[31m (call to print)\u001b[39m\nStacktrace:\n [1] \u001b[0m\u001b[1mprint_to_string\u001b[22m\n\u001b[90m   @\u001b[39m \u001b[90m./strings/\u001b[39m\u001b[90m\u001b[4mio.jl:144\u001b[24m\u001b[39m\n\u001b[31mReason: unsupported call through a literal pointer\u001b[39m\u001b[31m (call to ijl_array_grow_end)\u001b[39m\nStacktrace:\n [1] \u001b[0m\u001b[1m_growend!\u001b[22m\n\u001b[90m   @\u001b[39m \u001b[90m./\u001b[39m\u001b[90m\u001b[4marray.jl:1014\u001b[24m\u001b[39m\n [2] \u001b[0m\u001b[1mresize!\u001b[22m\n\u001b[90m   @\u001b[39m \u001b[90m./\u001b[39m\u001b[90m\u001b[4marray.jl:1249\u001b[24m\u001b[39m\n [3] \u001b[0m\u001b[1mprint_to_string\u001b[22m\n\u001b[90m   @\u001b[39m \u001b[90m./strings/\u001b[39m\u001b[90m\u001b[4mio.jl:146\u001b[24m\u001b[39m\n\u001b[31mReason: unsupported call through a literal pointer\u001b[39m\u001b[31m (call to ijl_array_del_end)\u001b[39m\nStacktrace:\n [1] \u001b[0m\u001b[1m_deleteend!\u001b[22m\n\u001b[90m   @\u001b[39m \u001b[90m./\u001b[39m\u001b[90m\u001b[4marray.jl:1023\u001b[24m\u001b[39m\n [2] \u001b[0m\u001b[1mresize!\u001b[22m\n\u001b[90m   @\u001b[39m \u001b[90m./\u001b[39m\u001b[90m\u001b[4marray.jl:1254\u001b[24m\u001b[39m\n [3] \u001b[0m\u001b[1mprint_to_string\u001b[22m\n\u001b[90m   @\u001b[39m \u001b[90m./strings/\u001b[39m\u001b[90m\u001b[4mio.jl:146\u001b[24m\u001b[39m\n\u001b[31mReason: unsupported call through a literal pointer\u001b[39m\u001b[31m (call to ijl_array_to_string)\u001b[39m\nStacktrace:\n [1] \u001b[0m\u001b[1mString\u001b[22m\n\u001b[90m   @\u001b[39m \u001b[90m./strings/\u001b[39m\u001b[90m\u001b[4mstring.jl:67\u001b[24m\u001b[39m\n [2] \u001b[0m\u001b[1mprint_to_string\u001b[22m\n\u001b[90m   @\u001b[39m \u001b[90m./strings/\u001b[39m\u001b[90m\u001b[4mio.jl:146\u001b[24m\u001b[39m\n\u001b[31mReason: unsupported call through a literal pointer\u001b[39m\u001b[31m (call to ijl_alloc_string)\u001b[39m\nStacktrace:\n [1] \u001b[0m\u001b[1m_string_n\u001b[22m\n\u001b[90m   @\u001b[39m \u001b[90m./strings/\u001b[39m\u001b[90m\u001b[4mstring.jl:90\u001b[24m\u001b[39m\n [2] \u001b[0m\u001b[1mStringVector\u001b[22m\n\u001b[90m   @\u001b[39m \u001b[90m./\u001b[39m\u001b[90m\u001b[4miobuffer.jl:31\u001b[24m\u001b[39m\n [3] \u001b[0m\u001b[1m#IOBuffer#454\u001b[22m\n\u001b[90m   @\u001b[39m \u001b[90m./\u001b[39m\u001b[90m\u001b[4miobuffer.jl:114\u001b[24m\u001b[39m\n [4] \u001b[0m\u001b[1mGenericIOBuffer\u001b[22m\n\u001b[90m   @\u001b[39m \u001b[90m./\u001b[39m\u001b[90m\u001b[4miobuffer.jl:105\u001b[24m\u001b[39m\n [5] \u001b[0m\u001b[1mprint_to_string\u001b[22m\n\u001b[90m   @\u001b[39m \u001b[90m./strings/\u001b[39m\u001b[90m\u001b[4mio.jl:142\u001b[24m\u001b[39m\n\u001b[31mReason: unsupported call through a literal pointer\u001b[39m\u001b[31m (call to ijl_string_to_array)\u001b[39m\nStacktrace:\n [1] \u001b[0m\u001b[1munsafe_wrap\u001b[22m\n\u001b[90m   @\u001b[39m \u001b[90m./strings/\u001b[39m\u001b[90m\u001b[4mstring.jl:100\u001b[24m\u001b[39m\n [2] \u001b[0m\u001b[1mStringVector\u001b[22m\n\u001b[90m   @\u001b[39m \u001b[90m./\u001b[39m\u001b[90m\u001b[4miobuffer.jl:31\u001b[24m\u001b[39m\n [3] \u001b[0m\u001b[1m#IOBuffer#454\u001b[22m\n\u001b[90m   @\u001b[39m \u001b[90m./\u001b[39m\u001b[90m\u001b[4miobuffer.jl:114\u001b[24m\u001b[39m\n [4] \u001b[0m\u001b[1mGenericIOBuffer\u001b[22m\n\u001b[90m   @\u001b[39m \u001b[90m./\u001b[39m\u001b[90m\u001b[4miobuffer.jl:105\u001b[24m\u001b[39m\n [5] \u001b[0m\u001b[1mprint_to_string\u001b[22m\n\u001b[90m   @\u001b[39m \u001b[90m./strings/\u001b[39m\u001b[90m\u001b[4mio.jl:142\u001b[24m\u001b[39m\n\u001b[36m\u001b[1mHint\u001b[22m\u001b[39m\u001b[36m: catch this exception as `err` and call `code_typed(err; interactive = true)` to introspect the erronous code with Cthulhu.jl\u001b[39m",
      "",
      "Stacktrace:",
      "  [1] check_ir(job::GPUCompiler.CompilerJob{GPUCompiler.PTXCompilerTarget, CUDA.CUDACompilerParams}, args::LLVM.Module)",
      "    @ GPUCompiler ~/.julia/packages/GPUCompiler/YO8Uj/src/validation.jl:149",
      "  [2] macro expansion",
      "    @ ~/.julia/packages/GPUCompiler/YO8Uj/src/driver.jl:415 [inlined]",
      "  [3] macro expansion",
      "    @ ~/.julia/packages/TimerOutputs/RsWnF/src/TimerOutput.jl:253 [inlined]",
      "  [4] macro expansion",
      "    @ ~/.julia/packages/GPUCompiler/YO8Uj/src/driver.jl:414 [inlined]",
      "  [5] emit_llvm(job::GPUCompiler.CompilerJob; libraries::Bool, toplevel::Bool, optimize::Bool, cleanup::Bool, only_entry::Bool, validate::Bool)",
      "    @ GPUCompiler ~/.julia/packages/GPUCompiler/YO8Uj/src/utils.jl:89",
      "  [6] emit_llvm",
      "    @ ~/.julia/packages/GPUCompiler/YO8Uj/src/utils.jl:83 [inlined]",
      "  [7] codegen(output::Symbol, job::GPUCompiler.CompilerJob; libraries::Bool, toplevel::Bool, optimize::Bool, cleanup::Bool, strip::Bool, validate::Bool, only_entry::Bool, parent_job::Nothing)",
      "    @ GPUCompiler ~/.julia/packages/GPUCompiler/YO8Uj/src/driver.jl:129",
      "  [8] codegen",
      "    @ ~/.julia/packages/GPUCompiler/YO8Uj/src/driver.jl:110 [inlined]",
      "  [9] compile(target::Symbol, job::GPUCompiler.CompilerJob; libraries::Bool, toplevel::Bool, optimize::Bool, cleanup::Bool, strip::Bool, validate::Bool, only_entry::Bool)",
      "    @ GPUCompiler ~/.julia/packages/GPUCompiler/YO8Uj/src/driver.jl:106",
      " [10] compile",
      "    @ ~/.julia/packages/GPUCompiler/YO8Uj/src/driver.jl:98 [inlined]",
      " [11] #1037",
      "    @ ~/.julia/packages/CUDA/35NC6/src/compiler/compilation.jl:104 [inlined]",
      " [12] JuliaContext(f::CUDA.var\"#1037#1040\"{GPUCompiler.CompilerJob{GPUCompiler.PTXCompilerTarget, CUDA.CUDACompilerParams}})",
      "    @ GPUCompiler ~/.julia/packages/GPUCompiler/YO8Uj/src/driver.jl:47",
      " [13] compile(job::GPUCompiler.CompilerJob)",
      "    @ CUDA ~/.julia/packages/CUDA/35NC6/src/compiler/compilation.jl:103",
      " [14] actual_compilation(cache::Dict{Any, CuFunction}, src::Core.MethodInstance, world::UInt64, cfg::GPUCompiler.CompilerConfig{GPUCompiler.PTXCompilerTarget, CUDA.CUDACompilerParams}, compiler::typeof(CUDA.compile), linker::typeof(CUDA.link))",
      "    @ GPUCompiler ~/.julia/packages/GPUCompiler/YO8Uj/src/execution.jl:125",
      " [15] cached_compilation(cache::Dict{Any, CuFunction}, src::Core.MethodInstance, cfg::GPUCompiler.CompilerConfig{GPUCompiler.PTXCompilerTarget, CUDA.CUDACompilerParams}, compiler::Function, linker::Function)",
      "    @ GPUCompiler ~/.julia/packages/GPUCompiler/YO8Uj/src/execution.jl:103",
      " [16] macro expansion",
      "    @ ~/.julia/packages/CUDA/35NC6/src/compiler/execution.jl:318 [inlined]",
      " [17] macro expansion",
      "    @ ./lock.jl:267 [inlined]",
      " [18] cufunction(f::typeof(GPUArrays.getindex_kernel), tt::Type{Tuple{CUDA.CuKernelContext, CuDeviceVector{Float64, 1}, CuDeviceVector{Float64, 1}, Tuple{Int64}, CuDeviceVector{Union{Nothing, Int64}, 1}}}; kwargs::Base.Pairs{Symbol, Union{}, Tuple{}, NamedTuple{(), Tuple{}}})",
      "    @ CUDA ~/.julia/packages/CUDA/35NC6/src/compiler/execution.jl:313",
      " [19] cufunction",
      "    @ ~/.julia/packages/CUDA/35NC6/src/compiler/execution.jl:310 [inlined]",
      " [20] macro expansion",
      "    @ ~/.julia/packages/CUDA/35NC6/src/compiler/execution.jl:104 [inlined]",
      " [21] #launch_heuristic#1080",
      "    @ ~/.julia/packages/CUDA/35NC6/src/gpuarrays.jl:17 [inlined]",
      " [22] launch_heuristic",
      "    @ ~/.julia/packages/CUDA/35NC6/src/gpuarrays.jl:15 [inlined]",
      " [23] gpu_call(::typeof(GPUArrays.getindex_kernel), ::CuArray{Float64, 1, CUDA.Mem.DeviceBuffer}, ::CuArray{Float64, 1, CUDA.Mem.DeviceBuffer}, ::Tuple{Int64}, ::CuArray{Union{Nothing, Int64}, 1, CUDA.Mem.DeviceBuffer}; target::CuArray{Float64, 1, CUDA.Mem.DeviceBuffer}, elements::Nothing, threads::Nothing, blocks::Nothing, name::Nothing)",
      "    @ GPUArrays ~/.julia/packages/GPUArrays/5XhED/src/device/execution.jl:61",
      " [24] gpu_call",
      "    @ ~/.julia/packages/GPUArrays/5XhED/src/device/execution.jl:34 [inlined]",
      " [25] _getindex(src::CuArray{Float64, 1, CUDA.Mem.DeviceBuffer}, Is::Vector{Union{Nothing, Int64}})",
      "    @ GPUArrays ~/.julia/packages/GPUArrays/5XhED/src/host/indexing.jl:48",
      " [26] getindex",
      "    @ ~/.julia/packages/GPUArrays/5XhED/src/host/indexing.jl:38 [inlined]",
      " [27] getindex(c::ChainDataFrame{NamedTuple{(:parameters, :ess, :ess_per_sec), Tuple{Vector{Symbol}, CuArray{Float64, 1, CUDA.Mem.DeviceBuffer}, CuArray{Missing, 1, CUDA.Mem.DeviceBuffer}}}}, s::Vector{Symbol}, ks::Vector{Symbol})",
      "    @ MCMCChains ~/.julia/packages/MCMCChains/oBOqh/src/summarize.jl:92",
      " [28] getindex(c::ChainDataFrame{NamedTuple{(:parameters, :ess, :ess_per_sec), Tuple{Vector{Symbol}, CuArray{Float64, 1, CUDA.Mem.DeviceBuffer}, CuArray{Missing, 1, CUDA.Mem.DeviceBuffer}}}}, s::Vector{Symbol}, ks::Symbol)",
      "    @ MCMCChains ~/.julia/packages/MCMCChains/oBOqh/src/summarize.jl:65",
      " [29] top-level scope",
      "    @ In[17]:1"
     ]
    }
   ],
   "source": [
    "ess_mchmc = MCMCDiagnosticTools.ess(chain_mchmc)[[:r,:Aϕ],:ess]"
   ]
  },
  {
   "cell_type": "code",
   "execution_count": 18,
   "id": "234e5da4",
   "metadata": {
    "tags": []
   },
   "outputs": [
    {
     "ename": "LoadError",
     "evalue": "UndefVarError: `ess_mchmc` not defined",
     "output_type": "error",
     "traceback": [
      "UndefVarError: `ess_mchmc` not defined",
      "",
      "Stacktrace:",
      " [1] top-level scope",
      "   @ In[18]:1"
     ]
    }
   ],
   "source": [
    "ess_per_call_mchmc = minimum(ess_mchmc ./ samples) #ncalls_mchmc"
   ]
  },
  {
   "cell_type": "code",
   "execution_count": null,
   "id": "acc2fe43",
   "metadata": {
    "tags": []
   },
   "outputs": [],
   "source": [
    "vars = var(samples_mchmc, dims=2)[1:d]\n",
    "_vars = var(samples_mchmc, dims=2)[d+1:2*d];"
   ]
  },
  {
   "cell_type": "code",
   "execution_count": null,
   "id": "118b8c8d",
   "metadata": {
    "tags": []
   },
   "outputs": [],
   "source": [
    "k = round(maximum(vars)/minimum(vars), digits=2)\n",
    "_k = round(maximum(_vars)/minimum(_vars), digits=2);"
   ]
  },
  {
   "cell_type": "code",
   "execution_count": null,
   "id": "772e4ba2",
   "metadata": {
    "tags": []
   },
   "outputs": [],
   "source": [
    "plot(_vars, title=\"Diag(cov) - Masked\", label=string(\"Latent space --> K = \", _k))\n",
    "plot!(vars, label=string(\"Parameter space --> K = \", k))"
   ]
  },
  {
   "cell_type": "markdown",
   "id": "47bf987c-cf7a-45c4-af34-128247e75fe8",
   "metadata": {
    "tags": []
   },
   "source": [
    "# HMC"
   ]
  },
  {
   "cell_type": "code",
   "execution_count": null,
   "id": "9bc3972a-cbef-4aed-be62-0d8f1bc7dede",
   "metadata": {
    "tags": []
   },
   "outputs": [],
   "source": [
    "samples_hmc = []\n",
    "rng = Xoshiro(1)\n",
    "prob.ncalls[] = 0\n",
    "ϵ=0.05\n",
    "samples = 10\n",
    "@showprogress for i=1:samples\n",
    "    Ω, = state = hmc_step(rng, prob, init_params, prob.Λmass; symp_kwargs=[(N=25, ϵ=ϵ)], progress=false, always_accept=(i<10))\n",
    "    push!(samples_hmc, adapt(Array, state))\n",
    "end\n",
    "ncalls_hmc = prob.ncalls[]"
   ]
  },
  {
   "cell_type": "code",
   "execution_count": null,
   "id": "3c3b6b15-c9f0-4e2e-a38a-e05c570815f8",
   "metadata": {
    "tags": []
   },
   "outputs": [],
   "source": [
    "chain_hmc = Chains(\n",
    "    permutedims(reduce(hcat, [exp.(sample[1].θ) for sample in samples_hmc])),\n",
    "    [:r, :Aϕ],\n",
    ");"
   ]
  },
  {
   "cell_type": "code",
   "execution_count": null,
   "id": "11ae9425-a275-467b-980c-9461ef43a51d",
   "metadata": {
    "tags": []
   },
   "outputs": [],
   "source": [
    "_samples_hmc = zeros(samples, 3*Nside^2+2)\n",
    "for i in 1:samples\n",
    "    _samples_hmc[i, :]  = samples_hmc[i][1][:]\n",
    "end\n",
    "_samples_hmc"
   ]
  },
  {
   "cell_type": "code",
   "execution_count": null,
   "id": "84483f33",
   "metadata": {
    "tags": []
   },
   "outputs": [],
   "source": [
    "fol_name=string(\"/pscratch/sd/j/jaimerz/chains/\", Nside, \"/HMC/CMBLensing\",\n",
    "    \"_use_map_\", use_map,\n",
    "    \"_masking_\", masking,\n",
    "    \"_Nside_\", Nside,\n",
    "    \"_ϵ_\", ϵ)\n",
    "\n",
    "if isdir(fol_name)\n",
    "    fol_files = readdir(fol_name)\n",
    "    println(\"Found existing file \", fol_name)\n",
    "    if length(fol_files) != 0\n",
    "        last_chain = last([file for file in fol_files if occursin(\"chain\", file)])\n",
    "        last_n = parse(Int, last_chain[end])\n",
    "        last_chain = load(string(fol_name, \"/\", last_chain), \"samples\")\n",
    "        init_params = last_chain[:, end]\n",
    "        println(\"Restarting chain\")\n",
    "    else\n",
    "        println(\"Starting new chain\")\n",
    "        last_n = 0\n",
    "        init_params = prob.Ωstart\n",
    "    end\n",
    "else\n",
    "    mkdir(fol_name)\n",
    "    println(string(\"Created new folder \", fol_name))\n",
    "    last_n = 0\n",
    "end\n",
    "\n",
    "file_name = string(fol_name, \"/chain_\", last_n+1, \"_\", samples)\n",
    "\n",
    "@save file_name _samples_hmc"
   ]
  },
  {
   "cell_type": "code",
   "execution_count": null,
   "id": "7fa49497-ecff-4d9b-ad1b-35890c98a539",
   "metadata": {
    "tags": []
   },
   "outputs": [],
   "source": [
    "fol_name=string(\"/pscratch/sd/j/jaimerz/summaries/\", Nside,\"/HMC/HMC_summary\",\n",
    "    \"_use_map_\", use_map,\n",
    "    \"_masking_\", masking,\n",
    "    \"_Nside_\", Nside,\n",
    "    \"_ϵ_\", ϵ)\n",
    "\n",
    "if isdir(fol_name)\n",
    "    fol_files = readdir(fol_name)\n",
    "    println(\"Found existing file \", fol_name)\n",
    "    if length(fol_files) != 0\n",
    "        last_chain = last([file for file in fol_files if occursin(\"hyperparams\", file)])\n",
    "        last_n = parse(Int, last_chain[end])\n",
    "    end\n",
    "else\n",
    "    mkdir(fol_name)\n",
    "    println(string(\"Created new folder \", fol_name))\n",
    "end\n",
    "\n",
    "file_name = string(fol_name, \"/hyperparams_\", last_n+1, \"_\", samples)\n",
    "npzwrite(file_name,\n",
    "    Dict(\"r\"=> vec(chain_hmc[:r])[:],\n",
    "    \"Aphi\"=> vec(chain_hmc[:Aϕ])[:])"
   ]
  },
  {
   "cell_type": "code",
   "execution_count": null,
   "id": "482c3532-2b22-4c9b-a483-f90319a6ccee",
   "metadata": {
    "tags": []
   },
   "outputs": [],
   "source": [
    "#samples_hmc = load(\"../chains/HMC/CMBLensing_masked_Nnside_64_ϵ_0.25\", \"_samples_hmc\")"
   ]
  },
  {
   "cell_type": "code",
   "execution_count": null,
   "id": "ca8d1356-2707-4cbc-87c5-51dc2c1960bb",
   "metadata": {
    "tags": []
   },
   "outputs": [],
   "source": [
    "chain_hmc = Chains(\n",
    "    permutedims(reduce(hcat, [exp.(sample[1].θ) for sample in samples_hmc])),\n",
    "    [:r, :Aϕ],\n",
    ");"
   ]
  },
  {
   "cell_type": "markdown",
   "id": "547a93f5-b27f-4f69-a70d-203d6d1cb3ad",
   "metadata": {},
   "source": [
    "## Plot"
   ]
  },
  {
   "cell_type": "code",
   "execution_count": null,
   "id": "9b249925-7905-4f02-87dd-ab97a3b5194f",
   "metadata": {
    "tags": []
   },
   "outputs": [],
   "source": [
    "plot(getindex.(samples_hmc, 2), label=nothing, xlabel=\"step\", ylabel=L\"\\Delta H\")     "
   ]
  },
  {
   "cell_type": "code",
   "execution_count": null,
   "id": "4a353113-7133-46f6-8bfc-6341e3a631e2",
   "metadata": {
    "tags": []
   },
   "outputs": [],
   "source": [
    "samples_hmc[end][1][:ϕ°][:]"
   ]
  },
  {
   "cell_type": "code",
   "execution_count": null,
   "id": "764b2120-5ce1-442e-94aa-b8f096861fd2",
   "metadata": {
    "tags": []
   },
   "outputs": [],
   "source": [
    "ps = map([(:ϕ°,:I,L\"L\",L\"\\phi^\\circ\"), (:f°,:E,\"L\\ell\",L\"E^\\circ\"), (:f°,:B,L\"\\ell\",L\"B^\\circ\")]) do (k1, k2, xlabel, title)\n",
    "    plot(get_Cℓ(prob.Ωtrue[k1][k2]); label=\"true\", xlabel, title)\n",
    "    plot!(get_Cℓ(prob.Ωstart[k1][k2]); label=\"start\", xlabel, title)\n",
    "    plot!(get_Cℓ(samples_hmc[end][1][k1][k2]); label=\"last sample\", xlabel, title)\n",
    "end\n",
    "plot(ps..., layout=(1,3), xscale=:log10, yscale=:log10, size=(1000,300), legend=:bottomleft)\n",
    "     \n"
   ]
  },
  {
   "cell_type": "code",
   "execution_count": null,
   "id": "72d2f50a-e563-45ce-850a-825e055409ac",
   "metadata": {
    "tags": []
   },
   "outputs": [],
   "source": [
    "plot([exp(Ω.θ.r) for (Ω,) in samples_hmc], label=L\"r\", xlabel=\"step\")\n",
    "plot!([exp(Ω.θ.Aϕ) for (Ω,) in samples_hmc], label=L\"A_\\phi\")     \n"
   ]
  },
  {
   "cell_type": "code",
   "execution_count": null,
   "id": "124fd2aa-79ad-47d4-affc-328ffb13758d",
   "metadata": {
    "tags": []
   },
   "outputs": [],
   "source": [
    "ess_hmc = MCMCDiagnosticTools.ess(chain_hmc)[[:r,:Aϕ],:ess]"
   ]
  },
  {
   "cell_type": "code",
   "execution_count": null,
   "id": "2e42557d-3523-4643-b1e1-a56252f3ae95",
   "metadata": {
    "tags": []
   },
   "outputs": [],
   "source": [
    "ess_per_call_hmc = ess_hmc ./ (ncalls_hmc/2)"
   ]
  },
  {
   "cell_type": "code",
   "execution_count": null,
   "id": "0a8924e6-e5be-4bb8-8a48-e59262770a9a",
   "metadata": {
    "tags": []
   },
   "outputs": [],
   "source": [
    "ess_per_call_hmc = minimum(ess_hmc ./ (ncalls_hmc/2))"
   ]
  },
  {
   "cell_type": "code",
   "execution_count": null,
   "id": "42234e99-3aba-4701-8cb4-e161089a8b7d",
   "metadata": {
    "tags": []
   },
   "outputs": [],
   "source": [
    "histogram2d(chain_hmc[:r], chain_hmc[:Aϕ], bins=(40, 20), show_empty_bins=true,\n",
    "    normalize=:pdf, color=:plasma)\n",
    "title!(string(\"Masked: \", masking, \"- NSIDE=\", Nside))\n",
    "ylabel!(\"Aϕ\")\n",
    "xlabel!(\"r\")"
   ]
  },
  {
   "cell_type": "markdown",
   "id": "6e23fba8-6f15-433e-a13e-38ef4599bb54",
   "metadata": {
    "tags": []
   },
   "source": [
    "# MUSE"
   ]
  },
  {
   "cell_type": "code",
   "execution_count": null,
   "id": "c45bcb53-4095-4c8e-a272-2ae4c184d1e0",
   "metadata": {},
   "outputs": [],
   "source": [
    "using CMBLensing.ComponentArrays, MuseInference.FiniteDifferences"
   ]
  },
  {
   "cell_type": "code",
   "execution_count": null,
   "id": "9533da2a-058e-4e3e-a692-cc8b86651680",
   "metadata": {},
   "outputs": [],
   "source": [
    "muse_prob = CMBLensingMuseProblem(\n",
    "    prob.ds, \n",
    "    MAP_joint_kwargs = (minsteps=3, nsteps=15, αtol=1e-2, gradtol=3e-5, progress=false, history_keys=(:logpdf, :ΔΩ°_norm)),\n",
    ");"
   ]
  },
  {
   "cell_type": "code",
   "execution_count": null,
   "id": "72a84875-7cf8-4840-8ee6-ec8e99113e5f",
   "metadata": {},
   "outputs": [],
   "source": [
    "# small hack to allow getting MUSE covariance in terms of transformed θ\n",
    "CMBLensingMuseInferenceExt = Base.get_extension(CMBLensing,:CMBLensingMuseInferenceExt)\n",
    "CMBLensingMuseInferenceExt.mergeθ(prob::CMBLensingMuseInferenceExt.CMBLensingMuseProblem, θ) = exp.(θ)"
   ]
  },
  {
   "cell_type": "code",
   "execution_count": null,
   "id": "a6742160-dbb8-43db-8da4-f61b0dc3f89f",
   "metadata": {
    "tags": []
   },
   "outputs": [],
   "source": [
    "# z₀ = zero(FieldTuple(MuseInference.select(NamedTuple(prob.Ωstart), (:f°, :ϕ°))))\n",
    "# H_pre = Diagonal(FieldTuple(MuseInference.select(NamedTuple(prob.Λmass.diag), (:f°, :ϕ°))))\n",
    "# H_pre_map = let H_pre=H_pre, z₀=z₀\n",
    "#     MuseInference.LinearMap{eltype(z₀)}(length(z₀), issymmetric=true) do z\n",
    "#         f, = promote(z, z₀)\n",
    "#         LenseBasis(H_pre \\ f)[:]\n",
    "#     end\n",
    "# end\n",
    "# implicit_diff_cg_kwargs = (maxiter=1500,Pl=MuseInference.InverseMap(H_pre_map));"
   ]
  },
  {
   "cell_type": "code",
   "execution_count": null,
   "id": "52c93e18-4d3c-41d9-bc73-95772851c28e",
   "metadata": {},
   "outputs": [],
   "source": [
    "z₀ = zero(MuseInference.sample_x_z(muse_prob, Xoshiro(0), prob.Ωstart.θ).z);\n",
    "result = MuseResult()\n",
    "nsims = 200\n",
    "rng = Xoshiro(0)\n",
    "\n",
    "prob.ncalls[] = 0\n",
    "MuseInference.muse!(result,  muse_prob, prob.Ωstart.θ; nsims, rng, z₀, maxsteps=2, θ_rtol=0, progress=true, save_MAPs=false)\n",
    "MuseInference.get_J!(result, muse_prob; nsims,   rng, z₀, progress=true)\n",
    "MuseInference.get_H!(result, muse_prob; nsims=4, rng, z₀, progress=true, step=std(result.gs)/100, fdm=central_fdm(2,1,adapt=0))\n",
    "ncalls_muse = prob.ncalls[];"
   ]
  },
  {
   "cell_type": "code",
   "execution_count": null,
   "id": "9de40462-fdd7-4b48-b038-d2083a2d3349",
   "metadata": {},
   "outputs": [],
   "source": [
    "chain_muse = Chains(permutedims(rand(result.dist,5_000)), [:logr, :logAϕ]);"
   ]
  },
  {
   "cell_type": "code",
   "execution_count": null,
   "id": "95fc34d5",
   "metadata": {},
   "outputs": [],
   "source": [
    "fol_name=string(\"/pscratch/sd/j/jaimerz/chains/\", Nside, \"/MUSE/CMBLensing\",\n",
    "    \"_cosmo_\", global_parameters,\n",
    "    \"_masking_\", masking,\n",
    "    \"_Nside_\", Nside)\n",
    "@save fol_name chain_muse"
   ]
  },
  {
   "cell_type": "code",
   "execution_count": null,
   "id": "8b16983f",
   "metadata": {},
   "outputs": [],
   "source": [
    "#chain_muse = load(\"../chains/MUSE/CMBLensing_masked_Nnside_64\", \"chain_muse\")"
   ]
  },
  {
   "cell_type": "code",
   "execution_count": null,
   "id": "da7745d5-19ec-4668-90cc-8991f21c62ad",
   "metadata": {},
   "outputs": [],
   "source": [
    "ess_per_call_muse = nsims / ncalls_muse"
   ]
  },
  {
   "cell_type": "markdown",
   "id": "01254a7b-ce65-4af3-8d57-cc785f946cd1",
   "metadata": {
    "tags": []
   },
   "source": [
    "## Plot"
   ]
  },
  {
   "cell_type": "markdown",
   "id": "a50354a8-6824-4449-a6aa-690dc5abdd94",
   "metadata": {
    "jp-MarkdownHeadingCollapsed": true,
    "tags": []
   },
   "source": [
    "# Compare"
   ]
  },
  {
   "cell_type": "code",
   "execution_count": null,
   "id": "bbb3104b-3c78-459a-af40-ea35cb7fa0da",
   "metadata": {},
   "outputs": [],
   "source": [
    "ess_per_call_muse ./ minimum(ess_per_call_hmc)"
   ]
  },
  {
   "cell_type": "code",
   "execution_count": null,
   "id": "02e30126-0721-4617-8aae-c6aaf8f939bd",
   "metadata": {},
   "outputs": [],
   "source": [
    "ess_per_call_muse ./ minimum(ess_per_call_mchmc)"
   ]
  },
  {
   "cell_type": "code",
   "execution_count": null,
   "id": "9763093f",
   "metadata": {},
   "outputs": [],
   "source": [
    "ess_per_call_mchmc"
   ]
  },
  {
   "cell_type": "code",
   "execution_count": null,
   "id": "26444fcc",
   "metadata": {},
   "outputs": [],
   "source": [
    "ess_per_call_hmc"
   ]
  },
  {
   "cell_type": "code",
   "execution_count": null,
   "id": "b2836a7b",
   "metadata": {},
   "outputs": [],
   "source": [
    "ess_per_call_muse"
   ]
  },
  {
   "cell_type": "code",
   "execution_count": null,
   "id": "1ef21a76-4714-4418-9bb4-7a9d2847c5bd",
   "metadata": {},
   "outputs": [],
   "source": [
    "which_ess = minimum # can be: first (r), last (Aphi), or minimum\n",
    "bar(\n",
    "    [\"HMC\" \"MCHMC\" \"MUSE\"],\n",
    "    which_ess.([[ess_per_call_hmc] [ess_per_call_mchmc] [ess_per_call_muse]]),\n",
    "    ylabel = \"eff. samples / ∇logP eval\", legend=false)"
   ]
  },
  {
   "cell_type": "code",
   "execution_count": null,
   "id": "dbb7d62a-87d2-4393-bc43-a5addc698207",
   "metadata": {},
   "outputs": [],
   "source": [
    "plot(\n",
    "    begin\n",
    "        histogram(log.(chain_hmc[:r]), normalize=:pdf, alpha=0.5, bins=range(-4,0,length=40), label=\"HMC\")\n",
    "        histogram!(log.(chain_mchmc[:r]), normalize=:pdf, alpha=0.5, bins=range(-4,0,length=40), label=\"MCHMC\")\n",
    "        histogram!(chain_muse[:logr], normalize=:pdf, alpha=0.5, bins=range(-4,0,length=40), label=\"MUSE\")\n",
    "        vline!([prob.Ωtrue.θ.r], c=4, lw=3, label=\"Truth\")\n",
    "    end, \n",
    "    begin\n",
    "        histogram(log.(chain_hmc[:Aϕ]), normalize=:pdf, alpha=0.5, bins=range(-0.6,0.6,length=40), label=\"HMC\")\n",
    "        histogram!(log.(chain_mchmc[:Aϕ]), normalize=:pdf, alpha=0.5, bins=range(-0.6,0.6,length=40), label=\"MCHMC\")\n",
    "        histogram!(chain_muse[:logAϕ], normalize=:pdf, alpha=0.5, bins=range(-0.6,0.6,length=40), label=\"MUSE\")\n",
    "        vline!([prob.Ωtrue.θ.Aϕ], c=4, lw=3, label=\"Truth\")\n",
    "    end, \n",
    "    size = (700, 300)\n",
    ")"
   ]
  },
  {
   "cell_type": "code",
   "execution_count": null,
   "id": "41290466-e88b-436e-8bc1-2ea5297ccfdc",
   "metadata": {},
   "outputs": [],
   "source": []
  },
  {
   "cell_type": "code",
   "execution_count": null,
   "id": "7dadf389-dd36-44a7-aef3-d2f53a317912",
   "metadata": {},
   "outputs": [],
   "source": []
  }
 ],
 "metadata": {
  "kernelspec": {
   "display_name": "Julia 1.9.4",
   "language": "julia",
   "name": "julia-1.9"
  },
  "language_info": {
   "file_extension": ".jl",
   "mimetype": "application/julia",
   "name": "julia",
   "version": "1.9.4"
  },
  "widgets": {
   "application/vnd.jupyter.widget-state+json": {
    "state": {},
    "version_major": 2,
    "version_minor": 0
   }
  }
 },
 "nbformat": 4,
 "nbformat_minor": 5
}
